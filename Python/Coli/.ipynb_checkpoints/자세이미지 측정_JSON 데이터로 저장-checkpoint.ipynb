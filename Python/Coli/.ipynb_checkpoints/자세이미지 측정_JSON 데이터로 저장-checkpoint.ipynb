{
 "cells": [
  {
   "cell_type": "code",
   "execution_count": 2,
   "id": "f5f3b799-443d-40b0-94a1-590744bcf7d2",
   "metadata": {},
   "outputs": [],
   "source": [
    "import cv2\n",
    "import mediapipe as mp\n",
    "import csv\n",
    "import os"
   ]
  },
  {
   "cell_type": "code",
   "execution_count": 7,
   "id": "1af0c1cb-5c08-4181-a4a1-0e5f95db7763",
   "metadata": {},
   "outputs": [
    {
     "ename": "ValueError",
     "evalue": "이미지를 로드할 수 없습니다.",
     "output_type": "error",
     "traceback": [
      "\u001b[1;31m---------------------------------------------------------------------------\u001b[0m",
      "\u001b[1;31mValueError\u001b[0m                                Traceback (most recent call last)",
      "Cell \u001b[1;32mIn[7], line 40\u001b[0m\n\u001b[0;32m     37\u001b[0m csv_path \u001b[38;5;241m=\u001b[39m \u001b[38;5;124mf\u001b[39m\u001b[38;5;124m\"\u001b[39m\u001b[38;5;132;01m{\u001b[39;00mimage_name\u001b[38;5;132;01m}\u001b[39;00m\u001b[38;5;124m.csv\u001b[39m\u001b[38;5;124m\"\u001b[39m\n\u001b[0;32m     39\u001b[0m \u001b[38;5;66;03m# 자세 데이터 측정\u001b[39;00m\n\u001b[1;32m---> 40\u001b[0m pose_data \u001b[38;5;241m=\u001b[39m \u001b[43mdetect_pose\u001b[49m\u001b[43m(\u001b[49m\u001b[43mimage_path\u001b[49m\u001b[43m)\u001b[49m\n\u001b[0;32m     42\u001b[0m \u001b[38;5;66;03m# CSV 파일로 저장\u001b[39;00m\n\u001b[0;32m     43\u001b[0m save_to_csv(pose_data, csv_path)\n",
      "Cell \u001b[1;32mIn[7], line 5\u001b[0m, in \u001b[0;36mdetect_pose\u001b[1;34m(image_path)\u001b[0m\n\u001b[0;32m      3\u001b[0m image \u001b[38;5;241m=\u001b[39m cv2\u001b[38;5;241m.\u001b[39mimread(image_path)\n\u001b[0;32m      4\u001b[0m \u001b[38;5;28;01mif\u001b[39;00m image \u001b[38;5;129;01mis\u001b[39;00m \u001b[38;5;28;01mNone\u001b[39;00m:\n\u001b[1;32m----> 5\u001b[0m     \u001b[38;5;28;01mraise\u001b[39;00m \u001b[38;5;167;01mValueError\u001b[39;00m(\u001b[38;5;124m\"\u001b[39m\u001b[38;5;124m이미지를 로드할 수 없습니다.\u001b[39m\u001b[38;5;124m\"\u001b[39m)\n\u001b[0;32m      7\u001b[0m \u001b[38;5;66;03m# Mediapipe Pose 모듈 초기화\u001b[39;00m\n\u001b[0;32m      8\u001b[0m mp_pose \u001b[38;5;241m=\u001b[39m mp\u001b[38;5;241m.\u001b[39msolutions\u001b[38;5;241m.\u001b[39mpose\n",
      "\u001b[1;31mValueError\u001b[0m: 이미지를 로드할 수 없습니다."
     ]
    }
   ],
   "source": [
    "def detect_pose(image_path):\n",
    "    # 이미지 로드\n",
    "    image = cv2.imread(image_path)\n",
    "    if image is None:\n",
    "        raise ValueError(\"이미지를 로드할 수 없습니다.\")\n",
    "\n",
    "    # Mediapipe Pose 모듈 초기화\n",
    "    mp_pose = mp.solutions.pose\n",
    "    pose = mp_pose.Pose()\n",
    "\n",
    "    # 이미지를 RGB로 변환\n",
    "    rgb_image = cv2.cvtColor(image, cv2.COLOR_BGR2RGB)\n",
    "\n",
    "    # Mediapipe Pose로 자세 감지\n",
    "    results = pose.process(rgb_image)\n",
    "\n",
    "    # 감지된 자세 데이터를 리스트로 저장\n",
    "    pose_data = []\n",
    "    if results.pose_landmarks:\n",
    "        for landmark in results.pose_landmarks.landmark:\n",
    "            pose_data.extend([landmark.x, landmark.y, landmark.z])\n",
    "\n",
    "    return pose_data\n",
    "\n",
    "def save_to_csv(data, csv_path):\n",
    "    with open(csv_path, 'w', newline='') as csv_file:\n",
    "        csv_writer = csv.writer(csv_file)\n",
    "        csv_writer.writerow(data)\n",
    "    print(f\"자세 데이터가 {csv_path}에 저장되었습니다.\")\n",
    "\n",
    "if __name__ == \"__main__\":\n",
    "    # 이미지 파일 경로\n",
    "    image_path = \"./pose/다리겹쳐앉은자세.png\"\n",
    "\n",
    "    # 이미지 이름을 이용하여 CSV 파일 경로 생성\n",
    "    image_name = os.path.splitext(os.path.basename(image_path))[0]\n",
    "    csv_path = f\"{image_name}.csv\"\n",
    "\n",
    "    # 자세 데이터 측정\n",
    "    pose_data = detect_pose(image_path)\n",
    "\n",
    "    # CSV 파일로 저장\n",
    "    save_to_csv(pose_data, csv_path)"
   ]
  }
 ],
 "metadata": {
  "kernelspec": {
   "display_name": "Python 3 (ipykernel)",
   "language": "python",
   "name": "python3"
  },
  "language_info": {
   "codemirror_mode": {
    "name": "ipython",
    "version": 3
   },
   "file_extension": ".py",
   "mimetype": "text/x-python",
   "name": "python",
   "nbconvert_exporter": "python",
   "pygments_lexer": "ipython3",
   "version": "3.8.18"
  }
 },
 "nbformat": 4,
 "nbformat_minor": 5
}
