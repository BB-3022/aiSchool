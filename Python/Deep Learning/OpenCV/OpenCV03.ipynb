{
 "cells": [
  {
   "cell_type": "code",
   "execution_count": 1,
   "id": "54858ef6-1873-45af-9458-dcb6a3e0c157",
   "metadata": {},
   "outputs": [
    {
     "name": "stdout",
     "output_type": "stream",
     "text": [
      "종료\n"
     ]
    }
   ],
   "source": [
    "import cv2\n",
    "\n",
    "# 카메라로부터 영상 가져오기\n",
    "cap = cv2.VideoCapture(0)\n",
    "\n",
    "# 동영상으로부터 영상 가져오기\n",
    "#cap = cv2.VideoCapture(\"./images/video.mp4\")\n",
    "\n",
    "# 영상에서 이미지 프레임을 읽어서 출력\n",
    "# 영상이 열려 있는 동안\n",
    "while cap.isOpened() :\n",
    "    # 영상에서 프레임 이미지 읽기\n",
    "    ret, frame = cap.read()\n",
    "    \n",
    "    frame = cv2.flip(frame, 1)\n",
    "    frame = cv2.cvtColor(frame, cv2.COLOR_BGR2GRAY)\n",
    "    \n",
    "    # 이미지를 읽지 못했다면 종료\n",
    "    if not ret :\n",
    "        print(\"종료\")\n",
    "        break\n",
    "    \n",
    "    # 출력\n",
    "    cv2.imshow(\"video\", frame)\n",
    "    \n",
    "    # 초당 30장 출력하고 키 입력 받음\n",
    "    key = cv2.waitKey(33)\n",
    "    \n",
    "    # 만약 1 키를 눌렀다면 종료\n",
    "    if key == 49 :\n",
    "        print(\"종료\")\n",
    "        break\n",
    "\n",
    "cap.release()\n",
    "cv2.destroyAllWindows()"
   ]
  },
  {
   "cell_type": "code",
   "execution_count": null,
   "id": "88a6e75a-98e4-462d-8a6d-ceeab22a554e",
   "metadata": {},
   "outputs": [],
   "source": []
  },
  {
   "cell_type": "code",
   "execution_count": null,
   "id": "eeaa6e68-13dd-4b4c-9920-fe9218074d07",
   "metadata": {},
   "outputs": [],
   "source": []
  },
  {
   "cell_type": "code",
   "execution_count": null,
   "id": "c22553d4-2ed1-403f-ae54-f8e50d08aa87",
   "metadata": {},
   "outputs": [],
   "source": []
  },
  {
   "cell_type": "code",
   "execution_count": null,
   "id": "25e2877d-0b22-46ae-b161-1f7cbbb2887a",
   "metadata": {},
   "outputs": [],
   "source": []
  },
  {
   "cell_type": "code",
   "execution_count": null,
   "id": "33359f37-0229-433e-81b4-d702b3a3bb91",
   "metadata": {},
   "outputs": [],
   "source": []
  },
  {
   "cell_type": "code",
   "execution_count": null,
   "id": "b384da15-132c-486d-965c-06e8ce266c2d",
   "metadata": {},
   "outputs": [],
   "source": []
  },
  {
   "cell_type": "code",
   "execution_count": null,
   "id": "8de4162d-9598-492a-989a-54d14fe5cb2f",
   "metadata": {},
   "outputs": [],
   "source": []
  },
  {
   "cell_type": "code",
   "execution_count": null,
   "id": "27117efb-b46b-4e66-bc2c-86068ee6e829",
   "metadata": {},
   "outputs": [],
   "source": []
  },
  {
   "cell_type": "code",
   "execution_count": null,
   "id": "a5d9f2eb-cf2c-4dc6-ad52-e453cf095a9c",
   "metadata": {},
   "outputs": [],
   "source": []
  },
  {
   "cell_type": "code",
   "execution_count": null,
   "id": "4d0cec64-6bf0-4ae6-afde-555ceceb4f94",
   "metadata": {},
   "outputs": [],
   "source": []
  },
  {
   "cell_type": "code",
   "execution_count": null,
   "id": "e92c1d50-80a4-4128-b416-be0aaffb5a11",
   "metadata": {},
   "outputs": [],
   "source": []
  },
  {
   "cell_type": "code",
   "execution_count": null,
   "id": "3c8541eb-2cc9-467a-a30b-da1cf04f555f",
   "metadata": {},
   "outputs": [],
   "source": []
  }
 ],
 "metadata": {
  "kernelspec": {
   "display_name": "Python 3 (ipykernel)",
   "language": "python",
   "name": "python3"
  },
  "language_info": {
   "codemirror_mode": {
    "name": "ipython",
    "version": 3
   },
   "file_extension": ".py",
   "mimetype": "text/x-python",
   "name": "python",
   "nbconvert_exporter": "python",
   "pygments_lexer": "ipython3",
   "version": "3.10.9"
  }
 },
 "nbformat": 4,
 "nbformat_minor": 5
}
