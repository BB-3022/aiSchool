{
 "cells": [
  {
   "cell_type": "markdown",
   "id": "3070b2b3",
   "metadata": {},
   "source": [
    "# 동영상 읽고 출력하기"
   ]
  },
  {
   "cell_type": "code",
   "execution_count": null,
   "id": "ca488d5b",
   "metadata": {},
   "outputs": [],
   "source": [
    "import cv2\n",
    "\n",
    "# 카메라로부터 영상 가져오기\n",
    "cap = cv2.VideoCapture(0)\n",
    "\n",
    "# 동영상으로부터 영상 가져오기\n",
    "#cap = cv2.VideoCapture(\"./images/video.mp4\")\n",
    "\n",
    "# 영상에서 이미지 프레임을 읽어서 출력\n",
    "# 영상이 열려 있는 동안\n",
    "while cap.isOpened() :\n",
    "    # 영상에서 프레임 이미지 읽기\n",
    "    ret, frame = cap.read()\n",
    "    \n",
    "    frame = cv2.flip(frame, 1)\n",
    "    frame = cv2.cvtColor(frame, cv2.COLOR_BGR2GRAY)\n",
    "    \n",
    "    # 이미지를 읽지 못했다면 종료\n",
    "    if not ret :\n",
    "        print(\"종료\")\n",
    "        break\n",
    "    \n",
    "    # 출력\n",
    "    cv2.imshow(\"video\", frame)\n",
    "    \n",
    "    # 초당 30장 출력하고 키 입력 받음\n",
    "    key = cv2.waitKey(33)\n",
    "    \n",
    "    # 만약 1 키를 눌렀다면 종료\n",
    "    if key == 49 :\n",
    "        print(\"종료\")\n",
    "        break\n",
    "\n",
    "cap.release()\n",
    "cv2.destroyAllWindows()"
   ]
  },
  {
   "cell_type": "markdown",
   "id": "89c22b97",
   "metadata": {},
   "source": [
    "# CCTV 만들기"
   ]
  },
  {
   "cell_type": "code",
   "execution_count": 8,
   "id": "88a6e75a-98e4-462d-8a6d-ceeab22a554e",
   "metadata": {},
   "outputs": [
    {
     "name": "stdout",
     "output_type": "stream",
     "text": [
      "녹화시작\n",
      "종료\n"
     ]
    }
   ],
   "source": [
    "import cv2\n",
    "\n",
    "# 동영상 파일 불러오기\n",
    "#cap = cv2.VideoCapture(\"./images/video.mp4\")\n",
    "\n",
    "# 카메라 영상 가져오기\n",
    "cap = cv2.VideoCapture(0)\n",
    "\n",
    "# 초당 프레임수는 원 영상과 동일하게 설정\n",
    "fps = int(cap.get(5))\n",
    "\n",
    "# 원 영상의 크기\n",
    "w = int(cap.get(3))\n",
    "h = int(cap.get(4))\n",
    "\n",
    "# 영상 코덱 설정\n",
    "codec = cv2.VideoWriter_fourcc(*\"DIVX\")\n",
    "\n",
    "# 저장할 영상파일 설정\n",
    "out = cv2.VideoWriter(\"./images/actv01.avi\", codec, fps, (w,h))\n",
    "\n",
    "# 녹화여부\n",
    "record = False\n",
    "\n",
    "while cap.isOpened() :\n",
    "    ret, frame = cap.read()\n",
    "    \n",
    "    if not ret :\n",
    "        print(\"종료\")\n",
    "        break\n",
    "    \n",
    "    cv2.imshow(\"cctv\", frame)\n",
    "    \n",
    "    key = cv2.waitKey(33)\n",
    "    \n",
    "    # 숫자 1을 누르면 종료\n",
    "    if key == 49 :\n",
    "        print(\"종료\")\n",
    "        break\n",
    "\n",
    "    # 숫자 2를 누르면 녹화 상태로 전환\n",
    "    if key == 50 :\n",
    "        print(\"녹화시작\")\n",
    "        record = True\n",
    "    \n",
    "    # 숫자 3을 누르면 녹화중지 상태로 전환\n",
    "    if key == 51 :\n",
    "        print(\"녹화종료\")\n",
    "        record = False\n",
    "        \n",
    "    # 녹화\n",
    "    if record :\n",
    "        out.write(frame)\n",
    "        \n",
    "        \n",
    "out.release()\n",
    "cap.release()\n",
    "cv2.destroyAllWindows()\n"
   ]
  },
  {
   "cell_type": "markdown",
   "id": "edb0d1a9",
   "metadata": {},
   "source": [
    "# 동영상에서 한 프레임을 이미지 파일로 저장하기"
   ]
  },
  {
   "cell_type": "code",
   "execution_count": 10,
   "id": "c22553d4-2ed1-403f-ae54-f8e50d08aa87",
   "metadata": {},
   "outputs": [
    {
     "name": "stdout",
     "output_type": "stream",
     "text": [
      "./images/pic_1.png 파일을 저장했습니다.\n",
      "./images/pic_2.png 파일을 저장했습니다.\n",
      "./images/pic_3.png 파일을 저장했습니다.\n",
      "./images/pic_4.png 파일을 저장했습니다.\n",
      "./images/pic_5.png 파일을 저장했습니다.\n",
      "종료\n"
     ]
    }
   ],
   "source": [
    "import cv2\n",
    "\n",
    "# 동영상으로부터 영상 가져오기\n",
    "cap = cv2.VideoCapture(\"./images/video.mp4\")\n",
    "\n",
    "# 파일이름\n",
    "co = 0\n",
    "\n",
    "while cap.isOpened() :\n",
    "    # 영상에서 프레임 이미지 읽기\n",
    "    ret, frame = cap.read()\n",
    "    \n",
    "    # 이미지를 읽지 못했다면 종료\n",
    "    if not ret :\n",
    "        print(\"종료\")\n",
    "        break\n",
    "    \n",
    "    # 출력\n",
    "    cv2.imshow(\"video\", frame)\n",
    "    \n",
    "    # 초당 30장 출력하고 키 입력 받음\n",
    "    key = cv2.waitKey(33)\n",
    "    \n",
    "    # 만약 1 키를 눌렀다면 종료\n",
    "    if key == 49 :\n",
    "        print(\"종료\")\n",
    "        break\n",
    "        \n",
    "    # 숫자 2를 누르면, 이미지로 저장\n",
    "    if key == 50 :\n",
    "        co += 1\n",
    "        print(f\"./images/pic_{co}.png 파일을 저장했습니다.\")\n",
    "        cv2.imwrite(f\"./images/pic_{co}.png\", frame,\n",
    "                   params=[cv2.IMWRITE_PNG_COMPRESSION, 0])\n",
    "        \n",
    "cap.release()\n",
    "cv2.destroyAllWindows()"
   ]
  },
  {
   "cell_type": "markdown",
   "id": "82737243",
   "metadata": {},
   "source": [
    "# 저장한 이미지들을 동영상으로 만들기"
   ]
  },
  {
   "cell_type": "code",
   "execution_count": 14,
   "id": "33359f37-0229-433e-81b4-d702b3a3bb91",
   "metadata": {},
   "outputs": [],
   "source": [
    "import cv2\n",
    "\n",
    "img = cv2.imread(\"./images/pic_1.png\")\n",
    "\n",
    "h, w, c = img.shape\n",
    "\n",
    "fps = 2.0\n",
    "\n",
    "codec = cv2.VideoWriter_fourcc(*\"DIVX\")\n",
    "\n",
    "out = cv2.VideoWriter(\"./images/pic_movie.avi\", codec, fps, (w, h))\n",
    "\n",
    "for i in range(1, 6) :\n",
    "    img = cv2.imread(f\"./images/pic_{i}.png\")\n",
    "    \n",
    "    out.write(img)\n",
    "    \n",
    "out.release()"
   ]
  },
  {
   "cell_type": "markdown",
   "id": "843785b1",
   "metadata": {},
   "source": [
    "# pytube로 유튜브 영상 다운로드"
   ]
  },
  {
   "cell_type": "code",
   "execution_count": 17,
   "id": "8de4162d-9598-492a-989a-54d14fe5cb2f",
   "metadata": {},
   "outputs": [
    {
     "name": "stdout",
     "output_type": "stream",
     "text": [
      "Collecting git+https://github.com/nficano/pytube.git\n",
      "  Cloning https://github.com/nficano/pytube.git to c:\\users\\gjaischool1\\appdata\\local\\temp\\pip-req-build-mydp1wlj\n",
      "  Resolved https://github.com/nficano/pytube.git to commit a32fff39058a6f7e5e59ecd06a7467b71197ce35\n",
      "  Preparing metadata (setup.py): started\n",
      "  Preparing metadata (setup.py): finished with status 'done'\n",
      "Building wheels for collected packages: pytube\n",
      "  Building wheel for pytube (setup.py): started\n",
      "  Building wheel for pytube (setup.py): finished with status 'done'\n",
      "  Created wheel for pytube: filename=pytube-15.0.0-py3-none-any.whl size=58037 sha256=b58b4693dfddbdc6ff7f3f818781ecfff7f695465833048b9f5f12fa7ae94bcb\n",
      "  Stored in directory: C:\\Users\\gjaischool1\\AppData\\Local\\Temp\\pip-ephem-wheel-cache-v5lps6fd\\wheels\\5c\\73\\d3\\e1b12f64e578635691f2244a3933c1aec12394a0c1e4b0370b\n",
      "Successfully built pytube\n",
      "Installing collected packages: pytube\n",
      "Successfully installed pytube-15.0.0\n"
     ]
    },
    {
     "name": "stderr",
     "output_type": "stream",
     "text": [
      "WARNING: Ignoring invalid distribution -otebook (c:\\users\\gjaischool1\\anaconda3\\lib\\site-packages)\n",
      "WARNING: Ignoring invalid distribution -otebook (c:\\users\\gjaischool1\\anaconda3\\lib\\site-packages)\n",
      "  Running command git clone --filter=blob:none --quiet https://github.com/nficano/pytube.git 'C:\\Users\\gjaischool1\\AppData\\Local\\Temp\\pip-req-build-mydp1wlj'\n",
      "WARNING: Ignoring invalid distribution -otebook (c:\\users\\gjaischool1\\anaconda3\\lib\\site-packages)\n",
      "WARNING: Ignoring invalid distribution -otebook (c:\\users\\gjaischool1\\anaconda3\\lib\\site-packages)\n",
      "WARNING: Ignoring invalid distribution -otebook (c:\\users\\gjaischool1\\anaconda3\\lib\\site-packages)\n",
      "WARNING: Ignoring invalid distribution -otebook (c:\\users\\gjaischool1\\anaconda3\\lib\\site-packages)\n",
      "WARNING: Ignoring invalid distribution -otebook (c:\\users\\gjaischool1\\anaconda3\\lib\\site-packages)\n"
     ]
    }
   ],
   "source": [
    "# 아나콘다 프롬프트 창에서 실행\n",
    "!pip install --upgrade \"git+https://github.com/nficano/pytube.git\""
   ]
  },
  {
   "cell_type": "code",
   "execution_count": 23,
   "id": "27117efb-b46b-4e66-bc2c-86068ee6e829",
   "metadata": {},
   "outputs": [
    {
     "name": "stdout",
     "output_type": "stream",
     "text": [
      "제목 : 20만원대 OLED 탑재로 난리난 태블릿 용팡이? '이것' 하나 때문에 비추하는 이유..\n",
      "조회수 : 220924\n",
      "평점 : None\n"
     ]
    },
    {
     "data": {
      "text/plain": [
       "'C:\\\\Users\\\\gjaischool1\\\\Desktop\\\\Aischool\\\\Python\\\\Deep Learning\\\\OpenCV\\\\./images/20만원대 OLED 탑재로 난리난 태블릿 용팡이 이것 하나 때문에 비추하는 이유.mp4'"
      ]
     },
     "execution_count": 23,
     "metadata": {},
     "output_type": "execute_result"
    }
   ],
   "source": [
    "import os\n",
    "import pytube\n",
    "from pytube.cli import on_progress\n",
    "\n",
    "# 유튜브 주소\n",
    "url = \"https://www.youtube.com/watch?v=TpWq9XqSm5g\"\n",
    "yt = pytube.YouTube(url)\n",
    "\n",
    "# 동영상 정보 출력\n",
    "print(f\"제목 : {yt.title}\")\n",
    "print(f\"조회수 : {yt.views}\")\n",
    "print(f\"평점 : {yt.rating}\")\n",
    "\n",
    "# 유튜브 영상은 다양한 해상도별로 저장하고 있음\n",
    "# order_by(\"resolution\") : 해상도를 기준으로 영상을 정렬\n",
    "# desc() : 내림차순정렬 (해상도가 높은 순으로 정렬)\n",
    "# first() : 정렬한 영상들 중 첫번째 영상\n",
    "yt.streams.filter(progressive=True, file_extension=\"mp4\")\\\n",
    "                 .order_by(\"resolution\").desc().first().download(\"./images/\")"
   ]
  },
  {
   "cell_type": "code",
   "execution_count": null,
   "id": "a5d9f2eb-cf2c-4dc6-ad52-e453cf095a9c",
   "metadata": {},
   "outputs": [],
   "source": []
  },
  {
   "cell_type": "code",
   "execution_count": null,
   "id": "4d0cec64-6bf0-4ae6-afde-555ceceb4f94",
   "metadata": {},
   "outputs": [],
   "source": []
  },
  {
   "cell_type": "code",
   "execution_count": null,
   "id": "e92c1d50-80a4-4128-b416-be0aaffb5a11",
   "metadata": {},
   "outputs": [],
   "source": []
  },
  {
   "cell_type": "code",
   "execution_count": null,
   "id": "3c8541eb-2cc9-467a-a30b-da1cf04f555f",
   "metadata": {},
   "outputs": [],
   "source": []
  }
 ],
 "metadata": {
  "kernelspec": {
   "display_name": "Python 3 (ipykernel)",
   "language": "python",
   "name": "python3"
  },
  "language_info": {
   "codemirror_mode": {
    "name": "ipython",
    "version": 3
   },
   "file_extension": ".py",
   "mimetype": "text/x-python",
   "name": "python",
   "nbconvert_exporter": "python",
   "pygments_lexer": "ipython3",
   "version": "3.10.9"
  }
 },
 "nbformat": 4,
 "nbformat_minor": 5
}
