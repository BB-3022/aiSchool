{
 "cells": [
  {
   "cell_type": "markdown",
   "id": "fd739d7c",
   "metadata": {},
   "source": [
    "# Flask 설치 및 서버 실행하기"
   ]
  },
  {
   "cell_type": "code",
   "execution_count": null,
   "id": "9c8f7dad",
   "metadata": {},
   "outputs": [
    {
     "name": "stdout",
     "output_type": "stream",
     "text": [
      " * Serving Flask app '__main__'\n",
      " * Debug mode: off\n"
     ]
    },
    {
     "name": "stderr",
     "output_type": "stream",
     "text": [
      "WARNING: This is a development server. Do not use it in a production deployment. Use a production WSGI server instead.\n",
      " * Running on http://192.168.0.98:9001\n",
      "Press CTRL+C to quit\n"
     ]
    }
   ],
   "source": [
    "from flask import Flask\n",
    "\n",
    "# 초기화\n",
    "app = Flask(__name__)\n",
    "\n",
    "# 경로설정\n",
    "@app.route(\"/\")\n",
    "def hello() :\n",
    "    return \"안녕안녕안녕\"\n",
    "\n",
    "# 메인 함수라면, py 파일을 단독으로 실행했다면\n",
    "if __name__ == \"__main__\" :\n",
    "    # 서버 시작\n",
    "    app.run(host=\"192.168.0.98\", port=9001)"
   ]
  },
  {
   "cell_type": "markdown",
   "id": "dd411719",
   "metadata": {},
   "source": [
    "# 웹 브라우저에 카메라 영상 출력하기"
   ]
  },
  {
   "cell_type": "code",
   "execution_count": 1,
   "id": "13be586f",
   "metadata": {},
   "outputs": [],
   "source": [
    "import cv2\n",
    "\n",
    "cap = cv2.VideoCapture(0)\n",
    "\n",
    "def get_frames() :\n",
    "    while True :\n",
    "        ret, frame = cap.read()\n",
    "        \n",
    "        frame = cv2.flip(frame, 1)\n",
    "        \n",
    "        cv2.waitKey(33)\n",
    "        \n",
    "        if not ret :\n",
    "            continue\n",
    "        # 이미지 프레임을 읽었다면 반환\n",
    "        else :\n",
    "            # 배열 jPG 변환해서 바이트단위로 전송\n",
    "            ret, buff = cv2.imencode(\".jpg\", frame)\n",
    "            frame = buff.tobytes()\n",
    "            \n",
    "            # 이미지를 반환\n",
    "            yield (b'--frame\\r\\n' b'Content-Type: image/jpeg\\r\\n\\r\\n' + frame + b'\\r\\n')\n",
    "            \n",
    "    cap.release()"
   ]
  },
  {
   "cell_type": "markdown",
   "id": "38201782",
   "metadata": {},
   "source": [
    "- index.html를 작성하고 templates 폴더에 저장\n",
    "  - video_feed : 실행할 함수명\n",
    "\n",
    "- %%writefile : 아래에는 내용을 설정된 파일에 저장\n",
    "    - 무조건 1줄에 써야된다.\n",
    "- {{url_for('video_feed')}} : Jinja 템플릿\n",
    "    - HTML 문서에 파이썬 코드를 작성하게 해주는 것"
   ]
  },
  {
   "cell_type": "code",
   "execution_count": 2,
   "id": "fb86d822",
   "metadata": {},
   "outputs": [
    {
     "name": "stdout",
     "output_type": "stream",
     "text": [
      "Overwriting ./templates/index.html\n"
     ]
    }
   ],
   "source": [
    "%%writefile ./templates/index.html\n",
    "<html>\n",
    "<body>\n",
    "<h1>웹켐 테스트</h1>\n",
    "<img src=\"{{url_for('video_feed')}}\" width=50%>\n",
    "</body>\n",
    "</html>"
   ]
  },
  {
   "cell_type": "code",
   "execution_count": null,
   "id": "7f8a42ee",
   "metadata": {},
   "outputs": [
    {
     "name": "stdout",
     "output_type": "stream",
     "text": [
      " * Serving Flask app '__main__'\n",
      " * Debug mode: off\n"
     ]
    },
    {
     "name": "stderr",
     "output_type": "stream",
     "text": [
      "WARNING: This is a development server. Do not use it in a production deployment. Use a production WSGI server instead.\n",
      " * Running on http://192.168.0.98:9010\n",
      "Press CTRL+C to quit\n",
      "192.168.0.98 - - [12/Oct/2023 17:22:24] \"GET / HTTP/1.1\" 200 -\n",
      "192.168.0.98 - - [12/Oct/2023 17:22:25] \"GET /video_feed HTTP/1.1\" 200 -\n"
     ]
    }
   ],
   "source": [
    "# render_template : Jinja 템플렛이 포함된 HTML을 전송\n",
    "# Response : 클라이언트의 request에 대해서 응답을 해주는 기능\n",
    "from flask import Flask, render_template, Response\n",
    "\n",
    "app = Flask(__name__)\n",
    "\n",
    "@app.route(\"/\")\n",
    "def index() :\n",
    "    return render_template(\"index.html\")\n",
    "\n",
    "@app.route(\"/video_feed\")\n",
    "def video_feed() :\n",
    "    return Response(get_frames(), mimetype='multipart/x-mixed-replace; boundary=frame')\n",
    "\n",
    "if __name__ == \"__main__\" :\n",
    "    app.run(host=\"192.168.0.98\", port=9010 )"
   ]
  },
  {
   "cell_type": "code",
   "execution_count": null,
   "id": "487670d8",
   "metadata": {},
   "outputs": [],
   "source": []
  },
  {
   "cell_type": "code",
   "execution_count": null,
   "id": "15c63e1f",
   "metadata": {},
   "outputs": [],
   "source": []
  },
  {
   "cell_type": "code",
   "execution_count": null,
   "id": "0ba6e550",
   "metadata": {},
   "outputs": [],
   "source": []
  },
  {
   "cell_type": "code",
   "execution_count": null,
   "id": "e7de223c",
   "metadata": {},
   "outputs": [],
   "source": []
  },
  {
   "cell_type": "code",
   "execution_count": null,
   "id": "45f0e4d1",
   "metadata": {},
   "outputs": [],
   "source": []
  },
  {
   "cell_type": "code",
   "execution_count": null,
   "id": "479ea92b",
   "metadata": {},
   "outputs": [],
   "source": []
  },
  {
   "cell_type": "code",
   "execution_count": null,
   "id": "577b5bce",
   "metadata": {},
   "outputs": [],
   "source": []
  },
  {
   "cell_type": "code",
   "execution_count": null,
   "id": "03b3b124",
   "metadata": {},
   "outputs": [],
   "source": []
  },
  {
   "cell_type": "code",
   "execution_count": null,
   "id": "c7889ed8",
   "metadata": {},
   "outputs": [],
   "source": []
  },
  {
   "cell_type": "code",
   "execution_count": null,
   "id": "4f32224e",
   "metadata": {},
   "outputs": [],
   "source": []
  },
  {
   "cell_type": "code",
   "execution_count": null,
   "id": "f230fee0",
   "metadata": {},
   "outputs": [],
   "source": []
  }
 ],
 "metadata": {
  "kernelspec": {
   "display_name": "Python 3 (ipykernel)",
   "language": "python",
   "name": "python3"
  },
  "language_info": {
   "codemirror_mode": {
    "name": "ipython",
    "version": 3
   },
   "file_extension": ".py",
   "mimetype": "text/x-python",
   "name": "python",
   "nbconvert_exporter": "python",
   "pygments_lexer": "ipython3",
   "version": "3.10.9"
  }
 },
 "nbformat": 4,
 "nbformat_minor": 5
}
