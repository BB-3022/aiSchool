{
 "cells": [
  {
   "cell_type": "code",
   "execution_count": null,
   "id": "edf4381e",
   "metadata": {},
   "outputs": [],
   "source": [
    "# 탬플릿 매칭\n",
    "# 배경 사진에서 원하는 물체 찾기\n",
    "# 메이플 배경 이미지에서 파란 달팽이, 초록 버섯 찾기\n",
    "# 좌상단부터 한 픽셀씩 움직이면서 원하는 물체와 배경이 유사한지 검색"
   ]
  },
  {
   "cell_type": "code",
   "execution_count": 15,
   "id": "954172a6",
   "metadata": {},
   "outputs": [],
   "source": [
    "import cv2\n",
    "\n",
    "# 배경화면\n",
    "img = cv2.imread('images/maple.jpg')\n",
    "img_gray = cv2.cvtColor(img, cv2.COLOR_RGB2GRAY)\n",
    "\n",
    "blue_snail = cv2.imread('images/blue_snail.jpg')\n",
    "blue_snail_gray = cv2.cvtColor(blue_snail, cv2.COLOR_RGB2GRAY)\n",
    "h1, w1 = blue_snail_gray.shape #찾을 대상(흑백이미지)의 세로, 가로 크기 받아오기\n",
    "\n",
    "green_mush = cv2.imread('images/green_mushroom.jpg')\n",
    "green_mush_gray = cv2.cvtColor(green_mush, cv2.COLOR_RGB2GRAY)\n",
    "h2, w2 = green_mush_gray.shape\n",
    "\n",
    "# 이미지 찾기(배경이미지, 찾을이미지, 찾을 방법)\n",
    "res1 = cv2.matchTemplate(img_gray, blue_snail_gray, cv2.TM_CCOEFF_NORMED)\n",
    "res2 = cv2.matchTemplate(img_gray, green_mush_gray, cv2.TM_CCOEFF_NORMED)\n",
    "\n",
    "import numpy as np\n",
    "loc=np.where(res1 >= 0.75)\n",
    "loc2=np.where(res1 >= 0.75)\n",
    "\n",
    "# 데이터 순서 역으로 바꾸기\n",
    "for pt in zip(*loc[::-1]):\n",
    "    # print(pt) x,y 좌표가 들어 있음\n",
    "    # 배경이미지에 위치 사각형으로 표현하기\n",
    "    # cv2.rectangle(배경이미지, 좌상단 좌표, 우하단 좌표, 색상, 두께)\n",
    "    cv2.rectangle(img, pt, (pt[0] + w1, pt[1] + h1), (0,0,255), 3)\n",
    "    \n",
    "for pt in zip(*loc2[::-1]):\n",
    "    cv2.rectangle(img, pt, (pt[0] + w1, pt[1] + h1), (0,0,255), 3)\n",
    "\n",
    "cv2.imshow('maple',img)\n",
    "# cv2.imshow('snail',blue_snail)\n",
    "# cv2.imshow('green',green_mush)\n",
    "cv2.waitKey(0)\n",
    "cv2.destroyAllWindows()"
   ]
  },
  {
   "cell_type": "code",
   "execution_count": 11,
   "id": "4de3c080",
   "metadata": {},
   "outputs": [
    {
     "data": {
      "text/plain": [
       "(array([ 29, 411, 411, 412, 531, 531, 532, 532, 532, 532, 532, 533, 533,\n",
       "        533, 533, 684, 684, 685, 685, 685, 685, 685, 685, 685, 685, 685,\n",
       "        685, 685, 685, 686, 686, 686, 686], dtype=int64),\n",
       " array([233, 454, 455, 455, 522, 523, 522, 523, 524, 985, 986, 523, 524,\n",
       "        985, 986, 319, 988, 218, 219, 319, 320, 409, 549, 550, 681, 682,\n",
       "        731, 988, 989, 218, 219, 409, 550], dtype=int64))"
      ]
     },
     "execution_count": 11,
     "metadata": {},
     "output_type": "execute_result"
    }
   ],
   "source": [
    "# 배경과 찾는 이미지가 얼마나 유사한지\n",
    "# -1 ~ 1\n",
    "# -1 : 전혀 상관없음, 1 : 완전 똑같음\n",
    "# 유사도가 0.7 이상인 값들만 사용\n",
    "\n",
    "import numpy as np\n",
    "np.where(res1 >= 0.75)\n",
    "\n",
    "# 데이터 순서 역으로 바꾸기\n",
    "for pt in zip(*loc[::-1]):\n",
    "    print(pt)\n",
    "\n",
    "    "
   ]
  },
  {
   "cell_type": "code",
   "execution_count": null,
   "id": "19fc99d5",
   "metadata": {},
   "outputs": [],
   "source": []
  },
  {
   "cell_type": "code",
   "execution_count": null,
   "id": "ce5ed958",
   "metadata": {},
   "outputs": [],
   "source": []
  },
  {
   "cell_type": "code",
   "execution_count": null,
   "id": "dbca6271",
   "metadata": {},
   "outputs": [],
   "source": []
  },
  {
   "cell_type": "code",
   "execution_count": null,
   "id": "29454f33",
   "metadata": {},
   "outputs": [],
   "source": []
  },
  {
   "cell_type": "code",
   "execution_count": null,
   "id": "12acce0c",
   "metadata": {},
   "outputs": [],
   "source": []
  },
  {
   "cell_type": "code",
   "execution_count": null,
   "id": "6dc26a78",
   "metadata": {},
   "outputs": [],
   "source": []
  },
  {
   "cell_type": "code",
   "execution_count": null,
   "id": "b45d2587",
   "metadata": {},
   "outputs": [],
   "source": []
  },
  {
   "cell_type": "code",
   "execution_count": null,
   "id": "777064d8",
   "metadata": {},
   "outputs": [],
   "source": []
  },
  {
   "cell_type": "code",
   "execution_count": null,
   "id": "dc9f61e9",
   "metadata": {},
   "outputs": [],
   "source": []
  },
  {
   "cell_type": "code",
   "execution_count": null,
   "id": "5cef27bb",
   "metadata": {},
   "outputs": [],
   "source": []
  },
  {
   "cell_type": "code",
   "execution_count": null,
   "id": "ca9fdd28",
   "metadata": {},
   "outputs": [],
   "source": []
  },
  {
   "cell_type": "code",
   "execution_count": null,
   "id": "19b31c85",
   "metadata": {},
   "outputs": [],
   "source": []
  },
  {
   "cell_type": "code",
   "execution_count": null,
   "id": "dd19cd91",
   "metadata": {},
   "outputs": [],
   "source": []
  },
  {
   "cell_type": "code",
   "execution_count": null,
   "id": "e4c3c71b",
   "metadata": {},
   "outputs": [],
   "source": []
  },
  {
   "cell_type": "code",
   "execution_count": null,
   "id": "daaecf79",
   "metadata": {},
   "outputs": [],
   "source": []
  },
  {
   "cell_type": "code",
   "execution_count": null,
   "id": "05b7871e",
   "metadata": {},
   "outputs": [],
   "source": []
  },
  {
   "cell_type": "code",
   "execution_count": null,
   "id": "cd3cc4a0",
   "metadata": {},
   "outputs": [],
   "source": []
  }
 ],
 "metadata": {
  "kernelspec": {
   "display_name": "Python 3 (ipykernel)",
   "language": "python",
   "name": "python3"
  },
  "language_info": {
   "codemirror_mode": {
    "name": "ipython",
    "version": 3
   },
   "file_extension": ".py",
   "mimetype": "text/x-python",
   "name": "python",
   "nbconvert_exporter": "python",
   "pygments_lexer": "ipython3",
   "version": "3.10.9"
  }
 },
 "nbformat": 4,
 "nbformat_minor": 5
}
