{
 "cells": [
  {
   "cell_type": "code",
   "execution_count": null,
   "id": "96dbee83",
   "metadata": {},
   "outputs": [],
   "source": [
    "import cv2 \n",
    "\n",
    "psy = cv2.imread('images/psy.png')\n",
    "tiger = cv2.imread('images/tiger.png')\n",
    "\n",
    "# 마스크 이미지 만들기 = 사용할 부분과 아닌부분 구분하기\n",
    "# 검은부분 사용 /  흰부분 사용 안함\n",
    "mask2gray = cv2.cvtColor(tiger, cv2.COLOR_BGR2GRAY)\n",
    "_, mask_b = cv2.threshold(mask2gray, 200, 255, cv2.THRESH_BINARY)\n",
    "\n",
    "# 마스크 이미지 반전\n",
    "# 흰부분 사용 / 검은부분 사용 안함(위와 반대)\n",
    "mask_b_inv = cv2.bitwise_not(mask_b)\n",
    "\n",
    "# 호랑이 이미지에서 사용할 영역의 값만 추출하기(흰부분 가져오고 검은부분 안가져옴)\n",
    "sub_psy = psy[94:217, 239:371]\n",
    "img_bg = cv2.bitwise_and(sub_psy, sub_psy, mask=mask_b)\n",
    "\n",
    "img_fg = cv2.bitwise_and(tiger, tiger, mask = mask_b_inv)\n",
    "\n",
    "cv2.imshow('img_bg', img_bg)\n",
    "cv2.imshow('img_fg', img_fg)\n",
    "\n",
    "# 두 이미지 합치기\n",
    "bg_fg = cv2.add(img_bg, img_fg)\n",
    "\n",
    "\n",
    "# ROI = 싸이 얼굴영역 추출\n",
    "# 추출된 영역에 호랑이 이미지 합성하기\n",
    "# psy[94:217, 239:371] = tiger\n",
    "\n",
    "#cv2.imshow('psy',psy)\n",
    "#cv2.imshow('tiger',tiger)\n",
    "cv2.waitKey(0)\n",
    "cv2.destroyAllWindows()"
   ]
  },
  {
   "cell_type": "code",
   "execution_count": null,
   "id": "28bf5ea0",
   "metadata": {},
   "outputs": [],
   "source": [
    "# ROI(Region of Image) : 관심영역"
   ]
  },
  {
   "cell_type": "code",
   "execution_count": 2,
   "id": "2f50c442",
   "metadata": {},
   "outputs": [
    {
     "data": {
      "text/plain": [
       "(838, 630, 3)"
      ]
     },
     "execution_count": 2,
     "metadata": {},
     "output_type": "execute_result"
    }
   ],
   "source": [
    "# 컬러 이미지\n",
    "# 가로, 세로, 색상 채널\n",
    "\n",
    "psy.shape"
   ]
  },
  {
   "cell_type": "code",
   "execution_count": 46,
   "id": "93966670",
   "metadata": {},
   "outputs": [],
   "source": [
    "# 좌 상단 좌표 : 280, 50\n",
    "# 우 하단 좌표 : 400, 200\n",
    "# 얼굴 영역 자르기\n",
    "# [열 = y, 행 = x]\n",
    "sub_psy = psy[94:217, 239:371]\n",
    "cv2.imshow('sub',sub_psy)\n",
    "cv2.waitKey(0)\n",
    "cv2.destroyAllWindows()"
   ]
  },
  {
   "cell_type": "code",
   "execution_count": 47,
   "id": "c2166b7f",
   "metadata": {},
   "outputs": [
    {
     "data": {
      "text/plain": [
       "(123, 132, 3)"
      ]
     },
     "execution_count": 47,
     "metadata": {},
     "output_type": "execute_result"
    }
   ],
   "source": [
    "tiger.shape"
   ]
  },
  {
   "cell_type": "code",
   "execution_count": null,
   "id": "211d1d18",
   "metadata": {},
   "outputs": [],
   "source": []
  },
  {
   "cell_type": "code",
   "execution_count": null,
   "id": "a3e9a2f3",
   "metadata": {},
   "outputs": [],
   "source": []
  },
  {
   "cell_type": "code",
   "execution_count": null,
   "id": "a8826f3b",
   "metadata": {},
   "outputs": [],
   "source": []
  },
  {
   "cell_type": "code",
   "execution_count": null,
   "id": "65c82e8f",
   "metadata": {},
   "outputs": [],
   "source": []
  },
  {
   "cell_type": "code",
   "execution_count": null,
   "id": "cf275d78",
   "metadata": {},
   "outputs": [],
   "source": []
  },
  {
   "cell_type": "code",
   "execution_count": null,
   "id": "3dfbd506",
   "metadata": {},
   "outputs": [],
   "source": []
  },
  {
   "cell_type": "code",
   "execution_count": null,
   "id": "e52e8ff0",
   "metadata": {},
   "outputs": [],
   "source": []
  },
  {
   "cell_type": "code",
   "execution_count": null,
   "id": "046588cc",
   "metadata": {},
   "outputs": [],
   "source": []
  },
  {
   "cell_type": "code",
   "execution_count": null,
   "id": "ddcdec7f",
   "metadata": {},
   "outputs": [],
   "source": []
  },
  {
   "cell_type": "code",
   "execution_count": null,
   "id": "27d8e288",
   "metadata": {},
   "outputs": [],
   "source": []
  },
  {
   "cell_type": "code",
   "execution_count": null,
   "id": "91f50a4d",
   "metadata": {},
   "outputs": [],
   "source": []
  },
  {
   "cell_type": "code",
   "execution_count": null,
   "id": "432b5fd0",
   "metadata": {},
   "outputs": [],
   "source": []
  },
  {
   "cell_type": "code",
   "execution_count": null,
   "id": "520e94d6",
   "metadata": {},
   "outputs": [],
   "source": []
  },
  {
   "cell_type": "code",
   "execution_count": null,
   "id": "c49522ce",
   "metadata": {},
   "outputs": [],
   "source": []
  }
 ],
 "metadata": {
  "kernelspec": {
   "display_name": "Python 3 (ipykernel)",
   "language": "python",
   "name": "python3"
  },
  "language_info": {
   "codemirror_mode": {
    "name": "ipython",
    "version": 3
   },
   "file_extension": ".py",
   "mimetype": "text/x-python",
   "name": "python",
   "nbconvert_exporter": "python",
   "pygments_lexer": "ipython3",
   "version": "3.10.9"
  }
 },
 "nbformat": 4,
 "nbformat_minor": 5
}
