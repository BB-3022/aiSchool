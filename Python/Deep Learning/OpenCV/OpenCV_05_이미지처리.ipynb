{
 "cells": [
  {
   "cell_type": "code",
   "execution_count": 2,
   "id": "03ea0b17-4039-4450-9379-8fd1b5753d27",
   "metadata": {},
   "outputs": [],
   "source": [
    "import cv2"
   ]
  },
  {
   "cell_type": "code",
   "execution_count": null,
   "id": "111fe3cb-522a-4ed6-87a2-b57a3765f9a1",
   "metadata": {},
   "outputs": [],
   "source": [
    "# 1. 카메라 연동해서 띄우기\n",
    "# 2-1. 버튼(1) 누르면 흑백화면으로 바꾸기\n",
    "# 2-2. 버튼(2) 누르면 좌우 반전시키기\n",
    "# 2-3. 버튼(3) 누르면 이진화 이미지 만들기\n",
    "# 2-4. 버튼(4) 누르면 종료하"
   ]
  },
  {
   "cell_type": "code",
   "execution_count": 4,
   "id": "b79f5a02-3949-477c-bd42-4f9c45019508",
   "metadata": {},
   "outputs": [
    {
     "name": "stdout",
     "output_type": "stream",
     "text": [
      "종료\n"
     ]
    }
   ],
   "source": [
    "# import cv2\n",
    "\n",
    "# 카메라로부터 영상 가져오기\n",
    "cap = cv2.VideoCapture(0)\n",
    "\n",
    "# 1번 버튼을 눌렀음을 감지하기 위한 변수\n",
    "gray = False\n",
    "flip_rl = False\n",
    "flip_ud = False\n",
    "thres = False\n",
    "\n",
    "while cap.isOpened() :\n",
    "    # 영상에서 프레임 이미지 읽기\n",
    "    ret, frame = cap.read()\n",
    "    \n",
    "    # 이미지를 읽지 못했다면 종료\n",
    "    if not ret :\n",
    "        print(\"종료\")\n",
    "        break\n",
    "    \n",
    "    # 30ms = 초당 33장의 사진, 코드가 실행되는 시간도 있기 때문에 30으로 적어준다.\n",
    "    key = cv2.waitKey(30)\n",
    "    \n",
    "    # 1번 버튼 - 흑백\n",
    "    if key == 49 :\n",
    "        # 버튼을 눌렀을 때만 흑백으로 변환\n",
    "        # frame = cv2.cvtColor(frame, cv2.COLOR_RGB2GRAY)\n",
    "        \n",
    "        # 버튼을 누르면 흑백, 다시 누르면 흑백 제거\n",
    "        if gray:\n",
    "            gray = False\n",
    "        else :\n",
    "            gray = True\n",
    "   \n",
    "    if gray: # 버튼을 한번 눌러서 gray 의 값에 True가 대입되면 실행\n",
    "        frame = cv2.cvtColor(frame, cv2.COLOR_RGB2GRAY)\n",
    "            \n",
    "    cv2.imshow(\"video\", frame)    \n",
    "    \n",
    "    # 2번 버튼 - 반전\n",
    "    if key == 50 :\n",
    "\n",
    "        if flip_rl :\n",
    "            flip_rl = False\n",
    "        else :\n",
    "            flip_rl = True\n",
    "    if flip_rl :\n",
    "        frame = cv2.flip(frame, 1)\n",
    "    cv2.imshow(\"video\", frame)       \n",
    "    \n",
    "    # 3번 버튼 - 상하 뒤집기\n",
    "    if key == 51: \n",
    "        if flip_ud:\n",
    "            flip_ud = False\n",
    "        else:\n",
    "            flip_ud = True\n",
    "    if flip_ud:\n",
    "        frame = cv2.flip(frame,-1)\n",
    "        \n",
    "    cv2.imshow('video', frame)\n",
    "    \n",
    "    # 4번 버튼 - 이진화 이미지\n",
    "    if key == 52 :\n",
    "\n",
    "        if thres :\n",
    "            thres = False\n",
    "        else :\n",
    "            thres = True\n",
    "    if thres :\n",
    "        _, frame = cv2.threshold(frame, 128, 255, cv2.THRESH_BINARY)\n",
    "\n",
    "    cv2.imshow(\"video\", frame)   \n",
    "    \n",
    "    # 5번 버튼 - 종료\n",
    "    if key == 53 :\n",
    "        print(\"종료\")\n",
    "        break\n",
    "\n",
    "    \n",
    "\n",
    "cap.release()\n",
    "cv2.destroyAllWindows()"
   ]
  },
  {
   "cell_type": "code",
   "execution_count": null,
   "id": "bae50e48-c3a3-43bb-94be-f2d4fe2eb104",
   "metadata": {},
   "outputs": [],
   "source": []
  },
  {
   "cell_type": "code",
   "execution_count": null,
   "id": "55dd452a-08fa-40d9-9c5f-dfb3fb55588b",
   "metadata": {},
   "outputs": [],
   "source": []
  },
  {
   "cell_type": "code",
   "execution_count": null,
   "id": "b62d5d0a-c9dc-4a06-bd81-5797ad628a09",
   "metadata": {},
   "outputs": [],
   "source": []
  },
  {
   "cell_type": "code",
   "execution_count": null,
   "id": "631c6c41-036e-4cda-b1b5-118df7cd4afe",
   "metadata": {},
   "outputs": [],
   "source": []
  },
  {
   "cell_type": "code",
   "execution_count": null,
   "id": "5efdd2d5-9acd-4a91-b839-1d4de57b1596",
   "metadata": {},
   "outputs": [],
   "source": []
  },
  {
   "cell_type": "code",
   "execution_count": null,
   "id": "626b9fab-699e-4f4f-869c-d86fbb9717be",
   "metadata": {},
   "outputs": [],
   "source": []
  }
 ],
 "metadata": {
  "kernelspec": {
   "display_name": "Python 3 (ipykernel)",
   "language": "python",
   "name": "python3"
  },
  "language_info": {
   "codemirror_mode": {
    "name": "ipython",
    "version": 3
   },
   "file_extension": ".py",
   "mimetype": "text/x-python",
   "name": "python",
   "nbconvert_exporter": "python",
   "pygments_lexer": "ipython3",
   "version": "3.8.18"
  }
 },
 "nbformat": 4,
 "nbformat_minor": 5
}
