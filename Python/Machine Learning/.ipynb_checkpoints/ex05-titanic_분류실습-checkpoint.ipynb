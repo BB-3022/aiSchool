{
 "cells": [
  {
   "cell_type": "markdown",
   "id": "14342ef2-4685-4924-a129-d1c779b31744",
   "metadata": {},
   "source": [
    "### 목표\n",
    "- 타이타닉 데이터를 활용하여 생존자/사망자 예측\n",
    "- kaggle 경진대회에 참가하여 점수를 확인\n",
    "- 머신러닝의 전체 과정 체험"
   ]
  },
  {
   "cell_type": "markdown",
   "id": "73ebe472-e812-49ba-b491-81203c06fb3d",
   "metadata": {},
   "source": [
    "### 머신러닝 과정\n",
    "- 1. 문제정의 : 목표설정, 어떤 모델\n",
    "  2. 데이터 수집 : 분류를 할거라면 class 로 담긴 레이블이 있는 데이터 수집\n",
    "  3. 데이터 전처리 : 이상치/결측치 처리, 특성 처리(특성공학)\n",
    "  4. 데이터 탐색(탐색적 데이터 분석) : 기술 통계 확인, 특성 간의 관계 파악\n",
    "  5. 모델 선택 및 하이퍼 파라미터 선정\n",
    "  6. 모델 예측 및 평가\n",
    "  7. 모델 서비스"
   ]
  },
  {
   "cell_type": "code",
   "execution_count": null,
   "id": "fb98eb7f-93ba-47dc-867e-e07af5a13873",
   "metadata": {},
   "outputs": [],
   "source": []
  },
  {
   "cell_type": "code",
   "execution_count": null,
   "id": "34d28c28-9cd6-4b03-a116-e463b7a84809",
   "metadata": {},
   "outputs": [],
   "source": []
  },
  {
   "cell_type": "code",
   "execution_count": null,
   "id": "3ad134ee-b345-4adc-9b4f-986fca5067ee",
   "metadata": {},
   "outputs": [],
   "source": []
  },
  {
   "cell_type": "code",
   "execution_count": null,
   "id": "7019a108-5105-4b58-a1be-169c6afbf25d",
   "metadata": {},
   "outputs": [],
   "source": []
  },
  {
   "cell_type": "code",
   "execution_count": null,
   "id": "92825119-8db3-41f5-b8f0-ef8eddf2db7f",
   "metadata": {},
   "outputs": [],
   "source": []
  },
  {
   "cell_type": "code",
   "execution_count": null,
   "id": "e514849c-4427-4368-9117-deb55f1faef1",
   "metadata": {},
   "outputs": [],
   "source": []
  },
  {
   "cell_type": "code",
   "execution_count": null,
   "id": "5d99e291-f039-4bef-91e7-10456393a1cc",
   "metadata": {},
   "outputs": [],
   "source": []
  },
  {
   "cell_type": "code",
   "execution_count": null,
   "id": "80aadfbc-a77b-460d-b2e5-09c44a9a82cd",
   "metadata": {},
   "outputs": [],
   "source": []
  },
  {
   "cell_type": "code",
   "execution_count": null,
   "id": "bf1793b6-8d7c-4134-9f34-559b0e1a13f4",
   "metadata": {},
   "outputs": [],
   "source": []
  },
  {
   "cell_type": "code",
   "execution_count": null,
   "id": "08fcc440-74d7-4915-9437-27f32a643590",
   "metadata": {},
   "outputs": [],
   "source": []
  },
  {
   "cell_type": "code",
   "execution_count": null,
   "id": "ed313a56-99f8-4571-ad82-6cf24950776c",
   "metadata": {},
   "outputs": [],
   "source": []
  },
  {
   "cell_type": "code",
   "execution_count": null,
   "id": "0f2b7d60-b5f2-4400-a2e8-cf666ca133c3",
   "metadata": {},
   "outputs": [],
   "source": []
  },
  {
   "cell_type": "code",
   "execution_count": null,
   "id": "2f54836d-110f-42f4-a602-75f041ef7073",
   "metadata": {},
   "outputs": [],
   "source": []
  },
  {
   "cell_type": "code",
   "execution_count": null,
   "id": "6527b11a-36d9-4979-a12a-2fa6de5c864b",
   "metadata": {},
   "outputs": [],
   "source": []
  },
  {
   "cell_type": "code",
   "execution_count": null,
   "id": "910e3282-0f8e-4870-8f8e-fea70bdc10a7",
   "metadata": {},
   "outputs": [],
   "source": []
  },
  {
   "cell_type": "code",
   "execution_count": null,
   "id": "33b095de-0ea8-49cc-9d08-78a9578b10c9",
   "metadata": {},
   "outputs": [],
   "source": []
  },
  {
   "cell_type": "code",
   "execution_count": null,
   "id": "31e01cb0-9f0c-4f4f-8c64-db36a878b56d",
   "metadata": {},
   "outputs": [],
   "source": []
  },
  {
   "cell_type": "code",
   "execution_count": null,
   "id": "99b996e2-9d39-42b7-a03e-b68eb7279701",
   "metadata": {},
   "outputs": [],
   "source": []
  },
  {
   "cell_type": "code",
   "execution_count": null,
   "id": "f7a0820d-d35d-428d-9843-4583a7e31407",
   "metadata": {},
   "outputs": [],
   "source": []
  },
  {
   "cell_type": "code",
   "execution_count": null,
   "id": "889d5d39-675d-42e3-9600-cd6c5bb9796d",
   "metadata": {},
   "outputs": [],
   "source": []
  },
  {
   "cell_type": "code",
   "execution_count": null,
   "id": "6fa62109-3209-4a57-80aa-5393aaad8f18",
   "metadata": {},
   "outputs": [],
   "source": []
  }
 ],
 "metadata": {
  "kernelspec": {
   "display_name": "Python 3 (ipykernel)",
   "language": "python",
   "name": "python3"
  },
  "language_info": {
   "codemirror_mode": {
    "name": "ipython",
    "version": 3
   },
   "file_extension": ".py",
   "mimetype": "text/x-python",
   "name": "python",
   "nbconvert_exporter": "python",
   "pygments_lexer": "ipython3",
   "version": "3.10.9"
  }
 },
 "nbformat": 4,
 "nbformat_minor": 5
}
