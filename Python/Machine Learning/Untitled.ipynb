{
 "cells": [
  {
   "cell_type": "code",
   "execution_count": null,
   "id": "7573413f-6de6-4287-ae87-391751cbbe1f",
   "metadata": {},
   "outputs": [],
   "source": [
    "# 라이브러리 불러오기\n",
    "import pandas as pd\n",
    "import numpy as np\n",
    "import matplotlib.pyplot as plt\n",
    "\n",
    "# train, test 분리\n",
    "from sklearn.model_selection import train_test_split\n",
    "\n",
    "#RandomForest\n",
    "from sklearn.ensemble import RandomForestRegressor\n",
    "\n",
    "# GridSearchCV : 하이퍼파라미터 설정\n",
    "from sklearn.model_selection import GridSearchCV"
   ]
  },
  {
   "cell_type": "code",
   "execution_count": null,
   "id": "744246bf-8475-4604-930d-26cb2fb9dcef",
   "metadata": {},
   "outputs": [],
   "source": [
    "# continuous_factory_process 파일 불러오기\n",
    "raw_df = pd.read_csv('./data/continuous_factory_process.csv', index_col=\"time_stamp\")\n",
    "\n",
    "# Setpoint 제거\n",
    "del_columns = [col for col in raw_df.columns if 'Setpoint' in col]\n",
    "raw_df.drop(del_columns, axis=1, inplace=True)"
   ]
  },
  {
   "cell_type": "code",
   "execution_count": null,
   "id": "b69baf23-6a52-4910-9040-e4a1eeb9d67b",
   "metadata": {},
   "outputs": [],
   "source": [
    "# continuous_factory_process 파일 불러오기\n",
    "sub_df = pd.read_csv('./data/submission_data.csv', index_col=\"time_stamp\")\n",
    "\n",
    "# Setpoint 제거\n",
    "del_columns = [col for col in sub_df.columns if 'Setpoint' in col]\n",
    "sub_df.drop(del_columns, axis=1, inplace=True)"
   ]
  },
  {
   "cell_type": "code",
   "execution_count": null,
   "id": "13b053ae-2e58-4f20-8529-0a4fed8f9fd6",
   "metadata": {},
   "outputs": [],
   "source": [
    "model1_X = raw_df.loc[:, :'FirstStage.CombinerOperation.Temperature3.C.Actual']\n",
    "model1_y = raw_df.loc[:,'Stage1.Output.Measurement0.U.Actual':'Stage1.Output.Measurement14.U.Actual']\n",
    "model2_X = raw_df.loc[:,'Machine4.Temperature1.C.Actual':'Machine5.ExitTemperature.U.Actual']\n",
    "model2_y = raw_df.loc[:,'Stage2.Output.Measurement0.U.Actual':'Stage2.Output.Measurement14.U.Actual']\n",
    "\n",
    "subdata_X1 = sub_df.loc[:, :'FirstStage.CombinerOperation.Temperature3.C.Actual']\n",
    "subdata_X2 = sub_df.loc[:,'Machine4.Temperature1.C.Actual':'Machine5.ExitTemperature.U.Actual']"
   ]
  },
  {
   "cell_type": "code",
   "execution_count": null,
   "id": "fdad9f4b-ae60-492b-bef7-8a4711e18cd5",
   "metadata": {},
   "outputs": [],
   "source": [
    "X1_train, X1_test, y1_train, y1_test = train_test_split(model1_X,model1_y,test_size=0.3, random_state=10)"
   ]
  },
  {
   "cell_type": "code",
   "execution_count": null,
   "id": "78870750-edcd-4fdb-a59f-9faac4d216b8",
   "metadata": {},
   "outputs": [],
   "source": [
    "# GridSearchCV 하이퍼 파라미터 튜닝\n",
    "\n",
    "# 1. 튜닝할 하이퍼파라미터 설정\n",
    "param = {'n_estimators' : [50, 150, 250, 350, 450, 1000], #나무 개수\n",
    "         'max_depth' : [5, 7, 9, 11, 15, 20], #나무 최대 깊이\n",
    "         'max_leaf_nodes' : [3, 5, 7], #최대 리프 노드 수\n",
    "         'min_samples_split' : [20,40,60]} #노드 분할을 위한 최소 샘플 수\n",
    "\n",
    "# 2. 랜덤 포레스트 모델 생성\n",
    "forest_model1 = RandomForestRegressor(random_state=10, n_jobs=-1)\n",
    "\n",
    "# 3. GridSearchCV 모델 생성\n",
    "grid = GridSearchCV(forest_model1, param, cv=5, scoring = 'accuracy', n_jobs=-1)\n",
    "\n",
    "\n",
    "# 4. grid 모델 학습\n",
    "grid.fit(X1_train, y1_train)"
   ]
  },
  {
   "cell_type": "code",
   "execution_count": null,
   "id": "507092be-349e-42a0-8dc0-fbb41fed367f",
   "metadata": {},
   "outputs": [],
   "source": [
    "# 모델 생성 및 하이퍼 파라미터 튜닝\n",
    "forest_model1 = RandomForestRegressor(n_estimators=100, random_state=10)\n",
    "forest_model2 = RandomForestRegressor(n_estimators=100, random_state=10)"
   ]
  },
  {
   "cell_type": "code",
   "execution_count": null,
   "id": "cc7a0a4a-6014-4ee9-bd27-289c84c61c9f",
   "metadata": {},
   "outputs": [],
   "source": [
    "# 모델1 학습\n",
    "forest_model1.fit(model1_X, model1_y)"
   ]
  },
  {
   "cell_type": "code",
   "execution_count": null,
   "id": "54068f23-55ee-4648-9153-faf070f0e9b3",
   "metadata": {},
   "outputs": [],
   "source": [
    "# 모델2 학습\n",
    "forest_model2.fit(model2_X, model2_y)"
   ]
  },
  {
   "cell_type": "code",
   "execution_count": null,
   "id": "7e7f04d4-fb9e-4ecd-9a7b-68569c791336",
   "metadata": {},
   "outputs": [],
   "source": [
    "X1_pred = forest_model1.predict(subdata_X1)\n",
    "X2_pred = forest_model2.predict(subdata_X2)"
   ]
  },
  {
   "cell_type": "code",
   "execution_count": null,
   "id": "0e87cb2b-0d91-48c6-800b-9f3853ab3305",
   "metadata": {},
   "outputs": [],
   "source": [
    "# X1_pred를 'submission1.npy' 파일로 저장\n",
    "np.save('submission1.npy', X1_pred)\n",
    "np.save('submission2.npy', X2_pred)"
   ]
  },
  {
   "cell_type": "code",
   "execution_count": null,
   "id": "1344f7b1-24c9-431b-9061-dfc870ebb54e",
   "metadata": {},
   "outputs": [],
   "source": []
  },
  {
   "cell_type": "markdown",
   "id": "f1298802-67ec-415a-99ce-910b66f2173d",
   "metadata": {},
   "source": [
    "### XGBoost 모델"
   ]
  },
  {
   "cell_type": "code",
   "execution_count": 1,
   "id": "245bd043-0771-46ef-b508-337e67af1b51",
   "metadata": {},
   "outputs": [
    {
     "ename": "NameError",
     "evalue": "name 'pd' is not defined",
     "output_type": "error",
     "traceback": [
      "\u001b[1;31m---------------------------------------------------------------------------\u001b[0m",
      "\u001b[1;31mNameError\u001b[0m                                 Traceback (most recent call last)",
      "Cell \u001b[1;32mIn[1], line 2\u001b[0m\n\u001b[0;32m      1\u001b[0m \u001b[38;5;66;03m# continuous_factory_process 파일 불러오기\u001b[39;00m\n\u001b[1;32m----> 2\u001b[0m raw_df \u001b[38;5;241m=\u001b[39m \u001b[43mpd\u001b[49m\u001b[38;5;241m.\u001b[39mread_csv(\u001b[38;5;124m'\u001b[39m\u001b[38;5;124m./data/continuous_factory_process.csv\u001b[39m\u001b[38;5;124m'\u001b[39m, index_col\u001b[38;5;241m=\u001b[39m\u001b[38;5;124m\"\u001b[39m\u001b[38;5;124mtime_stamp\u001b[39m\u001b[38;5;124m\"\u001b[39m)\n\u001b[0;32m      4\u001b[0m \u001b[38;5;66;03m# Setpoint 제거\u001b[39;00m\n\u001b[0;32m      5\u001b[0m del_columns \u001b[38;5;241m=\u001b[39m [col \u001b[38;5;28;01mfor\u001b[39;00m col \u001b[38;5;129;01min\u001b[39;00m raw_df\u001b[38;5;241m.\u001b[39mcolumns \u001b[38;5;28;01mif\u001b[39;00m \u001b[38;5;124m'\u001b[39m\u001b[38;5;124mSetpoint\u001b[39m\u001b[38;5;124m'\u001b[39m \u001b[38;5;129;01min\u001b[39;00m col]\n",
      "\u001b[1;31mNameError\u001b[0m: name 'pd' is not defined"
     ]
    }
   ],
   "source": [
    "# continuous_factory_process 파일 불러오기\n",
    "raw_df = pd.read_csv('./data/continuous_factory_process.csv', index_col=\"time_stamp\")\n",
    "\n",
    "# Setpoint 제거\n",
    "del_columns = [col for col in raw_df.columns if 'Setpoint' in col]\n",
    "raw_df.drop(del_columns, axis=1, inplace=True)\n",
    "\n",
    "# continuous_factory_process 파일 불러오기\n",
    "sub_df = pd.read_csv('./data/submission_data.csv', index_col=\"time_stamp\")\n",
    "\n",
    "# Setpoint 제거\n",
    "del_columns = [col for col in sub_df.columns if 'Setpoint' in col]\n",
    "sub_df.drop(del_columns, axis=1, inplace=True)\n",
    "\n",
    "model1_X = raw_df.loc[:, :'FirstStage.CombinerOperation.Temperature3.C.Actual']\n",
    "model1_y = raw_df.loc[:,'Stage1.Output.Measurement0.U.Actual':'Stage1.Output.Measurement14.U.Actual']\n",
    "model2_X = raw_df.loc[:,'Machine4.Temperature1.C.Actual':'Machine5.ExitTemperature.U.Actual']\n",
    "model2_y = raw_df.loc[:,'Stage2.Output.Measurement0.U.Actual':'Stage2.Output.Measurement14.U.Actual']\n",
    "\n",
    "subdata_X1 = sub_df.loc[:, :'FirstStage.CombinerOperation.Temperature3.C.Actual']\n",
    "subdata_X2 = sub_df.loc[:,'Machine4.Temperature1.C.Actual':'Machine5.ExitTemperature.U.Actual']\n",
    "\n",
    "from xgboost import XGBClassifier\n",
    "\n",
    "# 모델생성 및 하이퍼파라미터 설정\n",
    "xgb_model1 = XGBClassifier(random_state=10)\n",
    "\n",
    "import xgboost as xgb\n",
    "\n",
    "## 모델1\n",
    "from xgboost import XGBRegressor\n",
    "\n",
    "# 15개의 XGBoost 회귀 모델을 저장할 리스트 생성\n",
    "xgb_models = []\n",
    "\n",
    "# 각 출력 특성을 개별적으로 학습\n",
    "for i in range(15):\n",
    "    xgb_model = XGBRegressor(n_estimators=100, random_state=10)\n",
    "    xgb_model.fit(model1_X, model1_y[f'Stage1.Output.Measurement{i}.U.Actual'])\n",
    "    xgb_models.append(xgb_model)\n",
    "\n",
    "# subdata_X1에 대한 예측을 저장할 리스트 생성\n",
    "X1_pred = []\n",
    "\n",
    "# 각 XGBoost 모델에 대해 예측 수행\n",
    "for xgb_model in xgb_models:\n",
    "    pred = xgb_model.predict(subdata_X1)\n",
    "    X1_pred.append(pred)\n",
    "\n",
    "# X1_pred 리스트를 NumPy 배열로 변환\n",
    "X1_pred = np.array(X1_pred).T  # Transpose for shape (n_samples, 15)\n",
    "\n",
    "## 모델2\n",
    "\n",
    "# 15개의 XGBoost 회귀 모델을 저장할 리스트 생성\n",
    "xgb_models2 = []\n",
    "\n",
    "# 각 출력 특성을 개별적으로 학습\n",
    "for i in range(15):\n",
    "    xgb_model2 = XGBRegressor(n_estimators=100, random_state=10)\n",
    "    xgb_model2.fit(model2_X, model2_y[f'Stage2.Output.Measurement{i}.U.Actual'])\n",
    "    xgb_models2.append(xgb_model2)\n",
    "\n",
    "# subdata_X1에 대한 예측을 저장할 리스트 생성\n",
    "X2_pred = []\n",
    "\n",
    "# 각 XGBoost 모델에 대해 예측 수행\n",
    "for xgb_model2 in xgb_models2:\n",
    "    pred2 = xgb_model2.predict(subdata_X2)\n",
    "    X2_pred.append(pred2)\n",
    "\n",
    "# X1_pred 리스트를 NumPy 배열로 변환\n",
    "X2_pred = np.array(X2_pred).T  # Transpose for shape (n_samples, 15)"
   ]
  },
  {
   "cell_type": "code",
   "execution_count": null,
   "id": "cda3a1c1-e07c-4b34-8bdc-e86efe9cd5d2",
   "metadata": {},
   "outputs": [],
   "source": []
  },
  {
   "cell_type": "code",
   "execution_count": null,
   "id": "b71c45c4-8cfd-4f85-a466-bb71aad51135",
   "metadata": {},
   "outputs": [],
   "source": []
  },
  {
   "cell_type": "code",
   "execution_count": null,
   "id": "a92ac8d0-7935-4c78-be8c-d4c46be4dc84",
   "metadata": {},
   "outputs": [],
   "source": []
  },
  {
   "cell_type": "code",
   "execution_count": null,
   "id": "9cd215e3-6cc1-4004-a1f9-f5641490be1a",
   "metadata": {},
   "outputs": [],
   "source": []
  },
  {
   "cell_type": "code",
   "execution_count": null,
   "id": "d6bc5d62-4d30-45a4-b1f6-a02a1b3df119",
   "metadata": {},
   "outputs": [],
   "source": []
  }
 ],
 "metadata": {
  "kernelspec": {
   "display_name": "Python 3 (ipykernel)",
   "language": "python",
   "name": "python3"
  },
  "language_info": {
   "codemirror_mode": {
    "name": "ipython",
    "version": 3
   },
   "file_extension": ".py",
   "mimetype": "text/x-python",
   "name": "python",
   "nbconvert_exporter": "python",
   "pygments_lexer": "ipython3",
   "version": "3.10.9"
  }
 },
 "nbformat": 4,
 "nbformat_minor": 5
}
