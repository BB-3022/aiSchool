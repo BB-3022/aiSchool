{
 "cells": [
  {
   "cell_type": "markdown",
   "id": "b944fa01-2118-4e6d-8b78-0e6109714d47",
   "metadata": {},
   "source": [
    "### 문제정의\n",
    " - 훈련 데이터와 테스트 데이터 이해하기\n",
    " - 머신러닝의 일련의 과정 이해하기\n",
    " - AND 연산의 결과를 도출하는 머신러닝 모델 학습하기"
   ]
  },
  {
   "cell_type": "code",
   "execution_count": 5,
   "id": "a496fac9-f236-4565-b33f-d23695e5e544",
   "metadata": {},
   "outputs": [],
   "source": [
    "import pandas as pd\n",
    "import numpy as np\n",
    "import matplotlib.pyplot as plt"
   ]
  },
  {
   "cell_type": "markdown",
   "id": "eb916323-8707-4944-b050-2fb1ce89500a",
   "metadata": {},
   "source": [
    "### 데이터 준비\n",
    " - and 연산 데이터 생성하기"
   ]
  },
  {
   "cell_type": "code",
   "execution_count": 6,
   "id": "d0d7addf-8fde-41ca-aff3-e2977129d9a6",
   "metadata": {},
   "outputs": [],
   "source": [
    "dic = {\"A\":[0,0,1,1,1,0,1,0],\"B\":[0,1,0,1,0,0,1,1],\"A and B\":[0,0,0,1,0,0,1,0]}"
   ]
  },
  {
   "cell_type": "code",
   "execution_count": 7,
   "id": "3a1646bf-2435-4ebe-b74d-fe8c3bb6beff",
   "metadata": {},
   "outputs": [],
   "source": [
    "df=pd.DataFrame(dic)"
   ]
  },
  {
   "cell_type": "markdown",
   "id": "ec96239d-cf34-4f0e-bdbb-2b929533324e",
   "metadata": {},
   "source": [
    "### 데이터 전처리"
   ]
  },
  {
   "cell_type": "code",
   "execution_count": 8,
   "id": "7633aa58-57db-4b9e-aa76-eceab87ecaee",
   "metadata": {},
   "outputs": [
    {
     "data": {
      "text/plain": [
       "((8, 2), (8,))"
      ]
     },
     "execution_count": 8,
     "metadata": {},
     "output_type": "execute_result"
    }
   ],
   "source": [
    "# X 문제데이터 : (A,B), y 답데이터 : (A and B)\n",
    "X=df.loc[:,:'B'] #df=[['A','B']]\n",
    "y=df['A and B']\n",
    "\n",
    "#크기확인\n",
    "X.shape, y.shape"
   ]
  },
  {
   "cell_type": "code",
   "execution_count": null,
   "id": "b9b69a79-3335-4de0-b513-de2718225768",
   "metadata": {},
   "outputs": [],
   "source": []
  },
  {
   "cell_type": "code",
   "execution_count": 9,
   "id": "6149eb0f-6626-4662-8425-20c31c22a0e4",
   "metadata": {},
   "outputs": [
    {
     "name": "stdout",
     "output_type": "stream",
     "text": [
      "훈련용 데이터 : (6, 2) (6,)\n",
      "테스트용 데이터 : (2, 2) (2,)\n"
     ]
    }
   ],
   "source": [
    "# 훈련용(학습과정), 테스트(평가 및 예측 과정) 분리\n",
    "\n",
    "# X_train : 훈련용(0~5행 접근), X_test : 테스트용(6~7행 접근)\n",
    "X_train = X.iloc[:6]\n",
    "X_test = X.iloc[6:]\n",
    "# y_train : 훈련용(0~5행 접근). y_test : 테스트용(6~7행 접근)\n",
    "y_train = y.iloc[:6]\n",
    "y_test = y.iloc[6:]\n",
    "\n",
    "#훈련용 데이터 크기 확인\n",
    "print('훈련용 데이터 :',X_train.shape,y_train.shape)\n",
    "#테스트용 데이터 크기 확인\n",
    "print('테스트용 데이터 :',X_test.shape,y_test.shape)\n",
    "\n",
    "# X_train 훈련용 문제, y_train 훈련용 답데이터\n",
    "# X_test 테스트용 문제, y_test 테스트용 답데이터"
   ]
  },
  {
   "cell_type": "markdown",
   "id": "108a64cc-a343-419b-a7e7-bd7ccab672a6",
   "metadata": {},
   "source": [
    "### 데이터 탐색(탐색적 데이터 분석)\n",
    "- a컬럼 int 데이터,0/1\n",
    "- b컬럼 int 데이터,0/1\n",
    "- a and b 컬럼 int 데이터,0/1\n",
    "- 결측치x, 이상치x"
   ]
  },
  {
   "cell_type": "markdown",
   "id": "bd73654e-c8a6-49cd-8cad-a3eb125ac203",
   "metadata": {},
   "source": [
    "### 모델링\n",
    "- 모델 선택 및 하이퍼 파라미터 조정\n",
    "- 모델 학습\n",
    "- 모델 예측 및 평가"
   ]
  },
  {
   "cell_type": "code",
   "execution_count": 10,
   "id": "79483077-ecd1-4b66-8599-4dadfe2e0c0b",
   "metadata": {},
   "outputs": [],
   "source": [
    "# 모델 불러오기\n",
    "# 분류하는 모델 중 knn 모델을 불러오기\n",
    "# sklearn(scikit-learn) 머신러닝 패키지 : 머신러닝에 사용되는 도구를 담은 패키지\n",
    "# 지도/비지도/강화, 분류/회귀, 평가 공식(기능), 데이터 전처리 하는 기능\n",
    "\n",
    "from sklearn.neighbors import KNeighborsClassifier\n",
    "from sklearn.metrics import accuracy_score"
   ]
  },
  {
   "cell_type": "code",
   "execution_count": 28,
   "id": "b97aefb5-d901-40cd-bf47-c6f3d74ef1bf",
   "metadata": {},
   "outputs": [],
   "source": [
    "# 모델 객체 생성\n",
    "# 모델마다 하이퍼 파라미터명 다름, 쓰임 다름\n",
    "# knn 에서는 n_neighbors 가 하이퍼 파라미터(사람이 설정하는 값)\n",
    "# 사람이 설정하는 하이퍼 파라미터에 따라 결과가 달라진다.\n",
    "# 예측이 잘되는 값이 있고, 안될 때가 있다.\n",
    "\n",
    "knn_model = KNeighborsClassifier(n_neighbors=1)"
   ]
  },
  {
   "cell_type": "code",
   "execution_count": 29,
   "id": "6ccdfaf0-b29c-4b57-81a6-0382190ebca5",
   "metadata": {},
   "outputs": [
    {
     "data": {
      "text/html": [
       "<style>#sk-container-id-6 {color: black;background-color: white;}#sk-container-id-6 pre{padding: 0;}#sk-container-id-6 div.sk-toggleable {background-color: white;}#sk-container-id-6 label.sk-toggleable__label {cursor: pointer;display: block;width: 100%;margin-bottom: 0;padding: 0.3em;box-sizing: border-box;text-align: center;}#sk-container-id-6 label.sk-toggleable__label-arrow:before {content: \"▸\";float: left;margin-right: 0.25em;color: #696969;}#sk-container-id-6 label.sk-toggleable__label-arrow:hover:before {color: black;}#sk-container-id-6 div.sk-estimator:hover label.sk-toggleable__label-arrow:before {color: black;}#sk-container-id-6 div.sk-toggleable__content {max-height: 0;max-width: 0;overflow: hidden;text-align: left;background-color: #f0f8ff;}#sk-container-id-6 div.sk-toggleable__content pre {margin: 0.2em;color: black;border-radius: 0.25em;background-color: #f0f8ff;}#sk-container-id-6 input.sk-toggleable__control:checked~div.sk-toggleable__content {max-height: 200px;max-width: 100%;overflow: auto;}#sk-container-id-6 input.sk-toggleable__control:checked~label.sk-toggleable__label-arrow:before {content: \"▾\";}#sk-container-id-6 div.sk-estimator input.sk-toggleable__control:checked~label.sk-toggleable__label {background-color: #d4ebff;}#sk-container-id-6 div.sk-label input.sk-toggleable__control:checked~label.sk-toggleable__label {background-color: #d4ebff;}#sk-container-id-6 input.sk-hidden--visually {border: 0;clip: rect(1px 1px 1px 1px);clip: rect(1px, 1px, 1px, 1px);height: 1px;margin: -1px;overflow: hidden;padding: 0;position: absolute;width: 1px;}#sk-container-id-6 div.sk-estimator {font-family: monospace;background-color: #f0f8ff;border: 1px dotted black;border-radius: 0.25em;box-sizing: border-box;margin-bottom: 0.5em;}#sk-container-id-6 div.sk-estimator:hover {background-color: #d4ebff;}#sk-container-id-6 div.sk-parallel-item::after {content: \"\";width: 100%;border-bottom: 1px solid gray;flex-grow: 1;}#sk-container-id-6 div.sk-label:hover label.sk-toggleable__label {background-color: #d4ebff;}#sk-container-id-6 div.sk-serial::before {content: \"\";position: absolute;border-left: 1px solid gray;box-sizing: border-box;top: 0;bottom: 0;left: 50%;z-index: 0;}#sk-container-id-6 div.sk-serial {display: flex;flex-direction: column;align-items: center;background-color: white;padding-right: 0.2em;padding-left: 0.2em;position: relative;}#sk-container-id-6 div.sk-item {position: relative;z-index: 1;}#sk-container-id-6 div.sk-parallel {display: flex;align-items: stretch;justify-content: center;background-color: white;position: relative;}#sk-container-id-6 div.sk-item::before, #sk-container-id-6 div.sk-parallel-item::before {content: \"\";position: absolute;border-left: 1px solid gray;box-sizing: border-box;top: 0;bottom: 0;left: 50%;z-index: -1;}#sk-container-id-6 div.sk-parallel-item {display: flex;flex-direction: column;z-index: 1;position: relative;background-color: white;}#sk-container-id-6 div.sk-parallel-item:first-child::after {align-self: flex-end;width: 50%;}#sk-container-id-6 div.sk-parallel-item:last-child::after {align-self: flex-start;width: 50%;}#sk-container-id-6 div.sk-parallel-item:only-child::after {width: 0;}#sk-container-id-6 div.sk-dashed-wrapped {border: 1px dashed gray;margin: 0 0.4em 0.5em 0.4em;box-sizing: border-box;padding-bottom: 0.4em;background-color: white;}#sk-container-id-6 div.sk-label label {font-family: monospace;font-weight: bold;display: inline-block;line-height: 1.2em;}#sk-container-id-6 div.sk-label-container {text-align: center;}#sk-container-id-6 div.sk-container {/* jupyter's `normalize.less` sets `[hidden] { display: none; }` but bootstrap.min.css set `[hidden] { display: none !important; }` so we also need the `!important` here to be able to override the default hidden behavior on the sphinx rendered scikit-learn.org. See: https://github.com/scikit-learn/scikit-learn/issues/21755 */display: inline-block !important;position: relative;}#sk-container-id-6 div.sk-text-repr-fallback {display: none;}</style><div id=\"sk-container-id-6\" class=\"sk-top-container\"><div class=\"sk-text-repr-fallback\"><pre>KNeighborsClassifier(n_neighbors=1)</pre><b>In a Jupyter environment, please rerun this cell to show the HTML representation or trust the notebook. <br />On GitHub, the HTML representation is unable to render, please try loading this page with nbviewer.org.</b></div><div class=\"sk-container\" hidden><div class=\"sk-item\"><div class=\"sk-estimator sk-toggleable\"><input class=\"sk-toggleable__control sk-hidden--visually\" id=\"sk-estimator-id-6\" type=\"checkbox\" checked><label for=\"sk-estimator-id-6\" class=\"sk-toggleable__label sk-toggleable__label-arrow\">KNeighborsClassifier</label><div class=\"sk-toggleable__content\"><pre>KNeighborsClassifier(n_neighbors=1)</pre></div></div></div></div></div>"
      ],
      "text/plain": [
       "KNeighborsClassifier(n_neighbors=1)"
      ]
     },
     "execution_count": 29,
     "metadata": {},
     "output_type": "execute_result"
    }
   ],
   "source": [
    "# 모델 학습\n",
    "# 모델이 학습 할 때 사용되는 함수 : fit()\n",
    "# knn_model.fit(학습용 문제, 학습용 답)\n",
    "knn_model.fit(X_train, y_train)"
   ]
  },
  {
   "cell_type": "code",
   "execution_count": 30,
   "id": "8777256c-5167-4b4f-a74f-475c4d46d6f4",
   "metadata": {},
   "outputs": [
    {
     "data": {
      "text/plain": [
       "array([1, 0], dtype=int64)"
      ]
     },
     "execution_count": 30,
     "metadata": {},
     "output_type": "execute_result"
    }
   ],
   "source": [
    "# 모델 예측\n",
    "# 예측이 실제 정답과 항상 같지는 않다. 예측에 오류가 있을 수 있다.\n",
    "# knn_model.predict(테스트용 문제)\n",
    "pre = knn_model.predict(X_test)\n",
    "pre # 예측 결과를 담은 변수"
   ]
  },
  {
   "cell_type": "code",
   "execution_count": 33,
   "id": "e1c6d363-e43c-4c8c-b0e7-ed003edf06c4",
   "metadata": {},
   "outputs": [
    {
     "data": {
      "text/plain": [
       "1.0"
      ]
     },
     "execution_count": 33,
     "metadata": {},
     "output_type": "execute_result"
    }
   ],
   "source": [
    "# 모델 평가 - 예측 정확도에 대한 점수를 나타내는 척도\n",
    "# accuracy_score(테스트용 답데이터, 예측결과값)\n",
    "# 0~1로 출력, 1에 가까울수록 정확도가 높다.\n",
    "# 1.0 * 100 = 100% -> 정답률 100% 의미\n",
    "\n",
    "accuracy_score(y_test, pre)"
   ]
  },
  {
   "cell_type": "code",
   "execution_count": null,
   "id": "4c7c1299-5d16-4ccc-9347-bd78cd7eddd5",
   "metadata": {},
   "outputs": [],
   "source": []
  },
  {
   "cell_type": "code",
   "execution_count": null,
   "id": "1bd531cf-57e1-42e5-b262-c3d8be570c7d",
   "metadata": {},
   "outputs": [],
   "source": []
  },
  {
   "cell_type": "code",
   "execution_count": null,
   "id": "3ffc1e5f-a457-455c-b106-8dd4134c0c32",
   "metadata": {},
   "outputs": [],
   "source": []
  },
  {
   "cell_type": "code",
   "execution_count": null,
   "id": "2894a704-87d2-491b-b087-279b8c422ddc",
   "metadata": {},
   "outputs": [],
   "source": []
  },
  {
   "cell_type": "code",
   "execution_count": null,
   "id": "3c77a4b8-6859-4745-be2c-5e41d3162f84",
   "metadata": {},
   "outputs": [],
   "source": []
  },
  {
   "cell_type": "code",
   "execution_count": null,
   "id": "41594d5a-62a4-41f6-96ba-79c5c19dd702",
   "metadata": {},
   "outputs": [],
   "source": []
  },
  {
   "cell_type": "code",
   "execution_count": null,
   "id": "ecc023b0-55c2-441b-876b-9108f0f1b839",
   "metadata": {},
   "outputs": [],
   "source": []
  },
  {
   "cell_type": "code",
   "execution_count": null,
   "id": "0b75411b-3909-4b1c-b8d5-17df12098a37",
   "metadata": {},
   "outputs": [],
   "source": []
  },
  {
   "cell_type": "code",
   "execution_count": null,
   "id": "79971aba-8ee7-465c-922a-6e3a702d3d09",
   "metadata": {},
   "outputs": [],
   "source": []
  },
  {
   "cell_type": "code",
   "execution_count": null,
   "id": "05ed3ce6-863c-444f-8076-88878eb5e377",
   "metadata": {},
   "outputs": [],
   "source": []
  },
  {
   "cell_type": "code",
   "execution_count": null,
   "id": "2f6b6bb3-fc82-4ad2-9127-5fcf82b7275a",
   "metadata": {},
   "outputs": [],
   "source": []
  },
  {
   "cell_type": "code",
   "execution_count": null,
   "id": "373fd8ed-7a47-47ee-a5ab-48d1186b22f1",
   "metadata": {},
   "outputs": [],
   "source": []
  },
  {
   "cell_type": "code",
   "execution_count": null,
   "id": "b3a2ebeb-08be-450b-bc25-c44013bf6122",
   "metadata": {},
   "outputs": [],
   "source": []
  },
  {
   "cell_type": "code",
   "execution_count": null,
   "id": "5915a7bc-d197-4d82-808d-70ed00885c1e",
   "metadata": {},
   "outputs": [],
   "source": []
  },
  {
   "cell_type": "code",
   "execution_count": null,
   "id": "2dc75a5e-d58b-4f4c-b4ef-93a7be4cbd31",
   "metadata": {},
   "outputs": [],
   "source": []
  },
  {
   "cell_type": "code",
   "execution_count": null,
   "id": "29d7f76e-ba73-4217-becd-ec1126362052",
   "metadata": {},
   "outputs": [],
   "source": []
  },
  {
   "cell_type": "code",
   "execution_count": null,
   "id": "281f0a62-d728-481f-b459-a747786647ce",
   "metadata": {},
   "outputs": [],
   "source": []
  }
 ],
 "metadata": {
  "kernelspec": {
   "display_name": "Python 3 (ipykernel)",
   "language": "python",
   "name": "python3"
  },
  "language_info": {
   "codemirror_mode": {
    "name": "ipython",
    "version": 3
   },
   "file_extension": ".py",
   "mimetype": "text/x-python",
   "name": "python",
   "nbconvert_exporter": "python",
   "pygments_lexer": "ipython3",
   "version": "3.10.9"
  }
 },
 "nbformat": 4,
 "nbformat_minor": 5
}
