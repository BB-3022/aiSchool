{
 "cells": [
  {
   "cell_type": "markdown",
   "id": "6d736ebd-081e-4b29-9aa4-c2abb8cd3c46",
   "metadata": {},
   "source": [
    "### 목표\n",
    "1.문제정의\n",
    "   - 500명의 키와 몸무게, 비만도 라벨을 이용하여 비만을 판단하는 모델을 만들어 본다.\n",
    "   - 머신러닝 과정을 이해한다."
   ]
  },
  {
   "cell_type": "code",
   "execution_count": 1,
   "id": "d859c78b-1833-469a-9bb5-6e4b2816111e",
   "metadata": {},
   "outputs": [],
   "source": [
    "#판다스\n",
    "import pandas as pd\n",
    "#넘파이\n",
    "import numpy as np\n",
    "#시각화\n",
    "import matplotlib.pyplot as plt\n"
   ]
  },
  {
   "cell_type": "markdown",
   "id": "7c0e7e41-cdce-4d90-a1c2-c325b056502f",
   "metadata": {},
   "source": [
    "2.데이터 준비(수집)"
   ]
  },
  {
   "cell_type": "code",
   "execution_count": null,
   "id": "6d374e7d-f0f3-4336-abe5-16e314b5c605",
   "metadata": {},
   "outputs": [],
   "source": [
    "# pd.read_csv('파일 경로 설정')\n",
    "# data 변수에 담아주기"
   ]
  },
  {
   "cell_type": "code",
   "execution_count": 2,
   "id": "57cb74a6-b54d-4935-889f-c325d1885ba8",
   "metadata": {},
   "outputs": [
    {
     "data": {
      "text/html": [
       "<div>\n",
       "<style scoped>\n",
       "    .dataframe tbody tr th:only-of-type {\n",
       "        vertical-align: middle;\n",
       "    }\n",
       "\n",
       "    .dataframe tbody tr th {\n",
       "        vertical-align: top;\n",
       "    }\n",
       "\n",
       "    .dataframe thead th {\n",
       "        text-align: right;\n",
       "    }\n",
       "</style>\n",
       "<table border=\"1\" class=\"dataframe\">\n",
       "  <thead>\n",
       "    <tr style=\"text-align: right;\">\n",
       "      <th></th>\n",
       "      <th>Gender</th>\n",
       "      <th>Height</th>\n",
       "      <th>Weight</th>\n",
       "    </tr>\n",
       "    <tr>\n",
       "      <th>Label</th>\n",
       "      <th></th>\n",
       "      <th></th>\n",
       "      <th></th>\n",
       "    </tr>\n",
       "  </thead>\n",
       "  <tbody>\n",
       "    <tr>\n",
       "      <th>Obesity</th>\n",
       "      <td>Male</td>\n",
       "      <td>174</td>\n",
       "      <td>96</td>\n",
       "    </tr>\n",
       "    <tr>\n",
       "      <th>Normal</th>\n",
       "      <td>Male</td>\n",
       "      <td>189</td>\n",
       "      <td>87</td>\n",
       "    </tr>\n",
       "    <tr>\n",
       "      <th>Obesity</th>\n",
       "      <td>Female</td>\n",
       "      <td>185</td>\n",
       "      <td>110</td>\n",
       "    </tr>\n",
       "    <tr>\n",
       "      <th>Overweight</th>\n",
       "      <td>Female</td>\n",
       "      <td>195</td>\n",
       "      <td>104</td>\n",
       "    </tr>\n",
       "    <tr>\n",
       "      <th>Overweight</th>\n",
       "      <td>Male</td>\n",
       "      <td>149</td>\n",
       "      <td>61</td>\n",
       "    </tr>\n",
       "    <tr>\n",
       "      <th>...</th>\n",
       "      <td>...</td>\n",
       "      <td>...</td>\n",
       "      <td>...</td>\n",
       "    </tr>\n",
       "    <tr>\n",
       "      <th>Extreme Obesity</th>\n",
       "      <td>Female</td>\n",
       "      <td>150</td>\n",
       "      <td>153</td>\n",
       "    </tr>\n",
       "    <tr>\n",
       "      <th>Obesity</th>\n",
       "      <td>Female</td>\n",
       "      <td>184</td>\n",
       "      <td>121</td>\n",
       "    </tr>\n",
       "    <tr>\n",
       "      <th>Extreme Obesity</th>\n",
       "      <td>Female</td>\n",
       "      <td>141</td>\n",
       "      <td>136</td>\n",
       "    </tr>\n",
       "    <tr>\n",
       "      <th>Extreme Obesity</th>\n",
       "      <td>Male</td>\n",
       "      <td>150</td>\n",
       "      <td>95</td>\n",
       "    </tr>\n",
       "    <tr>\n",
       "      <th>Extreme Obesity</th>\n",
       "      <td>Male</td>\n",
       "      <td>173</td>\n",
       "      <td>131</td>\n",
       "    </tr>\n",
       "  </tbody>\n",
       "</table>\n",
       "<p>500 rows × 3 columns</p>\n",
       "</div>"
      ],
      "text/plain": [
       "                 Gender  Height  Weight\n",
       "Label                                  \n",
       "Obesity            Male     174      96\n",
       "Normal             Male     189      87\n",
       "Obesity          Female     185     110\n",
       "Overweight       Female     195     104\n",
       "Overweight         Male     149      61\n",
       "...                 ...     ...     ...\n",
       "Extreme Obesity  Female     150     153\n",
       "Obesity          Female     184     121\n",
       "Extreme Obesity  Female     141     136\n",
       "Extreme Obesity    Male     150      95\n",
       "Extreme Obesity    Male     173     131\n",
       "\n",
       "[500 rows x 3 columns]"
      ]
     },
     "execution_count": 2,
     "metadata": {},
     "output_type": "execute_result"
    }
   ],
   "source": [
    "# ./ : 현재파일이 들어있는 폴더 위치\n",
    "# Label 을 인덱스로 가져온다.\n",
    "# Label(답데이터)\n",
    "\n",
    "data = pd.read_csv('./data/bmi_500.csv', index_col='Label')\n",
    "data\n"
   ]
  },
  {
   "cell_type": "code",
   "execution_count": 3,
   "id": "63ff5f07-9d9f-485d-99b5-196111229bc6",
   "metadata": {},
   "outputs": [
    {
     "name": "stdout",
     "output_type": "stream",
     "text": [
      "<class 'pandas.core.frame.DataFrame'>\n",
      "Index: 500 entries, Obesity to Extreme Obesity\n",
      "Data columns (total 3 columns):\n",
      " #   Column  Non-Null Count  Dtype \n",
      "---  ------  --------------  ----- \n",
      " 0   Gender  500 non-null    object\n",
      " 1   Height  500 non-null    int64 \n",
      " 2   Weight  500 non-null    int64 \n",
      "dtypes: int64(2), object(1)\n",
      "memory usage: 15.6+ KB\n"
     ]
    }
   ],
   "source": [
    "# 데이터 정보 확인해보기\n",
    "# 전체 행, 컬럼 정보, 결측치 여부 확인\n",
    "\n",
    "data.info()\n",
    "\n",
    "# shape : (500,3)\n",
    "# 성별컬럼, 키, 몸무게 결측치 없음!\n",
    "# 데이터 확인 필수! -> 머신러닝 모델은 문자를 이해할 수 없다.\n",
    "# height, Weight, Lable 값만 활용"
   ]
  },
  {
   "cell_type": "markdown",
   "id": "21c2f50f-cdb1-4ae9-917b-8640d220fa4b",
   "metadata": {
    "jp-MarkdownHeadingCollapsed": true
   },
   "source": [
    "### 3.데이터 전처리 : pass"
   ]
  },
  {
   "cell_type": "markdown",
   "id": "efcf76ac-ad60-46da-9da2-57cc71260805",
   "metadata": {},
   "source": [
    "### 4. 데이터 분석(탐색)\n",
    "  - 기술통계 확인 : 평균, 최소, 중앙(오름차준으로 정렬했을 때 정중앙에 있는 값), 최대값\n",
    "  - 시각화를 통해 데이터의 분포 확인해보기"
   ]
  },
  {
   "cell_type": "code",
   "execution_count": 4,
   "id": "b1b4218b-e6c1-4a99-bca7-9197f9e13cd8",
   "metadata": {},
   "outputs": [
    {
     "data": {
      "text/html": [
       "<div>\n",
       "<style scoped>\n",
       "    .dataframe tbody tr th:only-of-type {\n",
       "        vertical-align: middle;\n",
       "    }\n",
       "\n",
       "    .dataframe tbody tr th {\n",
       "        vertical-align: top;\n",
       "    }\n",
       "\n",
       "    .dataframe thead th {\n",
       "        text-align: right;\n",
       "    }\n",
       "</style>\n",
       "<table border=\"1\" class=\"dataframe\">\n",
       "  <thead>\n",
       "    <tr style=\"text-align: right;\">\n",
       "      <th></th>\n",
       "      <th>Height</th>\n",
       "      <th>Weight</th>\n",
       "    </tr>\n",
       "  </thead>\n",
       "  <tbody>\n",
       "    <tr>\n",
       "      <th>count</th>\n",
       "      <td>500.000000</td>\n",
       "      <td>500.000000</td>\n",
       "    </tr>\n",
       "    <tr>\n",
       "      <th>mean</th>\n",
       "      <td>169.944000</td>\n",
       "      <td>106.000000</td>\n",
       "    </tr>\n",
       "    <tr>\n",
       "      <th>std</th>\n",
       "      <td>16.375261</td>\n",
       "      <td>32.382607</td>\n",
       "    </tr>\n",
       "    <tr>\n",
       "      <th>min</th>\n",
       "      <td>140.000000</td>\n",
       "      <td>50.000000</td>\n",
       "    </tr>\n",
       "    <tr>\n",
       "      <th>25%</th>\n",
       "      <td>156.000000</td>\n",
       "      <td>80.000000</td>\n",
       "    </tr>\n",
       "    <tr>\n",
       "      <th>50%</th>\n",
       "      <td>170.500000</td>\n",
       "      <td>106.000000</td>\n",
       "    </tr>\n",
       "    <tr>\n",
       "      <th>75%</th>\n",
       "      <td>184.000000</td>\n",
       "      <td>136.000000</td>\n",
       "    </tr>\n",
       "    <tr>\n",
       "      <th>max</th>\n",
       "      <td>199.000000</td>\n",
       "      <td>160.000000</td>\n",
       "    </tr>\n",
       "  </tbody>\n",
       "</table>\n",
       "</div>"
      ],
      "text/plain": [
       "           Height      Weight\n",
       "count  500.000000  500.000000\n",
       "mean   169.944000  106.000000\n",
       "std     16.375261   32.382607\n",
       "min    140.000000   50.000000\n",
       "25%    156.000000   80.000000\n",
       "50%    170.500000  106.000000\n",
       "75%    184.000000  136.000000\n",
       "max    199.000000  160.000000"
      ]
     },
     "execution_count": 4,
     "metadata": {},
     "output_type": "execute_result"
    }
   ],
   "source": [
    "# describe()\n",
    "# int, float 컬럼들에 대해서 먼저 작용\n",
    "# Gender 컬럼이 없어 졌다.\n",
    "data.describe()"
   ]
  },
  {
   "cell_type": "code",
   "execution_count": 5,
   "id": "17987e71-b4e9-49f5-83af-1ca99470a8b9",
   "metadata": {},
   "outputs": [
    {
     "data": {
      "text/plain": [
       "Index(['Obesity', 'Normal', 'Overweight', 'Extreme Obesity', 'Weak',\n",
       "       'Extremely Weak'],\n",
       "      dtype='object', name='Label')"
      ]
     },
     "execution_count": 5,
     "metadata": {},
     "output_type": "execute_result"
    }
   ],
   "source": [
    "# 중복없이 Label 확인\n",
    "data.index.unique()"
   ]
  },
  {
   "cell_type": "code",
   "execution_count": 6,
   "id": "2a6a484c-d662-41c0-ab01-b5a22081ad8a",
   "metadata": {},
   "outputs": [
    {
     "data": {
      "text/plain": [
       "Extreme Obesity    198\n",
       "Obesity            130\n",
       "Normal              69\n",
       "Overweight          68\n",
       "Weak                22\n",
       "Extremely Weak      13\n",
       "Name: Label, dtype: int64"
      ]
     },
     "execution_count": 6,
     "metadata": {},
     "output_type": "execute_result"
    }
   ],
   "source": [
    "data.index.value_counts()"
   ]
  },
  {
   "cell_type": "code",
   "execution_count": 7,
   "id": "2f8df4fd-d0ea-4177-8c79-f7b1b25f1680",
   "metadata": {},
   "outputs": [
    {
     "data": {
      "image/png": "[encoded data removed]",
      "text/plain": [
       "<Figure size 640x480 with 1 Axes>"
      ]
     },
     "metadata": {},
     "output_type": "display_data"
    }
   ],
   "source": [
    "# 시각화 해보기\n",
    "# x축 키, y측 몸무게를 기준으로 산접도 그려보기\n",
    "# Extreme Obesity\n",
    "\n",
    "#data[data.index=='Extreme Obesity']\n",
    "#data.loc['Extreme Obesity'].shape # (198, 3)\n",
    "d1=data.loc['Extreme Obesity']\n",
    "plt.scatter(d1['Height'], d1['Weight'], c='blue', label='ext obes') #d1.loc[:,'Height']\n",
    "\n",
    "# Obesity 행만 접근해보기\n",
    "# 산점도 표현해보기\n",
    "d2=data.loc['Obesity']\n",
    "plt.scatter(d2['Height'], d2['Weight'], c='yellow', label='obes')\n",
    "\n",
    "d3=data.loc['Overweight']\n",
    "plt.scatter(d3['Height'], d3['Weight'], c='green', label='ext over')\n",
    "\n",
    "d4=data.loc['Normal']\n",
    "plt.scatter(d4['Height'], d4['Weight'], c='red', label='normal')\n",
    "\n",
    "\n",
    "plt.legend() #범례표시\n",
    "plt.show()"
   ]
  },
  {
   "cell_type": "code",
   "execution_count": 8,
   "id": "1b84ae29-945a-43b4-9049-11ac4cbe1111",
   "metadata": {},
   "outputs": [],
   "source": [
    "# 그래프를 그리는 함수 정의\n",
    "def bmi_draw(label, color):\n",
    "    d=data.loc[label]\n",
    "    plt.scatter(d['Height'], d['Weight'], c=color, label=label)\n"
   ]
  },
  {
   "cell_type": "code",
   "execution_count": 9,
   "id": "f1924f72-ef73-4877-8ce7-494ca9cb64c5",
   "metadata": {},
   "outputs": [
    {
     "data": {
      "text/plain": [
       "Index(['Obesity', 'Normal', 'Overweight', 'Extreme Obesity', 'Weak',\n",
       "       'Extremely Weak'],\n",
       "      dtype='object', name='Label')"
      ]
     },
     "execution_count": 9,
     "metadata": {},
     "output_type": "execute_result"
    }
   ],
   "source": [
    "# label 확인\n",
    "data.index.unique()"
   ]
  },
  {
   "cell_type": "code",
   "execution_count": 10,
   "id": "712cc94e-a890-48b1-912d-fe0d1f082a79",
   "metadata": {},
   "outputs": [
    {
     "data": {
      "image/png": "[encoded data removed]",
      "text/plain": [
       "<Figure size 640x480 with 1 Axes>"
      ]
     },
     "metadata": {},
     "output_type": "display_data"
    }
   ],
   "source": [
    "# 함수 호출 및 실행\n",
    "\n",
    "bmi_draw('Extreme Obesity','blue')\n",
    "bmi_draw('Obesity','pink')\n",
    "bmi_draw('Overweight','red')\n",
    "bmi_draw('Normal','green')\n",
    "bmi_draw('Weak','orange')\n",
    "bmi_draw('Extremely Weak','yellow')\n",
    "\n",
    "plt.legend()\n",
    "plt.show()"
   ]
  },
  {
   "cell_type": "markdown",
   "id": "df8d9626-3985-4cfe-9189-ef75191da5a7",
   "metadata": {},
   "source": [
    "### 5. 모델링\n",
    "  - 모델 선택 및 하이퍼 파라미터 조정(knn모델 선택)\n",
    "  - 모델 학습\n",
    "  - 모델 예측 및 평가"
   ]
  },
  {
   "cell_type": "code",
   "execution_count": 11,
   "id": "a26606ec-de37-43d8-b584-16ed7f2f840f",
   "metadata": {},
   "outputs": [
    {
     "name": "stdout",
     "output_type": "stream",
     "text": [
      "문제크기 : (500, 2)\n",
      "답크기 : (500,)\n"
     ]
    }
   ],
   "source": [
    "# 문제, 답(컬럼분리)\n",
    "# 인덱스에 있는 label(답데이터)을 컬럼쪽으로 이동하기\n",
    "# 컬럼명 확인 df.columns\n",
    "#data.reset_index().columns\n",
    "\n",
    "data2 = data.reset_index()\n",
    "X=data2.loc[:,'Height':'Weight']\n",
    "y=data2['Label'] # y=data2.loc[:,'Label']\n",
    "\n",
    "print('문제크기 :', X.shape)\n",
    "print('답크기 :', y.shape)"
   ]
  },
  {
   "cell_type": "code",
   "execution_count": 12,
   "id": "e6fba974-a4dd-45d1-ac76-e8515dfb4a74",
   "metadata": {},
   "outputs": [],
   "source": [
    "# 500개의 Data\n",
    "# train, test 데이터로 분리하는 비율\n",
    "# 7:3 (7.2:2.5), 8:2\n",
    "# X_train, y_train, X_test, y_test\n",
    "\n",
    "X_train = X.iloc[:350]\n",
    "y_train = y.iloc[:350]\n",
    "X_test = X.iloc[350:]\n",
    "y_test = y.iloc[350:]"
   ]
  },
  {
   "cell_type": "code",
   "execution_count": 16,
   "id": "99f93398-49f4-42b1-806d-52733274d14b",
   "metadata": {},
   "outputs": [
    {
     "name": "stdout",
     "output_type": "stream",
     "text": [
      "훈련용 데이터 :  (350, 2) (350,)\n",
      "테스트용 데이터 :  (150, 2) (150,)\n"
     ]
    }
   ],
   "source": [
    "print('훈련용 데이터 : ',X_train.shape,y_train.shape)\n",
    "print('테스트용 데이터 : ',X_test.shape,y_test.shape)"
   ]
  },
  {
   "cell_type": "code",
   "execution_count": null,
   "id": "dca82a67-6345-44d1-bfc7-f9524133093b",
   "metadata": {},
   "outputs": [],
   "source": []
  },
  {
   "cell_type": "code",
   "execution_count": 15,
   "id": "906b5c5b-5bed-4534-81da-384bd6e571d3",
   "metadata": {},
   "outputs": [],
   "source": [
    "# 판다스에서\n",
    "# loc, iloc 인덱서를 사용해야 가능\n",
    "# df.loc[행,열]\n",
    "# df.iloc[행,열]\n",
    "\n",
    "# 행 데이터 접근 \n",
    "# df.loc[행] , df.loc[값:값] ==> df.loc[행:행]\n",
    "# df.iloc[행], df.iloc[값:값] ==> df.iloc[행:행]\n",
    "\n",
    "# 열 데이터 접근\n",
    "# df.loc[:,열] ,  df.loc[:, 열:열]\n",
    "# df.iloc[:,열인덱스] ,  df.loc[:, 열인덱스:열인덱스]\n",
    "\n",
    "# 행,열 접근\n",
    "# df.loc[시작행:끝행, 시작열:끝열]   \n",
    "# df.iloc[시작행인덱스:끝행인덱스, 시작열인덱스:끝열인덱스]   "
   ]
  },
  {
   "cell_type": "code",
   "execution_count": null,
   "id": "59434d0a-8ee3-46f6-b9c4-bbff84020ce3",
   "metadata": {},
   "outputs": [],
   "source": [
    "# 데이터 클래스(카테고리)의 개수는? 6\n",
    "from sklearn.neighbors import KNeighborsClassifier\n",
    "# 여섯개중에 한개를 판단하는 것 -> 다중분류\n",
    "from sklearn.metrics import accuracy_score # 정확도 지표"
   ]
  },
  {
   "cell_type": "code",
   "execution_count": 22,
   "id": "10efc98a-c3de-4804-8560-4e1873768a9e",
   "metadata": {},
   "outputs": [],
   "source": [
    "# knn_model 이라는 변수로 모델 객체 생성\n",
    "# 사람이 설정하는 매개변수 -> 하이퍼 파라미터\n",
    "# 이웃의 수 n_neighbors : 5개"
   ]
  },
  {
   "cell_type": "code",
   "execution_count": 23,
   "id": "2ff58516-75f7-4eab-ba09-bfd4b13f0904",
   "metadata": {},
   "outputs": [],
   "source": [
    "knn_model = KNeighborsClassifier(n_neighbors=5)"
   ]
  },
  {
   "cell_type": "code",
   "execution_count": 24,
   "id": "77496c55-ce9e-42c8-9fbc-fc68858bcda6",
   "metadata": {},
   "outputs": [
    {
     "data": {
      "text/html": [
       "<style>#sk-container-id-2 {color: black;background-color: white;}#sk-container-id-2 pre{padding: 0;}#sk-container-id-2 div.sk-toggleable {background-color: white;}#sk-container-id-2 label.sk-toggleable__label {cursor: pointer;display: block;width: 100%;margin-bottom: 0;padding: 0.3em;box-sizing: border-box;text-align: center;}#sk-container-id-2 label.sk-toggleable__label-arrow:before {content: \"▸\";float: left;margin-right: 0.25em;color: #696969;}#sk-container-id-2 label.sk-toggleable__label-arrow:hover:before {color: black;}#sk-container-id-2 div.sk-estimator:hover label.sk-toggleable__label-arrow:before {color: black;}#sk-container-id-2 div.sk-toggleable__content {max-height: 0;max-width: 0;overflow: hidden;text-align: left;background-color: #f0f8ff;}#sk-container-id-2 div.sk-toggleable__content pre {margin: 0.2em;color: black;border-radius: 0.25em;background-color: #f0f8ff;}#sk-container-id-2 input.sk-toggleable__control:checked~div.sk-toggleable__content {max-height: 200px;max-width: 100%;overflow: auto;}#sk-container-id-2 input.sk-toggleable__control:checked~label.sk-toggleable__label-arrow:before {content: \"▾\";}#sk-container-id-2 div.sk-estimator input.sk-toggleable__control:checked~label.sk-toggleable__label {background-color: #d4ebff;}#sk-container-id-2 div.sk-label input.sk-toggleable__control:checked~label.sk-toggleable__label {background-color: #d4ebff;}#sk-container-id-2 input.sk-hidden--visually {border: 0;clip: rect(1px 1px 1px 1px);clip: rect(1px, 1px, 1px, 1px);height: 1px;margin: -1px;overflow: hidden;padding: 0;position: absolute;width: 1px;}#sk-container-id-2 div.sk-estimator {font-family: monospace;background-color: #f0f8ff;border: 1px dotted black;border-radius: 0.25em;box-sizing: border-box;margin-bottom: 0.5em;}#sk-container-id-2 div.sk-estimator:hover {background-color: #d4ebff;}#sk-container-id-2 div.sk-parallel-item::after {content: \"\";width: 100%;border-bottom: 1px solid gray;flex-grow: 1;}#sk-container-id-2 div.sk-label:hover label.sk-toggleable__label {background-color: #d4ebff;}#sk-container-id-2 div.sk-serial::before {content: \"\";position: absolute;border-left: 1px solid gray;box-sizing: border-box;top: 0;bottom: 0;left: 50%;z-index: 0;}#sk-container-id-2 div.sk-serial {display: flex;flex-direction: column;align-items: center;background-color: white;padding-right: 0.2em;padding-left: 0.2em;position: relative;}#sk-container-id-2 div.sk-item {position: relative;z-index: 1;}#sk-container-id-2 div.sk-parallel {display: flex;align-items: stretch;justify-content: center;background-color: white;position: relative;}#sk-container-id-2 div.sk-item::before, #sk-container-id-2 div.sk-parallel-item::before {content: \"\";position: absolute;border-left: 1px solid gray;box-sizing: border-box;top: 0;bottom: 0;left: 50%;z-index: -1;}#sk-container-id-2 div.sk-parallel-item {display: flex;flex-direction: column;z-index: 1;position: relative;background-color: white;}#sk-container-id-2 div.sk-parallel-item:first-child::after {align-self: flex-end;width: 50%;}#sk-container-id-2 div.sk-parallel-item:last-child::after {align-self: flex-start;width: 50%;}#sk-container-id-2 div.sk-parallel-item:only-child::after {width: 0;}#sk-container-id-2 div.sk-dashed-wrapped {border: 1px dashed gray;margin: 0 0.4em 0.5em 0.4em;box-sizing: border-box;padding-bottom: 0.4em;background-color: white;}#sk-container-id-2 div.sk-label label {font-family: monospace;font-weight: bold;display: inline-block;line-height: 1.2em;}#sk-container-id-2 div.sk-label-container {text-align: center;}#sk-container-id-2 div.sk-container {/* jupyter's `normalize.less` sets `[hidden] { display: none; }` but bootstrap.min.css set `[hidden] { display: none !important; }` so we also need the `!important` here to be able to override the default hidden behavior on the sphinx rendered scikit-learn.org. See: https://github.com/scikit-learn/scikit-learn/issues/21755 */display: inline-block !important;position: relative;}#sk-container-id-2 div.sk-text-repr-fallback {display: none;}</style><div id=\"sk-container-id-2\" class=\"sk-top-container\"><div class=\"sk-text-repr-fallback\"><pre>KNeighborsClassifier()</pre><b>In a Jupyter environment, please rerun this cell to show the HTML representation or trust the notebook. <br />On GitHub, the HTML representation is unable to render, please try loading this page with nbviewer.org.</b></div><div class=\"sk-container\" hidden><div class=\"sk-item\"><div class=\"sk-estimator sk-toggleable\"><input class=\"sk-toggleable__control sk-hidden--visually\" id=\"sk-estimator-id-2\" type=\"checkbox\" checked><label for=\"sk-estimator-id-2\" class=\"sk-toggleable__label sk-toggleable__label-arrow\">KNeighborsClassifier</label><div class=\"sk-toggleable__content\"><pre>KNeighborsClassifier()</pre></div></div></div></div></div>"
      ],
      "text/plain": [
       "KNeighborsClassifier()"
      ]
     },
     "execution_count": 24,
     "metadata": {},
     "output_type": "execute_result"
    }
   ],
   "source": [
    "# 모델학습\n",
    "# fit(훈련문제, 훈련답)\n",
    "knn_model.fit(X_train, y_train)"
   ]
  },
  {
   "cell_type": "code",
   "execution_count": 27,
   "id": "49ea14c2-bbd9-4c2b-8af7-6da94ab29028",
   "metadata": {},
   "outputs": [
    {
     "data": {
      "text/plain": [
       "array(['Overweight', 'Normal', 'Normal', 'Extreme Obesity',\n",
       "       'Extremely Weak', 'Obesity', 'Obesity', 'Extreme Obesity', 'Weak',\n",
       "       'Extreme Obesity', 'Weak', 'Extreme Obesity', 'Extreme Obesity',\n",
       "       'Obesity', 'Extreme Obesity', 'Obesity', 'Overweight', 'Obesity',\n",
       "       'Extreme Obesity', 'Obesity', 'Overweight', 'Extreme Obesity',\n",
       "       'Weak', 'Normal', 'Obesity', 'Extreme Obesity', 'Extreme Obesity',\n",
       "       'Extreme Obesity', 'Obesity', 'Overweight', 'Extreme Obesity',\n",
       "       'Weak', 'Obesity', 'Extreme Obesity', 'Extreme Obesity', 'Weak',\n",
       "       'Extreme Obesity', 'Obesity', 'Overweight', 'Normal', 'Normal',\n",
       "       'Normal', 'Normal', 'Overweight', 'Extreme Obesity', 'Overweight',\n",
       "       'Overweight', 'Extreme Obesity', 'Overweight', 'Extreme Obesity',\n",
       "       'Overweight', 'Obesity', 'Normal', 'Obesity', 'Obesity',\n",
       "       'Extreme Obesity', 'Normal', 'Extreme Obesity', 'Extreme Obesity',\n",
       "       'Extreme Obesity', 'Weak', 'Obesity', 'Extreme Obesity',\n",
       "       'Extreme Obesity', 'Extreme Obesity', 'Obesity', 'Extreme Obesity',\n",
       "       'Normal', 'Extreme Obesity', 'Normal', 'Weak', 'Extreme Obesity',\n",
       "       'Extreme Obesity', 'Obesity', 'Weak', 'Weak', 'Extreme Obesity',\n",
       "       'Obesity', 'Obesity', 'Obesity', 'Overweight', 'Extreme Obesity',\n",
       "       'Extreme Obesity', 'Obesity', 'Normal', 'Extreme Obesity',\n",
       "       'Extreme Obesity', 'Extreme Obesity', 'Weak', 'Extreme Obesity',\n",
       "       'Obesity', 'Normal', 'Extreme Obesity', 'Extreme Obesity',\n",
       "       'Obesity', 'Extreme Obesity', 'Obesity', 'Obesity',\n",
       "       'Extreme Obesity', 'Extreme Obesity', 'Extreme Obesity', 'Obesity',\n",
       "       'Extreme Obesity', 'Extremely Weak', 'Normal', 'Normal', 'Obesity',\n",
       "       'Overweight', 'Obesity', 'Extreme Obesity', 'Obesity',\n",
       "       'Extreme Obesity', 'Weak', 'Extreme Obesity', 'Overweight',\n",
       "       'Extreme Obesity', 'Overweight', 'Extreme Obesity',\n",
       "       'Extreme Obesity', 'Overweight', 'Extreme Obesity',\n",
       "       'Extreme Obesity', 'Normal', 'Obesity', 'Overweight', 'Obesity',\n",
       "       'Extreme Obesity', 'Normal', 'Normal', 'Extreme Obesity',\n",
       "       'Extreme Obesity', 'Obesity', 'Extreme Obesity', 'Extreme Obesity',\n",
       "       'Obesity', 'Obesity', 'Extreme Obesity', 'Normal', 'Obesity',\n",
       "       'Extreme Obesity', 'Normal', 'Extreme Obesity', 'Extremely Weak',\n",
       "       'Normal', 'Extreme Obesity', 'Extreme Obesity', 'Obesity',\n",
       "       'Extreme Obesity', 'Extreme Obesity', 'Extreme Obesity'],\n",
       "      dtype=object)"
      ]
     },
     "execution_count": 27,
     "metadata": {},
     "output_type": "execute_result"
    }
   ],
   "source": [
    "# 예측 predict(테스트문제)\n",
    "pre = knn_model.predict(X_test)\n",
    "pre"
   ]
  },
  {
   "cell_type": "code",
   "execution_count": 28,
   "id": "70c2a7b9-2aa6-477b-a97f-f6226ac968a0",
   "metadata": {},
   "outputs": [
    {
     "data": {
      "text/plain": [
       "0.9066666666666666"
      ]
     },
     "execution_count": 28,
     "metadata": {},
     "output_type": "execute_result"
    }
   ],
   "source": [
    "# 평가(테스트 답, 예측 값)\n",
    "# 정확도 지표\n",
    "accuracy_score(y_test, pre)"
   ]
  },
  {
   "cell_type": "code",
   "execution_count": null,
   "id": "0bf597a6-7d05-44b9-b737-ac068fac039c",
   "metadata": {},
   "outputs": [],
   "source": []
  }
 ],
 "metadata": {
  "kernelspec": {
   "display_name": "Python 3 (ipykernel)",
   "language": "python",
   "name": "python3"
  },
  "language_info": {
   "codemirror_mode": {
    "name": "ipython",
    "version": 3
   },
   "file_extension": ".py",
   "mimetype": "text/x-python",
   "name": "python",
   "nbconvert_exporter": "python",
   "pygments_lexer": "ipython3",
   "version": "3.10.9"
  }
 },
 "nbformat": 4,
 "nbformat_minor": 5
}
