{
 "cells": [
  {
   "cell_type": "markdown",
   "id": "e48a2142-b09b-4249-859e-a646f273ccaa",
   "metadata": {},
   "source": [
    "# 1. 전처리된 파일 불러오기"
   ]
  },
  {
   "cell_type": "code",
   "execution_count": 1,
   "id": "a57965df-c27a-43ad-be7b-3aa6bbcf0f6b",
   "metadata": {},
   "outputs": [],
   "source": [
    "import pandas as pd"
   ]
  },
  {
   "cell_type": "code",
   "execution_count": 2,
   "id": "1fe0805f-3b1a-4e37-b6f3-89229c2667f9",
   "metadata": {},
   "outputs": [],
   "source": [
    "X_train = pd.read_csv('X_train.csv')\n",
    "y_train = pd.read_csv('y_train.csv')\n",
    "X_test = pd.read_csv('X_test.csv')"
   ]
  },
  {
   "cell_type": "code",
   "execution_count": 6,
   "id": "b35fc321-31ee-4546-af11-e3c669d5d63b",
   "metadata": {},
   "outputs": [
    {
     "data": {
      "text/plain": [
       "((891, 22), (891, 1), (418, 22))"
      ]
     },
     "execution_count": 6,
     "metadata": {},
     "output_type": "execute_result"
    }
   ],
   "source": [
    "X_train.shape, y_train.shape, X_test.shape"
   ]
  },
  {
   "cell_type": "markdown",
   "id": "70fd1aac-b922-4e75-99ac-ebe6f3f86216",
   "metadata": {},
   "source": [
    "### 2. 앙상블 모델 사용하기\n",
    "- 머신러닝에서 성능이 좋은 모델\n",
    "- 여러개의 DecisionTree 를 사용하는 모델"
   ]
  },
  {
   "cell_type": "markdown",
   "id": "ba08d6c4-d7a7-4587-a291-4ac9ad48989d",
   "metadata": {},
   "source": [
    "### 2.1 RandomForest 모델 사용"
   ]
  },
  {
   "cell_type": "code",
   "execution_count": 7,
   "id": "f99dfb0c-f28f-40cb-9aff-a0fe985697b1",
   "metadata": {},
   "outputs": [],
   "source": [
    "from sklearn.ensemble import RandomForestClassifier"
   ]
  },
  {
   "cell_type": "code",
   "execution_count": 10,
   "id": "1f7175fa-bcee-4d66-9c59-6e2f59f2dcc5",
   "metadata": {},
   "outputs": [],
   "source": [
    "# 모델생성\n",
    "forest_model = RandomForestClassifier()"
   ]
  },
  {
   "cell_type": "markdown",
   "id": "2f77c798-30e7-484e-bcc2-621511fd2277",
   "metadata": {},
   "source": [
    "### 2.2 교차검증"
   ]
  },
  {
   "cell_type": "code",
   "execution_count": 15,
   "id": "310b5a50-6b14-4dc8-bae4-72688942dce0",
   "metadata": {},
   "outputs": [],
   "source": [
    "from sklearn.model_selection import cross_val_score"
   ]
  },
  {
   "cell_type": "code",
   "execution_count": 20,
   "id": "cfeb4906-9836-4e28-a5ec-121f8db8fc1f",
   "metadata": {},
   "outputs": [
    {
     "data": {
      "text/plain": [
       "0.8002259745150964"
      ]
     },
     "execution_count": 20,
     "metadata": {},
     "output_type": "execute_result"
    }
   ],
   "source": [
    "# cv=5 평균 값 확인\n",
    "cv_result = cross_val_score(forest_model, X_train, y_train, cv=5).mean()\n",
    "cv_result"
   ]
  },
  {
   "cell_type": "code",
   "execution_count": 13,
   "id": "ece5730a-cfdd-4a05-97bb-74a2cfe70f73",
   "metadata": {},
   "outputs": [],
   "source": [
    "import warnings\n",
    "warnings.filterwarnings('ignore')"
   ]
  },
  {
   "cell_type": "markdown",
   "id": "4b7adc83-142f-4e90-9342-6efe5e6123a4",
   "metadata": {},
   "source": [
    "### 3. 학습"
   ]
  },
  {
   "cell_type": "code",
   "execution_count": 14,
   "id": "202e1360-e623-4c9d-adc0-19b404271d3b",
   "metadata": {},
   "outputs": [
    {
     "data": {
      "text/html": [
       "<style>#sk-container-id-2 {color: black;background-color: white;}#sk-container-id-2 pre{padding: 0;}#sk-container-id-2 div.sk-toggleable {background-color: white;}#sk-container-id-2 label.sk-toggleable__label {cursor: pointer;display: block;width: 100%;margin-bottom: 0;padding: 0.3em;box-sizing: border-box;text-align: center;}#sk-container-id-2 label.sk-toggleable__label-arrow:before {content: \"▸\";float: left;margin-right: 0.25em;color: #696969;}#sk-container-id-2 label.sk-toggleable__label-arrow:hover:before {color: black;}#sk-container-id-2 div.sk-estimator:hover label.sk-toggleable__label-arrow:before {color: black;}#sk-container-id-2 div.sk-toggleable__content {max-height: 0;max-width: 0;overflow: hidden;text-align: left;background-color: #f0f8ff;}#sk-container-id-2 div.sk-toggleable__content pre {margin: 0.2em;color: black;border-radius: 0.25em;background-color: #f0f8ff;}#sk-container-id-2 input.sk-toggleable__control:checked~div.sk-toggleable__content {max-height: 200px;max-width: 100%;overflow: auto;}#sk-container-id-2 input.sk-toggleable__control:checked~label.sk-toggleable__label-arrow:before {content: \"▾\";}#sk-container-id-2 div.sk-estimator input.sk-toggleable__control:checked~label.sk-toggleable__label {background-color: #d4ebff;}#sk-container-id-2 div.sk-label input.sk-toggleable__control:checked~label.sk-toggleable__label {background-color: #d4ebff;}#sk-container-id-2 input.sk-hidden--visually {border: 0;clip: rect(1px 1px 1px 1px);clip: rect(1px, 1px, 1px, 1px);height: 1px;margin: -1px;overflow: hidden;padding: 0;position: absolute;width: 1px;}#sk-container-id-2 div.sk-estimator {font-family: monospace;background-color: #f0f8ff;border: 1px dotted black;border-radius: 0.25em;box-sizing: border-box;margin-bottom: 0.5em;}#sk-container-id-2 div.sk-estimator:hover {background-color: #d4ebff;}#sk-container-id-2 div.sk-parallel-item::after {content: \"\";width: 100%;border-bottom: 1px solid gray;flex-grow: 1;}#sk-container-id-2 div.sk-label:hover label.sk-toggleable__label {background-color: #d4ebff;}#sk-container-id-2 div.sk-serial::before {content: \"\";position: absolute;border-left: 1px solid gray;box-sizing: border-box;top: 0;bottom: 0;left: 50%;z-index: 0;}#sk-container-id-2 div.sk-serial {display: flex;flex-direction: column;align-items: center;background-color: white;padding-right: 0.2em;padding-left: 0.2em;position: relative;}#sk-container-id-2 div.sk-item {position: relative;z-index: 1;}#sk-container-id-2 div.sk-parallel {display: flex;align-items: stretch;justify-content: center;background-color: white;position: relative;}#sk-container-id-2 div.sk-item::before, #sk-container-id-2 div.sk-parallel-item::before {content: \"\";position: absolute;border-left: 1px solid gray;box-sizing: border-box;top: 0;bottom: 0;left: 50%;z-index: -1;}#sk-container-id-2 div.sk-parallel-item {display: flex;flex-direction: column;z-index: 1;position: relative;background-color: white;}#sk-container-id-2 div.sk-parallel-item:first-child::after {align-self: flex-end;width: 50%;}#sk-container-id-2 div.sk-parallel-item:last-child::after {align-self: flex-start;width: 50%;}#sk-container-id-2 div.sk-parallel-item:only-child::after {width: 0;}#sk-container-id-2 div.sk-dashed-wrapped {border: 1px dashed gray;margin: 0 0.4em 0.5em 0.4em;box-sizing: border-box;padding-bottom: 0.4em;background-color: white;}#sk-container-id-2 div.sk-label label {font-family: monospace;font-weight: bold;display: inline-block;line-height: 1.2em;}#sk-container-id-2 div.sk-label-container {text-align: center;}#sk-container-id-2 div.sk-container {/* jupyter's `normalize.less` sets `[hidden] { display: none; }` but bootstrap.min.css set `[hidden] { display: none !important; }` so we also need the `!important` here to be able to override the default hidden behavior on the sphinx rendered scikit-learn.org. See: https://github.com/scikit-learn/scikit-learn/issues/21755 */display: inline-block !important;position: relative;}#sk-container-id-2 div.sk-text-repr-fallback {display: none;}</style><div id=\"sk-container-id-2\" class=\"sk-top-container\"><div class=\"sk-text-repr-fallback\"><pre>RandomForestClassifier()</pre><b>In a Jupyter environment, please rerun this cell to show the HTML representation or trust the notebook. <br />On GitHub, the HTML representation is unable to render, please try loading this page with nbviewer.org.</b></div><div class=\"sk-container\" hidden><div class=\"sk-item\"><div class=\"sk-estimator sk-toggleable\"><input class=\"sk-toggleable__control sk-hidden--visually\" id=\"sk-estimator-id-2\" type=\"checkbox\" checked><label for=\"sk-estimator-id-2\" class=\"sk-toggleable__label sk-toggleable__label-arrow\">RandomForestClassifier</label><div class=\"sk-toggleable__content\"><pre>RandomForestClassifier()</pre></div></div></div></div></div>"
      ],
      "text/plain": [
       "RandomForestClassifier()"
      ]
     },
     "execution_count": 14,
     "metadata": {},
     "output_type": "execute_result"
    }
   ],
   "source": [
    "forest_model.fit(X_train, y_train)"
   ]
  },
  {
   "cell_type": "markdown",
   "id": "fc6c85b3-dd8b-4542-a97c-9a5a8c7e6c50",
   "metadata": {},
   "source": [
    "### 4. 평가"
   ]
  },
  {
   "cell_type": "code",
   "execution_count": 17,
   "id": "2fc542a3-8dab-4fbc-8c68-d8482c223d08",
   "metadata": {},
   "outputs": [],
   "source": [
    "# 학습한 모델로 예측\n",
    "pred = forest_model.predict(X_test)\n",
    "\n",
    "# 평가 결과 답안지 불러오기\n",
    "sub = pd.read_csv('./data/titanic/gender_submission.csv')\n",
    "\n",
    "# 평가 결과 답안지에 예측한 값 넣기\n",
    "sub['Survived']=pred\n",
    "\n",
    "# 예측한 값 내보내기 ==> kaggle 에 업로드\n",
    "sub.to_csv('bbb_submmision03.csv', index=False)"
   ]
  },
  {
   "cell_type": "code",
   "execution_count": null,
   "id": "4f05c82b-3eea-47a8-a501-2178a86c6358",
   "metadata": {},
   "outputs": [],
   "source": [
    "# 1. 하이퍼 파라미터 튜닝\n",
    "# GridSearchCV\n",
    "# n_estimators = [50,70,90,110,130,150]\n",
    "# max_depth = [3,4,5,6,7,8]\n",
    "# max_features = [0.3,0.4,0.5,0.6,0.7]\n"
   ]
  },
  {
   "cell_type": "code",
   "execution_count": null,
   "id": "173699c5-2039-4abe-a9ca-24ef0fd8d9df",
   "metadata": {},
   "outputs": [],
   "source": [
    "# 2. 학습"
   ]
  },
  {
   "cell_type": "code",
   "execution_count": null,
   "id": "61f57803-3f16-4554-b70d-ac32159788ab",
   "metadata": {},
   "outputs": [],
   "source": [
    "# 3. 최적의 파라미터 조합 찾기"
   ]
  },
  {
   "cell_type": "code",
   "execution_count": null,
   "id": "0837909c-ee81-4001-91d1-2fc181c31efd",
   "metadata": {},
   "outputs": [],
   "source": [
    "# 4. 최적의 파라미터 일 때 best_score"
   ]
  },
  {
   "cell_type": "code",
   "execution_count": null,
   "id": "e401838e-ca9e-48b5-815b-06d07d06b945",
   "metadata": {},
   "outputs": [],
   "source": []
  },
  {
   "cell_type": "code",
   "execution_count": null,
   "id": "e93a24f8-5a91-4f75-befc-2a2f324ce624",
   "metadata": {},
   "outputs": [],
   "source": []
  },
  {
   "cell_type": "code",
   "execution_count": null,
   "id": "c6845f8b-30e0-496e-973f-958e991b7750",
   "metadata": {},
   "outputs": [],
   "source": []
  },
  {
   "cell_type": "code",
   "execution_count": null,
   "id": "fb9b6721-4114-4f62-9c84-d435c0ab9988",
   "metadata": {},
   "outputs": [],
   "source": []
  },
  {
   "cell_type": "code",
   "execution_count": null,
   "id": "6933990f-e87b-43e0-aa0f-535ea9e4d875",
   "metadata": {},
   "outputs": [],
   "source": []
  },
  {
   "cell_type": "code",
   "execution_count": null,
   "id": "32923782-0392-45db-8991-b27c0ea7dbfb",
   "metadata": {},
   "outputs": [],
   "source": []
  },
  {
   "cell_type": "code",
   "execution_count": null,
   "id": "ebc0a541-1007-42aa-85d3-97b34a07723e",
   "metadata": {},
   "outputs": [],
   "source": []
  },
  {
   "cell_type": "code",
   "execution_count": null,
   "id": "6b1e8b35-9ba9-4a38-b423-660aa5c399dc",
   "metadata": {},
   "outputs": [],
   "source": []
  },
  {
   "cell_type": "code",
   "execution_count": null,
   "id": "1b917ba5-065c-4e56-b5e6-37c171ef1bac",
   "metadata": {},
   "outputs": [],
   "source": []
  },
  {
   "cell_type": "code",
   "execution_count": null,
   "id": "d8441f28-af2a-4fa7-ab1b-d9065e609500",
   "metadata": {},
   "outputs": [],
   "source": []
  },
  {
   "cell_type": "code",
   "execution_count": null,
   "id": "94bba558-95db-41b0-9a39-daf4b8ef3735",
   "metadata": {},
   "outputs": [],
   "source": []
  },
  {
   "cell_type": "code",
   "execution_count": null,
   "id": "fdbe81ed-39d5-41ae-8ba0-bb6d783e8627",
   "metadata": {},
   "outputs": [],
   "source": []
  },
  {
   "cell_type": "code",
   "execution_count": null,
   "id": "4152a006-78ba-498f-828b-35afdc679801",
   "metadata": {},
   "outputs": [],
   "source": []
  },
  {
   "cell_type": "code",
   "execution_count": null,
   "id": "3e96fced-5835-4ab2-a0d8-e4e7741f8564",
   "metadata": {},
   "outputs": [],
   "source": []
  },
  {
   "cell_type": "code",
   "execution_count": null,
   "id": "6b368fce-e1a3-4899-8cda-9450d35d7743",
   "metadata": {},
   "outputs": [],
   "source": []
  },
  {
   "cell_type": "code",
   "execution_count": null,
   "id": "b934af11-71ea-4461-b112-ffe12c4c8388",
   "metadata": {},
   "outputs": [],
   "source": []
  },
  {
   "cell_type": "code",
   "execution_count": null,
   "id": "fe3f5eae-de68-4b33-83a3-941213e1b174",
   "metadata": {},
   "outputs": [],
   "source": []
  },
  {
   "cell_type": "code",
   "execution_count": null,
   "id": "e285ecfd-a4c1-4ce0-b1ff-1324b539da63",
   "metadata": {},
   "outputs": [],
   "source": []
  },
  {
   "cell_type": "code",
   "execution_count": null,
   "id": "f8ce335c-722c-4ce3-90e0-fbe5d0ce52bc",
   "metadata": {},
   "outputs": [],
   "source": []
  },
  {
   "cell_type": "code",
   "execution_count": null,
   "id": "f64683a8-d994-4917-bc15-1b48cc824c8f",
   "metadata": {},
   "outputs": [],
   "source": []
  },
  {
   "cell_type": "code",
   "execution_count": null,
   "id": "201ff1a0-b37e-461b-a607-3593b88a89da",
   "metadata": {},
   "outputs": [],
   "source": []
  },
  {
   "cell_type": "code",
   "execution_count": null,
   "id": "832995ef-6761-475d-87bd-750fd21b658d",
   "metadata": {},
   "outputs": [],
   "source": []
  },
  {
   "cell_type": "code",
   "execution_count": null,
   "id": "e5d6f983-0ada-4a39-8639-11f0768daf7c",
   "metadata": {},
   "outputs": [],
   "source": []
  },
  {
   "cell_type": "code",
   "execution_count": null,
   "id": "a1682e33-c20c-4c29-8695-948debbbfe88",
   "metadata": {},
   "outputs": [],
   "source": []
  },
  {
   "cell_type": "code",
   "execution_count": null,
   "id": "fbfe845a-c7f8-40dc-89e0-5499bdb8f33a",
   "metadata": {},
   "outputs": [],
   "source": []
  },
  {
   "cell_type": "code",
   "execution_count": null,
   "id": "9b2f5a89-3ff9-4f92-9e3c-ebb44aca3dc4",
   "metadata": {},
   "outputs": [],
   "source": []
  },
  {
   "cell_type": "code",
   "execution_count": null,
   "id": "4e32b5f9-5689-4679-bae0-17134e71134d",
   "metadata": {},
   "outputs": [],
   "source": []
  },
  {
   "cell_type": "code",
   "execution_count": null,
   "id": "b8b0088a-09c6-4220-9303-2c5589737a42",
   "metadata": {},
   "outputs": [],
   "source": []
  },
  {
   "cell_type": "code",
   "execution_count": null,
   "id": "10d23835-4d33-4858-9cf8-4786313e325d",
   "metadata": {},
   "outputs": [],
   "source": []
  },
  {
   "cell_type": "code",
   "execution_count": null,
   "id": "91bc9557-12ee-4862-bb04-6b98f02f0bbb",
   "metadata": {},
   "outputs": [],
   "source": []
  },
  {
   "cell_type": "code",
   "execution_count": null,
   "id": "8d3868b8-b1c9-4e12-b707-ad7cb8bd1302",
   "metadata": {},
   "outputs": [],
   "source": []
  },
  {
   "cell_type": "code",
   "execution_count": null,
   "id": "ef7a9bd5-267c-4a34-b587-fd4f5eb16d5f",
   "metadata": {},
   "outputs": [],
   "source": []
  }
 ],
 "metadata": {
  "kernelspec": {
   "display_name": "Python 3 (ipykernel)",
   "language": "python",
   "name": "python3"
  },
  "language_info": {
   "codemirror_mode": {
    "name": "ipython",
    "version": 3
   },
   "file_extension": ".py",
   "mimetype": "text/x-python",
   "name": "python",
   "nbconvert_exporter": "python",
   "pygments_lexer": "ipython3",
   "version": "3.10.9"
  }
 },
 "nbformat": 4,
 "nbformat_minor": 5
}
