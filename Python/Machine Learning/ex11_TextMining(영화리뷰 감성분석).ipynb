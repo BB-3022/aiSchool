{
 "cells": [
  {
   "cell_type": "markdown",
   "id": "bef2b6b3-5cbb-49f0-b01a-95247bb0183d",
   "metadata": {},
   "source": [
    "### 1. 문제정의\n",
    "- 영화리뷰데이터를 활용해서 긍정, 부정, 감성분석 진행\n",
    "    - 감성분석이란?\n",
    "    - 특정주제에 대한 글의 감성과 태도를 파악하는 것(긍정/부정)\n",
    "- 텍스트데이터를 다루는 방법에 대해서 이해해보자\n"
   ]
  },
  {
   "cell_type": "code",
   "execution_count": 1,
   "id": "a712db5b-794c-4597-8324-79b04c3de247",
   "metadata": {},
   "outputs": [],
   "source": [
    "# 파일 불러오는 방법\n",
    "from sklearn.datasets import load_files\n",
    "import numpy as np\n",
    "import pandas as pd"
   ]
  },
  {
   "cell_type": "code",
   "execution_count": null,
   "id": "f072e3b8-2106-4fbc-997f-34b958070ba2",
   "metadata": {},
   "outputs": [],
   "source": [
    "# 파일 불러오기\n",
    "data_url=pd.read_cvs('data/')"
   ]
  },
  {
   "cell_type": "code",
   "execution_count": null,
   "id": "617da881-4699-4de5-b9e4-ecf2505424c3",
   "metadata": {},
   "outputs": [],
   "source": []
  },
  {
   "cell_type": "code",
   "execution_count": null,
   "id": "50684fcf-d0e0-4796-ad39-3ddf34bd1853",
   "metadata": {},
   "outputs": [],
   "source": []
  },
  {
   "cell_type": "code",
   "execution_count": null,
   "id": "2b6be617-234a-4ca8-b56c-bf4bf2522f12",
   "metadata": {},
   "outputs": [],
   "source": []
  },
  {
   "cell_type": "code",
   "execution_count": null,
   "id": "48adff16-5d0b-4eb5-a568-1fd24fdf4c1e",
   "metadata": {},
   "outputs": [],
   "source": []
  },
  {
   "cell_type": "code",
   "execution_count": null,
   "id": "c8f06d23-16b8-451a-b27d-70b832adfb98",
   "metadata": {},
   "outputs": [],
   "source": []
  },
  {
   "cell_type": "code",
   "execution_count": null,
   "id": "c701ab45-6310-44ef-b48f-cd93ada836e7",
   "metadata": {},
   "outputs": [],
   "source": []
  },
  {
   "cell_type": "code",
   "execution_count": null,
   "id": "8e3ac810-42cb-4463-b7f8-2567c0b2661e",
   "metadata": {},
   "outputs": [],
   "source": []
  },
  {
   "cell_type": "code",
   "execution_count": null,
   "id": "d3a4342f-8f0b-48c3-b311-979982b1ba77",
   "metadata": {},
   "outputs": [],
   "source": []
  },
  {
   "cell_type": "code",
   "execution_count": null,
   "id": "35bc2e9b-4af5-41cd-a8de-8223a576330c",
   "metadata": {},
   "outputs": [],
   "source": []
  },
  {
   "cell_type": "code",
   "execution_count": null,
   "id": "a84c7dca-6d1f-4495-9103-1f01d60b85f3",
   "metadata": {},
   "outputs": [],
   "source": []
  },
  {
   "cell_type": "code",
   "execution_count": null,
   "id": "e8598913-0c62-4d7f-8b47-780b3361d2f0",
   "metadata": {},
   "outputs": [],
   "source": []
  },
  {
   "cell_type": "code",
   "execution_count": null,
   "id": "d2545471-7fba-45a3-b6b2-77f9a9489285",
   "metadata": {},
   "outputs": [],
   "source": []
  },
  {
   "cell_type": "code",
   "execution_count": null,
   "id": "5ef38f0c-faed-46f1-ada9-d624ef56b283",
   "metadata": {},
   "outputs": [],
   "source": []
  },
  {
   "cell_type": "code",
   "execution_count": null,
   "id": "7afa4f28-9332-429a-836c-e7ebc4f5b8f9",
   "metadata": {},
   "outputs": [],
   "source": []
  },
  {
   "cell_type": "code",
   "execution_count": null,
   "id": "274ff038-5b5c-49e8-907d-a8844f51cbe9",
   "metadata": {},
   "outputs": [],
   "source": []
  },
  {
   "cell_type": "code",
   "execution_count": null,
   "id": "a9685b07-b370-40ae-8727-3e5f9521be93",
   "metadata": {},
   "outputs": [],
   "source": []
  }
 ],
 "metadata": {
  "kernelspec": {
   "display_name": "Python 3 (ipykernel)",
   "language": "python",
   "name": "python3"
  },
  "language_info": {
   "codemirror_mode": {
    "name": "ipython",
    "version": 3
   },
   "file_extension": ".py",
   "mimetype": "text/x-python",
   "name": "python",
   "nbconvert_exporter": "python",
   "pygments_lexer": "ipython3",
   "version": "3.10.9"
  }
 },
 "nbformat": 4,
 "nbformat_minor": 5
}
