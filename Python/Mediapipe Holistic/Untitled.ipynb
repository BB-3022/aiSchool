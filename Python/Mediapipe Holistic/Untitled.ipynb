{
 "cells": [
  {
   "cell_type": "code",
   "execution_count": 4,
   "id": "d089b3c8",
   "metadata": {},
   "outputs": [
    {
     "ename": "SyntaxError",
     "evalue": "invalid syntax (102411454.py, line 1)",
     "output_type": "error",
     "traceback": [
      "\u001b[1;36m  Cell \u001b[1;32mIn[4], line 1\u001b[1;36m\u001b[0m\n\u001b[1;33m    import * as Kalidokit from 'kalidokit'\u001b[0m\n\u001b[1;37m           ^\u001b[0m\n\u001b[1;31mSyntaxError\u001b[0m\u001b[1;31m:\u001b[0m invalid syntax\n"
     ]
    }
   ],
   "source": [
    "import * as Kalidokit from 'kalidokit'\n",
    "import '@mediapipe/holistic/holistic';\n",
    "import '@mediapipe/camera_utils/camera_utils';\n",
    "\n",
    "let holistic = new Holistic({locateFile: (file) => {\n",
    "    return `https://cdn.jsdelivr.net/npm/@mediapipe/holistic@0.4.1633559476/${file}`;\n",
    "}});\n",
    "\n",
    "holistic.onResults(results=>{\n",
    "    // do something with prediction results\n",
    "    // landmark names may change depending on TFJS/Mediapipe model version\n",
    "    let facelm = results.faceLandmarks;\n",
    "    let poselm = results.poseLandmarks;\n",
    "    let poselm3D = results.ea;\n",
    "    let rightHandlm = results.rightHandLandmarks;\n",
    "    let leftHandlm = results.leftHandLandmarks;\n",
    "\n",
    "    let faceRig = Kalidokit.Face.solve(facelm,{runtime:'mediapipe',video:HTMLVideoElement})\n",
    "    let poseRig = Kalidokit.Pose.solve(poselm3d,poselm,{runtime:'mediapipe',video:HTMLVideoElement})\n",
    "    let rightHandRig = Kalidokit.Hand.solve(rightHandlm,\"Right\")\n",
    "    let leftHandRig = Kalidokit.Hand.solve(leftHandlm,\"Left\")\n",
    "\n",
    "    };\n",
    "});\n",
    "\n",
    "// use Mediapipe's webcam utils to send video to holistic every frame\n",
    "const camera = new Camera(HTMLVideoElement, {\n",
    "  onFrame: async () => {\n",
    "    await holistic.send({image: HTMLVideoElement});\n",
    "  },\n",
    "  width: 640,\n",
    "  height: 480\n",
    "});\n",
    "camera.start();"
   ]
  },
  {
   "cell_type": "code",
   "execution_count": null,
   "id": "241fb511",
   "metadata": {},
   "outputs": [],
   "source": []
  }
 ],
 "metadata": {
  "kernelspec": {
   "display_name": "Python 3 (ipykernel)",
   "language": "python",
   "name": "python3"
  },
  "language_info": {
   "codemirror_mode": {
    "name": "ipython",
    "version": 3
   },
   "file_extension": ".py",
   "mimetype": "text/x-python",
   "name": "python",
   "nbconvert_exporter": "python",
   "pygments_lexer": "ipython3",
   "version": "3.10.9"
  }
 },
 "nbformat": 4,
 "nbformat_minor": 5
}
