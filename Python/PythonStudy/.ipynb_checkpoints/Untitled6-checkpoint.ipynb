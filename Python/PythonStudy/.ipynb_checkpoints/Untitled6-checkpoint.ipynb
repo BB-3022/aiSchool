{
 "cells": [
  {
   "cell_type": "code",
   "execution_count": 1,
   "id": "27f27f82-bff0-4def-8c29-625821b41298",
   "metadata": {},
   "outputs": [
    {
     "name": "stdout",
     "output_type": "stream",
     "text": [
      "Collecting pyproj\n",
      "  Downloading pyproj-3.6.0-cp310-cp310-win_amd64.whl (5.7 MB)\n",
      "     ---------------------------------------- 5.7/5.7 MB 45.9 MB/s eta 0:00:00\n",
      "Requirement already satisfied: certifi in c:\\users\\gjaischool1\\anaconda3\\lib\\site-packages (from pyproj) (2023.5.7)\n",
      "Installing collected packages: pyproj\n",
      "Successfully installed pyproj-3.6.0\n",
      "Note: you may need to restart the kernel to use updated packages.\n"
     ]
    }
   ],
   "source": [
    "pip install pyproj"
   ]
  },
  {
   "cell_type": "code",
   "execution_count": null,
   "id": "4e3aca07-4f56-4627-89a1-617eee712942",
   "metadata": {},
   "outputs": [],
   "source": []
  },
  {
   "cell_type": "code",
   "execution_count": 5,
   "id": "5a32111a-a85b-43bb-a94f-6c747294b63d",
   "metadata": {},
   "outputs": [
    {
     "ename": "SyntaxError",
     "evalue": "(unicode error) 'unicodeescape' codec can't decode bytes in position 2-3: truncated \\UXXXXXXXX escape (928318967.py, line 15)",
     "output_type": "error",
     "traceback": [
      "\u001b[1;36m  Cell \u001b[1;32mIn[5], line 15\u001b[1;36m\u001b[0m\n\u001b[1;33m    excel_file = 'C:\\Users\\gjaischool1\\Desktop/mart.xlsx'\u001b[0m\n\u001b[1;37m                                                         ^\u001b[0m\n\u001b[1;31mSyntaxError\u001b[0m\u001b[1;31m:\u001b[0m (unicode error) 'unicodeescape' codec can't decode bytes in position 2-3: truncated \\UXXXXXXXX escape\n"
     ]
    }
   ],
   "source": [
    "import pandas as pd\n",
    "import pyproj\n",
    "\n",
    "# UTM 좌표를 위도와 경도로 변환하는 함수\n",
    "def utm_to_latlon(utm_x, utm_y, zone_number, northern_hemisphere=True):\n",
    "    if northern_hemisphere:\n",
    "        proj_wgs84 = pyproj.Proj(proj='utm', zone=zone_number, ellps='WGS84', north=True)\n",
    "    else:\n",
    "        proj_wgs84 = pyproj.Proj(proj='utm', zone=zone_number, ellps='WGS84', north=False)\n",
    "    \n",
    "    lon, lat = pyproj.transform(proj_wgs84, pyproj.Proj(init='epsg:4326'), utm_x, utm_y)\n",
    "    return lat, lon\n",
    "\n",
    "# 엑셀 파일 로드\n",
    "excel_file = r'C:\\Users\\gjaischool1\\Desktop\\mart.xlsx'\n",
    "data = pd.read_excel(excel_file)\n",
    "\n",
    "# UTM 좌표를 위도와 경도로 변환하여 열 추가\n",
    "data['Latitude'] = None\n",
    "data['Longitude'] = None\n",
    "zone_number = 52  # 예시로 52번 존을 사용\n",
    "\n",
    "for index, row in data.iterrows():\n",
    "    utm_x = row['좌표정보(X)']\n",
    "    utm_y = row['좌표정보(Y)']\n",
    "    lat, lon = utm_to_latlon(utm_x, utm_y, zone_number)\n",
    "    data.at[index, 'Latitude'] = lat\n",
    "    data.at[index, 'Longitude'] = lon\n",
    "\n",
    "# 변환된 데이터를 엑셀 파일로 저장\n",
    "output_file = r'C:\\Users\\gjaischool1\\Desktop\\mart_output.xlsx'\n",
    "data.to_excel(output_file, index=False)\n"
   ]
  },
  {
   "cell_type": "code",
   "execution_count": null,
   "id": "42ffaa09-7dea-48a7-83f4-5a6d11ac4b20",
   "metadata": {},
   "outputs": [],
   "source": []
  },
  {
   "cell_type": "code",
   "execution_count": null,
   "id": "95fc4e59-3aca-4ce0-a0cf-2c438c9718f7",
   "metadata": {},
   "outputs": [],
   "source": []
  }
 ],
 "metadata": {
  "kernelspec": {
   "display_name": "Python 3 (ipykernel)",
   "language": "python",
   "name": "python3"
  },
  "language_info": {
   "codemirror_mode": {
    "name": "ipython",
    "version": 3
   },
   "file_extension": ".py",
   "mimetype": "text/x-python",
   "name": "python",
   "nbconvert_exporter": "python",
   "pygments_lexer": "ipython3",
   "version": "3.10.9"
  }
 },
 "nbformat": 4,
 "nbformat_minor": 5
}
