{
 "cells": [
  {
   "cell_type": "code",
   "execution_count": 3,
   "id": "59029b96-8126-4767-9f1c-96c4aae92a72",
   "metadata": {},
   "outputs": [
    {
     "name": "stdout",
     "output_type": "stream",
     "text": [
      "{'판매처명': 'SSG.COM', '상품명': '[기획] 유명산지 초록사과 2kg (봉)', '원가': '20,000원', '할인가격': '10,000', '할인율': '50%', '링크': 'https://www.ssg.com/item/itemView.ssg?itemId=2097001689042&siteNo=7009&salestrNo=2449', '구분': '과일'}\n"
     ]
    }
   ],
   "source": [
    "from selenium import webdriver\n",
    "from selenium.webdriver.common.keys import Keys\n",
    "from selenium.webdriver.common.by import By\n",
    "from bs4 import BeautifulSoup\n",
    "from selenium.webdriver.support.ui import WebDriverWait\n",
    "from selenium.webdriver.support import expected_conditions as EC\n",
    "\n",
    "import time\n",
    "\n",
    "driver = webdriver.Chrome()\n",
    "url = 'https://www.ssg.com/disp/category.ssg?dispCtgId=6000092893&sort=dcrt'\n",
    "driver.get(url)\n",
    "\n",
    "product_info_list = []\n",
    "\n",
    "for i in range (1,2) :\n",
    "    driver.get(url)\n",
    "    product = f'//*[@id=\"ty_thmb_view\"]/ul/li[{i}]/div[1]/div[2]/a'\n",
    "    driver.find_element(By.XPATH, product).click()\n",
    "    wait = WebDriverWait(driver, 1)\n",
    "    wait.until(EC.presence_of_element_located((By.CSS_SELECTOR, '.cdtl_info_tit_txt')))\n",
    " \n",
    "    product_info = {}\n",
    "    \n",
    "    try:    \n",
    "        product_info['판매처명'] = driver.find_element(By.CSS_SELECTOR, '.lo_menu.clickable').text.strip()\n",
    "        product_info['상품명'] = driver.find_element(By.CSS_SELECTOR, '.cdtl_info_tit_txt').text.strip()\n",
    "        product_info['원가'] = driver.find_element(By.CSS_SELECTOR, '.cdtl_optprice .cdtl_old_price .ssg_price').text.strip()\n",
    "        product_info['할인가격'] = driver.find_element(By.CSS_SELECTOR, '.cdtl_optprice .cdtl_new_price .ssg_price').text.strip()\n",
    "        product_info['할인율'] = driver.find_element(By.CSS_SELECTOR, '.ssg_percent').text.strip()\n",
    "        product_info['링크'] = driver.current_url\n",
    "        product_info['구분'] = driver.find_element(By.CSS_SELECTOR, '.lo_menu.lo_arr.clickable').text.strip()\n",
    "        product_info['이미지링크'] = \n",
    "    except:\n",
    "        pass\n",
    "    product_info_list.append(product_info)\n",
    "\n",
    "    time.sleep(1)\n",
    "    \n",
    "#driver.quit()\n",
    "\n",
    "for product_info in product_info_list:\n",
    "    print(product_info)"
   ]
  }
 ],
 "metadata": {
  "kernelspec": {
   "display_name": "Python 3 (ipykernel)",
   "language": "python",
   "name": "python3"
  },
  "language_info": {
   "codemirror_mode": {
    "name": "ipython",
    "version": 3
   },
   "file_extension": ".py",
   "mimetype": "text/x-python",
   "name": "python",
   "nbconvert_exporter": "python",
   "pygments_lexer": "ipython3",
   "version": "3.10.9"
  }
 },
 "nbformat": 4,
 "nbformat_minor": 5
}
