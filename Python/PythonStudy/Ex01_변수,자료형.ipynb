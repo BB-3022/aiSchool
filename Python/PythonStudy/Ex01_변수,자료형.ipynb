{
 "cells": [
  {
   "cell_type": "markdown",
   "id": "d08da6f7",
   "metadata": {},
   "source": [
    "문자열 자료형"
   ]
  },
  {
   "cell_type": "code",
   "execution_count": 16,
   "id": "49d8c1d6",
   "metadata": {},
   "outputs": [
    {
     "name": "stdout",
     "output_type": "stream",
     "text": [
      "dh'shes gone'\n"
     ]
    }
   ],
   "source": [
    "s1 =\"dh'shes gone'\"\n",
    "print(s1)"
   ]
  },
  {
   "cell_type": "code",
   "execution_count": 22,
   "id": "3f174e59",
   "metadata": {},
   "outputs": [
    {
     "name": "stdout",
     "output_type": "stream",
     "text": [
      "자세히 보아야 예쁘다. \n",
      "오래 보아야 사랑스럽다\n",
      "너두너두\n",
      "자세히 보아야 예쁘다. \n",
      "오래 보아야 사랑스럽다\n",
      "너두너두\n"
     ]
    }
   ],
   "source": [
    "#여러 줄인 문자열을 변수에 대입\n",
    "s3=\"자세히 보아야 예쁘다. \\n오래 보아야 사랑스럽다\\n너두너두\"\n",
    "print(s3)\n",
    "s2=\"\"\"자세히 보아야 예쁘다. \n",
    "오래 보아야 사랑스럽다\n",
    "너두너두\"\"\"\n",
    "print(s2)"
   ]
  },
  {
   "cell_type": "code",
   "execution_count": 24,
   "id": "1853530f",
   "metadata": {},
   "outputs": [],
   "source": [
    "s=\"my name is bb\""
   ]
  },
  {
   "cell_type": "code",
   "execution_count": 25,
   "id": "424ab466",
   "metadata": {},
   "outputs": [
    {
     "name": "stdout",
     "output_type": "stream",
     "text": [
      "n\n",
      "b\n"
     ]
    }
   ],
   "source": [
    "#인덱싱\n",
    "print(s[3])\n",
    "print(s[-1])"
   ]
  },
  {
   "cell_type": "code",
   "execution_count": 26,
   "id": "267af0d8",
   "metadata": {},
   "outputs": [
    {
     "name": "stdout",
     "output_type": "stream",
     "text": [
      "me\n"
     ]
    }
   ],
   "source": [
    "#슬라이싱\n",
    "print(s[5:7])"
   ]
  },
  {
   "cell_type": "code",
   "execution_count": 32,
   "id": "04462685",
   "metadata": {},
   "outputs": [],
   "source": [
    "#문자열 안에 특정 값을 바꿔야 할 경우\n",
    "month = 7\n",
    "day =3\n",
    "# 문자열과 숫자형 데이터는 더하기 연산이 불가\n",
    "#s='오늘은 '+month+'월 '+day+'일 입니다'\n",
    "#pairnt(s)"
   ]
  },
  {
   "cell_type": "code",
   "execution_count": null,
   "id": "c8e4e4a9",
   "metadata": {},
   "outputs": [],
   "source": [
    "####문자열 포맷 코드"
   ]
  },
  {
   "cell_type": "code",
   "execution_count": 34,
   "id": "6e8d738a",
   "metadata": {},
   "outputs": [
    {
     "name": "stdout",
     "output_type": "stream",
     "text": [
      "오늘은 7월 3일 입니다\n"
     ]
    }
   ],
   "source": [
    "s='오늘은 %d월 %d일 입니다'%(month,day)\n",
    "print(s)"
   ]
  },
  {
   "cell_type": "code",
   "execution_count": 35,
   "id": "35d650e1",
   "metadata": {},
   "outputs": [
    {
     "name": "stdout",
     "output_type": "stream",
     "text": [
      "오늘은 7월 3일 입니다\n"
     ]
    }
   ],
   "source": [
    "# f문자열을 이용한 포매팅\n",
    "s=f\"오늘은 {month}월 {day}일 입니다\"\n",
    "print(s)"
   ]
  },
  {
   "cell_type": "code",
   "execution_count": 36,
   "id": "f4ee24e7",
   "metadata": {},
   "outputs": [
    {
     "name": "stdout",
     "output_type": "stream",
     "text": [
      "오늘은 7월 3일 입니다.\n"
     ]
    }
   ],
   "source": [
    "s=\"오늘은 {}월 {}일 입니다.\".format(month,day)\n",
    "print(s)"
   ]
  },
  {
   "cell_type": "code",
   "execution_count": 39,
   "id": "f72f7e2b",
   "metadata": {},
   "outputs": [
    {
     "name": "stdout",
     "output_type": "stream",
     "text": [
      "100와 200의 합은 300입니다\n"
     ]
    }
   ],
   "source": [
    "x=100\n",
    "y=200\n",
    "sum2=x+y\n",
    "s=\"{}와 {}의 합은 {}입니다\".format(x,y,sum2)\n",
    "print(s)"
   ]
  },
  {
   "cell_type": "code",
   "execution_count": 41,
   "id": "19d7b959",
   "metadata": {},
   "outputs": [],
   "source": [
    "s= \"My name is BB\""
   ]
  },
  {
   "cell_type": "code",
   "execution_count": 42,
   "id": "e6abf256",
   "metadata": {},
   "outputs": [
    {
     "data": {
      "text/plain": [
       "'M,y, ,n,a,m,e, ,i,s, ,B,B'"
      ]
     },
     "execution_count": 42,
     "metadata": {},
     "output_type": "execute_result"
    }
   ],
   "source": [
    "\",\".join(s)"
   ]
  },
  {
   "cell_type": "code",
   "execution_count": 46,
   "id": "0dc0e344",
   "metadata": {},
   "outputs": [
    {
     "data": {
      "text/plain": [
       "['My', 'name', 'is', 'BB']"
      ]
     },
     "execution_count": 46,
     "metadata": {},
     "output_type": "execute_result"
    }
   ],
   "source": [
    "s.split(\" \")"
   ]
  },
  {
   "cell_type": "code",
   "execution_count": null,
   "id": "25bb5d84",
   "metadata": {},
   "outputs": [],
   "source": [
    "# 위치 알려주기\n",
    "\n",
    "# 문자열.find(데이터)\n",
    "# 제일 먼저 나오는 위치를 찾아줌\n",
    "# 찾는 문자가 존재하지 않을 경우 -1 반환\n",
    "print(t.find('l'))\n",
    "\n",
    "# 문자열.index(데이터)\n",
    "print(t.index('e'))\n",
    "\n",
    "# 찾는 데이터 값이 없을 때\n",
    "# --> index : 오류 발생\n",
    "# --> find : -1 반환"
   ]
  },
  {
   "cell_type": "code",
   "execution_count": null,
   "id": "ec4b699f",
   "metadata": {},
   "outputs": [],
   "source": [
    "# 문자 개수 세기\n",
    "# 문자열.count(데이터)\n",
    "t = 'hello hi python world'\n",
    "print(t.count('l'))"
   ]
  },
  {
   "cell_type": "code",
   "execution_count": null,
   "id": "f3185411",
   "metadata": {},
   "outputs": [],
   "source": [
    "\\n 개행(줄바꿈)"
   ]
  }
 ],
 "metadata": {
  "kernelspec": {
   "display_name": "Python 3 (ipykernel)",
   "language": "python",
   "name": "python3"
  },
  "language_info": {
   "codemirror_mode": {
    "name": "ipython",
    "version": 3
   },
   "file_extension": ".py",
   "mimetype": "text/x-python",
   "name": "python",
   "nbconvert_exporter": "python",
   "pygments_lexer": "ipython3",
   "version": "3.10.9"
  }
 },
 "nbformat": 4,
 "nbformat_minor": 5
}
