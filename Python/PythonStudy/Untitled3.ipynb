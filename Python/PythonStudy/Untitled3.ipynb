{
 "cells": [
  {
   "cell_type": "code",
   "execution_count": 1,
   "id": "a01261ef-1cd5-41b2-ba90-4d2007c46bfa",
   "metadata": {},
   "outputs": [],
   "source": [
    "from selenium import webdriver\n",
    "from selenium.webdriver.common.keys import Keys\n",
    "from selenium.webdriver.common.by import By\n",
    "from bs4 import BeautifulSoup\n",
    "from selenium.webdriver.support.ui import WebDriverWait\n",
    "from selenium.webdriver.support import expected_conditions as EC\n",
    "\n",
    "import time"
   ]
  },
  {
   "cell_type": "code",
   "execution_count": null,
   "id": "7e37f854-7607-4eca-9618-3d68bc90f8b1",
   "metadata": {},
   "outputs": [],
   "source": [
    "driver = webdriver.Chrome()\n",
    "url = 'https://front.homeplus.co.kr/list?categoryId=100001&categoryDepth=1'\n",
    "driver.get(url)\n",
    "\n",
    "x_path = '//*[@id=\"s-category-app\"]/div[1]/div/div[1]/div/div[1]/ul/li[5]/label/span'\n",
    "menubar = driver.find_element(By.XPATH, x_path)\n",
    "driver.execute_script(\"arguments[0].scrollIntoView();\", menubar)\n",
    "menubar.click()"
   ]
  },
  {
   "cell_type": "code",
   "execution_count": null,
   "id": "36b00918-2424-406d-a910-e7835d10912d",
   "metadata": {},
   "outputs": [],
   "source": []
  },
  {
   "cell_type": "code",
   "execution_count": null,
   "id": "c0e0f7dd-b8e0-4725-abee-d50a9672c301",
   "metadata": {},
   "outputs": [],
   "source": []
  },
  {
   "cell_type": "code",
   "execution_count": null,
   "id": "0e78692e-113b-4d48-93b5-9fe60e67a6d4",
   "metadata": {},
   "outputs": [],
   "source": []
  },
  {
   "cell_type": "code",
   "execution_count": null,
   "id": "79ee7a2b-54de-40ad-95c1-094ef95fb6be",
   "metadata": {},
   "outputs": [],
   "source": []
  },
  {
   "cell_type": "code",
   "execution_count": null,
   "id": "101bb5f9-091c-4686-ab7a-01122018554b",
   "metadata": {},
   "outputs": [],
   "source": []
  }
 ],
 "metadata": {
  "kernelspec": {
   "display_name": "Python 3 (ipykernel)",
   "language": "python",
   "name": "python3"
  },
  "language_info": {
   "codemirror_mode": {
    "name": "ipython",
    "version": 3
   },
   "file_extension": ".py",
   "mimetype": "text/x-python",
   "name": "python",
   "nbconvert_exporter": "python",
   "pygments_lexer": "ipython3",
   "version": "3.10.9"
  }
 },
 "nbformat": 4,
 "nbformat_minor": 5
}
