{
 "cells": [
  {
   "cell_type": "code",
   "execution_count": 1,
   "id": "27f27f82-bff0-4def-8c29-625821b41298",
   "metadata": {},
   "outputs": [
    {
     "name": "stdout",
     "output_type": "stream",
     "text": [
      "Collecting pyproj\n",
      "  Downloading pyproj-3.6.0-cp310-cp310-win_amd64.whl (5.7 MB)\n",
      "     ---------------------------------------- 5.7/5.7 MB 45.9 MB/s eta 0:00:00\n",
      "Requirement already satisfied: certifi in c:\\users\\gjaischool1\\anaconda3\\lib\\site-packages (from pyproj) (2023.5.7)\n",
      "Installing collected packages: pyproj\n",
      "Successfully installed pyproj-3.6.0\n",
      "Note: you may need to restart the kernel to use updated packages.\n"
     ]
    }
   ],
   "source": [
    "pip install pyproj"
   ]
  },
  {
   "cell_type": "code",
   "execution_count": null,
   "id": "4e3aca07-4f56-4627-89a1-617eee712942",
   "metadata": {},
   "outputs": [],
   "source": []
  },
  {
   "cell_type": "code",
   "execution_count": 7,
   "id": "5a32111a-a85b-43bb-a94f-6c747294b63d",
   "metadata": {},
   "outputs": [
    {
     "name": "stderr",
     "output_type": "stream",
     "text": [
      "C:\\Users\\gjaischool1\\anaconda3\\lib\\site-packages\\pyproj\\crs\\crs.py:141: FutureWarning: '+init=<authority>:<code>' syntax is deprecated. '<authority>:<code>' is the preferred initialization method. When making the change, be mindful of axis order changes: https://pyproj4.github.io/pyproj/stable/gotchas.html#axis-order-changes-in-proj-6\n",
      "  in_crs_string = _prepare_from_proj_string(in_crs_string)\n",
      "C:\\Users\\gjaischool1\\AppData\\Local\\Temp\\ipykernel_17584\\1966536770.py:11: FutureWarning: This function is deprecated. See: https://pyproj4.github.io/pyproj/stable/gotchas.html#upgrading-to-pyproj-2-from-pyproj-1\n",
      "  lon, lat = pyproj.transform(proj_wgs84, pyproj.Proj(init='epsg:4326'), utm_x, utm_y)\n",
      "C:\\Users\\gjaischool1\\anaconda3\\lib\\site-packages\\pyproj\\crs\\crs.py:141: FutureWarning: '+init=<authority>:<code>' syntax is deprecated. '<authority>:<code>' is the preferred initialization method. When making the change, be mindful of axis order changes: https://pyproj4.github.io/pyproj/stable/gotchas.html#axis-order-changes-in-proj-6\n",
      "  in_crs_string = _prepare_from_proj_string(in_crs_string)\n",
      "C:\\Users\\gjaischool1\\AppData\\Local\\Temp\\ipykernel_17584\\1966536770.py:11: FutureWarning: This function is deprecated. See: https://pyproj4.github.io/pyproj/stable/gotchas.html#upgrading-to-pyproj-2-from-pyproj-1\n",
      "  lon, lat = pyproj.transform(proj_wgs84, pyproj.Proj(init='epsg:4326'), utm_x, utm_y)\n",
      "C:\\Users\\gjaischool1\\anaconda3\\lib\\site-packages\\pyproj\\crs\\crs.py:141: FutureWarning: '+init=<authority>:<code>' syntax is deprecated. '<authority>:<code>' is the preferred initialization method. When making the change, be mindful of axis order changes: https://pyproj4.github.io/pyproj/stable/gotchas.html#axis-order-changes-in-proj-6\n",
      "  in_crs_string = _prepare_from_proj_string(in_crs_string)\n",
      "C:\\Users\\gjaischool1\\AppData\\Local\\Temp\\ipykernel_17584\\1966536770.py:11: FutureWarning: This function is deprecated. See: https://pyproj4.github.io/pyproj/stable/gotchas.html#upgrading-to-pyproj-2-from-pyproj-1\n",
      "  lon, lat = pyproj.transform(proj_wgs84, pyproj.Proj(init='epsg:4326'), utm_x, utm_y)\n",
      "C:\\Users\\gjaischool1\\anaconda3\\lib\\site-packages\\pyproj\\crs\\crs.py:141: FutureWarning: '+init=<authority>:<code>' syntax is deprecated. '<authority>:<code>' is the preferred initialization method. When making the change, be mindful of axis order changes: https://pyproj4.github.io/pyproj/stable/gotchas.html#axis-order-changes-in-proj-6\n",
      "  in_crs_string = _prepare_from_proj_string(in_crs_string)\n",
      "C:\\Users\\gjaischool1\\AppData\\Local\\Temp\\ipykernel_17584\\1966536770.py:11: FutureWarning: This function is deprecated. See: https://pyproj4.github.io/pyproj/stable/gotchas.html#upgrading-to-pyproj-2-from-pyproj-1\n",
      "  lon, lat = pyproj.transform(proj_wgs84, pyproj.Proj(init='epsg:4326'), utm_x, utm_y)\n",
      "C:\\Users\\gjaischool1\\anaconda3\\lib\\site-packages\\pyproj\\crs\\crs.py:141: FutureWarning: '+init=<authority>:<code>' syntax is deprecated. '<authority>:<code>' is the preferred initialization method. When making the change, be mindful of axis order changes: https://pyproj4.github.io/pyproj/stable/gotchas.html#axis-order-changes-in-proj-6\n",
      "  in_crs_string = _prepare_from_proj_string(in_crs_string)\n",
      "C:\\Users\\gjaischool1\\AppData\\Local\\Temp\\ipykernel_17584\\1966536770.py:11: FutureWarning: This function is deprecated. See: https://pyproj4.github.io/pyproj/stable/gotchas.html#upgrading-to-pyproj-2-from-pyproj-1\n",
      "  lon, lat = pyproj.transform(proj_wgs84, pyproj.Proj(init='epsg:4326'), utm_x, utm_y)\n",
      "C:\\Users\\gjaischool1\\anaconda3\\lib\\site-packages\\pyproj\\crs\\crs.py:141: FutureWarning: '+init=<authority>:<code>' syntax is deprecated. '<authority>:<code>' is the preferred initialization method. When making the change, be mindful of axis order changes: https://pyproj4.github.io/pyproj/stable/gotchas.html#axis-order-changes-in-proj-6\n",
      "  in_crs_string = _prepare_from_proj_string(in_crs_string)\n",
      "C:\\Users\\gjaischool1\\AppData\\Local\\Temp\\ipykernel_17584\\1966536770.py:11: FutureWarning: This function is deprecated. See: https://pyproj4.github.io/pyproj/stable/gotchas.html#upgrading-to-pyproj-2-from-pyproj-1\n",
      "  lon, lat = pyproj.transform(proj_wgs84, pyproj.Proj(init='epsg:4326'), utm_x, utm_y)\n",
      "C:\\Users\\gjaischool1\\anaconda3\\lib\\site-packages\\pyproj\\crs\\crs.py:141: FutureWarning: '+init=<authority>:<code>' syntax is deprecated. '<authority>:<code>' is the preferred initialization method. When making the change, be mindful of axis order changes: https://pyproj4.github.io/pyproj/stable/gotchas.html#axis-order-changes-in-proj-6\n",
      "  in_crs_string = _prepare_from_proj_string(in_crs_string)\n",
      "C:\\Users\\gjaischool1\\AppData\\Local\\Temp\\ipykernel_17584\\1966536770.py:11: FutureWarning: This function is deprecated. See: https://pyproj4.github.io/pyproj/stable/gotchas.html#upgrading-to-pyproj-2-from-pyproj-1\n",
      "  lon, lat = pyproj.transform(proj_wgs84, pyproj.Proj(init='epsg:4326'), utm_x, utm_y)\n",
      "C:\\Users\\gjaischool1\\anaconda3\\lib\\site-packages\\pyproj\\crs\\crs.py:141: FutureWarning: '+init=<authority>:<code>' syntax is deprecated. '<authority>:<code>' is the preferred initialization method. When making the change, be mindful of axis order changes: https://pyproj4.github.io/pyproj/stable/gotchas.html#axis-order-changes-in-proj-6\n",
      "  in_crs_string = _prepare_from_proj_string(in_crs_string)\n",
      "C:\\Users\\gjaischool1\\AppData\\Local\\Temp\\ipykernel_17584\\1966536770.py:11: FutureWarning: This function is deprecated. See: https://pyproj4.github.io/pyproj/stable/gotchas.html#upgrading-to-pyproj-2-from-pyproj-1\n",
      "  lon, lat = pyproj.transform(proj_wgs84, pyproj.Proj(init='epsg:4326'), utm_x, utm_y)\n",
      "C:\\Users\\gjaischool1\\anaconda3\\lib\\site-packages\\pyproj\\crs\\crs.py:141: FutureWarning: '+init=<authority>:<code>' syntax is deprecated. '<authority>:<code>' is the preferred initialization method. When making the change, be mindful of axis order changes: https://pyproj4.github.io/pyproj/stable/gotchas.html#axis-order-changes-in-proj-6\n",
      "  in_crs_string = _prepare_from_proj_string(in_crs_string)\n",
      "C:\\Users\\gjaischool1\\AppData\\Local\\Temp\\ipykernel_17584\\1966536770.py:11: FutureWarning: This function is deprecated. See: https://pyproj4.github.io/pyproj/stable/gotchas.html#upgrading-to-pyproj-2-from-pyproj-1\n",
      "  lon, lat = pyproj.transform(proj_wgs84, pyproj.Proj(init='epsg:4326'), utm_x, utm_y)\n",
      "C:\\Users\\gjaischool1\\anaconda3\\lib\\site-packages\\pyproj\\crs\\crs.py:141: FutureWarning: '+init=<authority>:<code>' syntax is deprecated. '<authority>:<code>' is the preferred initialization method. When making the change, be mindful of axis order changes: https://pyproj4.github.io/pyproj/stable/gotchas.html#axis-order-changes-in-proj-6\n",
      "  in_crs_string = _prepare_from_proj_string(in_crs_string)\n",
      "C:\\Users\\gjaischool1\\AppData\\Local\\Temp\\ipykernel_17584\\1966536770.py:11: FutureWarning: This function is deprecated. See: https://pyproj4.github.io/pyproj/stable/gotchas.html#upgrading-to-pyproj-2-from-pyproj-1\n",
      "  lon, lat = pyproj.transform(proj_wgs84, pyproj.Proj(init='epsg:4326'), utm_x, utm_y)\n"
     ]
    }
   ],
   "source": [
    "import pandas as pd\n",
    "import pyproj\n",
    "\n",
    "# UTM 좌표를 위도와 경도로 변환하는 함수\n",
    "def utm_to_latlon(utm_x, utm_y, zone_number, northern_hemisphere=True):\n",
    "    if northern_hemisphere:\n",
    "        proj_wgs84 = pyproj.Proj(proj='utm', zone=zone_number, ellps='WGS84', north=True)\n",
    "    else:\n",
    "        proj_wgs84 = pyproj.Proj(proj='utm', zone=zone_number, ellps='WGS84', north=False)\n",
    "    \n",
    "    lon, lat = pyproj.transform(proj_wgs84, pyproj.Proj(init='epsg:4326'), utm_x, utm_y)\n",
    "    return lat, lon\n",
    "\n",
    "# 엑셀 파일 로드\n",
    "excel_file = r'C:\\Users\\gjaischool1\\Desktop\\mart.xlsx'\n",
    "data = pd.read_excel(excel_file)\n",
    "\n",
    "# UTM 좌표를 위도와 경도로 변환하여 열 추가\n",
    "data['Latitude'] = None\n",
    "data['Longitude'] = None\n",
    "zone_number = 52  # 예시로 52번 존을 사용\n",
    "\n",
    "for index, row in data.iterrows():\n",
    "    utm_x = row['좌표정보(X)']\n",
    "    utm_y = row['좌표정보(Y)']\n",
    "    lat, lon = utm_to_latlon(utm_x, utm_y, zone_number)\n",
    "    data.at[index, 'Latitude'] = lat\n",
    "    data.at[index, 'Longitude'] = lon\n",
    "\n",
    "# 변환된 데이터를 엑셀 파일로 저장\n",
    "output_file = r'C:\\Users\\gjaischool1\\Desktop\\mart_output.xlsx'\n",
    "data.to_excel(output_file, index=False)\n"
   ]
  },
  {
   "cell_type": "code",
   "execution_count": 8,
   "id": "42ffaa09-7dea-48a7-83f4-5a6d11ac4b20",
   "metadata": {},
   "outputs": [
    {
     "name": "stdout",
     "output_type": "stream",
     "text": [
      "Collecting cx_OracleNote: you may need to restart the kernel to use updated packages.\n",
      "\n",
      "  Downloading cx_Oracle-8.3.0-cp310-cp310-win_amd64.whl (213 kB)\n",
      "     -------------------------------------- 213.1/213.1 kB 6.3 MB/s eta 0:00:00\n",
      "Installing collected packages: cx_Oracle\n",
      "Successfully installed cx_Oracle-8.3.0\n"
     ]
    }
   ],
   "source": [
    "pip install cx_Oracle"
   ]
  },
  {
   "cell_type": "code",
   "execution_count": null,
   "id": "95fc4e59-3aca-4ce0-a0cf-2c438c9718f7",
   "metadata": {},
   "outputs": [],
   "source": [
    "import pandas as pd\n",
    "import cx_Oracle\n",
    "\n",
    "# 오라클 DB 연결 설정\n",
    "username = 'your_username'\n",
    "password = 'your_password'\n",
    "dsn = cx_Oracle.makedsn('your_host', 'your_port', service_name='your_service_name')\n",
    "oracle_conn = cx_Oracle.connect(username, password, dsn)\n",
    "\n",
    "# 엑셀 파일 로드\n",
    "excel_file = 'path_to_your_excel_file.xlsx'\n",
    "data = pd.read_excel(excel_file)\n",
    "\n",
    "# 데이터베이스에 데이터 저장\n",
    "table_name = 'your_table_name'  # 저장할 테이블 이름\n",
    "columns = ['column1', 'column2', 'column3']  # 테이블의 컬럼 순서와 이름에 맞게 변경\n",
    "insert_query = f\"INSERT INTO {table_name} ({', '.join(columns)}) VALUES (:1, :2, :3)\"  # 삽입 쿼리 생성\n",
    "\n",
    "cursor = oracle_conn.cursor()\n",
    "for index, row in data.iterrows():\n",
    "    values = [row[column] for column in columns]\n",
    "    cursor.execute(insert_query, values)\n",
    "\n",
    "oracle_conn.commit()\n",
    "cursor.close()\n",
    "oracle_conn.close()\n",
    "\n",
    "print(\"Data has been inserted into the Oracle database.\")"
   ]
  }
 ],
 "metadata": {
  "kernelspec": {
   "display_name": "Python 3 (ipykernel)",
   "language": "python",
   "name": "python3"
  },
  "language_info": {
   "codemirror_mode": {
    "name": "ipython",
    "version": 3
   },
   "file_extension": ".py",
   "mimetype": "text/x-python",
   "name": "python",
   "nbconvert_exporter": "python",
   "pygments_lexer": "ipython3",
   "version": "3.10.9"
  }
 },
 "nbformat": 4,
 "nbformat_minor": 5
}
