{
 "cells": [
  {
   "cell_type": "code",
   "execution_count": 3,
   "id": "4c697fae",
   "metadata": {},
   "outputs": [
    {
     "name": "stdout",
     "output_type": "stream",
     "text": [
      "1.4285714285714286\n",
      "1\n",
      "3\n"
     ]
    }
   ],
   "source": [
    "# 나누기, 나머지, 나누기(몫) 구하기\n",
    "num1=10\n",
    "num2=7\n",
    "\n",
    "print(num1/num2)\n",
    "print(num1//num2)\n",
    "print(num1%num2)"
   ]
  },
  {
   "cell_type": "code",
   "execution_count": 4,
   "id": "2cd7c416",
   "metadata": {},
   "outputs": [
    {
     "name": "stdout",
     "output_type": "stream",
     "text": [
      "안녕하세요\n"
     ]
    }
   ],
   "source": [
    "str1=\"안녕\"\n",
    "str2=\"하세요\"\n",
    "\n",
    "print(str1+str2)"
   ]
  },
  {
   "cell_type": "code",
   "execution_count": 5,
   "id": "411afe6d",
   "metadata": {},
   "outputs": [
    {
     "name": "stdout",
     "output_type": "stream",
     "text": [
      "107\n"
     ]
    }
   ],
   "source": [
    "str1=\"10\"\n",
    "str2=\"7\"\n",
    "\n",
    "print(str1+str2)"
   ]
  },
  {
   "cell_type": "code",
   "execution_count": 6,
   "id": "37925f19",
   "metadata": {},
   "outputs": [
    {
     "ename": "NameError",
     "evalue": "name 'Str2' is not defined",
     "output_type": "error",
     "traceback": [
      "\u001b[1;31m---------------------------------------------------------------------------\u001b[0m",
      "\u001b[1;31mNameError\u001b[0m                                 Traceback (most recent call last)",
      "Cell \u001b[1;32mIn[6], line 4\u001b[0m\n\u001b[0;32m      1\u001b[0m num1 \u001b[38;5;241m=\u001b[39m \u001b[38;5;241m10\u001b[39m\n\u001b[0;32m      2\u001b[0m str2 \u001b[38;5;241m=\u001b[39m \u001b[38;5;124m\"\u001b[39m\u001b[38;5;124m7\u001b[39m\u001b[38;5;124m\"\u001b[39m\n\u001b[1;32m----> 4\u001b[0m \u001b[38;5;28mprint\u001b[39m(\u001b[43mStr2\u001b[49m\u001b[38;5;241m+\u001b[39mnum1)\n",
      "\u001b[1;31mNameError\u001b[0m: name 'Str2' is not defined"
     ]
    }
   ],
   "source": [
    "# 문자열과 숫자는 더하기 연산이 불가능 하다.\n",
    "num1 = 10\n",
    "str2 = \"7\"\n",
    "\n",
    "print(Str2+num1)"
   ]
  },
  {
   "cell_type": "code",
   "execution_count": 9,
   "id": "b239dfd3",
   "metadata": {},
   "outputs": [
    {
     "name": "stdout",
     "output_type": "stream",
     "text": [
      "정수 입력 >> 10\n",
      "10\n",
      "<class 'str'>\n",
      "20\n"
     ]
    }
   ],
   "source": [
    "# java Scanner 처럼 키보드로 데이터 입력받기\n",
    "# input()\n",
    "# int('문자열')\n",
    "# float('문자열')\n",
    "\n",
    "num = input(\"정수 입력 >> \")\n",
    "print(num)\n",
    "print(type(num))\n",
    "print(int(num)+10)\n"
   ]
  },
  {
   "cell_type": "code",
   "execution_count": 11,
   "id": "bb9e2002",
   "metadata": {},
   "outputs": [
    {
     "name": "stdout",
     "output_type": "stream",
     "text": [
      "정수 입력 >>10\n",
      "11\n"
     ]
    }
   ],
   "source": [
    "num=int(input(\"정수 입력 >>\"))\n",
    "print(num+1)"
   ]
  },
  {
   "cell_type": "code",
   "execution_count": 16,
   "id": "a1427489",
   "metadata": {},
   "outputs": [
    {
     "name": "stdout",
     "output_type": "stream",
     "text": [
      "num1 정수를 입력하세요 : 10\n",
      "num2 정수를 입력하세요 : 3\n",
      "더하기 결과 : 13\n",
      "빼기 결과 : 7\n",
      "곱하기 결과 : 30\n",
      "나누기 결과 : 3.3333333333333335\n"
     ]
    }
   ],
   "source": [
    "num1 = int(input(\"num1 정수를 입력하세요 : \"))\n",
    "num2 = int(input(\"num2 정수를 입력하세요 : \"))\n",
    "\n",
    "print('더하기 결과 : %d'%(num1+num2))\n",
    "print('빼기 결과 : {}'.format(num1-num2))\n",
    "print(f'곱하기 결과 : {num1*num2}')\n",
    "print(f'나누기 결과 : {num1/num2}')\n",
    "\n"
   ]
  },
  {
   "cell_type": "code",
   "execution_count": 37,
   "id": "cc25cb9f",
   "metadata": {},
   "outputs": [
    {
     "name": "stdout",
     "output_type": "stream",
     "text": [
      "시간 입력 >>7533\n",
      "2시간 5분 33초\n"
     ]
    }
   ],
   "source": [
    "time  = int(input(\"시간 입력 >>\"))\n",
    "hour = time//60//60\n",
    "minute = time%3600//60\n",
    "second = time%60\n",
    "print(\"{}시간 {}분 {}초\".format(hour,minute,second))"
   ]
  },
  {
   "cell_type": "code",
   "execution_count": 38,
   "id": "f9e4d889",
   "metadata": {},
   "outputs": [
    {
     "name": "stdout",
     "output_type": "stream",
     "text": [
      "*****\n"
     ]
    }
   ],
   "source": [
    "#문자열, 숫자 곱하기 연산 가능\n",
    "print(\"*\"*5)"
   ]
  },
  {
   "cell_type": "code",
   "execution_count": 40,
   "id": "c4e9997f",
   "metadata": {},
   "outputs": [
    {
     "name": "stdout",
     "output_type": "stream",
     "text": [
      "8\n",
      "25\n"
     ]
    }
   ],
   "source": [
    "#지수연산자\n",
    "print(2**3)\n",
    "print(5**2)"
   ]
  },
  {
   "cell_type": "code",
   "execution_count": 41,
   "id": "56a7f6a6",
   "metadata": {},
   "outputs": [
    {
     "name": "stdout",
     "output_type": "stream",
     "text": [
      "False\n"
     ]
    }
   ],
   "source": [
    "#비교연산자\n",
    "a=3\n",
    "b=7\n",
    "print(a>b)"
   ]
  },
  {
   "cell_type": "code",
   "execution_count": 42,
   "id": "0877119b",
   "metadata": {},
   "outputs": [
    {
     "name": "stdout",
     "output_type": "stream",
     "text": [
      "False\n",
      "False\n"
     ]
    }
   ],
   "source": [
    "#논리연산자 and or not\n",
    "a=3\n",
    "b=7\n",
    "print(not a<b)\n",
    "print(a>b and 10==20)"
   ]
  },
  {
   "cell_type": "code",
   "execution_count": 44,
   "id": "0675b901",
   "metadata": {},
   "outputs": [
    {
     "name": "stdout",
     "output_type": "stream",
     "text": [
      "합격\n"
     ]
    }
   ],
   "source": [
    "#if-else 조건식\n",
    "score = 80\n",
    "result = '합격' if score>=60 else '불합격'\n",
    "\n",
    "print(result)"
   ]
  },
  {
   "cell_type": "code",
   "execution_count": 48,
   "id": "ebef8d25",
   "metadata": {},
   "outputs": [
    {
     "name": "stdout",
     "output_type": "stream",
     "text": [
      "정수 입력 >>30\n",
      "짝수입니다.\n"
     ]
    }
   ],
   "source": [
    "num=int(input('정수 입력 >>'))\n",
    "result = '짝수입니다.' if num%2==0 else '홀수입니다.'\n",
    "\n",
    "print(result)"
   ]
  }
 ],
 "metadata": {
  "kernelspec": {
   "display_name": "Python 3 (ipykernel)",
   "language": "python",
   "name": "python3"
  },
  "language_info": {
   "codemirror_mode": {
    "name": "ipython",
    "version": 3
   },
   "file_extension": ".py",
   "mimetype": "text/x-python",
   "name": "python",
   "nbconvert_exporter": "python",
   "pygments_lexer": "ipython3",
   "version": "3.10.9"
  }
 },
 "nbformat": 4,
 "nbformat_minor": 5
}
