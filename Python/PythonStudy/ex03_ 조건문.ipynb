{
 "cells": [
  {
   "cell_type": "code",
   "execution_count": 7,
   "id": "f2e213fc",
   "metadata": {
    "scrolled": true
   },
   "outputs": [
    {
     "name": "stdout",
     "output_type": "stream",
     "text": [
      "실행문 1\n",
      "실행문 2\n",
      "실행문 4\n",
      "조건문 종료\n"
     ]
    }
   ],
   "source": [
    "if True :\n",
    "    print('실행문 1')\n",
    "    print('실행문 2')\n",
    "    if False :\n",
    "        print('실행문 3')\n",
    "    print('실행문 4')\n",
    "print('조건문 종료')"
   ]
  },
  {
   "cell_type": "code",
   "execution_count": 20,
   "id": "67b0c547",
   "metadata": {},
   "outputs": [
    {
     "name": "stdout",
     "output_type": "stream",
     "text": [
      "score = 95\n",
      "95점은 A학점 입니다.\n"
     ]
    }
   ],
   "source": [
    "score = int(input(\"score = \"))\n",
    "\"점수 입력 >> %d\"%(score)\n",
    "if 100>= score >=90 :\n",
    "    print(\"%d점은 A학점 입니다.\"%(score))\n",
    "elif score >=80 :\n",
    "    print(\"%d점은 B학점 입니다.\"%(score))\n",
    "elif score >=70 :\n",
    "    print(\"%d점은 C학점 입니다.\"%(score))\n",
    "elif score >=60 :\n",
    "    print(\"%d점은 D학점 입니다.\"%(score))\n",
    "else :\n",
    "    print(\"%d점은 F학점 입니다.\"%(score))\n",
    "    \n",
    "    "
   ]
  },
  {
   "cell_type": "code",
   "execution_count": 3,
   "id": "18c4634f",
   "metadata": {},
   "outputs": [
    {
     "name": "stdout",
     "output_type": "stream",
     "text": [
      "----AI Cafe----\n",
      "금액을 입력하세요 >>100\n",
      "커피를 고르세요.\n",
      "[1]에스프레소(600원) [2]아메리카노(1000원) [3]카페라떼(1300원) >> 1\n",
      "돈이 부족해요..\n",
      "거스름돈 : 100원\n"
     ]
    }
   ],
   "source": [
    "print(\"----AI Cafe----\")\n",
    "money = int(input(\"금액을 입력하세요 >>\"))\n",
    "print(\"커피를 고르세요.\")\n",
    "num = int(input(\"[1]에스프레소(600원) [2]아메리카노(1000원) [3]카페라떼(1300원) >> \"))\n",
    "\n",
    "\n",
    "if num==1 :\n",
    "    pay=600\n",
    "elif num==2 :\n",
    "    pay=1000\n",
    "elif num==3 :\n",
    "    pay=1300\n",
    "else :\n",
    "    print(\"번호를 다시 입력하세요.\")\n",
    "    \n",
    "num2 = money-pay\n",
    "\n",
    "if(money>pay) :\n",
    "    print(\"거스름돈 : %d원\"%(num2))\n",
    "else :\n",
    "    print(\"돈이 부족해요..\")\n",
    "    print(\"거스름돈 : %d원\"%(money))\n",
    "\n"
   ]
  },
  {
   "cell_type": "code",
   "execution_count": null,
   "id": "e12ff442",
   "metadata": {},
   "outputs": [],
   "source": []
  },
  {
   "cell_type": "code",
   "execution_count": null,
   "id": "569fbe26",
   "metadata": {},
   "outputs": [],
   "source": []
  },
  {
   "cell_type": "code",
   "execution_count": null,
   "id": "8f58a92d",
   "metadata": {},
   "outputs": [],
   "source": []
  },
  {
   "cell_type": "code",
   "execution_count": null,
   "id": "89f332d4",
   "metadata": {},
   "outputs": [],
   "source": []
  }
 ],
 "metadata": {
  "kernelspec": {
   "display_name": "Python 3 (ipykernel)",
   "language": "python",
   "name": "python3"
  },
  "language_info": {
   "codemirror_mode": {
    "name": "ipython",
    "version": 3
   },
   "file_extension": ".py",
   "mimetype": "text/x-python",
   "name": "python",
   "nbconvert_exporter": "python",
   "pygments_lexer": "ipython3",
   "version": "3.10.9"
  }
 },
 "nbformat": 4,
 "nbformat_minor": 5
}
