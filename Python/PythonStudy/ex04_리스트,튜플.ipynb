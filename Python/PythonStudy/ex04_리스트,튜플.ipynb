{
 "cells": [
  {
   "cell_type": "code",
   "execution_count": 3,
   "id": "818598b6",
   "metadata": {},
   "outputs": [
    {
     "name": "stdout",
     "output_type": "stream",
     "text": [
      "<class 'list'>\n",
      "[1, 2, 'a', [3, 4, 'b', 'd']]\n"
     ]
    }
   ],
   "source": [
    "#리스트 생성\n",
    "a = []\n",
    "b = [1,2,3]\n",
    "c = ['My', 'Name']\n",
    "d = [1,2,'a','b']\n",
    "c = [1,2,'a',[3,4,'b','d']]\n",
    "\n",
    "print(type(a))\n",
    "print(c)"
   ]
  },
  {
   "cell_type": "code",
   "execution_count": null,
   "id": "741b1de9",
   "metadata": {},
   "outputs": [],
   "source": [
    "# 인덱싱(indexing) : 무엇인가를 '가리킨다'\n",
    "# 슬라이싱(slicing) : 무엇인가를 '잘라낸다'"
   ]
  },
  {
   "cell_type": "code",
   "execution_count": 4,
   "id": "fb7da07b",
   "metadata": {},
   "outputs": [
    {
     "name": "stdout",
     "output_type": "stream",
     "text": [
      "2\n"
     ]
    }
   ],
   "source": [
    "li1 = [2,5,7,8,10]\n",
    "print(li1[0])"
   ]
  },
  {
   "cell_type": "code",
   "execution_count": 11,
   "id": "fa2e9918",
   "metadata": {},
   "outputs": [
    {
     "name": "stdout",
     "output_type": "stream",
     "text": [
      "['a', 'b', 'c']\n",
      "b\n"
     ]
    }
   ],
   "source": [
    "#a,b,c 출력\n",
    "li2 = [1,2,3,['a','b','c']]\n",
    "temp = li2[3]\n",
    "print(temp)\n",
    "\n",
    "#b 출력\n",
    "temp = li2[3][1]\n",
    "print(temp)"
   ]
  },
  {
   "cell_type": "code",
   "execution_count": 13,
   "id": "eb78d8aa",
   "metadata": {},
   "outputs": [
    {
     "name": "stdout",
     "output_type": "stream",
     "text": [
      "[1, 2]\n"
     ]
    }
   ],
   "source": [
    "li3 = [4,1,2,8,6]\n",
    "print(li3[1:3])"
   ]
  },
  {
   "cell_type": "code",
   "execution_count": 15,
   "id": "e4ab974e",
   "metadata": {},
   "outputs": [
    {
     "name": "stdout",
     "output_type": "stream",
     "text": [
      "[1, 2, 3, 1, 2, 3, 1, 2, 3]\n",
      "[1, 2, 3, 3, 4, 5]\n"
     ]
    }
   ],
   "source": [
    "#리스트 연산하기 (문자열과 비슷)\n",
    "\n",
    "li4 = [1,2,3]\n",
    "li5 = [3,4,5]\n",
    "\n",
    "print(li4*3)\n",
    "print(li4+li5)\n"
   ]
  },
  {
   "cell_type": "code",
   "execution_count": 16,
   "id": "0b4c3ddc",
   "metadata": {},
   "outputs": [
    {
     "name": "stdout",
     "output_type": "stream",
     "text": [
      "[1, 4, 3, 7, 6, 5]\n"
     ]
    }
   ],
   "source": [
    "# 리스트 값 추가하기\n",
    "# 리스트명.append(값)\n",
    "li6 = [1,4,3,7,6]\n",
    "li6.append(5)\n",
    "print(li6)"
   ]
  },
  {
   "cell_type": "code",
   "execution_count": 17,
   "id": "c89eeaa7",
   "metadata": {},
   "outputs": [
    {
     "name": "stdout",
     "output_type": "stream",
     "text": [
      "[0, 5, 1, 2, 3, 4]\n"
     ]
    }
   ],
   "source": [
    "# 리스트 값 삽입\n",
    "# 리스트명.insert(인덱스, 값)\n",
    "\n",
    "li7 = [0,1,2,3,4]\n",
    "li7.insert(1,5)\n",
    "print(li7)"
   ]
  },
  {
   "cell_type": "code",
   "execution_count": 19,
   "id": "8ccdacee",
   "metadata": {
    "scrolled": true
   },
   "outputs": [
    {
     "name": "stdout",
     "output_type": "stream",
     "text": [
      "[0, 7, 2, 3, 4]\n",
      "[0, 7, 8, 8, 4]\n"
     ]
    }
   ],
   "source": [
    "# 리스트 값 수정\n",
    "# 리스트명[인덱스] = 값\n",
    "# 리스트명[슬라이싱] = 값\n",
    "\n",
    "li8 = [0,1,2,3,4]\n",
    "li8[1] = 7\n",
    "print(li8)\n",
    "\n",
    "li8[2:4] =[8,8]\n",
    "print(li8)"
   ]
  },
  {
   "cell_type": "code",
   "execution_count": 24,
   "id": "350505e7",
   "metadata": {},
   "outputs": [
    {
     "name": "stdout",
     "output_type": "stream",
     "text": [
      "['h', 'i', 'j', ['a', 'b', 'c'], 3, 'd', 'e', 'f', 'g']\n"
     ]
    }
   ],
   "source": [
    "array = [1,2,3,4,5]\n",
    "# 숫자 5를 7로 변경\n",
    "array[4]=7\n",
    "\n",
    "# 숫자 2를 리스트['a','b','c']로 변경\n",
    "array[1] = ['a','b','c']\n",
    "\n",
    "# 4,7 을 'd','e','f','g'로 변경\n",
    "array[-2:] = 'd','e','f','g'\n",
    "\n",
    "# 1을 'h','i','j'로 변경\n",
    "array[:1]= 'h','i','j'\n",
    "print(array)"
   ]
  },
  {
   "cell_type": "code",
   "execution_count": 30,
   "id": "37545f7b",
   "metadata": {},
   "outputs": [
    {
     "name": "stdout",
     "output_type": "stream",
     "text": [
      "['a', 'c', 'd', 'c']\n",
      "['a', 'd', 'c']\n"
     ]
    }
   ],
   "source": [
    "# 리스트 값 삭제\n",
    "# 1.인덱스를 이용하는 방법\n",
    "# -del 리스트명[인덱스]\n",
    "# 2. 값을 이용하는 방법\n",
    "# -리스트명.remove(값)\n",
    "# 동일 값이 있을 경우, 앞에 있는 값 삭제\n",
    "\n",
    "li9 = ['a','b','c','d','c']\n",
    "del li9[1]\n",
    "print(li9)\n",
    "\n",
    "li9.remove('c')\n",
    "print(li9)\n",
    "\n",
    "# li9.remove('z') > 에러 발생"
   ]
  },
  {
   "cell_type": "code",
   "execution_count": 46,
   "id": "928b51f6",
   "metadata": {},
   "outputs": [
    {
     "name": "stdout",
     "output_type": "stream",
     "text": [
      "[9, 77, 13, 51, 100, 3]\n",
      "[3, 9, 13, 51, 77, 100]\n"
     ]
    }
   ],
   "source": [
    "# 리스트 정렬\n",
    "# 리스트명.sort() : 기본적으로 오름차순 정렬\n",
    "\n",
    "li10 = [9,77,13,51,100,3]\n",
    "print(li10)\n",
    "li10.sort()\n",
    "print(li10)\n",
    "\n"
   ]
  },
  {
   "cell_type": "code",
   "execution_count": 49,
   "id": "36930cbd",
   "metadata": {},
   "outputs": [
    {
     "name": "stdout",
     "output_type": "stream",
     "text": [
      "[9, 77, 13, 51, 100, 3]\n",
      "[3, 100, 51, 13, 77, 9]\n",
      "[100, 77, 51, 13, 9, 3]\n",
      "[100, 77, 51, 13, 9, 3]\n",
      "[3, 9, 13, 51, 77, 100]\n"
     ]
    }
   ],
   "source": [
    "# 리스트 순서 뒤집기\n",
    "# 리스트명.reverse() : 크기에 상관없이 인덱스의 값을 반대로\n",
    "li11 = [9,77,13,51,100,3]\n",
    "print(li11)\n",
    "li11.reverse()\n",
    "print(li11)\n",
    "\n",
    "#내림차순 sort -> reverse\n",
    "li11.sort()\n",
    "li11.reverse()\n",
    "print(li11)\n",
    "\n",
    "#내림차순 reverse=True\n",
    "li11.sort(reverse=True)\n",
    "print(li11)\n",
    "\n",
    "#오름차순 reverse=True\n",
    "li11.sort()\n",
    "print(li11)"
   ]
  },
  {
   "cell_type": "code",
   "execution_count": 44,
   "id": "c5f7bb84",
   "metadata": {
    "scrolled": true
   },
   "outputs": [
    {
     "name": "stdout",
     "output_type": "stream",
     "text": [
      "2\n"
     ]
    }
   ],
   "source": [
    "# 리스트의 값 위치 반환하기\n",
    "# 리스트명.index('값')\n",
    "\n",
    "li12 = ['a','b','c','e','e','f']\n",
    "print(li12.index('c'))"
   ]
  },
  {
   "cell_type": "code",
   "execution_count": 48,
   "id": "0536e1c6",
   "metadata": {},
   "outputs": [
    {
     "name": "stdout",
     "output_type": "stream",
     "text": [
      "6\n",
      "5\n"
     ]
    }
   ],
   "source": [
    "# 리스트 값의 길이(개수) 확인\n",
    "\n",
    "print(len(li12))\n",
    "print(len('안녕하세요'))"
   ]
  },
  {
   "cell_type": "code",
   "execution_count": null,
   "id": "3e6d275c",
   "metadata": {},
   "outputs": [],
   "source": [
    "# 튜플\n",
    "#- 소괄호()로 작성되어지며, 튜플의 내부 값은 콤마(,)으로 구분\n",
    "#- 추가, 수정, 삭제 불가능"
   ]
  },
  {
   "cell_type": "code",
   "execution_count": 63,
   "id": "71d0f817",
   "metadata": {},
   "outputs": [
    {
     "name": "stdout",
     "output_type": "stream",
     "text": [
      "<class 'tuple'>\n",
      "('a', 'b', 'c')\n",
      "<class 'str'>\n",
      "hello\n",
      "<class 'tuple'>\n",
      "('hello',)\n"
     ]
    }
   ],
   "source": [
    "# 튜플 생성\n",
    "a = ()\n",
    "b = (1,2,3)\n",
    "c = ('a','b','c')\n",
    "d = ('a','b',('c', 1, 2))\n",
    "e = 1,2,3,4,5\n",
    "a, b = (1,2,3,4),5\n",
    "name = ('hello')\n",
    "name1 = ('hello',)\n",
    "print(type(a))\n",
    "print(c)\n",
    "\n",
    "print(type(name))\n",
    "print(name)\n",
    "\n",
    "print(type(name1))\n",
    "print(name1) "
   ]
  },
  {
   "cell_type": "code",
   "execution_count": 62,
   "id": "d2588d5f",
   "metadata": {},
   "outputs": [
    {
     "name": "stdout",
     "output_type": "stream",
     "text": [
      "3\n",
      "(1, 2, 3, ('a', 'b', 'c'))\n"
     ]
    }
   ],
   "source": [
    "# 튜플 인덱싱 / 슬라이싱\n",
    "\n",
    "tu1 = (0,1,2,3,('a','b','c'),5)\n",
    "print(tu1[3])\n",
    "print(tu1[1:5])"
   ]
  },
  {
   "cell_type": "code",
   "execution_count": null,
   "id": "7a288c40",
   "metadata": {},
   "outputs": [],
   "source": [
    "# in / not in - 문자열, 리스트, 튜플 사용가능\n",
    "str1 = '파이썬 최고'\n",
    "print('파이썬' in str1)\n",
    "print('파이썬' not in str1)\n",
    "\n",
    "li = [77,38,10]\n",
    "print(33 in li)\n",
    "print(33 not in li)\n",
    "\n",
    "if '파이썬' in str1:\n",
    "    print('포함')\n",
    "else :\n",
    "    print('미포함')"
   ]
  },
  {
   "cell_type": "code",
   "execution_count": null,
   "id": "4b67076b",
   "metadata": {
    "scrolled": true
   },
   "outputs": [],
   "source": [
    "lst = ['딸기','바나나','수박','체리','포도']\n",
    "print(\"*\"*50)\n",
    "pu=input('검색할 과일을 입력하세요 >> ')\n",
    "\n",
    "if pu in lst :\n",
    "    num=lst.index(pu)\n",
    "    print(f'{pu}는 리스트에 {num}번째 인덱스에 들어있습니다.')\n",
    "else :\n",
    "    print(f'{pu} 는 리스트에 들어있지 않습니다.')\n",
    "print(\"*\"*50)"
   ]
  },
  {
   "cell_type": "code",
   "execution_count": null,
   "id": "0c9b3b76",
   "metadata": {},
   "outputs": [],
   "source": [
    "s='Hi, My name is Mihee'\n",
    "word = input(\"검색한 문자를 입력하세요 : \")\n",
    "\n",
    "if word in s :\n",
    "    result = s.count(word)\n",
    "    print(f'{word}는 {result}번 들어있습니다.')\n",
    "else :\n",
    "    print(f'{word}는 문자열에 들어있지 않습니다.')"
   ]
  },
  {
   "cell_type": "code",
   "execution_count": null,
   "id": "ad945172",
   "metadata": {},
   "outputs": [],
   "source": []
  },
  {
   "cell_type": "code",
   "execution_count": null,
   "id": "4f4ce76b",
   "metadata": {},
   "outputs": [],
   "source": []
  },
  {
   "cell_type": "code",
   "execution_count": null,
   "id": "cc0c7dbf",
   "metadata": {},
   "outputs": [],
   "source": []
  },
  {
   "cell_type": "code",
   "execution_count": null,
   "id": "f74aacab",
   "metadata": {},
   "outputs": [],
   "source": []
  },
  {
   "cell_type": "code",
   "execution_count": null,
   "id": "cca0beb9",
   "metadata": {},
   "outputs": [],
   "source": []
  }
 ],
 "metadata": {
  "kernelspec": {
   "display_name": "Python 3 (ipykernel)",
   "language": "python",
   "name": "python3"
  },
  "language_info": {
   "codemirror_mode": {
    "name": "ipython",
    "version": 3
   },
   "file_extension": ".py",
   "mimetype": "text/x-python",
   "name": "python",
   "nbconvert_exporter": "python",
   "pygments_lexer": "ipython3",
   "version": "3.10.9"
  }
 },
 "nbformat": 4,
 "nbformat_minor": 5
}
