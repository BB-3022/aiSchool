{
 "cells": [
  {
   "cell_type": "code",
   "execution_count": 2,
   "id": "3ca3041a",
   "metadata": {},
   "outputs": [
    {
     "name": "stdout",
     "output_type": "stream",
     "text": [
      "첫 번째 정수 입력 >> 2\n",
      "두 번째 정수 입력 >> 5\n",
      "두 정수의 합 : 7\n",
      "첫 번째 정수 입력 >> 0\n",
      "두 번째 정수 입력 >> 5\n",
      "두 정수의 합 : 5\n",
      "첫 번째 정수 입력 >> 0\n",
      "두 번째 정수 입력 >> 0\n",
      "두 정수의 합 : 0\n",
      "프로그램이 종료되었습니다.\n"
     ]
    }
   ],
   "source": [
    "# while\n",
    "\n",
    "while True :\n",
    "    num1 = int(input('첫 번째 정수 입력 >> '))\n",
    "    num2 = int(input('두 번째 정수 입력 >> '))\n",
    "    result = num1 + num2\n",
    "    print(f'두 정수의 합 : {result}')\n",
    "        \n",
    "    if (num1==0 and num2==0) :   \n",
    "        break \n",
    "    \n",
    "print('프로그램이 종료되었습니다.')"
   ]
  },
  {
   "cell_type": "code",
   "execution_count": 3,
   "id": "e86a8be6",
   "metadata": {},
   "outputs": [
    {
     "name": "stdout",
     "output_type": "stream",
     "text": [
      "4\n"
     ]
    }
   ],
   "source": [
    "import random\n",
    "\n",
    "randomNumber = random.randint(1,10)\n",
    "print(randomNumber)"
   ]
  },
  {
   "cell_type": "code",
   "execution_count": 1,
   "id": "94c12c41",
   "metadata": {},
   "outputs": [
    {
     "name": "stdout",
     "output_type": "stream",
     "text": [
      "숫자를 입력하세요 >>25\n",
      "25보다 큰 수 입니다.\n",
      "숫자를 입력하세요 >>30\n",
      "30보다 큰 수 입니다.\n",
      "숫자를 입력하세요 >>50\n",
      "50보다 작은 수 입니다.\n",
      "숫자를 입력하세요 >>40\n",
      "40보다 작은 수 입니다.\n",
      "숫자를 입력하세요 >>31\n",
      "31보다 큰 수 입니다.\n",
      "숫자를 입력하세요 >>32\n",
      "32보다 큰 수 입니다.\n",
      "숫자를 입력하세요 >>33\n",
      "33보다 큰 수 입니다.\n",
      "숫자를 입력하세요 >>34\n",
      "34보다 큰 수 입니다.\n",
      "숫자를 입력하세요 >>35\n",
      "35보다 큰 수 입니다.\n",
      "숫자를 입력하세요 >>36\n",
      "36보다 큰 수 입니다.\n",
      "숫자를 입력하세요 >>37\n",
      "37보다 큰 수 입니다.\n",
      "숫자를 입력하세요 >>38\n",
      "38보다 큰 수 입니다.\n",
      "숫자를 입력하세요 >>39\n",
      "정답을 맞추셨습니다.\n"
     ]
    }
   ],
   "source": [
    "import random\n",
    "\n",
    "rd = random.randint(1,50)\n",
    "\n",
    "while True :\n",
    "    num = int(input('숫자를 입력하세요 >>'))\n",
    "    if rd>num :\n",
    "        print(f\"{num}보다 큰 수 입니다.\")\n",
    "    elif rd<num :\n",
    "        print(f\"{num}보다 작은 수 입니다.\")\n",
    "    else :\n",
    "        print(\"정답을 맞추셨습니다.\")\n",
    "        break"
   ]
  },
  {
   "cell_type": "code",
   "execution_count": 1,
   "id": "9296877e",
   "metadata": {},
   "outputs": [
    {
     "name": "stdout",
     "output_type": "stream",
     "text": [
      "삼겹살\n",
      "곱창\n",
      "꼬막\n"
     ]
    }
   ],
   "source": [
    "list_food = ['삼겹살','곱창','꼬막']\n",
    "\n",
    "for food in list_food:\n",
    "    print(food)"
   ]
  },
  {
   "cell_type": "code",
   "execution_count": 3,
   "id": "5b85ac12",
   "metadata": {},
   "outputs": [
    {
     "name": "stdout",
     "output_type": "stream",
     "text": [
      "안\n",
      "녕\n",
      "하\n",
      "세\n",
      "요\n"
     ]
    }
   ],
   "source": [
    "str1 = '안녕하세요'\n",
    "for s in str1:\n",
    "    print(s)"
   ]
  },
  {
   "cell_type": "code",
   "execution_count": 13,
   "id": "df2136b3",
   "metadata": {},
   "outputs": [
    {
     "name": "stdout",
     "output_type": "stream",
     "text": [
      "1번 학생은 합격입니다.\n",
      "2번 학생은 불합격입니다.\n",
      "3번 학생은 합격입니다.\n",
      "4번 학생은 합격입니다.\n",
      "5번 학생은 불합격입니다.\n",
      "1번 학생은 합격입니다.\n"
     ]
    }
   ],
   "source": [
    "score_list = [90,45,70,60,55,90]\n",
    "\n",
    "for s in score_list:\n",
    "    if s>=60 :\n",
    "        num=score_list.index(s)+1\n",
    "        print(f'{num}번 학생은 합격입니다.')\n",
    "        \n",
    "    else :\n",
    "        num=score_list.index(s)+1\n",
    "        print(f'{num}번 학생은 불합격입니다.')\n",
    "        "
   ]
  },
  {
   "cell_type": "code",
   "execution_count": 12,
   "id": "e71ec084",
   "metadata": {},
   "outputs": [
    {
     "name": "stdout",
     "output_type": "stream",
     "text": [
      "1번 학생은 합격입니다.\n",
      "2번 학생은 불합격입니다.\n",
      "3번 학생은 합격입니다.\n",
      "4번 학생은 합격입니다.\n",
      "5번 학생은 불합격입니다.\n"
     ]
    }
   ],
   "source": [
    "score_list = [90,45,70,60,55]\n",
    "\n",
    "cnt=1\n",
    "for s in score_list:\n",
    "    if s>=60 :\n",
    "        print(f'{cnt}번 학생은 합격입니다.')\n",
    "    else :\n",
    "        print(f'{cnt}번 학생은 불합격입니다.')\n",
    "    cnt+=1"
   ]
  },
  {
   "cell_type": "code",
   "execution_count": 15,
   "id": "c0a6f910",
   "metadata": {
    "scrolled": true
   },
   "outputs": [
    {
     "name": "stdout",
     "output_type": "stream",
     "text": [
      "10\n",
      "15\n",
      "11\n",
      "13\n",
      "20\n",
      "25\n"
     ]
    }
   ],
   "source": [
    "a,b = 10,15\n",
    "c,d = {11,13}\n",
    "e,f = [20,25]\n",
    "\n",
    "print(a)\n",
    "print(b)\n",
    "print(c)\n",
    "print(d)\n",
    "print(e)\n",
    "print(f)"
   ]
  },
  {
   "cell_type": "code",
   "execution_count": 14,
   "id": "fea3c389",
   "metadata": {},
   "outputs": [
    {
     "name": "stdout",
     "output_type": "stream",
     "text": [
      "1 2\n",
      "3 4\n",
      "5 6\n"
     ]
    }
   ],
   "source": [
    "list1 = [[1,2],[3,4],[5,6]]\n",
    "for n1,n2 in list1 :\n",
    "    print(n1,n2)"
   ]
  },
  {
   "cell_type": "code",
   "execution_count": 18,
   "id": "f93d2299",
   "metadata": {},
   "outputs": [
    {
     "name": "stdout",
     "output_type": "stream",
     "text": [
      "1 2 3 4 5 6 7 8 9 10 "
     ]
    }
   ],
   "source": [
    "for num in range(1,11,1) :\n",
    "    print(num, end=' ')"
   ]
  },
  {
   "cell_type": "code",
   "execution_count": 19,
   "id": "ac3745c1",
   "metadata": {},
   "outputs": [
    {
     "name": "stdout",
     "output_type": "stream",
     "text": [
      "안녕하세요\n",
      "안녕하세요\n",
      "안녕하세요\n",
      "안녕하세요\n",
      "안녕하세요\n"
     ]
    }
   ],
   "source": [
    "#안녕하세요 5번 출력\n",
    "for i in range(1,6,1):\n",
    "    print('안녕하세요')"
   ]
  },
  {
   "cell_type": "code",
   "execution_count": 23,
   "id": "244b23c3",
   "metadata": {},
   "outputs": [],
   "source": [
    "for i in range(7,2):\n",
    "    print(i,end=' ')"
   ]
  },
  {
   "cell_type": "code",
   "execution_count": 26,
   "id": "c4cf67f2",
   "metadata": {},
   "outputs": [
    {
     "name": "stdout",
     "output_type": "stream",
     "text": [
      "첫 번째 정수 입력 >> 10\n",
      "두 번째 정수 입력 >> 30\n",
      "10 11 12 13 14 15 16 17 18 19 20 21 22 23 24 25 26 27 28 29 30 "
     ]
    }
   ],
   "source": [
    "num1 = int(input('첫 번째 정수 입력 >> '))\n",
    "num2 = int(input('두 번째 정수 입력 >> '))\n",
    "\n",
    "for i in range(num1,num2+1) :\n",
    "    print(i, end=' ')\n",
    "\n"
   ]
  },
  {
   "cell_type": "code",
   "execution_count": 34,
   "id": "e3fb381b",
   "metadata": {
    "scrolled": true
   },
   "outputs": [
    {
     "name": "stdout",
     "output_type": "stream",
     "text": [
      "99\n"
     ]
    }
   ],
   "source": [
    "# 최대 값 구하기\n",
    "\n",
    "list2 = [4,5,2,1,99,15,2,7,27]\n",
    "max=list2[0]\n",
    "for i in list2 :\n",
    "    if i>max :\n",
    "        max=i\n",
    "print(max)"
   ]
  },
  {
   "cell_type": "code",
   "execution_count": 38,
   "id": "96a56211",
   "metadata": {},
   "outputs": [
    {
     "name": "stdout",
     "output_type": "stream",
     "text": [
      "1\n"
     ]
    }
   ],
   "source": [
    "# range를 사용하여 최소 값 구하기\n",
    "\n",
    "list2 = [4,5,2,1,99,15,2,7,27]\n",
    "\n",
    "min = list2[0]\n",
    "for i in range(0,len(list2),1) :\n",
    "    if min >list2[i] :\n",
    "        min=list2[i]\n",
    "print(min)"
   ]
  },
  {
   "cell_type": "code",
   "execution_count": 39,
   "id": "0fe7040f",
   "metadata": {},
   "outputs": [],
   "source": [
    "import pickle"
   ]
  },
  {
   "cell_type": "code",
   "execution_count": 40,
   "id": "9b8db990",
   "metadata": {},
   "outputs": [],
   "source": [
    "# pickle 모듈을 이용해 데이터 로드\n",
    "with open('data/movie_review.pkl','rb') as f:\n",
    "    movie_review = pickle.load(f)"
   ]
  },
  {
   "cell_type": "code",
   "execution_count": 4,
   "id": "f2cda3f8",
   "metadata": {},
   "outputs": [
    {
     "ename": "NameError",
     "evalue": "name 'movie_review' is not defined",
     "output_type": "error",
     "traceback": [
      "\u001b[1;31m---------------------------------------------------------------------------\u001b[0m",
      "\u001b[1;31mNameError\u001b[0m                                 Traceback (most recent call last)",
      "Cell \u001b[1;32mIn[4], line 1\u001b[0m\n\u001b[1;32m----> 1\u001b[0m \u001b[43mmovie_review\u001b[49m\n",
      "\u001b[1;31mNameError\u001b[0m: name 'movie_review' is not defined"
     ]
    }
   ],
   "source": [
    "movie_review"
   ]
  },
  {
   "cell_type": "code",
   "execution_count": 3,
   "id": "5d74ab92",
   "metadata": {},
   "outputs": [
    {
     "ename": "NameError",
     "evalue": "name 'movie_review' is not defined",
     "output_type": "error",
     "traceback": [
      "\u001b[1;31m---------------------------------------------------------------------------\u001b[0m",
      "\u001b[1;31mNameError\u001b[0m                                 Traceback (most recent call last)",
      "Cell \u001b[1;32mIn[3], line 2\u001b[0m\n\u001b[0;32m      1\u001b[0m \u001b[38;5;66;03m# 전체 리뷰 개수 확인\u001b[39;00m\n\u001b[1;32m----> 2\u001b[0m \u001b[38;5;28mprint\u001b[39m(\u001b[38;5;28mlen\u001b[39m(\u001b[43mmovie_review\u001b[49m))\n\u001b[0;32m      3\u001b[0m \u001b[38;5;28mprint\u001b[39m(movie_review[\u001b[38;5;241m1\u001b[39m][\u001b[38;5;241m0\u001b[39m])\n",
      "\u001b[1;31mNameError\u001b[0m: name 'movie_review' is not defined"
     ]
    }
   ],
   "source": [
    "# 전체 리뷰 개수 확인\n",
    "print(len(movie_review))\n",
    "print(movie_review[1][0])"
   ]
  },
  {
   "cell_type": "code",
   "execution_count": 58,
   "id": "7b650147",
   "metadata": {},
   "outputs": [
    {
     "name": "stdout",
     "output_type": "stream",
     "text": [
      "리뷰의 평균 길이는 35.4866 입니다.\n"
     ]
    }
   ],
   "source": [
    "# 리뷰 길이의 평균 값\n",
    "\n",
    "sum=0\n",
    "for i in range(len(movie_review)) :\n",
    "    sum += len(movie_review[i][0])\n",
    "result = sum/len(movie_review)\n",
    "print(f'리뷰의 평균 길이는 {result} 입니다.')\n"
   ]
  },
  {
   "cell_type": "code",
   "execution_count": 60,
   "id": "09e83093",
   "metadata": {},
   "outputs": [
    {
     "name": "stdout",
     "output_type": "stream",
     "text": [
      "리뷰의 평균 길이는 35.4866 입니다.\n"
     ]
    }
   ],
   "source": [
    "total = 0\n",
    "for txt, pn in movie_review :\n",
    "    total += len(txt)\n",
    "print(f'리뷰의 평균 길이는 {total/len(movie_review)} 입니다.')\n"
   ]
  },
  {
   "cell_type": "code",
   "execution_count": 65,
   "id": "2204e19c",
   "metadata": {
    "scrolled": true
   },
   "outputs": [
    {
     "name": "stdout",
     "output_type": "stream",
     "text": [
      "긍정 \"2499\"개\n",
      "긍정 \"2501\"개\n"
     ]
    }
   ],
   "source": [
    "p=0\n",
    "n=0\n",
    "for i in range(len(movie_review)):\n",
    "    if movie_review[i][1] == 0:\n",
    "        n += 1\n",
    "    else :\n",
    "        p += 1\n",
    "print(f'긍정 \"{p}\"개')\n",
    "print(f'긍정 \"{n}\"개')"
   ]
  },
  {
   "cell_type": "code",
   "execution_count": 72,
   "id": "6ad74544",
   "metadata": {},
   "outputs": [
    {
     "name": "stdout",
     "output_type": "stream",
     "text": [
      "리뷰 최대 길이는 '144'입니다.\n",
      "\"상처투성이인 한국인을 위하여 어제는 추기경님이 계셨고 오늘은 교황님께서 치유하시고 가셨습니다. \"\" 고난이 나를 찾을때 피하고 싶은 내마음은\"\"하시며 노래부르실때는 한 인간으로서 사제로서 격었을 그분의 고난에 눈물이 흐릅니다. 이땅에 이런어른 더안계시나요\"\n"
     ]
    }
   ],
   "source": [
    "result=0\n",
    "for i in range(len(movie_review)):\n",
    "    if len(movie_review[i][0])>result :\n",
    "        result=len(movie_review[i][0])\n",
    "        text=movie_review[i][0]\n",
    "print(f'리뷰 최대 길이는 \\'{result}\\'입니다.')\n",
    "print(text)"
   ]
  },
  {
   "cell_type": "code",
   "execution_count": 79,
   "id": "19bdd87a",
   "metadata": {},
   "outputs": [
    {
     "name": "stdout",
     "output_type": "stream",
     "text": [
      "검색할 데이터 입력 >> 와\n",
      "'와'가 포함된 리뷰는 234개 입니다.\n"
     ]
    }
   ],
   "source": [
    "st = input(\"검색할 데이터 입력 >> \")\n",
    "\n",
    "cnt=0\n",
    "for i in range(len(movie_review)) :\n",
    "    if st in movie_review[i][0] :\n",
    "        cnt+=1\n",
    "print(f\"'{st}'가 포함된 리뷰는 {cnt}개 입니다.\")       "
   ]
  },
  {
   "cell_type": "code",
   "execution_count": 21,
   "id": "562627b6",
   "metadata": {},
   "outputs": [
    {
     "name": "stdout",
     "output_type": "stream",
     "text": [
      "2단: 2*1=2 2*2=4 2*3=6 2*4=8 2*5=10 2*6=12 2*7=14 2*8=16 2*9=18 \n",
      "3단: 3*1=3 3*2=6 3*3=9 3*4=12 3*5=15 3*6=18 3*7=21 3*8=24 3*9=27 \n",
      "4단: 4*1=4 4*2=8 4*3=12 4*4=16 4*5=20 4*6=24 4*7=28 4*8=32 4*9=36 \n",
      "5단: 5*1=5 5*2=10 5*3=15 5*4=20 5*5=25 5*6=30 5*7=35 5*8=40 5*9=45 \n",
      "6단: 6*1=6 6*2=12 6*3=18 6*4=24 6*5=30 6*6=36 6*7=42 6*8=48 6*9=54 \n",
      "7단: 7*1=7 7*2=14 7*3=21 7*4=28 7*5=35 7*6=42 7*7=49 7*8=56 7*9=63 \n",
      "8단: 8*1=8 8*2=16 8*3=24 8*4=32 8*5=40 8*6=48 8*7=56 8*8=64 8*9=72 \n",
      "9단: 9*1=9 9*2=18 9*3=27 9*4=36 9*5=45 9*6=54 9*7=63 9*8=72 9*9=81 \n"
     ]
    }
   ],
   "source": [
    "for j in range(2,10,1) :\n",
    "    print(f'{j}단:',end = ' ')\n",
    "    for i in range(1,10,1):\n",
    "        result=j*i\n",
    "        print(f'{j}*{i}={result}',end=' ')\n",
    "    print()"
   ]
  },
  {
   "cell_type": "code",
   "execution_count": 37,
   "id": "383318f7",
   "metadata": {},
   "outputs": [
    {
     "name": "stdout",
     "output_type": "stream",
     "text": [
      "2*1=2\t3*1=3\t4*1=4\t5*1=5\t6*1=6\t7*1=7\t8*1=8\t9*1=9\t\n",
      "2*2=4\t3*2=6\t4*2=8\t5*2=10\t6*2=12\t7*2=14\t8*2=16\t9*2=18\t\n",
      "2*3=6\t3*3=9\t4*3=12\t5*3=15\t6*3=18\t7*3=21\t8*3=24\t9*3=27\t\n",
      "2*4=8\t3*4=12\t4*4=16\t5*4=20\t6*4=24\t7*4=28\t8*4=32\t9*4=36\t\n",
      "2*5=10\t3*5=15\t4*5=20\t5*5=25\t6*5=30\t7*5=35\t8*5=40\t9*5=45\t\n",
      "2*6=12\t3*6=18\t4*6=24\t5*6=30\t6*6=36\t7*6=42\t8*6=48\t9*6=54\t\n",
      "2*7=14\t3*7=21\t4*7=28\t5*7=35\t6*7=42\t7*7=49\t8*7=56\t9*7=63\t\n",
      "2*8=16\t3*8=24\t4*8=32\t5*8=40\t6*8=48\t7*8=56\t8*8=64\t9*8=72\t\n",
      "2*9=18\t3*9=27\t4*9=36\t5*9=45\t6*9=54\t7*9=63\t8*9=72\t9*9=81\t\n"
     ]
    }
   ],
   "source": [
    "for j in range(1,10,1) :\n",
    "    for i in range(2,10,1) :\n",
    "        result=i*j\n",
    "        print(f'{i}*{j}={result}',end='\\t')\n",
    "    print()"
   ]
  },
  {
   "cell_type": "code",
   "execution_count": 50,
   "id": "af7295f2",
   "metadata": {},
   "outputs": [
    {
     "name": "stdout",
     "output_type": "stream",
     "text": [
      "정수 입력 >> 32\n",
      "32의 약수 :  1 2 4 8 16 32 "
     ]
    }
   ],
   "source": [
    "num=int(input(\"정수 입력 >> \"))\n",
    "print(f'{num}의 약수 : ', end=' ')\n",
    "for i in range(1,num+1,1) :\n",
    "    if num%i==0 :\n",
    "        print(i, end=' ')"
   ]
  },
  {
   "cell_type": "code",
   "execution_count": 57,
   "id": "21738ccd",
   "metadata": {},
   "outputs": [
    {
     "name": "stdout",
     "output_type": "stream",
     "text": [
      "Start >> 2\n",
      "End >> 6\n",
      "2의 약수의 합 :  3\n",
      "3의 약수의 합 :  4\n",
      "4의 약수의 합 :  7\n",
      "5의 약수의 합 :  6\n",
      "6의 약수의 합 :  12\n"
     ]
    }
   ],
   "source": [
    "startNum = int(input(\"Start >> \"))\n",
    "endNum = int(input(\"End >> \"))\n",
    "result=0\n",
    "\n",
    "for i in range(startNum,endNum+1,1) :\n",
    "    print(f'{i}의 약수의 합 : ',end=' ')\n",
    "    for j in range(1,i+1,1) :\n",
    "        if i%j ==0 :\n",
    "            result+=j\n",
    "    print(result)\n",
    "    result=0\n",
    "    \n",
    "#startNum = int(input(\"Start >> \"))\n",
    "#endNum = int(input(\"End >> \"))\n",
    "\n",
    "#for i in range(startNum, endNum + 1):\n",
    "#    divisors_sum = sum(j for j in range(1, i + 1) if i % j == 0)\n",
    "#    print(f'{i}의 약수의 합:', divisors_sum)"
   ]
  },
  {
   "cell_type": "code",
   "execution_count": 12,
   "id": "da2bee99",
   "metadata": {},
   "outputs": [
    {
     "name": "stdout",
     "output_type": "stream",
     "text": [
      "6 28 496 8128 "
     ]
    }
   ],
   "source": [
    "for i in range(1,10000+1,1) :\n",
    "    sum=0\n",
    "    for j in range(1,i,1) :\n",
    "        if i%j==0 :\n",
    "            sum+=j\n",
    "    if sum==i :\n",
    "        print(i,end=' ')\n",
    "            "
   ]
  },
  {
   "cell_type": "code",
   "execution_count": 15,
   "id": "d1d8faac",
   "metadata": {},
   "outputs": [
    {
     "name": "stdout",
     "output_type": "stream",
     "text": [
      "Life is too short , You need python.\n"
     ]
    }
   ],
   "source": [
    "string =\".nohtyp deen uoY , trohs oot si efiL\"\n",
    "reversed_str = string[::-1]\n",
    "\n",
    "print(reversed_str)"
   ]
  },
  {
   "cell_type": "code",
   "execution_count": 19,
   "id": "61e41b6d",
   "metadata": {},
   "outputs": [
    {
     "data": {
      "text/plain": [
       "'Life is too short , You need python'"
      ]
     },
     "execution_count": 19,
     "metadata": {},
     "output_type": "execute_result"
    }
   ],
   "source": [
    "string =\".nohtyp deen uoY , trohs oot si efiL\"\n",
    "s =\"\"\n",
    "for i in range(1,len(string),1):\n",
    "    s+=string[(-1)*i]\n",
    "s"
   ]
  },
  {
   "cell_type": "code",
   "execution_count": 22,
   "id": "6f702b32",
   "metadata": {},
   "outputs": [
    {
     "data": {
      "text/plain": [
       "'Life is too short , You need python'"
      ]
     },
     "execution_count": 22,
     "metadata": {},
     "output_type": "execute_result"
    }
   ],
   "source": [
    "string = \".nohtyp deen uoY , trohs oot si efiL\"\n",
    "s=\"\"\n",
    "for i in range(1,len(string),1) :\n",
    "    s+=string[-1*i]\n",
    "s"
   ]
  },
  {
   "cell_type": "code",
   "execution_count": 2,
   "id": "434710f1",
   "metadata": {},
   "outputs": [
    {
     "name": "stdout",
     "output_type": "stream",
     "text": [
      "가 나 다 \n",
      "나 다 라 \n",
      "다 라 마 \n"
     ]
    }
   ],
   "source": [
    "my_list = [\"가\",\"나\",\"다\",\"라\",\"마\"]\n",
    "\n",
    "for j in range(3) :\n",
    "    for i in range(3) :\n",
    "        print(my_list[i+j],end=\" \")\n",
    "    print()"
   ]
  },
  {
   "cell_type": "code",
   "execution_count": 1,
   "id": "e2133692",
   "metadata": {},
   "outputs": [
    {
     "name": "stdout",
     "output_type": "stream",
     "text": [
      "[1]시험점수입력 [2]성적확인 [3]종료 >> 1\n",
      "이름입력 : 박보배\n",
      "Java 점수 입력 : 90\n",
      "Web 점수 입력 : 90\n",
      "[1]시험점수입력 [2]성적확인 [3]종료 >> 2\n",
      "이름\tJava\tWeb\tGrade\n",
      "박보배\t90\t90\tA\n",
      "--------------------------------------------------\n",
      "[1]시험점수입력 [2]성적확인 [3]종료 >> 3\n"
     ]
    }
   ],
   "source": [
    "studentScore = []\n",
    "\n",
    "while True :\n",
    "    num=int(input(\"[1]시험점수입력 [2]성적확인 [3]종료 >> \"))\n",
    "    if num==1 :\n",
    "        name = input(\"이름입력 : \")\n",
    "        java = int(input(\"Java 점수 입력 : \"))\n",
    "        web = int(input(\"Web 점수 입력 : \"))\n",
    "        score = (java + web)/ 2\n",
    "        \n",
    "        if score >= 90 :\n",
    "            grade = 'A'\n",
    "        elif score >= 80 :\n",
    "            grade = 'B'\n",
    "        elif score >= 70 :\n",
    "            grage = 'C'\n",
    "        elif score >= 60 :\n",
    "            grade = 'D'\n",
    "        else :\n",
    "            grade = 'F'\n",
    "            \n",
    "        studentScore.append([name, java, web, grade])\n",
    "        \n",
    "    elif num==2 :\n",
    "        print('이름\\tJava\\tWeb\\tGrade')\n",
    "        for i in range(len(studentScore)) :\n",
    "            print(f'{studentScore[i][0]}\\t{studentScore[i][1]}\\t{studentScore[i][2]}\\t{studentScore[i][3]}')\n",
    "            \n",
    "        print('-'*50)\n",
    "    else :\n",
    "        break"
   ]
  },
  {
   "cell_type": "code",
   "execution_count": null,
   "id": "36bb4e2d",
   "metadata": {},
   "outputs": [],
   "source": []
  },
  {
   "cell_type": "code",
   "execution_count": null,
   "id": "ab11b7f3",
   "metadata": {},
   "outputs": [],
   "source": []
  },
  {
   "cell_type": "code",
   "execution_count": null,
   "id": "df473022",
   "metadata": {},
   "outputs": [],
   "source": []
  },
  {
   "cell_type": "code",
   "execution_count": null,
   "id": "f12330d2",
   "metadata": {},
   "outputs": [],
   "source": []
  },
  {
   "cell_type": "code",
   "execution_count": null,
   "id": "a9cf88ee",
   "metadata": {},
   "outputs": [],
   "source": []
  }
 ],
 "metadata": {
  "kernelspec": {
   "display_name": "Python 3 (ipykernel)",
   "language": "python",
   "name": "python3"
  },
  "language_info": {
   "codemirror_mode": {
    "name": "ipython",
    "version": 3
   },
   "file_extension": ".py",
   "mimetype": "text/x-python",
   "name": "python",
   "nbconvert_exporter": "python",
   "pygments_lexer": "ipython3",
   "version": "3.10.9"
  }
 },
 "nbformat": 4,
 "nbformat_minor": 5
}
