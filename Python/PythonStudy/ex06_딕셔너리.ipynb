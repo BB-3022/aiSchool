{
 "cells": [
  {
   "cell_type": "code",
   "execution_count": 4,
   "id": "13dafb51",
   "metadata": {},
   "outputs": [
    {
     "name": "stdout",
     "output_type": "stream",
     "text": [
      "<class 'dict'>\n",
      "{'name': '홍길동', 'pn': '000-0000-0000'}\n"
     ]
    }
   ],
   "source": [
    "a={}\n",
    "b={'name':'홍길동','pn':'000-0000-0000'}\n",
    "print(type(a))\n",
    "print(b)"
   ]
  },
  {
   "cell_type": "code",
   "execution_count": 62,
   "id": "834522c4",
   "metadata": {},
   "outputs": [
    {
     "name": "stdout",
     "output_type": "stream",
     "text": [
      "{'name': '김땡땡', 'age': '20', 'phone': '010-0000-0000', 'birth': '01/01'}\n",
      "김땡땡\n",
      "김땡땡\n",
      "None\n"
     ]
    }
   ],
   "source": [
    "info = {'name':'김땡땡','age':'20','phone':'010-0000-0000'}\n",
    "\n",
    "# 딕셔너리 값 추가 dictionary[key]=value   \n",
    "info['birth']='01/01'\n",
    "print(info)\n",
    "\n",
    "# 딕셔너리 값 가져오기 1. dictionary[key] -> value 값 확인 \n",
    "# 없는 key 값을 불러 올 경우, 오류발생\n",
    "print(info['name'])\n",
    "#print(info['email'])\n",
    "\n",
    "# 딕셔너리 값 가져오기 2. dictionary.get(key)\n",
    "# 덦는 key 값을 불러 올 경우, 오류 발생 하지 않는다.\n",
    "print(info.get('name'))\n",
    "print(info.get('email'))"
   ]
  },
  {
   "cell_type": "code",
   "execution_count": 36,
   "id": "7eb009a3",
   "metadata": {},
   "outputs": [
    {
     "name": "stdout",
     "output_type": "stream",
     "text": [
      "dict_keys(['name', 'age', 'phone', 'birth'])\n",
      "['name', 'age', 'phone', 'birth']\n"
     ]
    }
   ],
   "source": [
    "# 딕셔너리 key 값 가져오기\n",
    "print(info.keys())\n",
    "print(list(info.keys()))"
   ]
  },
  {
   "cell_type": "code",
   "execution_count": 39,
   "id": "9bc6208c",
   "metadata": {},
   "outputs": [
    {
     "name": "stdout",
     "output_type": "stream",
     "text": [
      "dict_values(['김땡땡', '20', '010-0000-0000', '01/01'])\n",
      "['김땡땡', '20', '010-0000-0000', '01/01']\n"
     ]
    }
   ],
   "source": [
    "# 딕셔너리 value 값만 가져오기\n",
    "print(info.values())\n",
    "print(list(info.values()))"
   ]
  },
  {
   "cell_type": "code",
   "execution_count": 63,
   "id": "dd8d0f5e",
   "metadata": {},
   "outputs": [
    {
     "name": "stdout",
     "output_type": "stream",
     "text": [
      "[('name', '김땡땡'), ('age', '20'), ('phone', '010-0000-0000'), ('birth', '01/01')]\n",
      "dict_items([('name', '김땡땡'), ('age', '20'), ('phone', '010-0000-0000'), ('birth', '01/01')])\n"
     ]
    }
   ],
   "source": [
    "\n",
    "\n",
    "# 딕셔너리 key, value 동시에 리스트로 가져오기\n",
    "print(list(info.items()))\n",
    "print(info.items())"
   ]
  },
  {
   "cell_type": "code",
   "execution_count": 50,
   "id": "7fd1f89e",
   "metadata": {},
   "outputs": [
    {
     "ename": "KeyError",
     "evalue": "'age'",
     "output_type": "error",
     "traceback": [
      "\u001b[1;31m---------------------------------------------------------------------------\u001b[0m",
      "\u001b[1;31mKeyError\u001b[0m                                  Traceback (most recent call last)",
      "Cell \u001b[1;32mIn[50], line 2\u001b[0m\n\u001b[0;32m      1\u001b[0m \u001b[38;5;66;03m# 값 삭제하기 del dictionary[key]\u001b[39;00m\n\u001b[1;32m----> 2\u001b[0m \u001b[38;5;28;01mdel\u001b[39;00m info[\u001b[38;5;124m'\u001b[39m\u001b[38;5;124mage\u001b[39m\u001b[38;5;124m'\u001b[39m]\n",
      "\u001b[1;31mKeyError\u001b[0m: 'age'"
     ]
    }
   ],
   "source": [
    "# 값 삭제하기 del dictionary[key]\n",
    "del info['age']\n"
   ]
  },
  {
   "cell_type": "code",
   "execution_count": 52,
   "id": "a07b5376",
   "metadata": {},
   "outputs": [
    {
     "data": {
      "text/plain": [
       "{}"
      ]
     },
     "execution_count": 52,
     "metadata": {},
     "output_type": "execute_result"
    }
   ],
   "source": [
    "# 딕셔너리 모두 지우기\n",
    "info.clear()\n",
    "info"
   ]
  },
  {
   "cell_type": "code",
   "execution_count": 22,
   "id": "ace2612e",
   "metadata": {},
   "outputs": [
    {
     "name": "stdout",
     "output_type": "stream",
     "text": [
      "김땡땡\n"
     ]
    }
   ],
   "source": [
    "# 딕셔너리를 리스트로 만들어서 주소록으로 사용 가능하다.\n",
    "people = [{'name':'김땡땡','age':'20','phone':'010-0000-0000'},\n",
    "         {'name':'박땡땡','age':'30','phone':'010-1111-1111'},\n",
    "         {'name':'이땡땡','age':'40','phone':'010-2222-2222'}]\n",
    "\n",
    "#주소록 값 추가\n",
    "people.append({})\n",
    "print(people[0]['name'])"
   ]
  },
  {
   "cell_type": "code",
   "execution_count": 55,
   "id": "74b89d48",
   "metadata": {},
   "outputs": [
    {
     "name": "stdout",
     "output_type": "stream",
     "text": [
      "True\n",
      "False\n",
      "False\n"
     ]
    }
   ],
   "source": [
    "# 딕셔너리를 멤버연산자와 같이 사용하기\n",
    "# 딕셔너리의 멤버연산자는 Key 값의 존재 여부만 확인 가능하다.\n",
    "\n",
    "info2 = {'name':'김땡땡','age':'20','phone':'010-0000-0000'}\n",
    "\n",
    "print('name' in info2)\n",
    "print('birth' in info2)\n",
    "print(20 in info2)"
   ]
  },
  {
   "cell_type": "code",
   "execution_count": 64,
   "id": "cdead641",
   "metadata": {},
   "outputs": [
    {
     "data": {
      "text/plain": [
       "False"
      ]
     },
     "execution_count": 64,
     "metadata": {},
     "output_type": "execute_result"
    }
   ],
   "source": [
    "info2 = {'name':'김땡땡','age':'20','phone':'010-0000-0000'}\n",
    "\n",
    "20 in info2.values()\n",
    "\n",
    "for i in info2.values() :\n",
    "    print(i)"
   ]
  },
  {
   "cell_type": "code",
   "execution_count": null,
   "id": "9deabf21",
   "metadata": {},
   "outputs": [],
   "source": []
  },
  {
   "cell_type": "code",
   "execution_count": null,
   "id": "0b0776d1",
   "metadata": {},
   "outputs": [],
   "source": []
  },
  {
   "cell_type": "code",
   "execution_count": null,
   "id": "d88627fe",
   "metadata": {},
   "outputs": [],
   "source": []
  },
  {
   "cell_type": "code",
   "execution_count": null,
   "id": "85922e8f",
   "metadata": {},
   "outputs": [],
   "source": []
  },
  {
   "cell_type": "code",
   "execution_count": null,
   "id": "2332b931",
   "metadata": {},
   "outputs": [],
   "source": []
  },
  {
   "cell_type": "code",
   "execution_count": null,
   "id": "f461c487",
   "metadata": {},
   "outputs": [],
   "source": []
  }
 ],
 "metadata": {
  "kernelspec": {
   "display_name": "Python 3 (ipykernel)",
   "language": "python",
   "name": "python3"
  },
  "language_info": {
   "codemirror_mode": {
    "name": "ipython",
    "version": 3
   },
   "file_extension": ".py",
   "mimetype": "text/x-python",
   "name": "python",
   "nbconvert_exporter": "python",
   "pygments_lexer": "ipython3",
   "version": "3.10.9"
  }
 },
 "nbformat": 4,
 "nbformat_minor": 5
}
