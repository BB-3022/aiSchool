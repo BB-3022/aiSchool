{
 "cells": [
  {
   "cell_type": "code",
   "execution_count": 1,
   "id": "d3b429c6",
   "metadata": {},
   "outputs": [],
   "source": [
    "def number_sum(num1, num2) :\n",
    "    r = num1 + num2\n",
    "    return r"
   ]
  },
  {
   "cell_type": "code",
   "execution_count": 37,
   "id": "743e7104",
   "metadata": {},
   "outputs": [],
   "source": [
    "def cal(num1, num2=3, op='+') :\n",
    "    \"\"\"덧셈과 뺄셈을 계산하는 함수\"\"\"\n",
    "    if op =='+' :\n",
    "        return num1 + num2\n",
    "    elif op =='-' :\n",
    "        return num1 - num2\n",
    "    else :\n",
    "        return '연산기호가 바르지 않습니다.'"
   ]
  },
  {
   "cell_type": "code",
   "execution_count": 18,
   "id": "0af660fc",
   "metadata": {},
   "outputs": [
    {
     "name": "stdout",
     "output_type": "stream",
     "text": [
      "첫 번째 정수 입력 >> 5\n",
      "두 번째 정수 입력 >> 3\n",
      "연산자 입력(+,-) >> /\n",
      "결과 : 연산기호가 바르지 않습니다.\n"
     ]
    }
   ],
   "source": [
    "num1 = int(input(\"첫 번째 정수 입력 >> \"))\n",
    "num2 = int(input(\"두 번째 정수 입력 >> \"))\n",
    "op = input(\"연산자 입력(+,-) >> \")\n",
    "result = cal(num1, num2, op)\n",
    "print(\"결과 : {}\".format(result))"
   ]
  },
  {
   "cell_type": "code",
   "execution_count": 34,
   "id": "5f48fbed",
   "metadata": {},
   "outputs": [
    {
     "data": {
      "text/plain": [
       "-2"
      ]
     },
     "execution_count": 34,
     "metadata": {},
     "output_type": "execute_result"
    }
   ],
   "source": [
    "cal(3,5,'-')"
   ]
  },
  {
   "cell_type": "code",
   "execution_count": 31,
   "id": "dc5cd4c1",
   "metadata": {},
   "outputs": [
    {
     "data": {
      "text/plain": [
       "5"
      ]
     },
     "execution_count": 31,
     "metadata": {},
     "output_type": "execute_result"
    }
   ],
   "source": [
    "cal(7,op='-')"
   ]
  },
  {
   "cell_type": "code",
   "execution_count": 40,
   "id": "60a5d56a",
   "metadata": {},
   "outputs": [
    {
     "name": "stdout",
     "output_type": "stream",
     "text": [
      "AB\n"
     ]
    }
   ],
   "source": [
    "cal(5,op='-')\n",
    "\n",
    "print(cal('A','B'))"
   ]
  },
  {
   "cell_type": "code",
   "execution_count": 41,
   "id": "cabf13d1",
   "metadata": {},
   "outputs": [
    {
     "name": "stdout",
     "output_type": "stream",
     "text": [
      "AB\n"
     ]
    }
   ],
   "source": [
    "print(cal('A','B'))"
   ]
  },
  {
   "cell_type": "code",
   "execution_count": 78,
   "id": "2f093165",
   "metadata": {},
   "outputs": [],
   "source": [
    "def add(*args) :\n",
    "    total = 0\n",
    "    for n in args :\n",
    "        total += n\n",
    "    return total"
   ]
  },
  {
   "cell_type": "code",
   "execution_count": 79,
   "id": "b704a6f6",
   "metadata": {},
   "outputs": [
    {
     "name": "stdout",
     "output_type": "stream",
     "text": [
      "6\n",
      "39\n"
     ]
    }
   ],
   "source": [
    "print(add(1,2,3))\n",
    "print(add(4,5,6,7,8,9))"
   ]
  },
  {
   "cell_type": "code",
   "execution_count": 58,
   "id": "b86b078f",
   "metadata": {},
   "outputs": [
    {
     "name": "stdout",
     "output_type": "stream",
     "text": [
      "add >> 123456\n"
     ]
    },
    {
     "ename": "TypeError",
     "evalue": "'int' object is not iterable",
     "output_type": "error",
     "traceback": [
      "\u001b[1;31m---------------------------------------------------------------------------\u001b[0m",
      "\u001b[1;31mTypeError\u001b[0m                                 Traceback (most recent call last)",
      "Cell \u001b[1;32mIn[58], line 3\u001b[0m\n\u001b[0;32m      1\u001b[0m add \u001b[38;5;241m=\u001b[39m \u001b[38;5;28mint\u001b[39m(\u001b[38;5;28minput\u001b[39m(\u001b[38;5;124m'\u001b[39m\u001b[38;5;124madd >> \u001b[39m\u001b[38;5;124m'\u001b[39m))\n\u001b[1;32m----> 3\u001b[0m \u001b[38;5;28;01mfor\u001b[39;00m i \u001b[38;5;129;01min\u001b[39;00m add :\n\u001b[0;32m      4\u001b[0m     \u001b[38;5;28mprint\u001b[39m(i)\n",
      "\u001b[1;31mTypeError\u001b[0m: 'int' object is not iterable"
     ]
    }
   ],
   "source": [
    "add = int(input('add >> '))\n",
    "\n",
    "for i in add :\n",
    "    print(i)"
   ]
  },
  {
   "cell_type": "code",
   "execution_count": 84,
   "id": "6cf5008e",
   "metadata": {},
   "outputs": [],
   "source": [
    "#return 키워드는 한번만 사용 가능하다.\n",
    "\n",
    "def add_sub(n1,n2) :\n",
    "    return n1+n2, n1-n2,\"더하기 빼기 결과\""
   ]
  },
  {
   "cell_type": "code",
   "execution_count": 83,
   "id": "49623002",
   "metadata": {},
   "outputs": [
    {
     "name": "stdout",
     "output_type": "stream",
     "text": [
      "12\n",
      "-6\n",
      "더하기 뺴기 결과\n"
     ]
    }
   ],
   "source": [
    "a,b,c = add_sub(3,9)\n",
    "print(a)\n",
    "print(b)\n",
    "print(c)"
   ]
  },
  {
   "cell_type": "code",
   "execution_count": 85,
   "id": "dc00a280",
   "metadata": {},
   "outputs": [],
   "source": [
    "import random\n"
   ]
  },
  {
   "cell_type": "code",
   "execution_count": 96,
   "id": "f24ee2d2",
   "metadata": {},
   "outputs": [],
   "source": [
    "def isDuplicate(li):\n",
    "    for i in len(li) :\n",
    "        for k in len(li) :\n",
    "            li[i]==li[k]\n",
    "            "
   ]
  },
  {
   "cell_type": "code",
   "execution_count": 97,
   "id": "9a0788f1",
   "metadata": {},
   "outputs": [
    {
     "data": {
      "text/plain": [
       "<function __main__.rdNumber()>"
      ]
     },
     "execution_count": 97,
     "metadata": {},
     "output_type": "execute_result"
    }
   ],
   "source": []
  },
  {
   "cell_type": "code",
   "execution_count": null,
   "id": "7385c225",
   "metadata": {},
   "outputs": [],
   "source": []
  },
  {
   "cell_type": "code",
   "execution_count": null,
   "id": "68ce8117",
   "metadata": {},
   "outputs": [],
   "source": []
  }
 ],
 "metadata": {
  "kernelspec": {
   "display_name": "Python 3 (ipykernel)",
   "language": "python",
   "name": "python3"
  },
  "language_info": {
   "codemirror_mode": {
    "name": "ipython",
    "version": 3
   },
   "file_extension": ".py",
   "mimetype": "text/x-python",
   "name": "python",
   "nbconvert_exporter": "python",
   "pygments_lexer": "ipython3",
   "version": "3.10.9"
  }
 },
 "nbformat": 4,
 "nbformat_minor": 5
}
