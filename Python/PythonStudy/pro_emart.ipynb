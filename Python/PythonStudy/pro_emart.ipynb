{
 "cells": [
  {
   "cell_type": "code",
   "execution_count": 18,
   "id": "59029b96-8126-4767-9f1c-96c4aae92a72",
   "metadata": {},
   "outputs": [
    {
     "name": "stdout",
     "output_type": "stream",
     "text": [
      "{'판매처명': 'SSG.COM', '상품명': '[기획] 유명산지 초록사과 2kg (봉)', '원가': '20,000원', '할인가격': '10,000', '할인율': '50%', '링크': 'https://www.ssg.com/item/itemView.ssg?itemId=2097001689042&siteNo=7009&salestrNo=2449', '구분': '과일', '이미지링크': 'https://sitem.ssgcdn.com/42/90/68/item/2097001689042_i1_90.jpg'}\n",
      "{'판매처명': 'SSG.COM', '상품명': '페루산 아보카도 스페셜 팩 2.5kg (10~12입)', '원가': '27,800원', '할인가격': '11,120', '할인율': '60%', '링크': 'https://www.ssg.com/item/itemView.ssg?itemId=2097001682623&siteNo=7009&salestrNo=2449', '구분': '과일', '이미지링크': 'https://sitem.ssgcdn.com/23/26/68/item/2097001682623_i1_90.jpg'}\n",
      "{'판매처명': 'SSG.COM', '상품명': '유명산지 거봉 1.5kg (박스)', '원가': '39,900원', '할인가격': '19,950', '할인율': '50%', '링크': 'https://www.ssg.com/item/itemView.ssg?itemId=2097001234495&siteNo=7009&salestrNo=2449', '구분': '과일', '이미지링크': 'https://sitem.ssgcdn.com/95/44/23/item/2097001234495_i1_90.jpg'}\n",
      "{'판매처명': 'SSG.COM', '상품명': '[남아공산] 잭슨자몽 4~6입/봉 (1.4kg내외)', '원가': '10,980원', '할인가격': '5,980', '할인율': '45%', '링크': 'https://www.ssg.com/item/itemView.ssg?itemId=1000036564361&siteNo=6001&salestrNo=2037', '구분': '과일', '이미지링크': 'https://sitem.ssgcdn.com/61/43/56/item/1000036564361_i1_90.jpg'}\n",
      "{'판매처명': 'SSG.COM', '상품명': '뉴질랜드산 제스프리 점보 골드키위 스페셜 2.3kg (13~18입/팩)', '원가': '34,800원', '할인가격': '19,140', '할인율': '45%', '링크': 'https://www.ssg.com/item/itemView.ssg?itemId=2097001619414&siteNo=7009&salestrNo=2449', '구분': '과일', '이미지링크': 'https://sitem.ssgcdn.com/14/94/61/item/2097001619414_i1_90.jpg'}\n",
      "{'판매처명': 'SSG.COM', '상품명': '뉴질랜드산 제스프리 그린키위 스페셜 1.9kg (15~22입/팩)', '원가': '19,800원', '할인가격': '10,890', '할인율': '45%', '링크': 'https://www.ssg.com/item/itemView.ssg?itemId=2097001497203&siteNo=7009&salestrNo=2449', '구분': '과일', '이미지링크': 'https://sitem.ssgcdn.com/03/72/49/item/2097001497203_i1_90.jpg'}\n",
      "{'판매처명': 'SSG.COM', '상품명': '페루산 아보카도 1.2kg (6입/망)', '원가': '14,800원', '할인가격': '8,800', '할인율': '40%', '링크': 'https://www.ssg.com/item/itemView.ssg?itemId=2097001003442&siteNo=7009&salestrNo=2449', '구분': '과일', '이미지링크': 'https://sitem.ssgcdn.com/42/34/00/item/2097001003442_i1_90.jpg'}\n",
      "{'판매처명': 'SSG.COM', '상품명': '완숙토마토 1.2kg(팩)', '원가': '9,900원', '할인가격': '5,900', '할인율': '40%', '링크': 'https://www.ssg.com/item/itemView.ssg?itemId=2097001515051&siteNo=7009&salestrNo=2449', '구분': '과일', '이미지링크': 'https://sitem.ssgcdn.com/51/50/51/item/2097001515051_i1_90.jpg'}\n",
      "{'판매처명': 'SSG.COM', '상품명': '뉴질랜드산 제스프리 점보 유기농 골드키위 6~7입 1kg (팩)', '원가': '19,800원', '할인가격': '11,800', '할인율': '40%', '링크': 'https://www.ssg.com/item/itemView.ssg?itemId=2097001400487&siteNo=7009&salestrNo=2449', '구분': '과일', '이미지링크': 'https://sitem.ssgcdn.com/87/04/40/item/2097001400487_i1_90.jpg'}\n",
      "{'판매처명': 'SSG.COM', '상품명': '친환경 토마토(900g/팩. 4~8입)', '원가': '7,980원', '할인가격': '4,788', '할인율': '40%', '링크': 'https://www.ssg.com/item/itemView.ssg?itemId=2097001279946&siteNo=7009&salestrNo=2449', '구분': '친환경/유기농', '이미지링크': 'https://sitem.ssgcdn.com/46/99/27/item/2097001279946_i1_90.jpg'}\n",
      "{'판매처명': 'SSG.COM', '상품명': '포모사 자두 1kg/팩', '원가': '14,980원', '할인가격': '8,980', '할인율': '40%', '링크': 'https://www.ssg.com/item/itemView.ssg?itemId=0000006613620&siteNo=6001&salestrNo=2037', '구분': '과일', '이미지링크': 'https://sitem.ssgcdn.com/20/36/61/item/0000006613620_i1_90.jpg'}\n",
      "{'판매처명': 'SSG.COM', '상품명': '미국산 生체리 500g/팩 (10ROW)', '원가': '18,800원', '할인가격': '11,800', '할인율': '37%', '링크': 'https://www.ssg.com/item/itemView.ssg?itemId=2097001412527&siteNo=7009&salestrNo=2449', '구분': '과일', '이미지링크': 'https://sitem.ssgcdn.com/27/25/41/item/2097001412527_i1_90.jpg'}\n",
      "{'판매처명': 'SSG.COM', '상품명': '친환경 토마토(1.5kg/팩)', '원가': '10,900원', '할인가격': '6,900', '할인율': '36%', '링크': 'https://www.ssg.com/item/itemView.ssg?itemId=2097001279434&siteNo=7009&salestrNo=2449', '구분': '친환경/유기농', '이미지링크': 'https://sitem.ssgcdn.com/34/94/27/item/2097001279434_i1_90.jpg'}\n",
      "{'판매처명': 'SSG.COM', '상품명': '저탄소 천도복숭아(800g/팩)', '원가': '10,980원', '할인가격': '6,980', '할인율': '36%', '링크': 'https://www.ssg.com/item/itemView.ssg?itemId=2097001416365&siteNo=7009&salestrNo=2449', '구분': '친환경/유기농', '이미지링크': 'https://sitem.ssgcdn.com/65/63/41/item/2097001416365_i1_90.jpg'}\n",
      "{'판매처명': 'SSG.COM', '상품명': '국내산 블루베리 200g(팩)', '원가': '10,980원', '할인가격': '6,980', '할인율': '36%', '링크': 'https://www.ssg.com/item/itemView.ssg?itemId=2097000952734&siteNo=7009&salestrNo=2449', '구분': '과일', '이미지링크': 'https://sitem.ssgcdn.com/34/27/95/item/2097000952734_i1_90.jpg'}\n",
      "{'판매처명': 'SSG.COM', '상품명': '국내산 블루베리 500g (팩)', '원가': '24,800원', '할인가격': '15,800', '할인율': '36%', '링크': 'https://www.ssg.com/item/itemView.ssg?itemId=2097000968421&siteNo=7009&salestrNo=2449', '구분': '과일', '이미지링크': 'https://sitem.ssgcdn.com/21/84/96/item/2097000968421_i1_90.jpg'}\n",
      "{'판매처명': 'SSG.COM', '상품명': '[당도선별] 부드러운 복숭아 1.5kg (박스)', '원가': '24,800원', '할인가격': '15,800', '할인율': '36%', '링크': 'https://www.ssg.com/item/itemView.ssg?itemId=2097000825397&siteNo=7009&salestrNo=2449', '구분': '과일', '이미지링크': 'https://sitem.ssgcdn.com/97/53/82/item/2097000825397_i1_90.jpg'}\n",
      "{'판매처명': 'SSG.COM', '상품명': '[당도선별] 아삭한 복숭아 1.5kg (박스)', '원가': '24,900원', '할인가격': '15,900', '할인율': '36%', '링크': 'https://www.ssg.com/item/itemView.ssg?itemId=2097000825403&siteNo=7009&salestrNo=2449', '구분': '과일', '이미지링크': 'https://sitem.ssgcdn.com/03/54/82/item/2097000825403_i1_90.jpg'}\n"
     ]
    }
   ],
   "source": [
    "from selenium import webdriver\n",
    "from selenium.webdriver.common.keys import Keys\n",
    "from selenium.webdriver.common.by import By\n",
    "from bs4 import BeautifulSoup\n",
    "from selenium.webdriver.support.ui import WebDriverWait\n",
    "from selenium.webdriver.support import expected_conditions as EC\n",
    "\n",
    "import time\n",
    "\n",
    "driver = webdriver.Chrome()\n",
    "\n",
    "#과일\n",
    "url = 'https://www.ssg.com/disp/category.ssg?dispCtgId=6000092893&sort=dcrt'\n",
    "#채소\n",
    "#url = 'https://www.ssg.com/disp/category.ssg?dispCtgId=6000092894&sort=dcrt'\n",
    "#정육/계란류\n",
    "#url = 'https://www.ssg.com/disp/category.ssg?dispCtgId=6000092896&sort=dcrt'\n",
    "#수산물/건해산/\n",
    "#url = 'https://www.ssg.com/disp/category.ssg?dispCtgId=6000092897&sort=dcrt'\n",
    "#우유/유제품\n",
    "#url = 'https://www.ssg.com/disp/category.ssg?dispCtgId=6000092898&sort=dcrt'\n",
    "#밀키트/간편식\n",
    "#url = 'https://www.ssg.com/disp/category.ssg?dispCtgId=6000092899&sort=dcrt'\n",
    "#생수/음료/주류\n",
    "#url = 'https://www.ssg.com/disp/category.ssg?dispCtgId=6000092904&sort=dcrt'\n",
    "#면류/통조림\n",
    "#url = 'https://www.ssg.com/disp/category.ssg?dispCtgId=6000092901&sort=dcrt'\n",
    "#과자/간식\n",
    "#url = 'https://www.ssg.com/disp/category.ssg?dispCtgId=6000092902&sort=dcrt'\n",
    "#건강식품\n",
    "#url = 'https://www.ssg.com/disp/category.ssg?dispCtgId=6000092907&sort=dcrt'\n",
    "\n",
    "driver.get(url)\n",
    "\n",
    "product_info_list = []\n",
    "\n",
    "for i in range (1,20) :\n",
    "    # 과일 4번 항목 오류!\n",
    "    # if i == 4:\n",
    "    #     continue\n",
    "    driver.get(url)\n",
    "    product = f'//*[@id=\"ty_thmb_view\"]/ul/li[{i}]/div[1]/div[2]/a'\n",
    "    driver.find_element(By.XPATH, product).click()\n",
    "    \n",
    "    wait = WebDriverWait(driver, 1)\n",
    "    wait.until(EC.presence_of_element_located((By.CSS_SELECTOR, '.cdtl_info_tit_txt')))\n",
    " \n",
    "    product_info = {}\n",
    "    \n",
    "    try:    \n",
    "        product_info['판매처명'] = driver.find_element(By.CSS_SELECTOR, '.lo_menu.clickable').text.strip()\n",
    "        product_info['상품명'] = driver.find_element(By.CSS_SELECTOR, '.cdtl_info_tit_txt').text.strip()\n",
    "        product_info['원가'] = driver.find_element(By.CSS_SELECTOR, '.cdtl_optprice .cdtl_old_price .ssg_price').text.strip()\n",
    "        product_info['할인가격'] = driver.find_element(By.CSS_SELECTOR, '.cdtl_optprice .cdtl_new_price .ssg_price').text.strip()\n",
    "        product_info['할인율'] = driver.find_element(By.CSS_SELECTOR, '.ssg_percent').text.strip()\n",
    "        product_info['링크'] = driver.current_url\n",
    "        product_info['구분'] = driver.find_element(By.CSS_SELECTOR, '.lo_menu.lo_arr.clickable').text.strip()\n",
    "        img_elements = driver.find_elements(By.CLASS_NAME, 'zoom_thumb') \n",
    "        product_info['이미지링크'] = img_elements[0].get_attribute('src') if img_elements else None\n",
    "\n",
    "    except:\n",
    "        pass\n",
    "    \n",
    "    product_info_list.append(product_info)\n",
    "\n",
    "    time.sleep(3)\n",
    "    \n",
    "#driver.quit()\n",
    "\n",
    "for product_info in product_info_list:\n",
    "    print(product_info)"
   ]
  },
  {
   "cell_type": "code",
   "execution_count": null,
   "id": "5602fbc8-a20d-4d74-a688-a790b179b2df",
   "metadata": {},
   "outputs": [],
   "source": []
  },
  {
   "cell_type": "code",
   "execution_count": null,
   "id": "0ac0b7fb-8f76-4811-9b05-b188b1e9de45",
   "metadata": {},
   "outputs": [],
   "source": []
  },
  {
   "cell_type": "code",
   "execution_count": null,
   "id": "5d3c5162-79c2-4864-a693-0dc88122980e",
   "metadata": {},
   "outputs": [],
   "source": []
  },
  {
   "cell_type": "code",
   "execution_count": null,
   "id": "9faf22a2-98e2-49f6-9e62-0331102fdd7e",
   "metadata": {},
   "outputs": [],
   "source": []
  },
  {
   "cell_type": "code",
   "execution_count": null,
   "id": "5fed2507-16f1-4d16-bac3-8b7f3d7def5e",
   "metadata": {},
   "outputs": [],
   "source": []
  },
  {
   "cell_type": "code",
   "execution_count": null,
   "id": "44ccc4c5-f86d-4269-879c-6f3a2fcdd20b",
   "metadata": {},
   "outputs": [],
   "source": []
  },
  {
   "cell_type": "code",
   "execution_count": null,
   "id": "a92c7e61-08fd-45b9-bc43-c0ac22ff1471",
   "metadata": {},
   "outputs": [],
   "source": []
  },
  {
   "cell_type": "code",
   "execution_count": null,
   "id": "0b825376-6115-4619-9ba9-00c34b557e95",
   "metadata": {},
   "outputs": [],
   "source": []
  },
  {
   "cell_type": "code",
   "execution_count": null,
   "id": "73936206-8704-4254-9550-0223b585963c",
   "metadata": {},
   "outputs": [],
   "source": []
  },
  {
   "cell_type": "code",
   "execution_count": null,
   "id": "4870ea50-42e0-465f-86ce-f59ad6ef8f20",
   "metadata": {},
   "outputs": [],
   "source": []
  }
 ],
 "metadata": {
  "kernelspec": {
   "display_name": "Python 3 (ipykernel)",
   "language": "python",
   "name": "python3"
  },
  "language_info": {
   "codemirror_mode": {
    "name": "ipython",
    "version": 3
   },
   "file_extension": ".py",
   "mimetype": "text/x-python",
   "name": "python",
   "nbconvert_exporter": "python",
   "pygments_lexer": "ipython3",
   "version": "3.10.9"
  }
 },
 "nbformat": 4,
 "nbformat_minor": 5
}
