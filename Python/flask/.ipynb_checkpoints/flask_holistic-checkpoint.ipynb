{
 "cells": [
  {
   "cell_type": "code",
   "execution_count": 6,
   "id": "2c5551ba-8799-4dee-8a85-503bdaed68b3",
   "metadata": {},
   "outputs": [
    {
     "name": "stdout",
     "output_type": "stream",
     "text": [
      "Requirement already satisfied: Flask in c:\\users\\gjaischool1\\anaconda3\\envs\\opencv\\lib\\site-packages (3.0.0)\n",
      "Requirement already satisfied: Werkzeug>=3.0.0 in c:\\users\\gjaischool1\\anaconda3\\envs\\opencv\\lib\\site-packages (from Flask) (3.0.1)\n",
      "Requirement already satisfied: Jinja2>=3.1.2 in c:\\users\\gjaischool1\\anaconda3\\envs\\opencv\\lib\\site-packages (from Flask) (3.1.2)\n",
      "Requirement already satisfied: itsdangerous>=2.1.2 in c:\\users\\gjaischool1\\anaconda3\\envs\\opencv\\lib\\site-packages (from Flask) (2.1.2)\n",
      "Requirement already satisfied: click>=8.1.3 in c:\\users\\gjaischool1\\anaconda3\\envs\\opencv\\lib\\site-packages (from Flask) (8.1.7)\n",
      "Requirement already satisfied: blinker>=1.6.2 in c:\\users\\gjaischool1\\anaconda3\\envs\\opencv\\lib\\site-packages (from Flask) (1.7.0)\n",
      "Requirement already satisfied: importlib-metadata>=3.6.0 in c:\\users\\gjaischool1\\anaconda3\\envs\\opencv\\lib\\site-packages (from Flask) (6.8.0)\n",
      "Requirement already satisfied: colorama in c:\\users\\gjaischool1\\anaconda3\\envs\\opencv\\lib\\site-packages (from click>=8.1.3->Flask) (0.4.6)\n",
      "Requirement already satisfied: zipp>=0.5 in c:\\users\\gjaischool1\\anaconda3\\envs\\opencv\\lib\\site-packages (from importlib-metadata>=3.6.0->Flask) (3.17.0)\n",
      "Requirement already satisfied: MarkupSafe>=2.0 in c:\\users\\gjaischool1\\anaconda3\\envs\\opencv\\lib\\site-packages (from Jinja2>=3.1.2->Flask) (2.1.3)\n"
     ]
    }
   ],
   "source": [
    "!pip install Flask"
   ]
  },
  {
   "cell_type": "code",
   "execution_count": null,
   "id": "bc72576f-3240-4177-902d-6ed46404a01b",
   "metadata": {},
   "outputs": [
    {
     "name": "stdout",
     "output_type": "stream",
     "text": [
      " * Serving Flask app '__main__'\n",
      " * Debug mode: off\n"
     ]
    },
    {
     "name": "stderr",
     "output_type": "stream",
     "text": [
      "WARNING: This is a development server. Do not use it in a production deployment. Use a production WSGI server instead.\n",
      " * Running on http://192.168.0.98:9000\n",
      "Press CTRL+C to quit\n"
     ]
    }
   ],
   "source": [
    "import cv2\n",
    "import mediapipe as mp\n",
    "from flask import Flask # 플라스크 클래스 임포트\n",
    "# 웹캠 초기화\n",
    "    cap = cv2.VideoCapture(0)\n",
    "    \n",
    "    # Mediapipe의 Holistic 모델 초기화\n",
    "    holistic = mp.solutions.holistic.Holistic(min_detection_confidence=0.5, min_tracking_confidence=0.5)\n",
    "    \n",
    "    # Mediapipe의 그리기 도구 초기화\n",
    "    mp_drawing = mp.solutions.drawing_utils\n",
    "    \n",
    "    # 웹캠이 열려 있는 동안 루프 실행\n",
    "    while cap.isOpened():\n",
    "        # 웹캠 프레임 읽기\n",
    "        ret, frame = cap.read()\n",
    "    \n",
    "        # 이미지 색상 변환 (BGR -> RGB)\n",
    "        image = cv2.cvtColor(frame, cv2.COLOR_BGR2RGB)\n",
    "    \n",
    "        # Mediapipe를 사용하여 랜드마크 검출\n",
    "        results = holistic.process(image)\n",
    "    \n",
    "        # 이미지를 다시 RGB에서 BGR로 변환하여 렌더링에 사용\n",
    "        image = cv2.cvtColor(image, cv2.COLOR_RGB2BGR)\n",
    "    \n",
    "        # 1. 얼굴 랜드마크 그리기\n",
    "        mp_drawing.draw_landmarks(image, results.face_landmarks, mp.solutions.holistic.FACEMESH_TESSELATION,\n",
    "                                 mp_drawing.DrawingSpec(color=(80, 110, 10), thickness=1, circle_radius=1),\n",
    "                                 mp_drawing.DrawingSpec(color=(80, 256, 121), thickness=1, circle_radius=1)\n",
    "                                 )\n",
    "    \n",
    "        # 2. 오른손 랜드마크 그리기\n",
    "        mp_drawing.draw_landmarks(image, results.right_hand_landmarks, mp.solutions.holistic.HAND_CONNECTIONS,\n",
    "                                 mp_drawing.DrawingSpec(color=(80, 22, 10), thickness=2, circle_radius=4),\n",
    "                                 mp_drawing.DrawingSpec(color=(80, 44, 121), thickness=2, circle_radius=2)\n",
    "                                 )\n",
    "    \n",
    "        # 3. 왼손 랜드마크 그리기\n",
    "        mp_drawing.draw_landmarks(image, results.left_hand_landmarks, mp.solutions.holistic.HAND_CONNECTIONS,\n",
    "                                 mp_drawing.DrawingSpec(color=(121, 22, 76), thickness=2, circle_radius=4),\n",
    "                                 mp_drawing.DrawingSpec(color=(121, 44, 250), thickness=2, circle_radius=2)\n",
    "                                 )\n",
    "    \n",
    "        # 4. 포즈 랜드마크 그리기\n",
    "        mp_drawing.draw_landmarks(image, results.pose_landmarks, mp.solutions.holistic.POSE_CONNECTIONS,\n",
    "                                 mp_drawing.DrawingSpec(color=(245, 117, 66), thickness=2, circle_radius=4),\n",
    "                                 mp_drawing.DrawingSpec(color=(245, 66, 230), thickness=2, circle_radius=2)\n",
    "                                 )\n",
    "    \n",
    "        # 웹캠에 이미지 렌더링\n",
    "        cv2.imshow('Raw Webcam Feed', image)\n",
    "    \n",
    "        # 'q' 키를 눌렀을 때 종료\n",
    "        if cv2.waitKey(10) & 0xFF == ord('q'):\n",
    "            break\n",
    "    \n",
    "    # 웹캠 해제\n",
    "    cap.release()\n",
    "    \n",
    "    # 창 닫기\n",
    "    cv2.destroyAllWindows()\n",
    "app = Flask(__name__) # 내장변수 name을 이용해 서버를 구동시키는 객체 생성\n",
    "\n",
    "@app.route(\"/\")\n",
    "def hello() :\n",
    "       \n",
    "    \n",
    "\n",
    "@app.route(\"/bye\")\n",
    "def bye() :\n",
    "    return \"안녕히가세요.\"\n",
    "\n",
    "if __name__ == \"__main__\" : # .py 파일에서 main함수 역할\n",
    "    app.run(host=\"192.168.0.98\", port=\"9000\")"
   ]
  },
  {
   "cell_type": "code",
   "execution_count": 7,
   "id": "8a15c96e-83e5-496e-b394-e764f66f8945",
   "metadata": {},
   "outputs": [],
   "source": []
  },
  {
   "cell_type": "code",
   "execution_count": null,
   "id": "1d43fcab-ff02-4d49-9743-1804bde08fa5",
   "metadata": {},
   "outputs": [],
   "source": []
  },
  {
   "cell_type": "code",
   "execution_count": null,
   "id": "b190bc69-5587-477c-9214-55c262479f59",
   "metadata": {},
   "outputs": [],
   "source": []
  },
  {
   "cell_type": "code",
   "execution_count": null,
   "id": "13f001dc-4bc4-4ccd-b28a-d8035f827de5",
   "metadata": {},
   "outputs": [],
   "source": []
  },
  {
   "cell_type": "code",
   "execution_count": null,
   "id": "234f8ad3-3fc3-4303-9f53-775de4fdb6c9",
   "metadata": {},
   "outputs": [],
   "source": []
  }
 ],
 "metadata": {
  "kernelspec": {
   "display_name": "Python 3 (ipykernel)",
   "language": "python",
   "name": "python3"
  },
  "language_info": {
   "codemirror_mode": {
    "name": "ipython",
    "version": 3
   },
   "file_extension": ".py",
   "mimetype": "text/x-python",
   "name": "python",
   "nbconvert_exporter": "python",
   "pygments_lexer": "ipython3",
   "version": "3.8.18"
  }
 },
 "nbformat": 4,
 "nbformat_minor": 5
}
