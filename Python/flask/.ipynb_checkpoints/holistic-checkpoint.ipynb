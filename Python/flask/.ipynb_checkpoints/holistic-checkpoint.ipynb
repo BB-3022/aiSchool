{
 "cells": [
  {
   "cell_type": "code",
   "execution_count": 1,
   "id": "20a3e9fe-a053-48f0-add9-9bd0fabb11f4",
   "metadata": {},
   "outputs": [
    {
     "name": "stdout",
     "output_type": "stream",
     "text": [
      "Requirement already satisfied: Flask in c:\\users\\gjaischool1\\anaconda3\\envs\\opencv\\lib\\site-packages (3.0.0)\n",
      "Requirement already satisfied: Werkzeug>=3.0.0 in c:\\users\\gjaischool1\\anaconda3\\envs\\opencv\\lib\\site-packages (from Flask) (3.0.1)\n",
      "Requirement already satisfied: Jinja2>=3.1.2 in c:\\users\\gjaischool1\\anaconda3\\envs\\opencv\\lib\\site-packages (from Flask) (3.1.2)\n",
      "Requirement already satisfied: itsdangerous>=2.1.2 in c:\\users\\gjaischool1\\anaconda3\\envs\\opencv\\lib\\site-packages (from Flask) (2.1.2)\n",
      "Requirement already satisfied: click>=8.1.3 in c:\\users\\gjaischool1\\anaconda3\\envs\\opencv\\lib\\site-packages (from Flask) (8.1.7)\n",
      "Requirement already satisfied: blinker>=1.6.2 in c:\\users\\gjaischool1\\anaconda3\\envs\\opencv\\lib\\site-packages (from Flask) (1.7.0)\n",
      "Requirement already satisfied: importlib-metadata>=3.6.0 in c:\\users\\gjaischool1\\anaconda3\\envs\\opencv\\lib\\site-packages (from Flask) (6.8.0)\n",
      "Requirement already satisfied: colorama in c:\\users\\gjaischool1\\anaconda3\\envs\\opencv\\lib\\site-packages (from click>=8.1.3->Flask) (0.4.6)\n",
      "Requirement already satisfied: zipp>=0.5 in c:\\users\\gjaischool1\\anaconda3\\envs\\opencv\\lib\\site-packages (from importlib-metadata>=3.6.0->Flask) (3.17.0)\n",
      "Requirement already satisfied: MarkupSafe>=2.0 in c:\\users\\gjaischool1\\anaconda3\\envs\\opencv\\lib\\site-packages (from Jinja2>=3.1.2->Flask) (2.1.3)\n"
     ]
    }
   ],
   "source": [
    "!pip install Flask"
   ]
  },
  {
   "cell_type": "code",
   "execution_count": 4,
   "id": "b3b6d190-079a-4ad5-8dec-631a7273a6e7",
   "metadata": {},
   "outputs": [
    {
     "name": "stdout",
     "output_type": "stream",
     "text": [
      " * Serving Flask app '__main__'\n",
      " * Debug mode: off\n"
     ]
    },
    {
     "name": "stderr",
     "output_type": "stream",
     "text": [
      "WARNING: This is a development server. Do not use it in a production deployment. Use a production WSGI server instead.\n",
      " * Running on http://192.168.0.98:9000\n",
      "Press CTRL+C to quit\n",
      "192.168.0.98 - - [06/Nov/2023 10:22:09] \"GET / HTTP/1.1\" 200 -\n",
      "192.168.0.98 - - [06/Nov/2023 10:22:09] \"GET /favicon.ico HTTP/1.1\" 404 -\n",
      "192.168.0.98 - - [06/Nov/2023 10:22:27] \"GET / HTTP/1.1\" 200 -\n",
      "192.168.0.98 - - [06/Nov/2023 10:22:39] \"GET /bye HTTP/1.1\" 200 -\n",
      "192.168.0.98 - - [06/Nov/2023 10:24:35] \"GET / HTTP/1.1\" 200 -\n"
     ]
    }
   ],
   "source": [
    "from flask import Flask # 플라스크 클래스 임포트\n",
    "\n",
    "app = Flask(__name__) # 내장변수 name을 이용해 서버를 구동시키는 객체 생성\n",
    "\n",
    "@app.route(\"/\")\n",
    "def hello() :\n",
    "    return \"어서오세요.\"\n",
    "\n",
    "@app.route(\"/bye\")\n",
    "def bye() :\n",
    "    return \"안녕히가세요.\"\n",
    "\n",
    "if __name__ == \"__main__\" : # .py 파일에서 main함수 역할\n",
    "    app.run(host=\"192.168.0.98\", port=\"9000\")\n"
   ]
  },
  {
   "cell_type": "code",
   "execution_count": 8,
   "id": "ea7e2e67-e053-4b3d-a6e9-762e343ec910",
   "metadata": {},
   "outputs": [
    {
     "name": "stdout",
     "output_type": "stream",
     "text": [
      " * Serving Flask app '__main__'\n",
      " * Debug mode: on\n"
     ]
    },
    {
     "name": "stderr",
     "output_type": "stream",
     "text": [
      "WARNING: This is a development server. Do not use it in a production deployment. Use a production WSGI server instead.\n",
      " * Running on http://192.168.0.98:9000\n",
      "Press CTRL+C to quit\n",
      " * Restarting with stat\n"
     ]
    },
    {
     "ename": "SystemExit",
     "evalue": "1",
     "output_type": "error",
     "traceback": [
      "An exception has occurred, use %tb to see the full traceback.\n",
      "\u001b[1;31mSystemExit\u001b[0m\u001b[1;31m:\u001b[0m 1\n"
     ]
    },
    {
     "name": "stderr",
     "output_type": "stream",
     "text": [
      "C:\\Users\\gjaischool1\\anaconda3\\envs\\opencv\\lib\\site-packages\\IPython\\core\\interactiveshell.py:3516: UserWarning: To exit: use 'exit', 'quit', or Ctrl-D.\n",
      "  warn(\"To exit: use 'exit', 'quit', or Ctrl-D.\", stacklevel=1)\n"
     ]
    }
   ],
   "source": [
    "from flask import Flask, Response, render_template, jsionfy\n",
    "import cv2\n",
    "import mediapipe as mp\n",
    "import numpy as np\n",
    "from sklearn.neighbors import KNeighborsClassifier\n",
    "\n",
    "app = Flask(__name__)\n",
    "\n",
    "gesture = {\n",
    "    0: 'fist', 1: 'one', 2: 'two', 3: 'three', 4: 'four', 5: 'five',\n",
    "    6: 'six', 7: 'rock', 8: 'spiderman', 9: 'yeah', 10: 'ok',\n",
    "}\n",
    "\n",
    "file = np.genfromtxt('images/gesture_train.csv',delimiter = ',')\n",
    "angle = file[:, :-1].astype(np.float32) # 문제데이터\n",
    "label = file[:, -1].astype(np.float32) # 정답데이터\n",
    "\n",
    "# KNN 모델을 초기화하고 학습 데이터를 불러옵니다.\n",
    "knn = KNeighborsClassifier(n_neighbors=3)\n",
    "knn.fit(angle, label)\n",
    "\n",
    "# Mediapipe Hands 및 Face Mesh 설정\n",
    "mp_hands = mp.solutions.hands\n",
    "mp_drawing = mp.solutions.drawing_utils\n",
    "hands = mp_hands.Hands(max_num_hands=1, min_detection_confidence=0.5, min_tracking_confidence=0.5)\n",
    "\n",
    "mp_face_mesh = mp.solutions.face_mesh\n",
    "drawing_spec = mp_drawing.DrawingSpec(thickness=1, color=(0, 0, 255))\n",
    "face_mesh = mp_face_mesh.FaceMesh(min_detection_confidence=0.5, min_tracking_confidence=0.5)\n",
    "\n",
    "# 동영상 캡처 설정\n",
    "cap = cv2.VideoCapture(0)\n",
    "\n",
    "@app.route('/')\n",
    "def index():\n",
    "    return render_template('index.html')\n",
    "\n",
    "def generate_frames():\n",
    "    while True:\n",
    "        ret, img = cap.read()\n",
    "        img = cv2.flip(img, 1)\n",
    "        if not ret:\n",
    "            break\n",
    "\n",
    "        hand_result = hands.process(img)\n",
    "\n",
    "        if hand_result.multi_hand_landmarks is not None:\n",
    "            for res in hand_result.multi_hand_landmarks:\n",
    "                joint = np.zeros((21, 3))\n",
    "\n",
    "                for j, lm in enumerate(res.landmark):\n",
    "                    joint[j] = [lm.x, lm.y, lm.z]\n",
    "\n",
    "                v1 = joint[[0, 1, 2, 3, 0, 5, 6, 7, 0, 9, 10, 11, 0, 13, 14, 15, 0, 17, 18, 19], :]\n",
    "                v2 = joint[[1, 2, 3, 4, 5, 6, 7, 8, 9, 10, 11, 12, 13, 14, 15, 16, 17, 18, 19, 20], :]\n",
    "                v = v2 - v1\n",
    "                v = v / np.linalg.norm(v, axis=1)[:, np.newaxis]\n",
    "                angle = np.arccos(np.einsum('nt,nt->n', v[[0, 1, 2, 4, 5, 6, 8, 9, 10, 12, 13, 14, 16, 17, 18], :], v[[1, 2, 3, 5, 6, 7, 9, 10, 11, 13, 14, 15, 17, 18, 19], :]))\n",
    "                angle = np.degrees(angle)\n",
    "\n",
    "                data = np.array([angle], dtype=np.float32)\n",
    "                results = knn.predict(data)\n",
    "                idx = int(results)\n",
    "\n",
    "                mp_drawing.draw_landmarks(img, res, mp_hands.HAND_CONNECTIONS)\n",
    "\n",
    "                if idx == 7 or idx == 8:\n",
    "                    cv2.putText(img, text='SpiderMan', org=(int(res.landmark[0].x * img.shape[1]), int(res.landmark[0].y * img.shape[0] + 20)), fontFace=cv2.FONT_HERSHEY_SIMPLEX, fontScale=1, color=(255, 255, 255), thickness=2)\n",
    "                    face_result = face_mesh.process(img)\n",
    "\n",
    "                    if face_result.multi_face_landmarks is not None:\n",
    "                        face_landmarks = face_result.multi_face_landmarks[0]\n",
    "                        x = int(face_landmarks.landmark[4].x * img.shape[1])\n",
    "                        y = int(face_landmarks.landmark[4].y * img.shape[0])\n",
    "\n",
    "                        try:\n",
    "                            sub_img = img[y-150: y+150, x-150: x+150]\n",
    "                            img_bg = cv2.bitwise_and(sub_img, sub_img, mask=mask_b_spider)\n",
    "                            img_fg = cv2.bitwise_and(spider, spider, mask=mask_b_inv_spider)\n",
    "                            bg_fg = cv2.add(img_bg, img_fg)\n",
    "                            img[y-150: y+150, x-150: x+150] = bg_fg\n",
    "                        except:\n",
    "                            pass\n",
    "                elif idx == 0:\n",
    "                    cv2.putText(img, text='Tiger', org=(int(res.landmark[0].x * img.shape[1]), int(res.landmark[0].y * img.shape[0] + 20)), fontFace=cv2.FONT_HERSHEY_SIMPLEX, fontScale=1, color=(255, 255, 255), thickness=2)\n",
    "                    face_result = face_mesh.process(img)\n",
    "\n",
    "                    if face_result.multi_face_landmarks is not None:\n",
    "                        face_landmarks = face_result.multi_face_landmarks[0]\n",
    "                        x = int(face_landmarks.landmark[4].x * img.shape[1])\n",
    "                        y = int(face_landmarks.landmark[4].y * img.shape[0])\n",
    "\n",
    "                        try:\n",
    "                            sub_img = img[y-100: y+100, x-100: x+100]\n",
    "                            img_bg = cv2.bitwise_and(sub_img, sub_img, mask=mask_b_tiger)\n",
    "                            img_fg = cv2.bitwise_and(tiger, tiger, mask=mask_b_inv_tiger)\n",
    "                            bg_fg = cv2.add(img_bg, img_fg)\n",
    "                            img[y-100: y+100, x-100: x+100] = bg_fg\n",
    "                        except:\n",
    "                            pass\n",
    "\n",
    "        ret, buffer = cv2.imencode('.jpg', img)\n",
    "        frame = buffer.tobytes()\n",
    "        yield (b'--frame\\r\\n'\n",
    "               b'Content-Type: image/jpeg\\r\\n\\r\\n' + frame + b'\\r\\n')\n",
    "\n",
    "@app.route('/video_feed')\n",
    "def video_feed():\n",
    "    return Response(generate_frames(), mimetype='multipart/x-mixed-replace; boundary=frame')\n",
    "\n",
    "if __name__ == '__main__' : # .py 파일에서 main함수 역할\n",
    "    app.run(host='192.168.0.98', port=9000, debug=True)\n"
   ]
  },
  {
   "cell_type": "code",
   "execution_count": null,
   "id": "0cb46ccf-3a75-4cda-82f0-cdae3342988d",
   "metadata": {},
   "outputs": [],
   "source": []
  }
 ],
 "metadata": {
  "kernelspec": {
   "display_name": "Python 3 (ipykernel)",
   "language": "python",
   "name": "python3"
  },
  "language_info": {
   "codemirror_mode": {
    "name": "ipython",
    "version": 3
   },
   "file_extension": ".py",
   "mimetype": "text/x-python",
   "name": "python",
   "nbconvert_exporter": "python",
   "pygments_lexer": "ipython3",
   "version": "3.8.18"
  }
 },
 "nbformat": 4,
 "nbformat_minor": 5
}
