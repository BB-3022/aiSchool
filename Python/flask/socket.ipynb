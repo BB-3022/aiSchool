{
 "cells": [
  {
   "cell_type": "code",
   "execution_count": 2,
   "id": "c3b78260-340b-414a-ab89-ba635224de8a",
   "metadata": {},
   "outputs": [
    {
     "name": "stdout",
     "output_type": "stream",
     "text": [
      "Collecting flask-socketioNote: you may need to restart the kernel to use updated packages.\n",
      "\n",
      "  Obtaining dependency information for flask-socketio from https://files.pythonhosted.org/packages/56/c8/dc0be9e26272dc89342868ecc2d9ddb9e31002b4b8e49fdb754aa0f9ecbf/Flask_SocketIO-5.3.6-py3-none-any.whl.metadata\n",
      "  Downloading Flask_SocketIO-5.3.6-py3-none-any.whl.metadata (2.6 kB)\n",
      "Requirement already satisfied: Flask>=0.9 in c:\\users\\gjaischool1\\anaconda3\\envs\\opencv\\lib\\site-packages (from flask-socketio) (3.0.0)\n",
      "Collecting python-socketio>=5.0.2 (from flask-socketio)\n",
      "  Obtaining dependency information for python-socketio>=5.0.2 from https://files.pythonhosted.org/packages/f8/bf/4790ed063ca2daa58fb20285fc3707218cf01e174209355d081d83094f6d/python_socketio-5.10.0-py3-none-any.whl.metadata\n",
      "  Downloading python_socketio-5.10.0-py3-none-any.whl.metadata (3.2 kB)\n",
      "Requirement already satisfied: Werkzeug>=3.0.0 in c:\\users\\gjaischool1\\anaconda3\\envs\\opencv\\lib\\site-packages (from Flask>=0.9->flask-socketio) (3.0.1)\n",
      "Requirement already satisfied: Jinja2>=3.1.2 in c:\\users\\gjaischool1\\anaconda3\\envs\\opencv\\lib\\site-packages (from Flask>=0.9->flask-socketio) (3.1.2)\n",
      "Requirement already satisfied: itsdangerous>=2.1.2 in c:\\users\\gjaischool1\\anaconda3\\envs\\opencv\\lib\\site-packages (from Flask>=0.9->flask-socketio) (2.1.2)\n",
      "Requirement already satisfied: click>=8.1.3 in c:\\users\\gjaischool1\\anaconda3\\envs\\opencv\\lib\\site-packages (from Flask>=0.9->flask-socketio) (8.1.7)\n",
      "Requirement already satisfied: blinker>=1.6.2 in c:\\users\\gjaischool1\\anaconda3\\envs\\opencv\\lib\\site-packages (from Flask>=0.9->flask-socketio) (1.7.0)\n",
      "Requirement already satisfied: importlib-metadata>=3.6.0 in c:\\users\\gjaischool1\\anaconda3\\envs\\opencv\\lib\\site-packages (from Flask>=0.9->flask-socketio) (6.8.0)\n",
      "Collecting bidict>=0.21.0 (from python-socketio>=5.0.2->flask-socketio)\n",
      "  Downloading bidict-0.22.1-py3-none-any.whl (35 kB)\n",
      "Collecting python-engineio>=4.8.0 (from python-socketio>=5.0.2->flask-socketio)\n",
      "  Obtaining dependency information for python-engineio>=4.8.0 from https://files.pythonhosted.org/packages/8b/89/70ebee15c1ef37d3a5408dbb03e57aa226dc6f1921735ed8cd59ac2a0136/python_engineio-4.8.0-py3-none-any.whl.metadata\n",
      "  Downloading python_engineio-4.8.0-py3-none-any.whl.metadata (2.3 kB)\n",
      "Requirement already satisfied: colorama in c:\\users\\gjaischool1\\anaconda3\\envs\\opencv\\lib\\site-packages (from click>=8.1.3->Flask>=0.9->flask-socketio) (0.4.6)\n",
      "Requirement already satisfied: zipp>=0.5 in c:\\users\\gjaischool1\\anaconda3\\envs\\opencv\\lib\\site-packages (from importlib-metadata>=3.6.0->Flask>=0.9->flask-socketio) (3.17.0)\n",
      "Requirement already satisfied: MarkupSafe>=2.0 in c:\\users\\gjaischool1\\anaconda3\\envs\\opencv\\lib\\site-packages (from Jinja2>=3.1.2->Flask>=0.9->flask-socketio) (2.1.3)\n",
      "Collecting simple-websocket>=0.10.0 (from python-engineio>=4.8.0->python-socketio>=5.0.2->flask-socketio)\n",
      "  Obtaining dependency information for simple-websocket>=0.10.0 from https://files.pythonhosted.org/packages/6d/ea/288a8ac1d9551354488ff60c0ac6a76acc3b6b60f0460ac1944c75e240da/simple_websocket-1.0.0-py3-none-any.whl.metadata\n",
      "  Downloading simple_websocket-1.0.0-py3-none-any.whl.metadata (1.3 kB)\n",
      "Collecting wsproto (from simple-websocket>=0.10.0->python-engineio>=4.8.0->python-socketio>=5.0.2->flask-socketio)\n",
      "  Using cached wsproto-1.2.0-py3-none-any.whl (24 kB)\n",
      "Collecting h11<1,>=0.9.0 (from wsproto->simple-websocket>=0.10.0->python-engineio>=4.8.0->python-socketio>=5.0.2->flask-socketio)\n",
      "  Using cached h11-0.14.0-py3-none-any.whl (58 kB)\n",
      "Downloading Flask_SocketIO-5.3.6-py3-none-any.whl (18 kB)\n",
      "Downloading python_socketio-5.10.0-py3-none-any.whl (74 kB)\n",
      "   ---------------------------------------- 0.0/74.4 kB ? eta -:--:--\n",
      "   ---------------------------------------- 74.4/74.4 kB 4.0 MB/s eta 0:00:00\n",
      "Downloading python_engineio-4.8.0-py3-none-any.whl (56 kB)\n",
      "   ---------------------------------------- 0.0/56.8 kB ? eta -:--:--\n",
      "   ---------------------------------------- 56.8/56.8 kB 2.9 MB/s eta 0:00:00\n",
      "Downloading simple_websocket-1.0.0-py3-none-any.whl (13 kB)\n",
      "Installing collected packages: h11, bidict, wsproto, simple-websocket, python-engineio, python-socketio, flask-socketio\n",
      "Successfully installed bidict-0.22.1 flask-socketio-5.3.6 h11-0.14.0 python-engineio-4.8.0 python-socketio-5.10.0 simple-websocket-1.0.0 wsproto-1.2.0\n"
     ]
    }
   ],
   "source": [
    "pip install flask-socketio"
   ]
  },
  {
   "cell_type": "code",
   "execution_count": null,
   "id": "d53d03dc-2e2d-4419-9638-b5d09123cb2d",
   "metadata": {},
   "outputs": [
    {
     "name": "stdout",
     "output_type": "stream",
     "text": [
      " * Serving Flask app '__main__'\n",
      " * Debug mode: off\n"
     ]
    },
    {
     "name": "stderr",
     "output_type": "stream",
     "text": [
      "WARNING: This is a development server. Do not use it in a production deployment. Use a production WSGI server instead.\n",
      " * Running on http://192.168.0.98:9000\n",
      "Press CTRL+C to quit\n",
      "192.168.0.98 - - [08/Nov/2023 09:43:04] \"GET /socket.io/?EIO=4&transport=polling&t=OkiOVdV HTTP/1.1\" 200 -\n",
      "192.168.0.98 - - [08/Nov/2023 09:43:04] \"POST /socket.io/?EIO=4&transport=polling&t=OkiOVep&sid=d3fsUMnsgWybYP_ZAAAA HTTP/1.1\" 200 -\n",
      "192.168.0.98 - - [08/Nov/2023 09:43:04] \"GET /socket.io/?EIO=4&transport=polling&t=OkiOVer&sid=d3fsUMnsgWybYP_ZAAAA HTTP/1.1\" 200 -\n",
      "192.168.0.98 - - [08/Nov/2023 09:43:04] \"GET /socket.io/?EIO=4&transport=polling&t=OkiOVg3&sid=d3fsUMnsgWybYP_ZAAAA HTTP/1.1\" 200 -\n",
      "192.168.0.98 - - [08/Nov/2023 09:44:22] \"GET /socket.io/?EIO=4&transport=websocket&sid=d3fsUMnsgWybYP_ZAAAA HTTP/1.1\" 200 -\n"
     ]
    }
   ],
   "source": [
    "import cv2\n",
    "import mediapipe as mp\n",
    "import pandas as pd\n",
    "from flask import Flask, Response\n",
    "from flask_socketio import SocketIO\n",
    "\n",
    "app = Flask(__name__)\n",
    "\n",
    "# Flask-SocketIO에서 CORS를 모든 도메인에서 접근 허용으로 설정합니다.\n",
    "socketio = SocketIO(app, cors_allowed_origins=\"*\")\n",
    "\n",
    "# 전역 변수로 웹캠 초기화\n",
    "cap = cv2.VideoCapture(0)\n",
    "\n",
    "# 전역 변수로 Mediapipe Holistic 모델 초기화\n",
    "holistic = mp.solutions.holistic.Holistic(min_detection_confidence=0.5, min_tracking_confidence=0.5)\n",
    "\n",
    "# 전역 변수로 Mediapipe 그리기 도구 초기화\n",
    "mp_drawing = mp.solutions.drawing_utils\n",
    "\n",
    "@app.route(\"/\")\n",
    "def bye():\n",
    "    return Response(generate_frames(), mimetype='multipart/x-mixed-replace; boundary=frame')\n",
    "\n",
    "def generate_frames():\n",
    "    while cap.isOpened():\n",
    "        ret, frame = cap.read()\n",
    "        if not ret:\n",
    "            break\n",
    "\n",
    "        image = cv2.cvtColor(frame, cv2.COLOR_BGR2RGB)\n",
    "        results = holistic.process(image)\n",
    "        image = cv2.cvtColor(image, cv2.COLOR_RGB2BGR)\n",
    "\n",
    "        # 랜드마크 데이터 추출\n",
    "        landmarks = []\n",
    "\n",
    "        if results.pose_landmarks:\n",
    "            for idx, lm in enumerate(results.pose_landmarks.landmark):\n",
    "                landmarks.append([idx, lm.x, lm.y, lm.z])\n",
    "\n",
    "        # 랜드마크 데이터를 DataFrame으로 변환\n",
    "        landmarks_data = pd.DataFrame(landmarks, columns=[\"Index\", \"X\", \"Y\", \"Z\"])\n",
    "        print(landmarks_data)\n",
    "        \n",
    "        # CSV 파일로 저장\n",
    "        \n",
    "        #file_path = \"C:/User/gjaischool1/Desktop/Aischool/Python/flask/landmarks_data.csv\"\n",
    "        #landmarks_data.to_csv(file_path, mode='a', header=False, index=False)\n",
    "\n",
    "        mp_drawing.draw_landmarks(image, results.pose_landmarks, mp.solutions.holistic.POSE_CONNECTIONS,\n",
    "                                 mp_drawing.DrawingSpec(color=(245, 117, 66), thickness=2, circle_radius=4),\n",
    "                                 mp_drawing.DrawingSpec(color=(245, 66, 230), thickness=2, circle_radius=2))\n",
    "\n",
    "        ret, buffer = cv2.imencode('.jpg', image)\n",
    "        frame = buffer.tobytes()\n",
    "        yield (b'--frame\\r\\n'\n",
    "               b'Content-Type: image/jpeg\\r\\n\\r\\n' + frame + b'\\r\\n')\n",
    "\n",
    "if __name__ == \"__main__\":\n",
    "    app.run(host=\"192.168.0.98\", port=9000)\n"
   ]
  }
 ],
 "metadata": {
  "kernelspec": {
   "display_name": "Python 3 (ipykernel)",
   "language": "python",
   "name": "python3"
  },
  "language_info": {
   "codemirror_mode": {
    "name": "ipython",
    "version": 3
   },
   "file_extension": ".py",
   "mimetype": "text/x-python",
   "name": "python",
   "nbconvert_exporter": "python",
   "pygments_lexer": "ipython3",
   "version": "3.8.18"
  }
 },
 "nbformat": 4,
 "nbformat_minor": 5
}
