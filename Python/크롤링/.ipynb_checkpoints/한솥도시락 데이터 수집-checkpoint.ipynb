{
 "cells": [
  {
   "cell_type": "code",
   "execution_count": 9,
   "id": "077818d1-ef03-4767-a380-4ce811d6e45e",
   "metadata": {},
   "outputs": [],
   "source": [
    "# webdriver,By 필수, Keys 선택\n",
    "from selenium import webdriver as wb\n",
    "from selenium.webdriver.common.by import By\n",
    "from selenium.webdriver.common.keys import Keys"
   ]
  },
  {
   "cell_type": "code",
   "execution_count": 36,
   "id": "224c258b-afa9-4c17-ae0c-f2a8d2814884",
   "metadata": {},
   "outputs": [],
   "source": [
    "# 1.브라우저를 실행, 한솥사이트로 이동\n",
    "driver=wb.Chrome()\n",
    "driver.get(\"https://www.hsd.co.kr/menu/menu_list\")"
   ]
  },
  {
   "cell_type": "code",
   "execution_count": 30,
   "id": "dfd37c3a-1829-4e16-b774-9af590d2acd6",
   "metadata": {},
   "outputs": [
    {
     "name": "stdout",
     "output_type": "stream",
     "text": [
      "오리 영양도시락\n",
      "통살 오징어튀김\n",
      "열무 감초고추장 비빔밥\n",
      "열무 두부강된장 비빔밥\n",
      "[8월할인메뉴] 토네이도 소세지\n",
      "[8월할인메뉴] 토핑-계란후라이\n",
      "[8월할인메뉴] 치킨2조각\n",
      "[8월할인메뉴] 토핑-스팸\n",
      "[8월할인메뉴] 빅치킨마요\n",
      "[8월할인메뉴] 치킨마요\n",
      "[8월할인메뉴] 카츠카츠 도시락\n",
      "[8월할인메뉴] 핫 치즈 닭갈비 덮밥\n",
      "[8월할인메뉴] 오리지널 치즈 닭갈비 덮밥\n",
      "[8월할인메뉴] 돈까스도련님 고기고기\n",
      "[8월행사메뉴] 숯불직화구이 덮밥\n",
      "[8월할인메뉴] 진달래\n",
      "[8월할인메뉴] 통현미 닭강정(소)\n",
      "[8월할인메뉴] 스팸 김치볶음밥\n",
      "해바라기\n",
      "매화\n",
      "진달래\n",
      "개나리\n",
      "돈까스도련님고기고기\n",
      "탕수육도련님고기고기\n",
      "새치 고기고기\n",
      "돈치 고기고기\n",
      "카츠카츠 도시락\n",
      "숯불직화구이\n",
      "소불고기\n",
      "메가치킨제육\n",
      "칠리 찹쌀탕수육도련님\n",
      "동백\n",
      "치킨제육\n",
      "돈까스도련님\n",
      "제육볶음\n",
      "돈치스팸 도시락\n",
      "제육 김치찌개 정식\n",
      "제육 김치 부대찌개 정식\n",
      "돈치스팸 김치 부대찌개 정식\n",
      "빅치킨마요 김치 부대찌개 정식\n",
      "치킨마요 김치 부대찌개 정식\n",
      "빅치킨마요 김치찌개 정식\n",
      "치킨마요 김치찌개 정식\n",
      "새후마요\n",
      "메가스팸마요\n",
      "스팸마요\n",
      "메가치킨마요\n",
      "왕치킨마요\n",
      "빅치킨마요\n",
      "치킨마요\n",
      "참치마요\n",
      "돈치마요\n",
      "돈까스 카레\n",
      "스팸 김치볶음밥\n",
      "김치볶음밥\n",
      "스팸철판볶음밥\n",
      "소불고기 철판볶음밥\n",
      "나시고랭\n",
      "묵은지 김치찌개\n",
      "김치 부대찌개\n",
      "핫 치즈 닭갈비덮밥\n",
      "오리지널 치즈 닭갈비덮밥\n",
      "숯불직화구이 덮밥\n",
      "마파두부 덮밥\n",
      "왕카레돈까스덮밥\n",
      "새우돈까스 덮밥\n",
      "돈까스 덮밥\n",
      "아보카도 훈제 닭가슴살 명란 비빔밥\n",
      "아보카도 소불고기 명란 비빔밥\n",
      "소불고기 감초고추장 비빔밥\n",
      "시골제육 두부강된장 비빔밥\n",
      "참치야채 감초고추장\n",
      "튼튼도시락\n",
      "반찬 묵은지김치찌개\n",
      "반찬 카레\n",
      "반찬 순살 고등어 간장구이\n",
      "반찬 김치 부대찌개\n",
      "반찬 치킨\n",
      "반찬 고기고기\n",
      "반찬 돈까스 도련님\n",
      "반찬 제육볶음\n",
      "반찬 토네이도 소세지\n",
      "반찬 반달돈까스\n",
      "치즈버터 해시 포테이토 스틱\n",
      "허니버터 해시 포테이토 스틱\n",
      "해시 포테이토 스틱\n",
      "뉴 감자고로케\n",
      "미니 찹쌀핫도그\n",
      "미니 찹쌀탕수육\n",
      "케이준후라이\n",
      "통현미 닭강정(소)\n",
      "통현미 닭강정(중)\n",
      "후라이드 순살(중)\n",
      "후라이드 순살(소)_양념치킨소스\n",
      "후라이드 순살(소)_케이준소스\n",
      "오리지널 닭강정(중)\n",
      "오리지널 닭강정(소)\n",
      "반찬 무생채\n",
      "3종 미니반찬B\n",
      "3종 미니반찬A\n",
      "반찬 열무김치\n",
      "오징어젓갈\n",
      "한솥 두부강된장소스\n",
      "한솥 감초볶음고추장소스\n",
      "볶음김치\n",
      "김치\n",
      "무말랭이 무침\n",
      "한솥밥\n",
      "현미밥\n",
      "리얼 티라미수 찰떡\n",
      "리얼꿀 미니호떡\n"
     ]
    }
   ],
   "source": [
    "# 2. 상품이름 수집\n",
    "# h fz_03 -> .h.fz_03\n",
    "title = driver.find_elements(By.CSS_SELECTOR,\".h.fz_03\")\n",
    "\n",
    "for i in title :\n",
    "    print(i.text)"
   ]
  },
  {
   "cell_type": "code",
   "execution_count": 25,
   "id": "0a051641-028b-479b-96e9-6d15ccbafc99",
   "metadata": {},
   "outputs": [
    {
     "name": "stdout",
     "output_type": "stream",
     "text": [
      "6,900\n",
      "2,900\n",
      "4,500\n",
      "4,900\n",
      "1,000\n",
      "800\n",
      "1,300\n",
      "800\n",
      "3,600\n",
      "3,000\n",
      "3,900\n",
      "4,900\n",
      "4,900\n",
      "5,500\n",
      "4,900\n",
      "6,700\n",
      "2,900\n",
      "3,900\n",
      "10,000\n",
      "10,500\n",
      "7,800\n",
      "8,500\n"
     ]
    }
   ],
   "source": [
    "# 3. 상품가격 수집\n",
    "#price = driver.find_elements(By.CSS_SELECTOR,\".item-price>span+strong\")\n",
    "price = driver.find_elements(By.CSS_SELECTOR,\"div > div.item-text > div > strong\")\n",
    "for i in price :\n",
    "    print(i.text)"
   ]
  },
  {
   "cell_type": "code",
   "execution_count": 31,
   "id": "a725169d-5af7-40be-b4f4-567246b38391",
   "metadata": {},
   "outputs": [
    {
     "data": {
      "text/plain": [
       "111"
      ]
     },
     "execution_count": 31,
     "metadata": {},
     "output_type": "execute_result"
    }
   ],
   "source": [
    "len(title)"
   ]
  },
  {
   "cell_type": "code",
   "execution_count": 29,
   "id": "c45909ae-aa63-448e-ab75-81a71c6893b4",
   "metadata": {},
   "outputs": [],
   "source": [
    "# 더보기 버튼 클릭\n",
    "# 더보기를 클릭해야 최신의 데이터를 받아 올 수 있다.\n",
    "btn=driver.find_element(By.CSS_SELECTOR,\".c_05\")\n",
    "btn.click()"
   ]
  },
  {
   "cell_type": "code",
   "execution_count": 34,
   "id": "b4048d21-c5fd-4672-9738-f1a7e3e4203c",
   "metadata": {},
   "outputs": [],
   "source": [
    "# 더보기를 끝까지 반복\n",
    "for i in range(15) :\n",
    "    btn=driver.find_element(By.CSS_SELECTOR,\".c_05\")\n",
    "    btn.click() "
   ]
  },
  {
   "cell_type": "code",
   "execution_count": null,
   "id": "dc4ee27f-7f80-4af2-981a-467a70c97fa0",
   "metadata": {},
   "outputs": [],
   "source": []
  },
  {
   "cell_type": "markdown",
   "id": "96447cce-144e-4d4f-9254-92ebc3e59f73",
   "metadata": {},
   "source": [
    "# 예외처리\n",
    "- 코드를 실행하다가 에러가 나는 경우 에러가 아닌 다른 코드를 실행\n",
    "- try : 에러가 나기 전까지 실핼 할 코드\n",
    "- except : 에러가 났을 때 실핼 할 코드"
   ]
  },
  {
   "cell_type": "code",
   "execution_count": 35,
   "id": "3b257cc7-f705-4a06-a4f9-4359bd5630d2",
   "metadata": {},
   "outputs": [],
   "source": [
    "# 셀레니움을 통해서 요청을 보낼때는 반드시 사람답게 코드를 짜자\n",
    "# 컴퓨터는 요청을 매우 빠르게 처리하기 때문에\n",
    "# 클라이언트가 서버에게 무리한 요청을 하면\n",
    "# 서버는 부하를 느낀다. -> 아이피 차단, 반응 하기전에 오류가 난다.\n",
    "# time.sleep(\"초\") -> 해당하는 시간만큼 코드가 멈춘다.\n",
    "# 반드시 요청과 응답이 있는경우에 사용하는것을 권장\n",
    "\n",
    "import time"
   ]
  },
  {
   "cell_type": "code",
   "execution_count": 37,
   "id": "f2cee3d8-5013-4560-81f1-f702fa81f86e",
   "metadata": {},
   "outputs": [
    {
     "name": "stdout",
     "output_type": "stream",
     "text": [
      "더보기가 없습니다.\n"
     ]
    }
   ],
   "source": [
    "try :\n",
    "    # 에러가 나기 전까지 실핼 할 코드\n",
    "    for i in range(20) :\n",
    "        btn=driver.find_element(By.CSS_SELECTOR,\".c_05\")\n",
    "        btn.click() \n",
    "        time.sleep(3)\n",
    "except :\n",
    "    # 에러가 났을 때 실핼 할 코드\n",
    "    print('더보기가 없습니다.')"
   ]
  },
  {
   "cell_type": "code",
   "execution_count": 42,
   "id": "6567122c-b031-404a-83ec-6cf8734d4722",
   "metadata": {},
   "outputs": [],
   "source": [
    "title = driver.find_elements(By.CSS_SELECTOR,\".h.fz_03\")\n",
    "price = driver.find_elements(By.CSS_SELECTOR,\"div > div.item-text > div > strong\")"
   ]
  },
  {
   "cell_type": "code",
   "execution_count": 39,
   "id": "c3843321-7d51-48b5-90b3-a4414c0fff74",
   "metadata": {},
   "outputs": [
    {
     "data": {
      "text/plain": [
       "111"
      ]
     },
     "execution_count": 39,
     "metadata": {},
     "output_type": "execute_result"
    }
   ],
   "source": [
    "len(title)"
   ]
  },
  {
   "cell_type": "code",
   "execution_count": 44,
   "id": "b766f061-5903-45a8-8486-553ec3a49946",
   "metadata": {},
   "outputs": [],
   "source": [
    "# 수집된 요소를 텍스트 데이터만 추출\n",
    "title_list = []\n",
    "price_list = []\n",
    "\n",
    "for i in range(len(title)) :\n",
    "    title_list.append(title[i].text)\n",
    "    price_list.append(price[i].text)\n",
    "    "
   ]
  },
  {
   "cell_type": "markdown",
   "id": "f1796cf4-83e2-4efc-9395-6d7a14cf9d0e",
   "metadata": {},
   "source": [
    "# 한셀에 코드 합치기\n",
    "- 프로그램(실행파일)제작을 할 때는 반드시 코드를 한셀에 합쳐야 한다."
   ]
  },
  {
   "cell_type": "code",
   "execution_count": 47,
   "id": "253c38e5-b67c-49ef-8bdf-20a2f50a9526",
   "metadata": {},
   "outputs": [
    {
     "name": "stdout",
     "output_type": "stream",
     "text": [
      "더보기가 없습니다.\n"
     ]
    }
   ],
   "source": [
    "from selenium import webdriver as wb\n",
    "from selenium.webdriver.common.by import By\n",
    "from selenium.webdriver.common.keys import Keys\n",
    "import time\n",
    "import pandas as pd\n",
    "\n",
    "driver=wb.Chrome()\n",
    "driver.get(\"https://www.hsd.co.kr/menu/menu_list\")\n",
    "\n",
    "time.sleep(3)\n",
    "\n",
    "try :\n",
    "    for i in range(20) :\n",
    "        btn=driver.find_element(By.CSS_SELECTOR,\".c_05\")\n",
    "        btn.click() \n",
    "        time.sleep(3)\n",
    "except :\n",
    "    print('더보기가 없습니다.')\n",
    "\n",
    "title = driver.find_elements(By.CSS_SELECTOR,\".h.fz_03\")\n",
    "price = driver.find_elements(By.CSS_SELECTOR,\"div > div.item-text > div > strong\")\n",
    "\n",
    "title_list = []\n",
    "price_list = []\n",
    "\n",
    "for i in range(len(title)) :\n",
    "    title_list.append(title[i].text)\n",
    "    price_list.append(price[i].text)\n",
    "\n",
    "driver.quit()\n",
    "\n",
    "dic = {\"상품명\":title_list,\"가격정보\":price_list}\n",
    "hansot = pd.DataFrame(dic)\n",
    "hansot.to_csv(\"한솥.csv\",encoding='euc-kr')"
   ]
  },
  {
   "cell_type": "code",
   "execution_count": null,
   "id": "27669f32-0ecd-4e3b-acfe-fb1179a7c3ae",
   "metadata": {},
   "outputs": [],
   "source": []
  },
  {
   "cell_type": "code",
   "execution_count": null,
   "id": "92b613d5-7954-4c25-a599-a36112342994",
   "metadata": {},
   "outputs": [],
   "source": []
  }
 ],
 "metadata": {
  "kernelspec": {
   "display_name": "Python 3 (ipykernel)",
   "language": "python",
   "name": "python3"
  },
  "language_info": {
   "codemirror_mode": {
    "name": "ipython",
    "version": 3
   },
   "file_extension": ".py",
   "mimetype": "text/x-python",
   "name": "python",
   "nbconvert_exporter": "python",
   "pygments_lexer": "ipython3",
   "version": "3.10.9"
  }
 },
 "nbformat": 4,
 "nbformat_minor": 5
}
