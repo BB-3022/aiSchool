{
 "cells": [
  {
   "cell_type": "code",
   "execution_count": 10,
   "id": "ed8fa45f-ccfa-4085-b50a-4326f16c2ccd",
   "metadata": {},
   "outputs": [],
   "source": [
    "# 페이지에 요청하기위한 용도\n",
    "import requests as req\n",
    "# html 데이터를 만들기 위한 용도\n",
    "from bs4 import BeautifulSoup as bs\n",
    "\n",
    "url = 'https://finance.naver.com/sise/sise_market_sum.naver'\n",
    "\n",
    "res = req.get(url)\n",
    "soup=bs(res.text,'lxml')\n",
    "result = soup.select('#contentarea > div.box_type_l > table.type_2 > tbody > tr > td:nth-child(2) > a')\n"
   ]
  }
 ],
 "metadata": {
  "kernelspec": {
   "display_name": "Python 3 (ipykernel)",
   "language": "python",
   "name": "python3"
  },
  "language_info": {
   "codemirror_mode": {
    "name": "ipython",
    "version": 3
   },
   "file_extension": ".py",
   "mimetype": "text/x-python",
   "name": "python",
   "nbconvert_exporter": "python",
   "pygments_lexer": "ipython3",
   "version": "3.10.9"
  }
 },
 "nbformat": 4,
 "nbformat_minor": 5
}
