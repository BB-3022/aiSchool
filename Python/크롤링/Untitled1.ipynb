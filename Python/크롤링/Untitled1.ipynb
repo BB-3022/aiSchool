{
 "cells": [
  {
   "cell_type": "code",
   "execution_count": 1,
   "id": "a3abb7a7-30be-4deb-8fc5-15d0f9c53342",
   "metadata": {},
   "outputs": [],
   "source": [
    "from bs4 import BeautifulSoup as bs\n",
    "import requests as req"
   ]
  },
  {
   "cell_type": "code",
   "execution_count": 2,
   "id": "eb8d4b02-abe2-41b7-a809-6e014e1424ab",
   "metadata": {},
   "outputs": [],
   "source": [
    "# 1. req를 통해서 멜론차트 정보를 저장\n",
    "head = {'User-Agent':'Mozilla/5.0 (Windows NT 10.0; Win64; x64) AppleWebKit/537.36 (KHTML, like Gecko) Chrome/116.0.0.0 Safari/537.36'}"
   ]
  },
  {
   "cell_type": "code",
   "execution_count": 3,
   "id": "1e36b0c2-bdb8-4b91-b07b-79c4ca24617d",
   "metadata": {},
   "outputs": [],
   "source": [
    "res=req.get(\"https://www.melon.com/chart/\", headers = head)"
   ]
  },
  {
   "cell_type": "code",
   "execution_count": 4,
   "id": "b39cac12-dbbb-4aca-8f7b-9d4ee391eaee",
   "metadata": {},
   "outputs": [],
   "source": [
    "# 2. bs을 통해서 html데이터로 변형\n",
    "soup=bs(res.text,\"lxml\")"
   ]
  },
  {
   "cell_type": "code",
   "execution_count": 5,
   "id": "c35d388e-fbae-4c3b-9712-01580f40c50a",
   "metadata": {},
   "outputs": [],
   "source": [
    "# 3. 노래제목 수집\n",
    "# 클래스 값 중간에 공백이 있다는 것은, 클래스가 복수개라는 의미이다.\n",
    "# 공뱃을 지우고 반드시 . 으로 이어준다!\n",
    "# div.ellipsis rank01 -> div.ellipsis.rank01\n",
    "song=soup.select(\"div.ellipsis.rank01 > span > a\")"
   ]
  },
  {
   "cell_type": "code",
   "execution_count": 6,
   "id": "553e3fa6-a7c4-4fac-b1b1-3a7525ae5b94",
   "metadata": {},
   "outputs": [],
   "source": [
    "# 4. 가수이름 수집\n",
    "singer=soup.select(\"div.ellipsis.rank02 > span.checkEllipsis\")"
   ]
  },
  {
   "cell_type": "code",
   "execution_count": 7,
   "id": "f31900ef-9062-4ad8-85c8-a8f0489d9b57",
   "metadata": {},
   "outputs": [],
   "source": [
    "# 데이터의 개수가 정해진 경우에는 반드시 데이터 검증이 필요하다\n",
    "# 데이터의 길이(len), 데이터의 중복여부 "
   ]
  },
  {
   "cell_type": "code",
   "execution_count": 8,
   "id": "0cbff495-edf9-4529-b987-d108bf9d2825",
   "metadata": {},
   "outputs": [
    {
     "data": {
      "text/plain": [
       "100"
      ]
     },
     "execution_count": 8,
     "metadata": {},
     "output_type": "execute_result"
    }
   ],
   "source": [
    "len(singer)"
   ]
  },
  {
   "cell_type": "code",
   "execution_count": 9,
   "id": "b213b5f5-4b30-4ae9-b160-369c9289b1ed",
   "metadata": {},
   "outputs": [],
   "source": [
    "# 5. 수집된 데이터를 텍스트 정보만 추출해서 저장\n",
    "song_list = []\n",
    "singer_list = []\n",
    "rank = []\n",
    "\n",
    "for i in range(len(song)) :\n",
    "    rank.append(i+1)\n",
    "    song_list.append(song[i].text)\n",
    "    singer_list.append(singer[i].text)"
   ]
  },
  {
   "cell_type": "code",
   "execution_count": 10,
   "id": "5a7091f3-9fb1-4fa2-b4d3-3772cd6ec6d1",
   "metadata": {},
   "outputs": [],
   "source": [
    "# 6. 표를 제작\n",
    "import pandas as pd"
   ]
  },
  {
   "cell_type": "code",
   "execution_count": 11,
   "id": "1040bec5-0cb2-4ac8-91d6-f7f95d240b60",
   "metadata": {},
   "outputs": [],
   "source": [
    "dic = {\"순위\":rank,\"가수이름\":singer_list,\"노래제목\":song_list}"
   ]
  },
  {
   "cell_type": "code",
   "execution_count": 12,
   "id": "17e0c0ff-a504-417d-a025-6027080592af",
   "metadata": {},
   "outputs": [
    {
     "data": {
      "text/html": [
       "<div>\n",
       "<style scoped>\n",
       "    .dataframe tbody tr th:only-of-type {\n",
       "        vertical-align: middle;\n",
       "    }\n",
       "\n",
       "    .dataframe tbody tr th {\n",
       "        vertical-align: top;\n",
       "    }\n",
       "\n",
       "    .dataframe thead th {\n",
       "        text-align: right;\n",
       "    }\n",
       "</style>\n",
       "<table border=\"1\" class=\"dataframe\">\n",
       "  <thead>\n",
       "    <tr style=\"text-align: right;\">\n",
       "      <th></th>\n",
       "      <th>가수이름</th>\n",
       "      <th>노래제목</th>\n",
       "    </tr>\n",
       "    <tr>\n",
       "      <th>순위</th>\n",
       "      <th></th>\n",
       "      <th></th>\n",
       "    </tr>\n",
       "  </thead>\n",
       "  <tbody>\n",
       "    <tr>\n",
       "      <th>1</th>\n",
       "      <td>AKMU (악뮤)</td>\n",
       "      <td>Love Lee</td>\n",
       "    </tr>\n",
       "    <tr>\n",
       "      <th>2</th>\n",
       "      <td>AKMU (악뮤)</td>\n",
       "      <td>후라이의 꿈</td>\n",
       "    </tr>\n",
       "    <tr>\n",
       "      <th>3</th>\n",
       "      <td>정국</td>\n",
       "      <td>Seven (feat. Latto) - Clean Ver.</td>\n",
       "    </tr>\n",
       "    <tr>\n",
       "      <th>4</th>\n",
       "      <td>다이나믹 듀오, 이영지</td>\n",
       "      <td>Smoke (Prod. Dynamicduo, Padi)</td>\n",
       "    </tr>\n",
       "    <tr>\n",
       "      <th>5</th>\n",
       "      <td>NewJeans</td>\n",
       "      <td>Super Shy</td>\n",
       "    </tr>\n",
       "    <tr>\n",
       "      <th>...</th>\n",
       "      <td>...</td>\n",
       "      <td>...</td>\n",
       "    </tr>\n",
       "    <tr>\n",
       "      <th>96</th>\n",
       "      <td>경서</td>\n",
       "      <td>첫 키스에 내 심장은 120BPM</td>\n",
       "    </tr>\n",
       "    <tr>\n",
       "      <th>97</th>\n",
       "      <td>aespa</td>\n",
       "      <td>Better Things</td>\n",
       "    </tr>\n",
       "    <tr>\n",
       "      <th>98</th>\n",
       "      <td>NewJeans</td>\n",
       "      <td>ASAP</td>\n",
       "    </tr>\n",
       "    <tr>\n",
       "      <th>99</th>\n",
       "      <td>j-hope, J. Cole</td>\n",
       "      <td>on the street (with J. Cole)</td>\n",
       "    </tr>\n",
       "    <tr>\n",
       "      <th>100</th>\n",
       "      <td>오마이걸 (OH MY GIRL)</td>\n",
       "      <td>여름이 들려 (Summer Comes)</td>\n",
       "    </tr>\n",
       "  </tbody>\n",
       "</table>\n",
       "<p>100 rows × 2 columns</p>\n",
       "</div>"
      ],
      "text/plain": [
       "                  가수이름                              노래제목\n",
       "순위                                                      \n",
       "1            AKMU (악뮤)                          Love Lee\n",
       "2            AKMU (악뮤)                            후라이의 꿈\n",
       "3                   정국  Seven (feat. Latto) - Clean Ver.\n",
       "4         다이나믹 듀오, 이영지    Smoke (Prod. Dynamicduo, Padi)\n",
       "5             NewJeans                         Super Shy\n",
       "..                 ...                               ...\n",
       "96                  경서                첫 키스에 내 심장은 120BPM\n",
       "97               aespa                     Better Things\n",
       "98            NewJeans                              ASAP\n",
       "99     j-hope, J. Cole      on the street (with J. Cole)\n",
       "100  오마이걸 (OH MY GIRL)             여름이 들려 (Summer Comes)\n",
       "\n",
       "[100 rows x 2 columns]"
      ]
     },
     "execution_count": 12,
     "metadata": {},
     "output_type": "execute_result"
    }
   ],
   "source": [
    "melon = pd.DataFrame(dic)\n",
    "melon.set_index(\"순위\", inplace=True)\n",
    "melon"
   ]
  },
  {
   "cell_type": "code",
   "execution_count": 13,
   "id": "87dc88cf-1c86-4862-acfe-625a8f2f8053",
   "metadata": {},
   "outputs": [],
   "source": [
    "# 7. 파일로 제작\n",
    "# 인코딩 작업\n",
    "# 한글이 깨지지 않게 반드시 해줘야 한다!\n",
    "# utf-8 \n",
    "# euc-kr\n",
    "# utf-8-sig\n",
    "\n",
    "melon.to_csv(\"멜론차트.csv\",encoding=\"euc-kr\")"
   ]
  },
  {
   "cell_type": "code",
   "execution_count": null,
   "id": "dd306b95-a4ae-4628-9f6e-6f8c8879b45d",
   "metadata": {},
   "outputs": [],
   "source": []
  },
  {
   "cell_type": "code",
   "execution_count": null,
   "id": "3c69f30b-1b5b-45eb-94c2-89fd0325550f",
   "metadata": {},
   "outputs": [],
   "source": []
  },
  {
   "cell_type": "code",
   "execution_count": null,
   "id": "8e97e40c-86f2-47c5-a13b-a63653a73d48",
   "metadata": {},
   "outputs": [],
   "source": []
  },
  {
   "cell_type": "code",
   "execution_count": null,
   "id": "8be9fdbc-0386-4a8d-a025-ec7b30500ac2",
   "metadata": {},
   "outputs": [],
   "source": []
  },
  {
   "cell_type": "code",
   "execution_count": null,
   "id": "e6a2c0bd-768b-4115-a724-5d02ea9d9e04",
   "metadata": {},
   "outputs": [],
   "source": []
  }
 ],
 "metadata": {
  "kernelspec": {
   "display_name": "Python 3 (ipykernel)",
   "language": "python",
   "name": "python3"
  },
  "language_info": {
   "codemirror_mode": {
    "name": "ipython",
    "version": 3
   },
   "file_extension": ".py",
   "mimetype": "text/x-python",
   "name": "python",
   "nbconvert_exporter": "python",
   "pygments_lexer": "ipython3",
   "version": "3.10.9"
  }
 },
 "nbformat": 4,
 "nbformat_minor": 5
}
