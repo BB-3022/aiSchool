{
 "cells": [
  {
   "cell_type": "code",
   "execution_count": 7,
   "id": "5d30e3bd-0a8d-46eb-a7ec-66322c9d43a7",
   "metadata": {},
   "outputs": [
    {
     "name": "stdout",
     "output_type": "stream",
     "text": [
      "['미미원', '황톳길', 'RONNIQUE', '달곰식당', '알랭', '동명사랑채', '가원', '시스살롱', '동명로15', '칠복계']\n"
     ]
    }
   ],
   "source": [
    "#selenium 필수 3가지\n",
    "from selenium import webdriver as wb\n",
    "from selenium.webdriver.common.by import By\n",
    "import time\n",
    "\n",
    "from selenium.webdriver.common.keys import Keys\n",
    "\n",
    "driver=wb.Chrome()\n",
    "driver.get(\"https://map.naver.com/p/\")\n",
    "time.sleep(3)\n",
    "\n",
    "search = driver.find_element(By.CLASS_NAME,'input_search')\n",
    "search.send_keys(\"동명동 회식\")\n",
    "search.send_keys(Keys.ENTER)\n",
    "time.sleep(1)\n",
    "\n",
    "# 반복문 작성\n",
    "name_list = [] \n",
    "\n",
    "for i in range(10) :\n",
    "\n",
    "    #목록 iframe\n",
    "    driver.switch_to.frame(\"searchIframe\")\n",
    "    time.sleep(1)\n",
    "    \n",
    "    title = driver.find_elements(By.CSS_SELECTOR,\".place_bluelink.YwYLL\")\n",
    "    title[i].click()\n",
    "    time.sleep(1)\n",
    "    \n",
    "    #원본데이터\n",
    "    driver.switch_to.default_content()\n",
    "    time.sleep(1)\n",
    "    \n",
    "    #상세정보 iframe\n",
    "    driver.switch_to.frame(\"entryIframe\")\n",
    "    time.sleep(1)\n",
    "    \n",
    "    name = driver.find_element(By.CSS_SELECTOR,\".Fc1rA\")\n",
    "    name_list.append(name.text)\n",
    "    time.sleep(1)\n",
    "   \n",
    "    #원본데이터\n",
    "    driver.switch_to.default_content()\n",
    "    time.sleep(1)\n",
    "\n",
    "driver.quit()\n",
    "\n",
    "print(name_list)\n"
   ]
  }
 ],
 "metadata": {
  "kernelspec": {
   "display_name": "Python 3 (ipykernel)",
   "language": "python",
   "name": "python3"
  },
  "language_info": {
   "codemirror_mode": {
    "name": "ipython",
    "version": 3
   },
   "file_extension": ".py",
   "mimetype": "text/x-python",
   "name": "python",
   "nbconvert_exporter": "python",
   "pygments_lexer": "ipython3",
   "version": "3.10.9"
  }
 },
 "nbformat": 4,
 "nbformat_minor": 5
}
