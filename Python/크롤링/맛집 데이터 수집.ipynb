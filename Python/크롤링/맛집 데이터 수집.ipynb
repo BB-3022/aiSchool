{
 "cells": [
  {
   "cell_type": "code",
   "execution_count": 1,
   "id": "d37bb931-f8f3-414e-bc89-89a0e1e9c0c2",
   "metadata": {},
   "outputs": [],
   "source": [
    "#selenium 필수 3가지\n",
    "from selenium import webdriver as wb\n",
    "from selenium.webdriver.common.by import By\n",
    "import time\n",
    "\n",
    "from selenium.webdriver.common.keys import Keys"
   ]
  },
  {
   "cell_type": "code",
   "execution_count": 2,
   "id": "41c06dcf-f1ff-4c2e-ba9d-6ce0d17c5516",
   "metadata": {},
   "outputs": [],
   "source": [
    "# 1.크롬드라이버 실행, 네이버 지도 사이트로 이동\n",
    "driver=wb.Chrome()\n",
    "driver.get(\"https://map.naver.com/p/\")"
   ]
  },
  {
   "cell_type": "code",
   "execution_count": 3,
   "id": "f635ae67-96c3-4856-8b27-a8d10ff9cbc3",
   "metadata": {},
   "outputs": [],
   "source": [
    "# 2. 검색창에 검색어를 입력(동명동 회식)\n",
    "# 검색창의 구분자의 id 값이 실행 할 때마다 변한다.\n",
    "# 이런경우, 다른 선택자를 활용해야 한다.\n",
    "\n",
    "search = driver.find_element(By.CLASS_NAME,'input_search')\n",
    "search.send_keys(\"동명동 회식\")\n",
    "search.send_keys(Keys.ENTER)"
   ]
  },
  {
   "cell_type": "code",
   "execution_count": 5,
   "id": "aa9b77aa-9077-4ffb-a893-ec250f5a9c5b",
   "metadata": {},
   "outputs": [
    {
     "ename": "NameError",
     "evalue": "name 'soup' is not defined",
     "output_type": "error",
     "traceback": [
      "\u001b[1;31m---------------------------------------------------------------------------\u001b[0m",
      "\u001b[1;31mNameError\u001b[0m                                 Traceback (most recent call last)",
      "Cell \u001b[1;32mIn[5], line 1\u001b[0m\n\u001b[1;32m----> 1\u001b[0m \u001b[43msoup\u001b[49m\u001b[38;5;241m.\u001b[39mselect(\u001b[38;5;124m'\u001b[39m\u001b[38;5;124m.place_bluelink YwYLL\u001b[39m\u001b[38;5;124m'\u001b[39m)\n",
      "\u001b[1;31mNameError\u001b[0m: name 'soup' is not defined"
     ]
    }
   ],
   "source": [
    "soup.select('.place_bluelink YwYLL')"
   ]
  },
  {
   "cell_type": "code",
   "execution_count": 21,
   "id": "6407190e-dd9d-4e45-8602-8acf9aee01d6",
   "metadata": {},
   "outputs": [
    {
     "ename": "IndexError",
     "evalue": "list index out of range",
     "output_type": "error",
     "traceback": [
      "\u001b[1;31m---------------------------------------------------------------------------\u001b[0m",
      "\u001b[1;31mIndexError\u001b[0m                                Traceback (most recent call last)",
      "Cell \u001b[1;32mIn[21], line 3\u001b[0m\n\u001b[0;32m      1\u001b[0m \u001b[38;5;66;03m# 미미원을 클릭해서 세부정보 조회\u001b[39;00m\n\u001b[0;32m      2\u001b[0m title\u001b[38;5;241m=\u001b[39mdriver\u001b[38;5;241m.\u001b[39mfind_elements(By\u001b[38;5;241m.\u001b[39mCLASS_NAME,\u001b[38;5;124m\"\u001b[39m\u001b[38;5;124mplace_bluelink.YwYLL\u001b[39m\u001b[38;5;124m\"\u001b[39m)\n\u001b[1;32m----> 3\u001b[0m \u001b[43mtitle\u001b[49m\u001b[43m[\u001b[49m\u001b[38;5;241;43m0\u001b[39;49m\u001b[43m]\u001b[49m\u001b[38;5;241m.\u001b[39mclick\n",
      "\u001b[1;31mIndexError\u001b[0m: list index out of range"
     ]
    }
   ],
   "source": [
    "# 미미원을 클릭해서 세부정보를 조회\n",
    "# 화면상에 데이터가 출력은 되는데 조작이 안될 때는 iframe을 검사해라!\n",
    "# 1. req는 iframe src를 찾아가서 거기서 데이터 수집을 했다.\n",
    "# 2. selenium에서는 현재 컴퓨터가 바라보고있는 html창을 변경\n",
    "\n",
    "title=driver.find_elements(By.CLASS_NAME,\"place_bluelink.YwYLL\")\n",
    "title[0].click"
   ]
  },
  {
   "cell_type": "code",
   "execution_count": 51,
   "id": "0e31e1d8-5f7f-4e04-a949-1cc97d4f2e89",
   "metadata": {},
   "outputs": [],
   "source": [
    "# 컴퓨터에게 바라보고 있는 창을 원하는 iframe 으로 변경\n",
    "# frame 을 변경할 때는 switch_to.frame(\"iframe의 id\")\n",
    "\n",
    "driver.switch_to.frame(\"searchIframe\")"
   ]
  },
  {
   "cell_type": "code",
   "execution_count": 52,
   "id": "e9b2e78f-06bf-455d-8f9a-0c0240f7333d",
   "metadata": {},
   "outputs": [],
   "source": [
    "title = driver.find_elements(By.CSS_SELECTOR,\".place_bluelink.YwYLL\")\n",
    "title[0].click()"
   ]
  },
  {
   "cell_type": "code",
   "execution_count": 53,
   "id": "da37f076-b10a-4cda-883c-5582a71e20ec",
   "metadata": {},
   "outputs": [],
   "source": [
    "# iframe 에서 다른 iframe으로 바로 이동이 불가능 하다\n",
    "# 원본 -> iframe 가능\n",
    "# iframe -> iframe 불가능\n",
    "# 원본데이터로 이동 후, iframe 으로 이동 해야 한다.\n",
    "\n",
    "# iframe -> 원본(default_content)으로 이동\n",
    "driver.switch_to.default_content()"
   ]
  },
  {
   "cell_type": "code",
   "execution_count": 54,
   "id": "76969234-609c-4389-a7cf-3d121e69c55c",
   "metadata": {},
   "outputs": [],
   "source": [
    "# 상세정보 iframe로 이동\n",
    "driver.switch_to.frame(\"entryIframe\")"
   ]
  },
  {
   "cell_type": "code",
   "execution_count": 55,
   "id": "4d12c2b7-6d9c-4550-86e7-5abb7fac7a4c",
   "metadata": {},
   "outputs": [
    {
     "data": {
      "text/plain": [
       "'미미원'"
      ]
     },
     "execution_count": 55,
     "metadata": {},
     "output_type": "execute_result"
    }
   ],
   "source": [
    "name = driver.find_element(By.CSS_SELECTOR,\".Fc1rA\")\n",
    "name.text"
   ]
  },
  {
   "cell_type": "code",
   "execution_count": 56,
   "id": "d92681b8-641a-4a41-8593-91b80af465f4",
   "metadata": {},
   "outputs": [],
   "source": [
    "driver.switch_to.default_content()"
   ]
  },
  {
   "cell_type": "code",
   "execution_count": 57,
   "id": "696a5181-7434-40ef-a8b2-c67258729397",
   "metadata": {},
   "outputs": [],
   "source": [
    "driver.switch_to.frame(\"searchIframe\")"
   ]
  },
  {
   "cell_type": "code",
   "execution_count": 58,
   "id": "eaee39e5-f516-4b23-829b-33852c0e7dae",
   "metadata": {},
   "outputs": [],
   "source": [
    "title = driver.find_elements(By.CSS_SELECTOR,\".place_bluelink.YwYLL\")\n",
    "title[1].click()"
   ]
  },
  {
   "cell_type": "code",
   "execution_count": 59,
   "id": "ea4a9bea-b805-4915-928c-3bf70d1f4974",
   "metadata": {},
   "outputs": [],
   "source": [
    "driver.switch_to.default_content()"
   ]
  },
  {
   "cell_type": "code",
   "execution_count": 60,
   "id": "8ae2abca-6755-4b98-abc8-3d70988a520c",
   "metadata": {},
   "outputs": [],
   "source": [
    "driver.switch_to.frame(\"entryIframe\")"
   ]
  },
  {
   "cell_type": "code",
   "execution_count": 61,
   "id": "a6b545a1-3e9a-45aa-bfbf-824e06dd9306",
   "metadata": {},
   "outputs": [
    {
     "data": {
      "text/plain": [
       "'황톳길'"
      ]
     },
     "execution_count": 61,
     "metadata": {},
     "output_type": "execute_result"
    }
   ],
   "source": [
    "name = driver.find_element(By.CSS_SELECTOR,\".Fc1rA\")\n",
    "name.text"
   ]
  },
  {
   "cell_type": "code",
   "execution_count": null,
   "id": "c0c20dae-db7c-48dc-a47e-7311211e9718",
   "metadata": {},
   "outputs": [],
   "source": []
  },
  {
   "cell_type": "code",
   "execution_count": null,
   "id": "afb94f83-8f56-4b03-bca2-1158373a0d95",
   "metadata": {},
   "outputs": [],
   "source": []
  }
 ],
 "metadata": {
  "kernelspec": {
   "display_name": "Python 3 (ipykernel)",
   "language": "python",
   "name": "python3"
  },
  "language_info": {
   "codemirror_mode": {
    "name": "ipython",
    "version": 3
   },
   "file_extension": ".py",
   "mimetype": "text/x-python",
   "name": "python",
   "nbconvert_exporter": "python",
   "pygments_lexer": "ipython3",
   "version": "3.10.9"
  }
 },
 "nbformat": 4,
 "nbformat_minor": 5
}
