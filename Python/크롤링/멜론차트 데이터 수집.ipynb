{
 "cells": [
  {
   "cell_type": "code",
   "execution_count": 1,
   "id": "a7ba78ba-354e-4761-a37a-3ce8d1656c3e",
   "metadata": {},
   "outputs": [],
   "source": [
    "from bs4 import BeautifulSoup as bs\n",
    "import requests as req"
   ]
  },
  {
   "cell_type": "code",
   "execution_count": 5,
   "id": "80714531-8d56-4867-84a9-25ee7038fcb8",
   "metadata": {},
   "outputs": [],
   "source": [
    "# 1. req를 통해서 멜론차트 정보를 저장\n",
    "head = {'User-Agent':'Mozilla/5.0 (Windows NT 10.0; Win64; x64) AppleWebKit/537.36 (KHTML, like Gecko) Chrome/116.0.0.0 Safari/537.36'}"
   ]
  },
  {
   "cell_type": "code",
   "execution_count": 8,
   "id": "f1e29d26-f581-46ef-a34f-ddbc3c209421",
   "metadata": {},
   "outputs": [],
   "source": [
    "res=req.get(\"https://www.melon.com/chart/\", headers = head)"
   ]
  },
  {
   "cell_type": "code",
   "execution_count": 9,
   "id": "4feee088-6169-4471-b37e-57eef2e3f216",
   "metadata": {},
   "outputs": [],
   "source": [
    "# 2. bs을 통해서 html데이터로 변형\n",
    "soup=bs(res.text,\"lxml\")"
   ]
  },
  {
   "cell_type": "code",
   "execution_count": 28,
   "id": "3e0548c2-431f-41fa-9abe-3633749e2ba8",
   "metadata": {},
   "outputs": [],
   "source": [
    "# 3. 노래제목 수집\n",
    "# 클래스 값 중간에 공백이 있다는 것은, 클래스가 복수개라는 의미이다.\n",
    "# 공뱃을 지우고 반드시 . 으로 이어준다!\n",
    "# div.ellipsis rank01 -> div.ellipsis.rank01\n",
    "song=soup.select(\"div.ellipsis.rank01 > span > a\")"
   ]
  },
  {
   "cell_type": "code",
   "execution_count": 32,
   "id": "4d99dae6-cde3-4347-aa40-86906cbaccdb",
   "metadata": {},
   "outputs": [],
   "source": [
    "# 4. 가수이름 수집\n",
    "singer=soup.select(\"div.ellipsis.rank02 > span.checkEllipsis\")"
   ]
  },
  {
   "cell_type": "code",
   "execution_count": null,
   "id": "d71ebc14-e842-4323-941a-ff5e99da2a7a",
   "metadata": {},
   "outputs": [],
   "source": [
    "# 데이터의 개수가 정해진 경우에는 반드시 데이터 검증이 필요하다\n",
    "# 데이터의 길이(len), 데이터의 중복여부 "
   ]
  },
  {
   "cell_type": "code",
   "execution_count": 33,
   "id": "fd72087c-49b3-4d05-b03b-09a8f4705db4",
   "metadata": {},
   "outputs": [
    {
     "data": {
      "text/plain": [
       "100"
      ]
     },
     "execution_count": 33,
     "metadata": {},
     "output_type": "execute_result"
    }
   ],
   "source": [
    "len(singer)"
   ]
  },
  {
   "cell_type": "code",
   "execution_count": 50,
   "id": "59f93848-11ff-4f59-9b71-780b2efc063d",
   "metadata": {},
   "outputs": [],
   "source": [
    "# 5. 수집된 데이터를 텍스트 정보만 추출해서 저장\n",
    "song_list = []\n",
    "singer_list = []\n",
    "rank = []\n",
    "\n",
    "for i in range(len(song)) :\n",
    "    rank.append(i+1)\n",
    "    song_list.append(song[i].text)\n",
    "    singer_list.append(singer[i].text)"
   ]
  },
  {
   "cell_type": "code",
   "execution_count": 45,
   "id": "e8df59e3-3287-4861-b213-136388e1443f",
   "metadata": {},
   "outputs": [],
   "source": [
    "# 6. 표를 제작\n",
    "import pandas as pd"
   ]
  },
  {
   "cell_type": "code",
   "execution_count": 51,
   "id": "86e8154b-ba7b-44a9-9ccd-1c012b82fe11",
   "metadata": {},
   "outputs": [],
   "source": [
    "dic = {\"순위\":rank,\"가수이름\":singer_list,\"노래제목\":song_list}"
   ]
  },
  {
   "cell_type": "code",
   "execution_count": 56,
   "id": "86960e3c-ba54-46b3-b0c8-8a4c7ff6c99e",
   "metadata": {},
   "outputs": [
    {
     "data": {
      "text/html": [
       "<div>\n",
       "<style scoped>\n",
       "    .dataframe tbody tr th:only-of-type {\n",
       "        vertical-align: middle;\n",
       "    }\n",
       "\n",
       "    .dataframe tbody tr th {\n",
       "        vertical-align: top;\n",
       "    }\n",
       "\n",
       "    .dataframe thead th {\n",
       "        text-align: right;\n",
       "    }\n",
       "</style>\n",
       "<table border=\"1\" class=\"dataframe\">\n",
       "  <thead>\n",
       "    <tr style=\"text-align: right;\">\n",
       "      <th></th>\n",
       "      <th>가수이름</th>\n",
       "      <th>노래제목</th>\n",
       "    </tr>\n",
       "    <tr>\n",
       "      <th>순위</th>\n",
       "      <th></th>\n",
       "      <th></th>\n",
       "    </tr>\n",
       "  </thead>\n",
       "  <tbody>\n",
       "    <tr>\n",
       "      <th>1</th>\n",
       "      <td>정국</td>\n",
       "      <td>Seven (feat. Latto) - Clean Ver.</td>\n",
       "    </tr>\n",
       "    <tr>\n",
       "      <th>2</th>\n",
       "      <td>NewJeans</td>\n",
       "      <td>Super Shy</td>\n",
       "    </tr>\n",
       "    <tr>\n",
       "      <th>3</th>\n",
       "      <td>NewJeans</td>\n",
       "      <td>ETA</td>\n",
       "    </tr>\n",
       "    <tr>\n",
       "      <th>4</th>\n",
       "      <td>박재정</td>\n",
       "      <td>헤어지자 말해요</td>\n",
       "    </tr>\n",
       "    <tr>\n",
       "      <th>5</th>\n",
       "      <td>(여자)아이들</td>\n",
       "      <td>퀸카 (Queencard)</td>\n",
       "    </tr>\n",
       "    <tr>\n",
       "      <th>...</th>\n",
       "      <td>...</td>\n",
       "      <td>...</td>\n",
       "    </tr>\n",
       "    <tr>\n",
       "      <th>96</th>\n",
       "      <td>임재현</td>\n",
       "      <td>Heaven(2023)</td>\n",
       "    </tr>\n",
       "    <tr>\n",
       "      <th>97</th>\n",
       "      <td>김호중, 송가인</td>\n",
       "      <td>당신을 만나</td>\n",
       "    </tr>\n",
       "    <tr>\n",
       "      <th>98</th>\n",
       "      <td>Charlie Puth</td>\n",
       "      <td>That’s Not How This Works (feat. Dan + Shay)</td>\n",
       "    </tr>\n",
       "    <tr>\n",
       "      <th>99</th>\n",
       "      <td>던 (DAWN)</td>\n",
       "      <td>빛이 나는 너에게</td>\n",
       "    </tr>\n",
       "    <tr>\n",
       "      <th>100</th>\n",
       "      <td>이세계아이돌</td>\n",
       "      <td>Another World</td>\n",
       "    </tr>\n",
       "  </tbody>\n",
       "</table>\n",
       "<p>100 rows × 2 columns</p>\n",
       "</div>"
      ],
      "text/plain": [
       "             가수이름                                          노래제목\n",
       "순위                                                             \n",
       "1              정국              Seven (feat. Latto) - Clean Ver.\n",
       "2        NewJeans                                     Super Shy\n",
       "3        NewJeans                                           ETA\n",
       "4             박재정                                      헤어지자 말해요\n",
       "5         (여자)아이들                                퀸카 (Queencard)\n",
       "..            ...                                           ...\n",
       "96            임재현                                  Heaven(2023)\n",
       "97       김호중, 송가인                                        당신을 만나\n",
       "98   Charlie Puth  That’s Not How This Works (feat. Dan + Shay)\n",
       "99       던 (DAWN)                                     빛이 나는 너에게\n",
       "100        이세계아이돌                                 Another World\n",
       "\n",
       "[100 rows x 2 columns]"
      ]
     },
     "execution_count": 56,
     "metadata": {},
     "output_type": "execute_result"
    }
   ],
   "source": [
    "melon = pd.DataFrame(dic)\n",
    "melon.set_index(\"순위\", inplace=True)\n",
    "melon"
   ]
  },
  {
   "cell_type": "code",
   "execution_count": 54,
   "id": "0d494567-9271-49a0-adf3-5193fe06817e",
   "metadata": {},
   "outputs": [],
   "source": [
    "# 7. 파일로 제작\n",
    "# 인코딩 작업\n",
    "# 한글이 깨지지 않게 반드시 해줘야 한다!\n",
    "# utf-8 \n",
    "# euc-kr\n",
    "# utf-8-sig\n",
    "\n",
    "melon.to_csv(\"멜론차트.csv\",encoding=\"euc-kr\")"
   ]
  },
  {
   "cell_type": "code",
   "execution_count": null,
   "id": "c839c8fa-6d75-4329-b247-f6c59353a1e4",
   "metadata": {},
   "outputs": [],
   "source": []
  },
  {
   "cell_type": "code",
   "execution_count": null,
   "id": "a1235199-e884-433f-8acd-7c60eba7aeaf",
   "metadata": {},
   "outputs": [],
   "source": []
  },
  {
   "cell_type": "code",
   "execution_count": null,
   "id": "4d62111b-ac75-4fec-aa0e-e35f1546aac7",
   "metadata": {},
   "outputs": [],
   "source": []
  },
  {
   "cell_type": "code",
   "execution_count": null,
   "id": "7ff3151c-dc88-46f1-add9-6d868b241759",
   "metadata": {},
   "outputs": [],
   "source": []
  }
 ],
 "metadata": {
  "kernelspec": {
   "display_name": "Python 3 (ipykernel)",
   "language": "python",
   "name": "python3"
  },
  "language_info": {
   "codemirror_mode": {
    "name": "ipython",
    "version": 3
   },
   "file_extension": ".py",
   "mimetype": "text/x-python",
   "name": "python",
   "nbconvert_exporter": "python",
   "pygments_lexer": "ipython3",
   "version": "3.10.9"
  }
 },
 "nbformat": 4,
 "nbformat_minor": 5
}
