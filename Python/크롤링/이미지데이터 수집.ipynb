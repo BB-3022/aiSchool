{
 "cells": [
  {
   "cell_type": "code",
   "execution_count": 1,
   "id": "61e173dc-7a9b-4c02-864e-db5846d4699a",
   "metadata": {},
   "outputs": [],
   "source": [
    "from selenium import webdriver as wb\n",
    "from selenium.webdriver.common.by import By\n",
    "import time\n",
    "from selenium.webdriver.common.keys import Keys\n",
    "\n",
    "#파일시스템을 위한 라이브러리(삭제, 생성)\n",
    "import os\n",
    "#이미지의 경로를 실제 파일로 저장\n",
    "from urllib.request import urlretrieve"
   ]
  },
  {
   "cell_type": "code",
   "execution_count": 2,
   "id": "845316c2-3752-4321-a09f-24409041eb99",
   "metadata": {},
   "outputs": [],
   "source": [
    "# 폴더생성\n",
    "# 바탕화면에 이미지라는 폴더가 없다면 바탕화면에 이미지라는 폴더를 만들어라\n",
    "if not os.path.isdir(\"C:/Users/gjaischool1/Desktop/이미지\") :\n",
    "    os.mkdir(\"C:/Users/gjaischool1/Desktop/이미지\")"
   ]
  },
  {
   "cell_type": "code",
   "execution_count": 13,
   "id": "1a570af2-c4a8-4911-a65c-fe97b3bad66c",
   "metadata": {},
   "outputs": [],
   "source": [
    "driver = wb.Chrome()\n",
    "driver.get(\"https://search.naver.com/search.naver?sm=tab_sug.top&where=image&query=%EC%9C%84%EB%B2%A0%EC%96%B4%EB%B2%A0%EC%96%B4%EC%8A%A4&oquery=%EA%B7%80%EC%97%AC%EC%9A%B4+%ED%91%B8%EB%B0%94%EC%98%A4&tqi=iM1Snsp0J1sssAg%2Fkaosssssspo-210661&acq=%EC%9C%84%EB%B2%A0%EC%96%B4&acr=1&qdt=0\")"
   ]
  },
  {
   "cell_type": "code",
   "execution_count": null,
   "id": "8aba82f7-93f4-4eda-8626-250430c473c9",
   "metadata": {},
   "outputs": [],
   "source": [
    "# 스크롤 하는 코드\n",
    "for i in range(20) :\n",
    "    body = driver.find_element(By.CSS_SELECTOR,\"body\")\n",
    "    body.send_keys(Keys.END)"
   ]
  },
  {
   "cell_type": "code",
   "execution_count": 14,
   "id": "ca70baff-aa51-48e2-bc4d-b865dc08d283",
   "metadata": {},
   "outputs": [],
   "source": [
    "# 이미지 태그 수집\n",
    "img = driver.find_elements(By.CSS_SELECTOR,\"._image._listImage\")"
   ]
  },
  {
   "cell_type": "code",
   "execution_count": 15,
   "id": "ad0d6190-05e3-489b-843d-d3977b1a448a",
   "metadata": {},
   "outputs": [
    {
     "data": {
      "text/plain": [
       "'https://search.pstatic.net/common/?src=http%3A%2F%2Fblogfiles.naver.net%2FMjAxNzAzMjFfOCAg%2FMDAxNDkwMDk0NDQ4NDA1.X0yqZfbtWGoq3WoPn_nm2lxhufSJrxt_1_oDLQel0FQg.KrjUai__BYEJtp0c5LVSjsele_RcNZUn0WeZRyNGkmwg.JPEG.ckddyd4074%2F1490062889_1_1_766c86e81577d56dc10217e7334f9bca.jpg&type=a340'"
      ]
     },
     "execution_count": 15,
     "metadata": {},
     "output_type": "execute_result"
    }
   ],
   "source": [
    "#태그 안에 있는 속성을 가지고 올 때는 get_attribute(\"속성\") \n",
    "#get_attribute(\"src\"), get_attribute(\"href\")\n",
    "img[0].get_attribute(\"src\")"
   ]
  },
  {
   "cell_type": "code",
   "execution_count": 16,
   "id": "aa13d5b3-9852-49a2-947c-09750c4af8d6",
   "metadata": {},
   "outputs": [],
   "source": [
    "# src 만 담아줄 리스트를 제작\n",
    "src = []\n",
    "\n",
    "for i in range(len(img)) :\n",
    "    src.append(img[i].get_attribute(\"src\"))\n"
   ]
  },
  {
   "cell_type": "code",
   "execution_count": 10,
   "id": "5a6200ab-249b-45a3-95e0-4401c221dd7b",
   "metadata": {},
   "outputs": [
    {
     "data": {
      "text/plain": [
       "['https://search.pstatic.net/common/?src=http%3A%2F%2Fblogfiles.naver.net%2FMjAxNzAzMjFfOCAg%2FMDAxNDkwMDk0NDQ4NDA1.X0yqZfbtWGoq3WoPn_nm2lxhufSJrxt_1_oDLQel0FQg.KrjUai__BYEJtp0c5LVSjsele_RcNZUn0WeZRyNGkmwg.JPEG.ckddyd4074%2F1490062889_1_1_766c86e81577d56dc10217e7334f9bca.jpg&type=a340',\n",
       " 'https://search.pstatic.net/common/?src=http%3A%2F%2Fpost.phinf.naver.net%2FMjAyMjA1MDdfNTAg%2FMDAxNjUxOTA2ODAxNzM4.c656v_GhEYyPytXAHlOoNjx8TdPFiUkLtX-9uxLN5HIg.M7BgArKRldm6nprfIfBj1lJ6jXv7seg4nDyI1FCzjl8g.PNG%2FIHIljbBuxwFcFkL_m-MDYDbKwv44.jpg&type=a340',\n",
       " 'https://search.pstatic.net/common/?src=http%3A%2F%2Fblogfiles.naver.net%2FMjAxOTAxMjBfOTUg%2FMDAxNTQ3OTk1OTMyMjAy.lYCpaHGDlPT-gLqCanKjq9GFrE7zizSwIub6P4g-E0Qg.c512OR4BkpdkFZGrrnXVBDABpv_CJdAMeNYoFYo0b3gg.JPEG.oup3465%2FDSC09754.JPG&type=a340',\n",
       " 'https://search.pstatic.net/common/?src=http%3A%2F%2Fblogfiles.naver.net%2FMjAyMzAxMjJfMjY2%2FMDAxNjc0Mzg4MTY3NzQx.p7y1G29wx4i6Z00Vh_I8NG3MKRWCSx40pp4J6uxzLdEg.Iw0mTKPoVPVWbSZTc5SYeRiDnzJzPbU4RkFeKisYrwYg.JPEG.klolo108%2F1674388157297.jpg&type=a340',\n",
       " 'https://search.pstatic.net/common/?src=http%3A%2F%2Fblogfiles.naver.net%2FMjAyMDA3MTFfNzIg%2FMDAxNTk0Mzk1NjQ3NTI1.Syd7YnmFek5S1ZVq8un8y7ZDSIvEiSusW_LIxZL82Sog.q7Mn0wk84Vy9YIeBT2JT9l7wdSgLY77Xvo5Na3l9VkUg.PNG.lahaneui123%2F20200711_002029.png&type=a340',\n",
       " 'https://search.pstatic.net/common/?src=http%3A%2F%2Fblogfiles.naver.net%2FMjAyMjEyMDdfMTE1%2FMDAxNjcwMzc3MTg1OTE2.mUWBdWsX9Nuz9bWhUo7pJQBhn5SS8XHzVpqgaxTHxQQg.jS6x59xjXVz7yKKmhDu1jQ83UJ9vID1CigRx5R--MW8g.JPEG.klolo108%2F1670377184786.jpg&type=a340',\n",
       " 'https://search.pstatic.net/common/?src=http%3A%2F%2Fblogfiles.naver.net%2FMjAyMjA2MjJfMTY2%2FMDAxNjU1ODY4NzMxNzIy.XFFAfdqHaYn-mrNwk_DXtY_m6P2UjD5Iwdl5iPqb9HMg.6YN7VoknL0EKk5Vfx6cAMOxKREwyHaNiBZFFPAoEj7cg.PNG.jamushie1%2Fimage.png&type=l340_165',\n",
       " 'https://search.pstatic.net/common/?src=http%3A%2F%2Fpost.phinf.naver.net%2FMjAxNzEyMThfOCAg%2FMDAxNTEzNTgzNjUwNjI1.EGmr5TvmCvN0A0mHRpUr2IxpVrAM8R7lyDpIk1U7oWAg.ylzdIvpIQFBzmfSnRTTtAu_PEpn-SrATykK9Mzm4XAkg.JPEG%2FIHJXTNyc5SSMS_4pZwUKLi5qPC24.jpg&type=a340',\n",
       " 'https://search.pstatic.net/common/?src=http%3A%2F%2Fblogfiles.naver.net%2FMjAyMjEyMTVfNTkg%2FMDAxNjcxMTA3NTEzNzQ4.aPE3mKVR4PHI26ULoswgn_gHRsjVFdKiEAau8vC8Npkg.jqEdbnxnaFJSTH52UCvX7dXw5FC7c9eao8YLrVqBKZcg.JPEG.ezraadventure22%2FWe_Bare_Bears_Stickers_for_Sale.jpeg&type=a340',\n",
       " 'https://search.pstatic.net/common/?src=http%3A%2F%2Fblogfiles.naver.net%2FMjAxNzAzMTVfMTcz%2FMDAxNDg5NTQzNDI0Mzkz.APcXr5w33RtHnYV5TNZGxG3IYWlxDj--Nkiu1U2xY2og.g7RpjL4ruZ79NbnGZvNBveESgr7Qvl4DZgSUiqnDfR0g.JPEG.zbath%2Fiphone7_1334x750_%25C0%25A7%25BA%25A3%25BE%25EE%25BA%25A3%25BE%25EE%25BD%25BA_S2_14_93.jpg&type=ofullfill340_600_png',\n",
       " 'https://search.pstatic.net/common/?src=http%3A%2F%2Fblogfiles.naver.net%2FMjAxNzA4MzFfMTE4%2FMDAxNTA0MTc1NzYyNTY5.ZALU4C-0qIw70Jk4JREujv9XW80-NgWqG02erb0wptog._sRq5cWvUXhgb4FGCo_S0UE9JZ6Lkl2B33IyReIe8oUg.JPEG.ribbon0909%2F20170831343394021.jpg&type=a340',\n",
       " 'https://search.pstatic.net/common/?src=http%3A%2F%2Fblogfiles.naver.net%2FMjAyMTEwMDVfMjky%2FMDAxNjMzMzgzNDEyMTI4.YNRMZTYKSuH1THuCgex591E0PvF4IBXMeV9k6-LrQmUg.hJICZtlgddQ_Tn3-fmzKJHs5kM8MqaBs8-c0jQe5TkIg.JPEG.umyuri%2FKakaoTalk_20211005_063359807_05.jpg&type=a340',\n",
       " 'https://search.pstatic.net/common/?src=http%3A%2F%2Fblogfiles.naver.net%2FMjAxNzAxMjNfMTEz%2FMDAxNDg1MTUzMjU2MTU2.-jBREs_8liCwO5N0vlZPq66FgvmG1_SxObAJ5DomeJcg.OorFKV7ybipr1U5IAvgo3Dutp9lORYHAUOL6-MWe2Dsg.JPEG.zbath%2F750x1334_%25C0%25A7%25BA%25A3%25BE%25EE%25BA%25A3%25BE%25EE%25BD%25BAs2_12.jpg&type=ofullfill340_600_png',\n",
       " 'https://search.pstatic.net/common/?src=http%3A%2F%2Fblogfiles.naver.net%2FMjAxOTAzMjZfMTY0%2FMDAxNTUzNTY5OTcwNjg3.l-fGRGMKPBYE44l7ayMA33icoQOCw5o5FoJKiyGIezYg.dAvk0CrIn9GC0_mflzNYYUlsBSQEFDEMRi_s5DKX6FEg.PNG.matdaemat%2Fjjhh.PNG&type=l340_165',\n",
       " 'https://search.pstatic.net/common/?src=http%3A%2F%2Fblogfiles.naver.net%2FMjAxNzEwMjlfMTg3%2FMDAxNTA5MjAzNTc4Mjg2.4rBZZc1n8TKwv22xdyqAcQEYQBGUTBUzk8i-1eUHlVMg.VavsjN5fOeGLQSwQwus3RfqXNyeliUptsBn1PEWhg2wg.JPEG.ssss_need%2FWe_Bare_Bears-1.jpg&type=ofullfill340_600_png',\n",
       " 'https://search.pstatic.net/common/?src=http%3A%2F%2Fblogfiles.naver.net%2FMjAxNzAxMDlfMTQz%2FMDAxNDgzOTY4NjUwMTQ0.6pmgw_k2KvVVSBVCvNyEmBEV8c7M64VQLuT4CDPv5aUg.IWQhVgTfbwMy2dYLKeOiK36Q47D0ocb_PCRBxll0Ykkg.PNG.eomji_123%2F%25C0%25A7%25BA%25A3%25BE%25EE_%25BA%25A3%25BE%25EE%25BD%25BA_%25B1%25D7%25B8%25AE%25B1%25E2_1.png&type=a340',\n",
       " 'https://search.pstatic.net/common/?src=http%3A%2F%2Fblogfiles.naver.net%2FMjAyMTA1MjVfMjQ1%2FMDAxNjIxOTQ0OTEzMjE4.20jdYe_uNzZQBIebfprslvZrMipaZyzmJoQWZTrWZwIg.U_EpT-vN0RZcaOJ8P-eCGrBcvPjCUFLvCZiZFie1DJkg.JPEG.vterfan%2FIMG_4414.JPG&type=a340',\n",
       " 'https://search.pstatic.net/common/?src=http%3A%2F%2Fblogfiles.naver.net%2FMjAxODEwMzFfMjE2%2FMDAxNTQwOTkyMTAxMzEz.qiNmKnP17Ztgf568b1mPpYWlQmqAqZ6gIPSsEnE5-qUg.nPX8ZEXEyD5PLPeORCXgOMwDNF7TwE42G0EFGVkNmpkg.PNG.webebears%2FKakaoTalk_Moim_4zlleS944YScPinZyOktUaC211Ei5Q.png&type=a340',\n",
       " 'https://search.pstatic.net/common/?src=http%3A%2F%2Fblogfiles.naver.net%2FMjAxNzA0MDFfMTQx%2FMDAxNDkxMDU3ODY2MDk3.OZN9xGuOA-vjY2OZ_vOqMTnsOiN_38Dl9WyiyTv2aMcg.FIG0wNmMOkyVte-4vj2meDJhpYFqFnDrQW7WhSIPshsg.JPEG.zbath%2Fiphone7_1334x750_%25C0%25A7%25BA%25A3%25BE%25EE%25BA%25A3%25BE%25EE%25BD%25BA_S2_15_61.jpg&type=ofullfill340_600_png',\n",
       " 'https://search.pstatic.net/common/?src=http%3A%2F%2Fblogfiles.naver.net%2FMjAxODA5MjdfMjE1%2FMDAxNTM4MDQzNDg3NjM0.cDq0cIj5yRD5RrwWAWKNmtiVVeUWyUJq3syImD8gQsgg.LfS13cH9GSxNKA43lBt6LVGRMZ0dY3kHPOhXX1W7b0Eg.GIF.munystory%2F%25C5%25B0%25BA%25B8%25B5%25E5%25BF%25F6%25B8%25AE%25BE%25EE.gif&type=a340',\n",
       " 'https://search.pstatic.net/common/?src=http%3A%2F%2Fblogfiles.naver.net%2FMjAyMjEyMThfMTk0%2FMDAxNjcxMzcxODQ1MDkz.V246ZqUBsO1tr9DE3MUYiNnuppbwSdbA6VJsxeNw4c8g.d5sg98HH5KTQ6gETiC70m9Ls_xg0dPBnTqoQ3ao0WMcg.JPEG.klolo108%2F1671371832927.jpg&type=a340',\n",
       " 'https://search.pstatic.net/common/?src=http%3A%2F%2Fblogfiles.naver.net%2FMjAyMzAyMDRfMTMy%2FMDAxNjc1NTE3NDg3MzA5.Av2OPPgvzurBxLquQBwr2XuUVmUjivLMSMcxeTgTlO4g.fqeIBmPp2KBdwwOF95XcNr75u6BRhr5K2HkX5PpmmFcg.JPEG.klolo108%2F1675517476374.jpg&type=a340',\n",
       " 'https://search.pstatic.net/common/?src=http%3A%2F%2Fblogfiles.naver.net%2FMjAyMzAxMDlfMjQ0%2FMDAxNjczMjM1NzkxNTk2.Y7QS9f7a-UaIdk643jHEQXKLvYAOLSr5YofIelHk5WQg.nBn3iZe9IDVhKLeKqq9qbixgqFvliWGDoQ9mPfubTDQg.JPEG.tofel2015%2Fbandicam_2023-01-02_16-49-47-522.jpg&type=a340',\n",
       " 'https://search.pstatic.net/common/?src=http%3A%2F%2Fblogfiles.naver.net%2FMjAyMzA4MjVfMTI0%2FMDAxNjkyOTQwMTY2OTQ5.6rJ9l2FR2ixLHO82BaP3gxsiSbRJxLdxJZG8sCtU3ekg.nkl-aYWfNlsg8wPoU4Nc62FODFWeizPvSDFvk3lmuo8g.JPEG.blueecho81%2F1692940163586.jpg&type=a340',\n",
       " 'https://search.pstatic.net/common/?src=http%3A%2F%2Fblogfiles.naver.net%2FMjAyMjA5MDFfMTIw%2FMDAxNjYyMDEzNDkwNzY2.D2_QXKdbj0TcMZXzNt8pLHWulK_yjKJ97MiJgpu4dwUg.w9Tq9NO8RLYLqjLN2kH-23364t9JK1TXnXdP_TEVeHsg.JPEG.kywcreamkorea2%2F%25B4%25D9%25BF%25EE%25B7%25CE%25B5%25E5%25C6%25C4%25C0%25CF%25A3%25DF20220901%25A3%25DF150839.jpg&type=a340',\n",
       " 'https://search.pstatic.net/common/?src=http%3A%2F%2Fblogfiles.naver.net%2FMjAyMjExMjZfMTAw%2FMDAxNjY5MzkyMzY5MTc2.Hk5sJ8qyQEL2lc2SFVPEHXcYfIugjQdl6TyXId_zQmYg.puJKael0CoXAjTv34O8EWPtfFYdCR8uRx9pQY7LRIaAg.PNG.johanblond%2F14.png&type=a340',\n",
       " 'https://search.pstatic.net/common/?src=http%3A%2F%2Fshop1.phinf.naver.net%2F20210915_190%2F1631692438741UWcvS_JPEG%2F32828272560176286_1587002636.jpeg&type=a340',\n",
       " 'https://search.pstatic.net/common/?src=http%3A%2F%2Fblogfiles.naver.net%2FMjAyMTEwMjRfMTA0%2FMDAxNjM1MDUzMzQ4NjQ0.rPHQ6wqsB-zepIthJs-VV0Sw1ffbEaSfhdDLFd-eJs8g.3opIMMrLBzMUVcLPD7cX-WOQCoQhA0npoia8WoNdG34g.JPEG.umyuri%2FKakaoTalk_20211024_142650598_01.jpg&type=l340_165',\n",
       " 'https://search.pstatic.net/common/?src=http%3A%2F%2Fblogfiles.naver.net%2FMjAyMjEyMDNfMTcy%2FMDAxNjcwMDc3MDM1MDQ4.mMYGlqg5mZ8RQfproY5VeclLx9Dm0cQ8Rtvk9X_qRoAg.oDinnzsb4c5bkxzhwqv7Xyo434YZxStv7TA0w5803MYg.JPEG.klolo108%2F1670077028479.jpg&type=a340',\n",
       " 'https://search.pstatic.net/common/?src=http%3A%2F%2Fshop1.phinf.naver.net%2F20210923_144%2F1632373945023Jc1p7_JPEG%2F33509724735476978_1542207565.jpeg&type=ofullfill340_600_png',\n",
       " 'https://search.pstatic.net/common/?src=http%3A%2F%2Fblogfiles.naver.net%2FMjAxODA3MjdfMjIy%2FMDAxNTMyNjgxNTI5NzA0.NGDuNJ6rHtvxNzNL08uPln37NFSqtiDsnRcbt3os9QUg.cQHtOfVYxYC1SXJcCjuaacwA8CjPCPVrWOrGhUiwG80g.JPEG.tronic1111%2F11_%252815%2529.jpg&type=a340',\n",
       " 'https://search.pstatic.net/sunny/?src=https%3A%2F%2Fi.pinimg.com%2Foriginals%2Fef%2F74%2F34%2Fef743488c08380529b226ed45eed94a9.jpg&type=ofullfill340_600_png',\n",
       " 'https://search.pstatic.net/common/?src=http%3A%2F%2Fblogfiles.naver.net%2FMjAxNzAxMTJfNTkg%2FMDAxNDg0MjEyODUxMjEx.J0h3J5psE21JsiNm7b_uPSpva0fTuANh3rERFa6OR-Eg.88FDG1-FGA6bJpmOnQCpZ6g9kZ6243NriFtOadq1hnwg.JPEG.kwaknara0328%2FIMG_3038.jpg&type=a340',\n",
       " 'https://search.pstatic.net/common/?src=http%3A%2F%2Fblogfiles.naver.net%2FMjAxODA1MTJfMTgw%2FMDAxNTI2MTEwMDUxOTM2.5jpLmU_atwZz_y-d_Kiw7poxDT1_NvJ8IRoDA9n5YJAg.BhjhXuAjJ6uMYUmK5WpJIS8mXZ_PadrIbwwmuhX8ZGkg.JPEG.kazelove00%2F20180512_134331.jpg&type=a340',\n",
       " 'https://search.pstatic.net/sunny/?src=http%3A%2F%2Fthumbnail.10x10.co.kr%2Fwebimage%2Fimage%2Fbasic600%2F169%2FB001695517.jpg%3Fcmd%3Dthumb%26w%3D500%26h%3D500%26fit%3Dtrue%26ws%3Dfalse&type=a340',\n",
       " 'https://search.pstatic.net/sunny/?src=http%3A%2F%2Fimg2.tmon.kr%2Fcdn4%2Fdeals%2F2022%2F04%2F19%2F9921219890%2Ffront_3ea80_3ffru.jpg&type=a340',\n",
       " 'https://search.pstatic.net/common/?src=http%3A%2F%2Fblogfiles.naver.net%2FMjAxODA2MTFfMTc4%2FMDAxNTI4NzI3MjUyNDkw.lwW0MAhrTL-hdIFQ_ARmdo0fViphCXVGW8qFKpCox38g.fEKowkN79hoOw6HaOsErR8eHpCnOVJ7yJ5-sIqlPRJUg.JPEG.headlineuser%2F%25C0%25CC%25B9%25CC%25C1%25F69.jpg&type=a340',\n",
       " 'https://search.pstatic.net/common/?src=http%3A%2F%2Fblogfiles.naver.net%2FMjAyMDA2MThfMjcx%2FMDAxNTkyNDUyNzAxNzcz.jZ8RmbW6DRSL6AJtz2fYAaROkch6jCPk4QFFFtDQrIsg.Mbvy-kXojLLzir9R7m9UNDIFieqoenmursWtk0VlLlwg.PNG.gui_u%2FDiapositiva1.png&type=a340',\n",
       " 'https://search.pstatic.net/common/?src=http%3A%2F%2Fblogfiles.naver.net%2FMjAyMTExMThfMjQ2%2FMDAxNjM3MTg2MTUyMTYx.W9hUVO8rw2IXMr8Na3KQsMH0xA2wbbfwlHexamg-vFsg.B4gvo6s669rPRzUjB6j-OUVzGrXPK3r-wCqnRhJNGaYg.JPEG.umyuri%2FKakaoTalk_20211118_065413208.jpg&type=l340_165',\n",
       " 'https://search.pstatic.net/sunny/?src=https%3A%2F%2Fimage.yes24.com%2Fgoods%2F66768821%2FXL&type=a340',\n",
       " 'https://search.pstatic.net/common/?src=http%3A%2F%2Fblogfiles.naver.net%2FMjAxODEwMTVfMjEz%2FMDAxNTM5NjA0ODMyMzQy.n0X8mE0VK1XfZISe67TdRcNStZPva2TYH_G81MDXa50g.0hTW-uCzHE5QF27FJ3fhdS6iOniMNx3zBf430uFhdJ4g.JPEG.gihwk%2FScreenshot_20181015-205427_YouTube.jpg&type=l340_165',\n",
       " 'https://search.pstatic.net/common/?src=http%3A%2F%2Fblogfiles.naver.net%2FMjAxODAxMTFfMjE4%2FMDAxNTE1NjA1NjUxMDc2.shilHrywvG2dQpMP0_kEFFUzRmeQ_AKkZL-aBVSwThEg.BVRM1jDV2EWzIISKa_3Qa6NBiBW3YOYspZ2ndyuYWVcg.GIF.wjddbs3776%2Fse3_ani_3189430950_i.GIF&type=a340',\n",
       " 'https://search.pstatic.net/common/?src=http%3A%2F%2Fblogfiles.naver.net%2FMjAyMTEyMjRfMTgg%2FMDAxNjQwMjc1NjAxNjc4.2KQKYmCJb1g-0psctieIzvufAIx6xg__AYY_6lknVtIg.EwHiueLV6b3OBRuWt-jwwrHnxMuxxPkyanLiPeXsaYgg.JPEG.only_my_diary%2FScreenshot%25A3%25DF20211224%25A3%25AD004206%25A3%25DFYouTube.jpg&type=a340',\n",
       " 'https://search.pstatic.net/common/?src=http%3A%2F%2Fblogfiles.naver.net%2FMjAyMTEyMDFfMjkx%2FMDAxNjM4MzA4NjQxNzE5.fQqGZ1MUH5fnOp1fzYvvh0IENghbNCjARA53w8vce0kg.QRDbFHY9aSOVLcVRD6KjfuI07tq_9CHwJFku6odQt1Ug.JPEG.umyuri%2FKakaoTalk_20211201_063811522_02.jpg&type=l340_165',\n",
       " 'https://search.pstatic.net/common/?src=http%3A%2F%2Fblogfiles.naver.net%2FMjAxNzA4MzFfOTYg%2FMDAxNTA0MTY3ODYyMzAx.63hZGVBViprFoIqqb1fsjFYpRTBPTWqWKuANCdXq6HQg.Hi9SbFEXWOVg3gCtfB9u4gUKBJZG9h9kLNhqXumwd0sg.JPEG.jju423%2FIMG_4625.JPG&type=ofullfill340_600_png',\n",
       " 'https://search.pstatic.net/common/?src=http%3A%2F%2Fblogfiles.naver.net%2FMjAyMDExMjhfMTIx%2FMDAxNjA2NTY5Mjk1Mjcz.3SnlKzPr0HmJJgUqmoVyhXH0y3ZjPZmfhoGdhd4a0Iog.SHNOLcreE6qKRW0u1yb2q64i8ssySj5jePuVvLxLfXYg.JPEG.jamevu11%2F%25C0%25A7%25B9%25E8%25BE%25EE%25BA%25A3%25BE%25EE%25BD%25BA.jpg&type=a340',\n",
       " 'https://search.pstatic.net/common/?src=http%3A%2F%2Fblogfiles.naver.net%2FMjAyMTExMTZfMTU0%2FMDAxNjM3MDE0OTE5Mjg2.9hmeuTJeYYbpwColus6acwSWELHx6xHcjqwvEn-9e6Ig.Kk9CkoZ8X8SlyOgVzyeffD2hMoB87aza5vNiaLnPn7Qg.JPEG.umyuri%2FKakaoTalk_20211116_071144121_05.jpg&type=l340_165',\n",
       " 'https://search.pstatic.net/common/?src=http%3A%2F%2Fblogfiles.naver.net%2FMjAxNjEyMTlfOTkg%2FMDAxNDgyMTMyNDU5MzMz.m4KC--AT5z4PWhvi9B1tMyov9kAFLeSpLh8HA__oqTgg.pOGy32OmsGhuwCHMMFfR-5lcSu4Kek8V8UtbNBXderYg.PNG.behindof%2FP20161219_161700000_1335D1F2-57B3-4CFE-8FF0-15D274E2F755.PNG&type=ofullfill340_600_png',\n",
       " 'https://search.pstatic.net/common/?src=http%3A%2F%2Fblogfiles.naver.net%2FMjAyMjA1MjRfMTY4%2FMDAxNjUzMzkyODM2NzI1.TEs3yDkYn0MO0pslP6SgRWw0l0BKefxyDWwlyxhCi6Qg.m1P06kcuEGIshQnXJbJSxt_5kuV133yI0ItXcP70b48g.PNG.anstlgus121%2F%25EB%25AC%25B4%25EC%25A0%259C115.png&type=ofullfill340_600_png',\n",
       " 'https://search.pstatic.net/common/?src=http%3A%2F%2Fblogfiles.naver.net%2FMjAyMDA3MTVfMTQ5%2FMDAxNTk0ODE4OTY3MDY2.iQsBCkSVjZYDZShdTtLU_sbEbgvOzCU2ZCnQzYh1mZsg.YB0wTVLcWtpV6dPVNUdUXjIpQBUA4XTuiF_cY0jJYRYg.PNG.hom0258%2F%25C0%25A7%25BA%25A3%25BE%25EE%25BA%25A3%25BE%25EE%25BD%25BA_1_1_2.png&type=ofullfill340_600_png',\n",
       " 'https://search.pstatic.net/common/?src=http%3A%2F%2Fblogfiles.naver.net%2FMjAxODA0MDdfMTYy%2FMDAxNTIzMTAxNzY1MjA3.i4r589zGGg6-kKgtl2gPhkLtN1Ew8HubXyhdSPwjulcg.m0PX83dJGbrRA_CrCr7jbymyxAOdrcDaorWtuWDQy9gg.PNG.gkfngkfn414%2F%25C0%25A7_%25BA%25A3%25BE%25EE_%25BA%25A3%25BE%25EE%25BD%25BA_%25C6%25C7%25B4%25D9_%25B1%25D7%25B8%25AE%25B1%25E2_%25B0%25AD%25C1%25C28.png&type=a340',\n",
       " 'https://search.pstatic.net/common/?src=http%3A%2F%2Fblogfiles.naver.net%2FMjAyMjA0MDFfMTg2%2FMDAxNjQ4ODAwMDgwMjQz.uQMDAjHHMqjHNWZozKd5zDqjAr7hduYzQbABalTFirAg.DsaX5pLeWAW3F56GugPBNwkTECsKpoOhyiZlG3SIBLUg.JPEG.tofel2015%2Fbandicam_2022-04-01_16-04-42-057.jpg&type=a340',\n",
       " 'https://search.pstatic.net/common/?src=http%3A%2F%2Fblogfiles.naver.net%2FMjAyMjAxMzFfMjM2%2FMDAxNjQzNTgwMDc5NzIw.10p2t55FOxA02_zY3uCd8kLRDP9IrdvLp_jCT_SNXcAg.0JbUPLJfhXbgBcocKfZEdBtvsr4BhNYRfQGDWwvGJ7sg.JPEG.umyuri%2FKakaoTalk_20220131_065922271_01.jpg&type=a340',\n",
       " 'https://search.pstatic.net/common/?src=http%3A%2F%2Fblogfiles.naver.net%2FMjAyMzA1MjlfMTU1%2FMDAxNjg1MzM0Njg2MzA2.4dSbvCdLDsBUoVY1z4MLv00UVUNo1UrMmOEVM1kcdJYg.2xqMEx4E_QZX3SNZsjWOVfTeQCwtX62kg8PRvzZerh8g.JPEG.tofel2015%2Fbandicam_2023-05-25_18-10-57-107.jpg&type=a340',\n",
       " 'https://search.pstatic.net/common/?src=http%3A%2F%2Fblogfiles.naver.net%2FMjAyMTExMDZfMTA4%2FMDAxNjM2MjAwNTgxNzc5.VBokXPpfqzOHLBuSInOzA5eMAknDaPhHM847MJ9VRMIg.anu0YYBaaWYh_aptPWlVt9feBtJPi3HXYkvaN1DUoHog.JPEG.umyuri%2FKakaoTalk_20211106_210139133_01.jpg&type=l340_165',\n",
       " 'https://search.pstatic.net/common/?src=http%3A%2F%2Fcafefiles.naver.net%2FMjAxODAzMDlfMjk3%2FMDAxNTIwNTc0ODM2NzY4.0SvZGOlXmejeF-KTY0pazVQWFJHLbS0NDMmMFKE2Tw4g.ywebV2BnhIl-IFpzNrJfEjrgGqXcg5js2fmQvZ1vvZog.JPEG.silverborijy%2F%25C0%25A7%25BA%25A3%25BE%25EE%25BA%25A3%25BE%25EE%25BD%25BA.jpg&type=l340_165',\n",
       " 'https://search.pstatic.net/common/?src=http%3A%2F%2Fblogfiles.naver.net%2FMjAyMTExMjZfMjY0%2FMDAxNjM3ODc4ODg1NTkx.MboFydu9Zp99-J1uXmM9t4O3gM1tIQA1mAFssXFnc4Ug.t47KBop5u4OGV04yn1W0WTjVmW6szdwzh72b6DP-HM4g.JPEG.umyuri%2FKakaoTalk_20211126_071823289.jpg&type=l340_165',\n",
       " 'https://search.pstatic.net/common/?src=http%3A%2F%2Fblogfiles.naver.net%2FMjAyMjA4MTZfMjg5%2FMDAxNjYwNjU4NjIyNTYy.UM9vWDaPLhD8-Tfl5QeAjg1xIIkgOt9IqSKu7JJxosAg.be5rjMShtCzE_XE9ff4V4zHS3wx9r78brIGJ9CsQS28g.PNG.sjs9289%2F%25C0%25A7_%25BA%25A3%25BE%25EE_%25BA%25A3%25BE%25EE%25BD%25BA.png&type=a340',\n",
       " 'https://search.pstatic.net/common/?src=http%3A%2F%2Fblogfiles.naver.net%2FMjAyMjEyMDVfMjY3%2FMDAxNjcwMjQ3NDA5NzI4.FOo86dkAwLrzZgLy5pT8wZDqzmVGpQIX7DRN5Lazstsg.rguqo-BKtEqu3mU3G5Fi_YPqucxCz1bnWzy-AtVeC7kg.JPEG.bubb517%2Foutput_917666230.jpg&type=a340',\n",
       " 'https://search.pstatic.net/common/?src=http%3A%2F%2Fblogfiles.naver.net%2FMjAxNzAzMTJfMjM1%2FMDAxNDg5MjY5OTA5ODM0.AqEBlxBwBAS1bMQzFi84uspsKyzUtbOjVyh_2jNOH2kg.ccu_WCJtv2rR_KSeMjH30g3rdmUtE6Uf9E_6jrV96fMg.JPEG.zbath%2Fiphone7_1334x750_%25C0%25A7%25BA%25A3%25BE%25EE%25BA%25A3%25BE%25EE%25BD%25BA_S2_14_52.jpg&type=ofullfill340_600_png',\n",
       " 'https://search.pstatic.net/common/?src=http%3A%2F%2Fpost.phinf.naver.net%2FMjAxNzA0MDhfMjM3%2FMDAxNDkxNjUxNTYxNjkz.IRYBGIqtcnUf3DWMOIJlWe4CKzIpn2HXFPL94H7Ggr8g.CUVIPMP7ADezCBAe3tAZHR9ftJpuB_Ebg-QtK6iFruYg.JPEG%2FIr-EXcoIHhKPUWS75rprcQtAhP90.jpg&type=ofullfill340_600_png',\n",
       " 'data:image/gif;base64,R0lGODlhAQABAIAAAAAAAP///yH5BAEAAAAALAAAAAABAAEAAAIBRAA7',\n",
       " 'data:image/gif;base64,R0lGODlhAQABAIAAAAAAAP///yH5BAEAAAAALAAAAAABAAEAAAIBRAA7',\n",
       " 'data:image/gif;base64,R0lGODlhAQABAIAAAAAAAP///yH5BAEAAAAALAAAAAABAAEAAAIBRAA7',\n",
       " 'data:image/gif;base64,R0lGODlhAQABAIAAAAAAAP///yH5BAEAAAAALAAAAAABAAEAAAIBRAA7',\n",
       " 'data:image/gif;base64,R0lGODlhAQABAIAAAAAAAP///yH5BAEAAAAALAAAAAABAAEAAAIBRAA7',\n",
       " 'data:image/gif;base64,R0lGODlhAQABAIAAAAAAAP///yH5BAEAAAAALAAAAAABAAEAAAIBRAA7',\n",
       " 'data:image/gif;base64,R0lGODlhAQABAIAAAAAAAP///yH5BAEAAAAALAAAAAABAAEAAAIBRAA7',\n",
       " 'data:image/gif;base64,R0lGODlhAQABAIAAAAAAAP///yH5BAEAAAAALAAAAAABAAEAAAIBRAA7',\n",
       " 'data:image/gif;base64,R0lGODlhAQABAIAAAAAAAP///yH5BAEAAAAALAAAAAABAAEAAAIBRAA7',\n",
       " 'data:image/gif;base64,R0lGODlhAQABAIAAAAAAAP///yH5BAEAAAAALAAAAAABAAEAAAIBRAA7',\n",
       " 'data:image/gif;base64,R0lGODlhAQABAIAAAAAAAP///yH5BAEAAAAALAAAAAABAAEAAAIBRAA7',\n",
       " 'data:image/gif;base64,R0lGODlhAQABAIAAAAAAAP///yH5BAEAAAAALAAAAAABAAEAAAIBRAA7',\n",
       " 'data:image/gif;base64,R0lGODlhAQABAIAAAAAAAP///yH5BAEAAAAALAAAAAABAAEAAAIBRAA7',\n",
       " 'data:image/gif;base64,R0lGODlhAQABAIAAAAAAAP///yH5BAEAAAAALAAAAAABAAEAAAIBRAA7',\n",
       " 'data:image/gif;base64,R0lGODlhAQABAIAAAAAAAP///yH5BAEAAAAALAAAAAABAAEAAAIBRAA7',\n",
       " 'data:image/gif;base64,R0lGODlhAQABAIAAAAAAAP///yH5BAEAAAAALAAAAAABAAEAAAIBRAA7',\n",
       " 'data:image/gif;base64,R0lGODlhAQABAIAAAAAAAP///yH5BAEAAAAALAAAAAABAAEAAAIBRAA7',\n",
       " 'data:image/gif;base64,R0lGODlhAQABAIAAAAAAAP///yH5BAEAAAAALAAAAAABAAEAAAIBRAA7',\n",
       " 'data:image/gif;base64,R0lGODlhAQABAIAAAAAAAP///yH5BAEAAAAALAAAAAABAAEAAAIBRAA7',\n",
       " 'data:image/gif;base64,R0lGODlhAQABAIAAAAAAAP///yH5BAEAAAAALAAAAAABAAEAAAIBRAA7',\n",
       " 'data:image/gif;base64,R0lGODlhAQABAIAAAAAAAP///yH5BAEAAAAALAAAAAABAAEAAAIBRAA7',\n",
       " 'data:image/gif;base64,R0lGODlhAQABAIAAAAAAAP///yH5BAEAAAAALAAAAAABAAEAAAIBRAA7',\n",
       " 'data:image/gif;base64,R0lGODlhAQABAIAAAAAAAP///yH5BAEAAAAALAAAAAABAAEAAAIBRAA7',\n",
       " 'data:image/gif;base64,R0lGODlhAQABAIAAAAAAAP///yH5BAEAAAAALAAAAAABAAEAAAIBRAA7',\n",
       " 'data:image/gif;base64,R0lGODlhAQABAIAAAAAAAP///yH5BAEAAAAALAAAAAABAAEAAAIBRAA7',\n",
       " 'data:image/gif;base64,R0lGODlhAQABAIAAAAAAAP///yH5BAEAAAAALAAAAAABAAEAAAIBRAA7',\n",
       " 'data:image/gif;base64,R0lGODlhAQABAIAAAAAAAP///yH5BAEAAAAALAAAAAABAAEAAAIBRAA7',\n",
       " 'data:image/gif;base64,R0lGODlhAQABAIAAAAAAAP///yH5BAEAAAAALAAAAAABAAEAAAIBRAA7',\n",
       " 'data:image/gif;base64,R0lGODlhAQABAIAAAAAAAP///yH5BAEAAAAALAAAAAABAAEAAAIBRAA7',\n",
       " 'data:image/gif;base64,R0lGODlhAQABAIAAAAAAAP///yH5BAEAAAAALAAAAAABAAEAAAIBRAA7',\n",
       " 'data:image/gif;base64,R0lGODlhAQABAIAAAAAAAP///yH5BAEAAAAALAAAAAABAAEAAAIBRAA7',\n",
       " 'data:image/gif;base64,R0lGODlhAQABAIAAAAAAAP///yH5BAEAAAAALAAAAAABAAEAAAIBRAA7',\n",
       " 'data:image/gif;base64,R0lGODlhAQABAIAAAAAAAP///yH5BAEAAAAALAAAAAABAAEAAAIBRAA7',\n",
       " 'data:image/gif;base64,R0lGODlhAQABAIAAAAAAAP///yH5BAEAAAAALAAAAAABAAEAAAIBRAA7',\n",
       " 'data:image/gif;base64,R0lGODlhAQABAIAAAAAAAP///yH5BAEAAAAALAAAAAABAAEAAAIBRAA7',\n",
       " 'data:image/gif;base64,R0lGODlhAQABAIAAAAAAAP///yH5BAEAAAAALAAAAAABAAEAAAIBRAA7',\n",
       " 'data:image/gif;base64,R0lGODlhAQABAIAAAAAAAP///yH5BAEAAAAALAAAAAABAAEAAAIBRAA7',\n",
       " 'data:image/gif;base64,R0lGODlhAQABAIAAAAAAAP///yH5BAEAAAAALAAAAAABAAEAAAIBRAA7',\n",
       " 'data:image/gif;base64,R0lGODlhAQABAIAAAAAAAP///yH5BAEAAAAALAAAAAABAAEAAAIBRAA7',\n",
       " 'data:image/gif;base64,R0lGODlhAQABAIAAAAAAAP///yH5BAEAAAAALAAAAAABAAEAAAIBRAA7',\n",
       " 'data:image/gif;base64,R0lGODlhAQABAIAAAAAAAP///yH5BAEAAAAALAAAAAABAAEAAAIBRAA7',\n",
       " 'data:image/gif;base64,R0lGODlhAQABAIAAAAAAAP///yH5BAEAAAAALAAAAAABAAEAAAIBRAA7',\n",
       " 'data:image/gif;base64,R0lGODlhAQABAIAAAAAAAP///yH5BAEAAAAALAAAAAABAAEAAAIBRAA7',\n",
       " 'data:image/gif;base64,R0lGODlhAQABAIAAAAAAAP///yH5BAEAAAAALAAAAAABAAEAAAIBRAA7',\n",
       " 'data:image/gif;base64,R0lGODlhAQABAIAAAAAAAP///yH5BAEAAAAALAAAAAABAAEAAAIBRAA7',\n",
       " 'data:image/gif;base64,R0lGODlhAQABAIAAAAAAAP///yH5BAEAAAAALAAAAAABAAEAAAIBRAA7',\n",
       " 'data:image/gif;base64,R0lGODlhAQABAIAAAAAAAP///yH5BAEAAAAALAAAAAABAAEAAAIBRAA7',\n",
       " 'data:image/gif;base64,R0lGODlhAQABAIAAAAAAAP///yH5BAEAAAAALAAAAAABAAEAAAIBRAA7',\n",
       " 'data:image/gif;base64,R0lGODlhAQABAIAAAAAAAP///yH5BAEAAAAALAAAAAABAAEAAAIBRAA7',\n",
       " 'data:image/gif;base64,R0lGODlhAQABAIAAAAAAAP///yH5BAEAAAAALAAAAAABAAEAAAIBRAA7',\n",
       " 'data:image/gif;base64,R0lGODlhAQABAIAAAAAAAP///yH5BAEAAAAALAAAAAABAAEAAAIBRAA7',\n",
       " 'data:image/gif;base64,R0lGODlhAQABAIAAAAAAAP///yH5BAEAAAAALAAAAAABAAEAAAIBRAA7',\n",
       " 'data:image/gif;base64,R0lGODlhAQABAIAAAAAAAP///yH5BAEAAAAALAAAAAABAAEAAAIBRAA7',\n",
       " 'data:image/gif;base64,R0lGODlhAQABAIAAAAAAAP///yH5BAEAAAAALAAAAAABAAEAAAIBRAA7',\n",
       " 'data:image/gif;base64,R0lGODlhAQABAIAAAAAAAP///yH5BAEAAAAALAAAAAABAAEAAAIBRAA7',\n",
       " 'data:image/gif;base64,R0lGODlhAQABAIAAAAAAAP///yH5BAEAAAAALAAAAAABAAEAAAIBRAA7',\n",
       " 'data:image/gif;base64,R0lGODlhAQABAIAAAAAAAP///yH5BAEAAAAALAAAAAABAAEAAAIBRAA7',\n",
       " 'data:image/gif;base64,R0lGODlhAQABAIAAAAAAAP///yH5BAEAAAAALAAAAAABAAEAAAIBRAA7',\n",
       " 'data:image/gif;base64,R0lGODlhAQABAIAAAAAAAP///yH5BAEAAAAALAAAAAABAAEAAAIBRAA7',\n",
       " 'data:image/gif;base64,R0lGODlhAQABAIAAAAAAAP///yH5BAEAAAAALAAAAAABAAEAAAIBRAA7',\n",
       " 'data:image/gif;base64,R0lGODlhAQABAIAAAAAAAP///yH5BAEAAAAALAAAAAABAAEAAAIBRAA7',\n",
       " 'data:image/gif;base64,R0lGODlhAQABAIAAAAAAAP///yH5BAEAAAAALAAAAAABAAEAAAIBRAA7',\n",
       " 'data:image/gif;base64,R0lGODlhAQABAIAAAAAAAP///yH5BAEAAAAALAAAAAABAAEAAAIBRAA7',\n",
       " 'data:image/gif;base64,R0lGODlhAQABAIAAAAAAAP///yH5BAEAAAAALAAAAAABAAEAAAIBRAA7',\n",
       " 'data:image/gif;base64,R0lGODlhAQABAIAAAAAAAP///yH5BAEAAAAALAAAAAABAAEAAAIBRAA7',\n",
       " 'data:image/gif;base64,R0lGODlhAQABAIAAAAAAAP///yH5BAEAAAAALAAAAAABAAEAAAIBRAA7',\n",
       " 'data:image/gif;base64,R0lGODlhAQABAIAAAAAAAP///yH5BAEAAAAALAAAAAABAAEAAAIBRAA7',\n",
       " 'data:image/gif;base64,R0lGODlhAQABAIAAAAAAAP///yH5BAEAAAAALAAAAAABAAEAAAIBRAA7',\n",
       " 'data:image/gif;base64,R0lGODlhAQABAIAAAAAAAP///yH5BAEAAAAALAAAAAABAAEAAAIBRAA7',\n",
       " 'data:image/gif;base64,R0lGODlhAQABAIAAAAAAAP///yH5BAEAAAAALAAAAAABAAEAAAIBRAA7',\n",
       " 'data:image/gif;base64,R0lGODlhAQABAIAAAAAAAP///yH5BAEAAAAALAAAAAABAAEAAAIBRAA7',\n",
       " 'data:image/gif;base64,R0lGODlhAQABAIAAAAAAAP///yH5BAEAAAAALAAAAAABAAEAAAIBRAA7',\n",
       " 'data:image/gif;base64,R0lGODlhAQABAIAAAAAAAP///yH5BAEAAAAALAAAAAABAAEAAAIBRAA7',\n",
       " 'data:image/gif;base64,R0lGODlhAQABAIAAAAAAAP///yH5BAEAAAAALAAAAAABAAEAAAIBRAA7',\n",
       " 'data:image/gif;base64,R0lGODlhAQABAIAAAAAAAP///yH5BAEAAAAALAAAAAABAAEAAAIBRAA7',\n",
       " 'data:image/gif;base64,R0lGODlhAQABAIAAAAAAAP///yH5BAEAAAAALAAAAAABAAEAAAIBRAA7',\n",
       " 'data:image/gif;base64,R0lGODlhAQABAIAAAAAAAP///yH5BAEAAAAALAAAAAABAAEAAAIBRAA7',\n",
       " 'data:image/gif;base64,R0lGODlhAQABAIAAAAAAAP///yH5BAEAAAAALAAAAAABAAEAAAIBRAA7',\n",
       " 'data:image/gif;base64,R0lGODlhAQABAIAAAAAAAP///yH5BAEAAAAALAAAAAABAAEAAAIBRAA7',\n",
       " 'data:image/gif;base64,R0lGODlhAQABAIAAAAAAAP///yH5BAEAAAAALAAAAAABAAEAAAIBRAA7',\n",
       " 'data:image/gif;base64,R0lGODlhAQABAIAAAAAAAP///yH5BAEAAAAALAAAAAABAAEAAAIBRAA7',\n",
       " 'data:image/gif;base64,R0lGODlhAQABAIAAAAAAAP///yH5BAEAAAAALAAAAAABAAEAAAIBRAA7',\n",
       " 'data:image/gif;base64,R0lGODlhAQABAIAAAAAAAP///yH5BAEAAAAALAAAAAABAAEAAAIBRAA7']"
      ]
     },
     "execution_count": 10,
     "metadata": {},
     "output_type": "execute_result"
    }
   ],
   "source": [
    "src"
   ]
  },
  {
   "cell_type": "code",
   "execution_count": 17,
   "id": "ae6c0833-c141-4e5f-97c3-6e976808638e",
   "metadata": {},
   "outputs": [],
   "source": [
    "#이미지의 경로를 실제 파일로 저장\n",
    "for i in range(len(src)) :\n",
    "    urlretrieve(src[i],\"C:/Users/gjaischool1/Desktop/이미지/\"+str(i)+\".jpg\")"
   ]
  },
  {
   "cell_type": "code",
   "execution_count": null,
   "id": "fcd724e5-415a-46e2-ab89-180eab4d93b9",
   "metadata": {},
   "outputs": [],
   "source": []
  },
  {
   "cell_type": "code",
   "execution_count": null,
   "id": "b07bcc45-1c2d-46f4-a448-9cad306d6ef6",
   "metadata": {},
   "outputs": [],
   "source": []
  },
  {
   "cell_type": "code",
   "execution_count": null,
   "id": "dc00fe22-711a-4f0d-9c6f-e533ac331119",
   "metadata": {},
   "outputs": [],
   "source": []
  },
  {
   "cell_type": "code",
   "execution_count": null,
   "id": "0a1b3f63-b98a-4a37-9423-a4fd7c5a09b0",
   "metadata": {},
   "outputs": [],
   "source": []
  },
  {
   "cell_type": "code",
   "execution_count": null,
   "id": "50d463ad-ba4d-4d67-992b-76c67bd1b89c",
   "metadata": {},
   "outputs": [],
   "source": []
  },
  {
   "cell_type": "code",
   "execution_count": null,
   "id": "e9d0c0af-20dd-4ca5-b968-a2ed3752d53a",
   "metadata": {},
   "outputs": [],
   "source": []
  },
  {
   "cell_type": "code",
   "execution_count": null,
   "id": "4842f3e9-2c75-42c3-aaff-7931e9125631",
   "metadata": {},
   "outputs": [],
   "source": []
  },
  {
   "cell_type": "code",
   "execution_count": null,
   "id": "7b9b8c06-51e6-44d2-a304-0479255a48a6",
   "metadata": {},
   "outputs": [],
   "source": []
  },
  {
   "cell_type": "code",
   "execution_count": null,
   "id": "75bb9911-62ab-4ddd-a384-7363bece5e9b",
   "metadata": {},
   "outputs": [],
   "source": []
  },
  {
   "cell_type": "code",
   "execution_count": null,
   "id": "2f3cf2b8-27b4-4e20-9d78-d1ff20bcffde",
   "metadata": {},
   "outputs": [],
   "source": []
  },
  {
   "cell_type": "code",
   "execution_count": null,
   "id": "6bf0be45-33ee-41a2-85c0-08dc90266b9d",
   "metadata": {},
   "outputs": [],
   "source": []
  },
  {
   "cell_type": "code",
   "execution_count": null,
   "id": "250801f7-4888-48a9-9346-96aa84cab74a",
   "metadata": {},
   "outputs": [],
   "source": []
  },
  {
   "cell_type": "code",
   "execution_count": null,
   "id": "a1e1c167-b719-401e-989a-efc9e4dcd002",
   "metadata": {},
   "outputs": [],
   "source": []
  },
  {
   "cell_type": "code",
   "execution_count": null,
   "id": "bb1877df-8d5f-4528-94b2-faf1f214bc58",
   "metadata": {},
   "outputs": [],
   "source": []
  },
  {
   "cell_type": "code",
   "execution_count": null,
   "id": "1a5f7e2e-921d-4381-9b42-2966a9cb9909",
   "metadata": {},
   "outputs": [],
   "source": []
  }
 ],
 "metadata": {
  "kernelspec": {
   "display_name": "Python 3 (ipykernel)",
   "language": "python",
   "name": "python3"
  },
  "language_info": {
   "codemirror_mode": {
    "name": "ipython",
    "version": 3
   },
   "file_extension": ".py",
   "mimetype": "text/x-python",
   "name": "python",
   "nbconvert_exporter": "python",
   "pygments_lexer": "ipython3",
   "version": "3.10.9"
  }
 },
 "nbformat": 4,
 "nbformat_minor": 5
}
